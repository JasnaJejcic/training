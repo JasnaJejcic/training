{
 "cells": [
  {
   "cell_type": "markdown",
   "metadata": {},
   "source": [
    "### Imports"
   ]
  },
  {
   "cell_type": "code",
   "execution_count": 14,
   "metadata": {
    "collapsed": false
   },
   "outputs": [],
   "source": [
    "import pandas as pd\n",
    "import numpy as np\n",
    "from lxml import etree"
   ]
  },
  {
   "cell_type": "markdown",
   "metadata": {},
   "source": [
    "### Flow\n",
    "\n",
    "* Unzip etc using magics out to command line\n",
    "* Read CSV as ASCII, show encoding errors\n",
    "* Read as UTF8, show has dealt with them correctly\n",
    "* Normalise names?\n",
    "* Normalise eg postcode/split postcodes?\n",
    "* Do some aggregations and grouping?\n",
    "* Masks - ensure use different criteria to show usefulness of reusability\n",
    "* Could we do something with PDF here? HTML pages might also be useful (download, unzip, process HTML)"
   ]
  },
  {
   "cell_type": "markdown",
   "metadata": {},
   "source": [
    "### Preprocess and load reference data"
   ]
  },
  {
   "cell_type": "code",
   "execution_count": 15,
   "metadata": {
    "collapsed": false
   },
   "outputs": [],
   "source": [
    "#!unzip '/var/data/s2ds/companies/*.zip' -d /var/data/s2ds/companies/"
   ]
  },
  {
   "cell_type": "code",
   "execution_count": 16,
   "metadata": {
    "collapsed": true
   },
   "outputs": [],
   "source": [
    "def read_files(files):\n",
    "    dfs = []\n",
    "\n",
    "    for f in files:\n",
    "        df = pd.read_csv(f)\n",
    "        dfs.append(df[['CompanyName', ' CompanyNumber', 'RegAddress.PostCode']])\n",
    "\n",
    "    return pd.concat(dfs)"
   ]
  },
  {
   "cell_type": "code",
   "execution_count": null,
   "metadata": {
    "collapsed": true
   },
   "outputs": [],
   "source": [
    "How do we do this then?"
   ]
  },
  {
   "cell_type": "code",
   "execution_count": 17,
   "metadata": {
    "collapsed": true
   },
   "outputs": [],
   "source": [
    "def read_files_utf8(files):\n",
    "    dfs = []\n",
    "\n",
    "    for f in files:\n",
    "        df = pd.read_csv(f, encoding='utf8')\n",
    "        dfs.append(df[['CompanyName', ' CompanyNumber', 'RegAddress.PostCode']])\n",
    "\n",
    "    return pd.concat(dfs)"
   ]
  },
  {
   "cell_type": "code",
   "execution_count": 83,
   "metadata": {
    "collapsed": true
   },
   "outputs": [],
   "source": [
    "files = !ls /var/data/s2ds/companies/*_5.csv"
   ]
  },
  {
   "cell_type": "code",
   "execution_count": 84,
   "metadata": {
    "collapsed": false
   },
   "outputs": [
    {
     "name": "stderr",
     "output_type": "stream",
     "text": [
      "DtypeWarning: Columns (41,42,43,44,45,46,47,48,49,50,51,52) have mixed types. Specify dtype option on import or set low_memory=False. [parsers.py:1170]\n",
      "DtypeWarning: Columns (39,40,41,42,43,44,45,46,47,48,49,50,51,52) have mixed types. Specify dtype option on import or set low_memory=False. [parsers.py:1170]\n",
      "DtypeWarning: Columns (43,44,45,46,47,48,49,50) have mixed types. Specify dtype option on import or set low_memory=False. [parsers.py:1170]\n"
     ]
    }
   ],
   "source": [
    "df = read_files(files)"
   ]
  },
  {
   "cell_type": "code",
   "execution_count": 28,
   "metadata": {
    "collapsed": false
   },
   "outputs": [
    {
     "data": {
      "text/html": [
       "<div style=\"max-height:1000px;max-width:1500px;overflow:auto;\">\n",
       "<table border=\"1\" class=\"dataframe\">\n",
       "  <thead>\n",
       "    <tr style=\"text-align: right;\">\n",
       "      <th></th>\n",
       "      <th>CompanyName</th>\n",
       "      <th>CompanyNumber</th>\n",
       "      <th>RegAddress.PostCode</th>\n",
       "    </tr>\n",
       "  </thead>\n",
       "  <tbody>\n",
       "    <tr>\n",
       "      <th>603065</th>\n",
       "      <td>NESTLÉ WATERS UK LIMITED</td>\n",
       "      <td>02334804</td>\n",
       "      <td>RH6 0PA</td>\n",
       "    </tr>\n",
       "  </tbody>\n",
       "</table>\n",
       "</div>"
      ],
      "text/plain": [
       "                     CompanyName  CompanyNumber RegAddress.PostCode\n",
       "603065  NESTLÉ WATERS UK LIMITED       02334804             RH6 0PA"
      ]
     },
     "execution_count": 28,
     "metadata": {},
     "output_type": "execute_result"
    }
   ],
   "source": [
    "df[df[' CompanyNumber'] == '02334804']"
   ]
  },
  {
   "cell_type": "code",
   "execution_count": 20,
   "metadata": {
    "collapsed": false
   },
   "outputs": [
    {
     "data": {
      "text/plain": [
       "(850000, 3)"
      ]
     },
     "execution_count": 20,
     "metadata": {},
     "output_type": "execute_result"
    }
   ],
   "source": [
    "df.shape"
   ]
  },
  {
   "cell_type": "code",
   "execution_count": 21,
   "metadata": {
    "collapsed": false
   },
   "outputs": [
    {
     "data": {
      "text/html": [
       "<div style=\"max-height:1000px;max-width:1500px;overflow:auto;\">\n",
       "<table border=\"1\" class=\"dataframe\">\n",
       "  <thead>\n",
       "    <tr style=\"text-align: right;\">\n",
       "      <th></th>\n",
       "      <th>CompanyName</th>\n",
       "      <th>CompanyNumber</th>\n",
       "      <th>RegAddress.PostCode</th>\n",
       "    </tr>\n",
       "  </thead>\n",
       "  <tbody>\n",
       "    <tr>\n",
       "      <th>0</th>\n",
       "      <td>J.C. ROOFING SERVICES LTD</td>\n",
       "      <td>09176364</td>\n",
       "      <td>WD25 8BT</td>\n",
       "    </tr>\n",
       "    <tr>\n",
       "      <th>1</th>\n",
       "      <td>J.C. ROOK &amp; SONS LIMITED</td>\n",
       "      <td>02117042</td>\n",
       "      <td>CT11 7DZ</td>\n",
       "    </tr>\n",
       "    <tr>\n",
       "      <th>2</th>\n",
       "      <td>J.C. ROXBURGH &amp; COMPANY LIMITED</td>\n",
       "      <td>SC041244</td>\n",
       "      <td>G81 1LQ</td>\n",
       "    </tr>\n",
       "    <tr>\n",
       "      <th>3</th>\n",
       "      <td>J.C. ROXBURGH (INVESTMENTS) LIMITED</td>\n",
       "      <td>SC037420</td>\n",
       "      <td>G83 9LX</td>\n",
       "    </tr>\n",
       "    <tr>\n",
       "      <th>4</th>\n",
       "      <td>J.C. ROXBURGH PROPERTIES LIMITED</td>\n",
       "      <td>SC073801</td>\n",
       "      <td>G81 1LQ</td>\n",
       "    </tr>\n",
       "  </tbody>\n",
       "</table>\n",
       "</div>"
      ],
      "text/plain": [
       "                           CompanyName  CompanyNumber RegAddress.PostCode\n",
       "0            J.C. ROOFING SERVICES LTD       09176364            WD25 8BT\n",
       "1             J.C. ROOK & SONS LIMITED       02117042            CT11 7DZ\n",
       "2      J.C. ROXBURGH & COMPANY LIMITED       SC041244             G81 1LQ\n",
       "3  J.C. ROXBURGH (INVESTMENTS) LIMITED       SC037420             G83 9LX\n",
       "4     J.C. ROXBURGH PROPERTIES LIMITED       SC073801             G81 1LQ"
      ]
     },
     "execution_count": 21,
     "metadata": {},
     "output_type": "execute_result"
    }
   ],
   "source": [
    "df.head()"
   ]
  },
  {
   "cell_type": "code",
   "execution_count": 85,
   "metadata": {
    "collapsed": false
   },
   "outputs": [],
   "source": [
    "df.rename(columns={' CompanyNumber': 'CompanyNumber'}, inplace=True)"
   ]
  },
  {
   "cell_type": "code",
   "execution_count": 86,
   "metadata": {
    "collapsed": false
   },
   "outputs": [
    {
     "data": {
      "text/html": [
       "<div style=\"max-height:1000px;max-width:1500px;overflow:auto;\">\n",
       "<table border=\"1\" class=\"dataframe\">\n",
       "  <thead>\n",
       "    <tr style=\"text-align: right;\">\n",
       "      <th></th>\n",
       "      <th>CompanyName</th>\n",
       "      <th>CompanyNumber</th>\n",
       "      <th>RegAddress.PostCode</th>\n",
       "    </tr>\n",
       "  </thead>\n",
       "  <tbody>\n",
       "    <tr>\n",
       "      <th>603065</th>\n",
       "      <td>NESTLÉ WATERS UK LIMITED</td>\n",
       "      <td>02334804</td>\n",
       "      <td>RH6 0PA</td>\n",
       "    </tr>\n",
       "  </tbody>\n",
       "</table>\n",
       "</div>"
      ],
      "text/plain": [
       "                     CompanyName CompanyNumber RegAddress.PostCode\n",
       "603065  NESTLÉ WATERS UK LIMITED      02334804             RH6 0PA"
      ]
     },
     "execution_count": 86,
     "metadata": {},
     "output_type": "execute_result"
    }
   ],
   "source": [
    "df[df['CompanyNumber'] == '02334804']"
   ]
  },
  {
   "cell_type": "code",
   "execution_count": 104,
   "metadata": {
    "collapsed": true
   },
   "outputs": [],
   "source": [
    "df['clean_name'] = df['CompanyName'].str.lower()"
   ]
  },
  {
   "cell_type": "markdown",
   "metadata": {},
   "source": [
    "### Preprocess and load UK IPO Office data"
   ]
  },
  {
   "cell_type": "code",
   "execution_count": 56,
   "metadata": {
    "collapsed": false
   },
   "outputs": [],
   "source": [
    "tree = etree.parse('/var/data/s2ds/trademarks/jnl.xml')"
   ]
  },
  {
   "cell_type": "code",
   "execution_count": 57,
   "metadata": {
    "collapsed": true
   },
   "outputs": [],
   "source": [
    "doc = tree.getroot()"
   ]
  },
  {
   "cell_type": "code",
   "execution_count": 98,
   "metadata": {
    "collapsed": false
   },
   "outputs": [],
   "source": [
    "applicants = [a.text.lower() for a in doc.findall('.//ApplicantName')]"
   ]
  },
  {
   "cell_type": "code",
   "execution_count": 105,
   "metadata": {
    "collapsed": true
   },
   "outputs": [],
   "source": [
    "trademarks = pd.DataFrame({'applicants': applicants})"
   ]
  },
  {
   "cell_type": "code",
   "execution_count": 106,
   "metadata": {
    "collapsed": true
   },
   "outputs": [],
   "source": [
    "trademarks = pd.merge(trademarks, df, how='left', left_on='applicants', right_on='clean_name')"
   ]
  },
  {
   "cell_type": "code",
   "execution_count": 107,
   "metadata": {
    "collapsed": false
   },
   "outputs": [
    {
     "data": {
      "text/html": [
       "<div style=\"max-height:1000px;max-width:1500px;overflow:auto;\">\n",
       "<table border=\"1\" class=\"dataframe\">\n",
       "  <thead>\n",
       "    <tr style=\"text-align: right;\">\n",
       "      <th></th>\n",
       "      <th>applicants</th>\n",
       "      <th>CompanyName</th>\n",
       "      <th>CompanyNumber</th>\n",
       "      <th>RegAddress.PostCode</th>\n",
       "      <th>clean_name</th>\n",
       "    </tr>\n",
       "  </thead>\n",
       "  <tbody>\n",
       "    <tr>\n",
       "      <th>0</th>\n",
       "      <td>barefaced skincare limited</td>\n",
       "      <td>BAREFACED SKINCARE LIMITED</td>\n",
       "      <td>09525777</td>\n",
       "      <td>OX26 4LD</td>\n",
       "      <td>barefaced skincare limited</td>\n",
       "    </tr>\n",
       "    <tr>\n",
       "      <th>1</th>\n",
       "      <td>floreana ltd</td>\n",
       "      <td>FLOREANA LTD</td>\n",
       "      <td>SC432789</td>\n",
       "      <td>EH6 5SD</td>\n",
       "      <td>floreana ltd</td>\n",
       "    </tr>\n",
       "    <tr>\n",
       "      <th>2</th>\n",
       "      <td>floreana ltd</td>\n",
       "      <td>FLOREANA LTD</td>\n",
       "      <td>SC432789</td>\n",
       "      <td>EH6 5SD</td>\n",
       "      <td>floreana ltd</td>\n",
       "    </tr>\n",
       "    <tr>\n",
       "      <th>3</th>\n",
       "      <td>step2progress limited</td>\n",
       "      <td>STEP2PROGRESS LIMITED</td>\n",
       "      <td>09301218</td>\n",
       "      <td>SY1 3AF</td>\n",
       "      <td>step2progress limited</td>\n",
       "    </tr>\n",
       "    <tr>\n",
       "      <th>4</th>\n",
       "      <td>peter john savage</td>\n",
       "      <td>NaN</td>\n",
       "      <td>NaN</td>\n",
       "      <td>NaN</td>\n",
       "      <td>NaN</td>\n",
       "    </tr>\n",
       "  </tbody>\n",
       "</table>\n",
       "</div>"
      ],
      "text/plain": [
       "                   applicants                 CompanyName CompanyNumber  \\\n",
       "0  barefaced skincare limited  BAREFACED SKINCARE LIMITED      09525777   \n",
       "1                floreana ltd                FLOREANA LTD      SC432789   \n",
       "2                floreana ltd                FLOREANA LTD      SC432789   \n",
       "3       step2progress limited       STEP2PROGRESS LIMITED      09301218   \n",
       "4           peter john savage                         NaN           NaN   \n",
       "\n",
       "  RegAddress.PostCode                  clean_name  \n",
       "0            OX26 4LD  barefaced skincare limited  \n",
       "1             EH6 5SD                floreana ltd  \n",
       "2             EH6 5SD                floreana ltd  \n",
       "3             SY1 3AF       step2progress limited  \n",
       "4                 NaN                         NaN  "
      ]
     },
     "execution_count": 107,
     "metadata": {},
     "output_type": "execute_result"
    }
   ],
   "source": [
    "trademarks.head()"
   ]
  },
  {
   "cell_type": "code",
   "execution_count": 109,
   "metadata": {
    "collapsed": false
   },
   "outputs": [
    {
     "data": {
      "text/plain": [
       "601"
      ]
     },
     "execution_count": 109,
     "metadata": {},
     "output_type": "execute_result"
    }
   ],
   "source": [
    "trademarks.clean_name.isnull().sum()"
   ]
  },
  {
   "cell_type": "code",
   "execution_count": 111,
   "metadata": {
    "collapsed": false
   },
   "outputs": [
    {
     "data": {
      "text/html": [
       "<div style=\"max-height:1000px;max-width:1500px;overflow:auto;\">\n",
       "<table border=\"1\" class=\"dataframe\">\n",
       "  <thead>\n",
       "    <tr style=\"text-align: right;\">\n",
       "      <th></th>\n",
       "      <th>applicants</th>\n",
       "      <th>CompanyName</th>\n",
       "      <th>CompanyNumber</th>\n",
       "      <th>RegAddress.PostCode</th>\n",
       "      <th>clean_name</th>\n",
       "    </tr>\n",
       "  </thead>\n",
       "  <tbody>\n",
       "    <tr>\n",
       "      <th>4</th>\n",
       "      <td>peter john savage</td>\n",
       "      <td>NaN</td>\n",
       "      <td>NaN</td>\n",
       "      <td>NaN</td>\n",
       "      <td>NaN</td>\n",
       "    </tr>\n",
       "    <tr>\n",
       "      <th>5</th>\n",
       "      <td>vincent dassault</td>\n",
       "      <td>NaN</td>\n",
       "      <td>NaN</td>\n",
       "      <td>NaN</td>\n",
       "      <td>NaN</td>\n",
       "    </tr>\n",
       "    <tr>\n",
       "      <th>6</th>\n",
       "      <td>ian redman</td>\n",
       "      <td>NaN</td>\n",
       "      <td>NaN</td>\n",
       "      <td>NaN</td>\n",
       "      <td>NaN</td>\n",
       "    </tr>\n",
       "    <tr>\n",
       "      <th>7</th>\n",
       "      <td>turbomed orthotics inc.</td>\n",
       "      <td>NaN</td>\n",
       "      <td>NaN</td>\n",
       "      <td>NaN</td>\n",
       "      <td>NaN</td>\n",
       "    </tr>\n",
       "    <tr>\n",
       "      <th>9</th>\n",
       "      <td>marek ryan larwood</td>\n",
       "      <td>NaN</td>\n",
       "      <td>NaN</td>\n",
       "      <td>NaN</td>\n",
       "      <td>NaN</td>\n",
       "    </tr>\n",
       "    <tr>\n",
       "      <th>17</th>\n",
       "      <td>péan &amp; zakian llp</td>\n",
       "      <td>NaN</td>\n",
       "      <td>NaN</td>\n",
       "      <td>NaN</td>\n",
       "      <td>NaN</td>\n",
       "    </tr>\n",
       "    <tr>\n",
       "      <th>18</th>\n",
       "      <td>paul karaiskos</td>\n",
       "      <td>NaN</td>\n",
       "      <td>NaN</td>\n",
       "      <td>NaN</td>\n",
       "      <td>NaN</td>\n",
       "    </tr>\n",
       "    <tr>\n",
       "      <th>19</th>\n",
       "      <td>aran osman</td>\n",
       "      <td>NaN</td>\n",
       "      <td>NaN</td>\n",
       "      <td>NaN</td>\n",
       "      <td>NaN</td>\n",
       "    </tr>\n",
       "    <tr>\n",
       "      <th>20</th>\n",
       "      <td>barrington brown</td>\n",
       "      <td>NaN</td>\n",
       "      <td>NaN</td>\n",
       "      <td>NaN</td>\n",
       "      <td>NaN</td>\n",
       "    </tr>\n",
       "    <tr>\n",
       "      <th>21</th>\n",
       "      <td>joe bearmen</td>\n",
       "      <td>NaN</td>\n",
       "      <td>NaN</td>\n",
       "      <td>NaN</td>\n",
       "      <td>NaN</td>\n",
       "    </tr>\n",
       "  </tbody>\n",
       "</table>\n",
       "</div>"
      ],
      "text/plain": [
       "                 applicants CompanyName CompanyNumber RegAddress.PostCode  \\\n",
       "4         peter john savage         NaN           NaN                 NaN   \n",
       "5          vincent dassault         NaN           NaN                 NaN   \n",
       "6                ian redman         NaN           NaN                 NaN   \n",
       "7   turbomed orthotics inc.         NaN           NaN                 NaN   \n",
       "9        marek ryan larwood         NaN           NaN                 NaN   \n",
       "17        péan & zakian llp         NaN           NaN                 NaN   \n",
       "18           paul karaiskos         NaN           NaN                 NaN   \n",
       "19               aran osman         NaN           NaN                 NaN   \n",
       "20         barrington brown         NaN           NaN                 NaN   \n",
       "21              joe bearmen         NaN           NaN                 NaN   \n",
       "\n",
       "   clean_name  \n",
       "4         NaN  \n",
       "5         NaN  \n",
       "6         NaN  \n",
       "7         NaN  \n",
       "9         NaN  \n",
       "17        NaN  \n",
       "18        NaN  \n",
       "19        NaN  \n",
       "20        NaN  \n",
       "21        NaN  "
      ]
     },
     "execution_count": 111,
     "metadata": {},
     "output_type": "execute_result"
    }
   ],
   "source": [
    "trademarks[trademarks.clean_name.isnull()].head(10)"
   ]
  },
  {
   "cell_type": "code",
   "execution_count": 112,
   "metadata": {
    "collapsed": true
   },
   "outputs": [],
   "source": [
    "trademarks = trademarks[trademarks.clean_name.notnull()]"
   ]
  },
  {
   "cell_type": "code",
   "execution_count": 115,
   "metadata": {
    "collapsed": false
   },
   "outputs": [
    {
     "data": {
      "text/plain": [
       "13"
      ]
     },
     "execution_count": 115,
     "metadata": {},
     "output_type": "execute_result"
    }
   ],
   "source": [
    "trademarks['RegAddress.PostCode'].str.startswith(\"KT\").sum()"
   ]
  },
  {
   "cell_type": "code",
   "execution_count": null,
   "metadata": {
    "collapsed": true
   },
   "outputs": [],
   "source": []
  },
  {
   "cell_type": "markdown",
   "metadata": {},
   "source": [
    "### Stuff to cover\n",
    "\n",
    "Look at:\n",
    "* Broadcast operations ```df.mean()```\n",
    "\n",
    "\n",
    "* Working with missing data ```df.fillna()``` - DONE\n",
    "Trademarks we didn't match\n",
    "\n",
    "* Comparisons ```df.gt()``\n",
    "\n",
    "* Descriptive/statistics ```df.describe(), df.nunique(), df.hist()```\n",
    "\n",
    "* Row/column/element-wise function application ```df.apply(lambda x: x**2)```\n",
    "\n",
    "* Vectorized string methods ```df.str.lower()``` - PARTIAL\n",
    "Postcode maniupulation\n",
    "\n",
    "* SQL-like merging ```pd.merge()``` - DONE\n",
    "Merging postcodes codes in \n",
    "\n",
    "* Grouping ```df.groupby().groups```\n",
    "\n",
    "* Plotting ```df.hist()```\n",
    "\n",
    "* Masks\n"
   ]
  },
  {
   "cell_type": "markdown",
   "metadata": {},
   "source": [
    "### TODO\n",
    "\n",
    "* Take sample of training sets and commit these?\n",
    "* "
   ]
  },
  {
   "cell_type": "code",
   "execution_count": null,
   "metadata": {
    "collapsed": true
   },
   "outputs": [],
   "source": []
  },
  {
   "cell_type": "code",
   "execution_count": null,
   "metadata": {
    "collapsed": true
   },
   "outputs": [],
   "source": []
  },
  {
   "cell_type": "code",
   "execution_count": null,
   "metadata": {
    "collapsed": true
   },
   "outputs": [],
   "source": []
  }
 ],
 "metadata": {
  "kernelspec": {
   "display_name": "Python 2",
   "language": "python",
   "name": "python2"
  },
  "language_info": {
   "codemirror_mode": {
    "name": "ipython",
    "version": 2
   },
   "file_extension": ".py",
   "mimetype": "text/x-python",
   "name": "python",
   "nbconvert_exporter": "python",
   "pygments_lexer": "ipython2",
   "version": "2.7.6"
  }
 },
 "nbformat": 4,
 "nbformat_minor": 0
}
