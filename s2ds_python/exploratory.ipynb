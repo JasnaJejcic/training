{
 "cells": [
  {
   "cell_type": "markdown",
   "metadata": {
    "slideshow": {
     "slide_type": "slide"
    }
   },
   "source": [
    "### How to follow this tutorial\n",
    "\n",
    "* Go to http://http://162.13.127.11:8000/\n",
    "* This will serve up a temporary notebook server that you can use\n",
    "* Warning: your notebook server will die after 10 minutes of activity\n",
    "* We're going to be processing some CSV and XML data relating to UK businesses"
   ]
  },
  {
   "cell_type": "markdown",
   "metadata": {
    "slideshow": {
     "slide_type": "subslide"
    }
   },
   "source": [
    "### Imports and magics\n",
    "\n",
    "First of all, we'll import the libraries we expect to need and call the magic functions we expect to use."
   ]
  },
  {
   "cell_type": "code",
   "execution_count": 1,
   "metadata": {
    "collapsed": false,
    "slideshow": {
     "slide_type": "fragment"
    }
   },
   "outputs": [],
   "source": [
    "from pandas import DataFrame, Series\n",
    "import pandas as pd\n",
    "import numpy as np\n",
    "from lxml import etree"
   ]
  },
  {
   "cell_type": "markdown",
   "metadata": {
    "slideshow": {
     "slide_type": "subslide"
    }
   },
   "source": [
    "### Load reference data\n",
    "\n",
    "Pandas has a rich Import/Output API that works with common formats like CSV, Excel, SQL, pickled files (and even the clipboard) as well as more specialist formats like HDF5.\n",
    "\n",
    "These (input) exist as top level functions ```pd.read_csv()``` and (output) on objects like ```DataFrames``` ```df.to_csv()```.\n",
    "\n",
    "Lets try and use ```read_csv``` to load in a sample of the list of all the registered businesses in the UK. There is a sample dataset in ```datasets/companies/companies-house.csv```."
   ]
  },
  {
   "cell_type": "code",
   "execution_count": 160,
   "metadata": {
    "collapsed": false,
    "slideshow": {
     "slide_type": "fragment"
    }
   },
   "outputs": [],
   "source": [
    "df = pd.read_csv('datasets/companies/companies-house.csv')"
   ]
  },
  {
   "cell_type": "markdown",
   "metadata": {
    "slideshow": {
     "slide_type": "subslide"
    }
   },
   "source": [
    "### DataFrame basics\n",
    "\n",
    "Now that we've got out dataframe, what sort of things can we do with it?"
   ]
  },
  {
   "cell_type": "code",
   "execution_count": 161,
   "metadata": {
    "collapsed": false,
    "slideshow": {
     "slide_type": "subslide"
    }
   },
   "outputs": [
    {
     "data": {
      "text/plain": [
       "Index([u'CompanyName', u' CompanyNumber', u'RegAddress.CareOf',\n",
       "       u'RegAddress.POBox', u'RegAddress.AddressLine1',\n",
       "       u' RegAddress.AddressLine2', u'RegAddress.PostTown',\n",
       "       u'RegAddress.County', u'RegAddress.Country', u'RegAddress.PostCode',\n",
       "       u'CompanyCategory', u'CompanyStatus', u'CountryOfOrigin',\n",
       "       u'DissolutionDate', u'IncorporationDate', u'Accounts.AccountRefDay',\n",
       "       u'Accounts.AccountRefMonth', u'Accounts.NextDueDate',\n",
       "       u'Accounts.LastMadeUpDate', u'Accounts.AccountCategory',\n",
       "       u'Returns.NextDueDate', u'Returns.LastMadeUpDate',\n",
       "       u'Mortgages.NumMortCharges', u'Mortgages.NumMortOutstanding',\n",
       "       u'Mortgages.NumMortPartSatisfied', u'Mortgages.NumMortSatisfied',\n",
       "       u'SICCode.SicText_1', u'SICCode.SicText_2', u'SICCode.SicText_3',\n",
       "       u'SICCode.SicText_4', u'LimitedPartnerships.NumGenPartners',\n",
       "       u'LimitedPartnerships.NumLimPartners', u'URI',\n",
       "       u'PreviousName_1.CONDATE', u' PreviousName_1.CompanyName',\n",
       "       u' PreviousName_2.CONDATE', u' PreviousName_2.CompanyName',\n",
       "       u'PreviousName_3.CONDATE', u' PreviousName_3.CompanyName',\n",
       "       u'PreviousName_4.CONDATE', u' PreviousName_4.CompanyName',\n",
       "       u'PreviousName_5.CONDATE', u' PreviousName_5.CompanyName',\n",
       "       u'PreviousName_6.CONDATE', u' PreviousName_6.CompanyName',\n",
       "       u'PreviousName_7.CONDATE', u' PreviousName_7.CompanyName',\n",
       "       u'PreviousName_8.CONDATE', u' PreviousName_8.CompanyName',\n",
       "       u'PreviousName_9.CONDATE', u' PreviousName_9.CompanyName',\n",
       "       u'PreviousName_10.CONDATE', u' PreviousName_10.CompanyName'],\n",
       "      dtype='object')"
      ]
     },
     "execution_count": 161,
     "metadata": {},
     "output_type": "execute_result"
    }
   ],
   "source": [
    "# Have a look at the columns we've got\n",
    "df.columns"
   ]
  },
  {
   "cell_type": "code",
   "execution_count": 55,
   "metadata": {
    "collapsed": false,
    "slideshow": {
     "slide_type": "subslide"
    }
   },
   "outputs": [
    {
     "data": {
      "text/plain": [
       "Unnamed: 0                              int64\n",
       "CompanyName                            object\n",
       " CompanyNumber                         object\n",
       "RegAddress.CareOf                      object\n",
       "RegAddress.POBox                       object\n",
       "RegAddress.AddressLine1                object\n",
       " RegAddress.AddressLine2               object\n",
       "RegAddress.PostTown                    object\n",
       "RegAddress.County                      object\n",
       "RegAddress.Country                     object\n",
       "RegAddress.PostCode                    object\n",
       "CompanyCategory                        object\n",
       "CompanyStatus                          object\n",
       "CountryOfOrigin                        object\n",
       "DissolutionDate                       float64\n",
       "IncorporationDate                      object\n",
       "Accounts.AccountRefDay                float64\n",
       "Accounts.AccountRefMonth              float64\n",
       "Accounts.NextDueDate                   object\n",
       "Accounts.LastMadeUpDate                object\n",
       "Accounts.AccountCategory               object\n",
       "Returns.NextDueDate                    object\n",
       "Returns.LastMadeUpDate                 object\n",
       "Mortgages.NumMortCharges                int64\n",
       "Mortgages.NumMortOutstanding            int64\n",
       "Mortgages.NumMortPartSatisfied          int64\n",
       "Mortgages.NumMortSatisfied              int64\n",
       "SICCode.SicText_1                      object\n",
       "SICCode.SicText_2                      object\n",
       "SICCode.SicText_3                      object\n",
       "SICCode.SicText_4                      object\n",
       "LimitedPartnerships.NumGenPartners      int64\n",
       "LimitedPartnerships.NumLimPartners      int64\n",
       "URI                                    object\n",
       "PreviousName_1.CONDATE                 object\n",
       " PreviousName_1.CompanyName            object\n",
       " PreviousName_2.CONDATE                object\n",
       " PreviousName_2.CompanyName            object\n",
       "PreviousName_3.CONDATE                 object\n",
       " PreviousName_3.CompanyName            object\n",
       "PreviousName_4.CONDATE                 object\n",
       " PreviousName_4.CompanyName            object\n",
       "PreviousName_5.CONDATE                 object\n",
       " PreviousName_5.CompanyName            object\n",
       "PreviousName_6.CONDATE                 object\n",
       " PreviousName_6.CompanyName            object\n",
       "PreviousName_7.CONDATE                float64\n",
       " PreviousName_7.CompanyName           float64\n",
       "PreviousName_8.CONDATE                float64\n",
       " PreviousName_8.CompanyName           float64\n",
       "PreviousName_9.CONDATE                float64\n",
       " PreviousName_9.CompanyName           float64\n",
       "PreviousName_10.CONDATE               float64\n",
       " PreviousName_10.CompanyName          float64\n",
       "clean_name                             object\n",
       "has_trademark                           int64\n",
       "dtype: object"
      ]
     },
     "execution_count": 55,
     "metadata": {},
     "output_type": "execute_result"
    }
   ],
   "source": [
    "# and their datatypes\n",
    "df.dtypes"
   ]
  },
  {
   "cell_type": "code",
   "execution_count": 56,
   "metadata": {
    "collapsed": false,
    "slideshow": {
     "slide_type": "subslide"
    }
   },
   "outputs": [
    {
     "data": {
      "text/html": [
       "<div style=\"max-height:1000px;max-width:1500px;overflow:auto;\">\n",
       "<table border=\"1\" class=\"dataframe\">\n",
       "  <thead>\n",
       "    <tr style=\"text-align: right;\">\n",
       "      <th></th>\n",
       "      <th>Unnamed: 0</th>\n",
       "      <th>CompanyName</th>\n",
       "      <th>CompanyNumber</th>\n",
       "      <th>RegAddress.CareOf</th>\n",
       "      <th>RegAddress.POBox</th>\n",
       "      <th>RegAddress.AddressLine1</th>\n",
       "      <th>RegAddress.AddressLine2</th>\n",
       "      <th>RegAddress.PostTown</th>\n",
       "      <th>RegAddress.County</th>\n",
       "      <th>RegAddress.Country</th>\n",
       "      <th>...</th>\n",
       "      <th>PreviousName_7.CONDATE</th>\n",
       "      <th>PreviousName_7.CompanyName</th>\n",
       "      <th>PreviousName_8.CONDATE</th>\n",
       "      <th>PreviousName_8.CompanyName</th>\n",
       "      <th>PreviousName_9.CONDATE</th>\n",
       "      <th>PreviousName_9.CompanyName</th>\n",
       "      <th>PreviousName_10.CONDATE</th>\n",
       "      <th>PreviousName_10.CompanyName</th>\n",
       "      <th>clean_name</th>\n",
       "      <th>has_trademark</th>\n",
       "    </tr>\n",
       "  </thead>\n",
       "  <tbody>\n",
       "    <tr>\n",
       "      <th>0</th>\n",
       "      <td>50</td>\n",
       "      <td>J.C.B. EQUIPMENT LIMITED</td>\n",
       "      <td>01000710</td>\n",
       "      <td>NaN</td>\n",
       "      <td>NaN</td>\n",
       "      <td>LAKESIDE WORKS</td>\n",
       "      <td>ROCESTER</td>\n",
       "      <td>STAFFS</td>\n",
       "      <td>NaN</td>\n",
       "      <td>NaN</td>\n",
       "      <td>...</td>\n",
       "      <td>NaN</td>\n",
       "      <td>NaN</td>\n",
       "      <td>NaN</td>\n",
       "      <td>NaN</td>\n",
       "      <td>NaN</td>\n",
       "      <td>NaN</td>\n",
       "      <td>NaN</td>\n",
       "      <td>NaN</td>\n",
       "      <td>j.c.b. equipment limited</td>\n",
       "      <td>0</td>\n",
       "    </tr>\n",
       "    <tr>\n",
       "      <th>1</th>\n",
       "      <td>175</td>\n",
       "      <td>J.C.W (NW) LIMITED</td>\n",
       "      <td>09028601</td>\n",
       "      <td>NaN</td>\n",
       "      <td>NaN</td>\n",
       "      <td>144 THATTO HEATH ROAD</td>\n",
       "      <td>NaN</td>\n",
       "      <td>ST. HELENS</td>\n",
       "      <td>NaN</td>\n",
       "      <td>NaN</td>\n",
       "      <td>...</td>\n",
       "      <td>NaN</td>\n",
       "      <td>NaN</td>\n",
       "      <td>NaN</td>\n",
       "      <td>NaN</td>\n",
       "      <td>NaN</td>\n",
       "      <td>NaN</td>\n",
       "      <td>NaN</td>\n",
       "      <td>NaN</td>\n",
       "      <td>j.c.w (nw) limited</td>\n",
       "      <td>0</td>\n",
       "    </tr>\n",
       "    <tr>\n",
       "      <th>2</th>\n",
       "      <td>225</td>\n",
       "      <td>J.D BARTON LTD</td>\n",
       "      <td>09035149</td>\n",
       "      <td>NaN</td>\n",
       "      <td>NaN</td>\n",
       "      <td>38 HUNTER CLOSE</td>\n",
       "      <td>WILLESBOROUGH</td>\n",
       "      <td>ASHFORD</td>\n",
       "      <td>NaN</td>\n",
       "      <td>NaN</td>\n",
       "      <td>...</td>\n",
       "      <td>NaN</td>\n",
       "      <td>NaN</td>\n",
       "      <td>NaN</td>\n",
       "      <td>NaN</td>\n",
       "      <td>NaN</td>\n",
       "      <td>NaN</td>\n",
       "      <td>NaN</td>\n",
       "      <td>NaN</td>\n",
       "      <td>j.d barton ltd</td>\n",
       "      <td>0</td>\n",
       "    </tr>\n",
       "    <tr>\n",
       "      <th>3</th>\n",
       "      <td>252</td>\n",
       "      <td>J.D. AUTOMOTIVE (LUDLOW) LTD</td>\n",
       "      <td>04806642</td>\n",
       "      <td>NaN</td>\n",
       "      <td>NaN</td>\n",
       "      <td>SMITHFIELD CAR PARK</td>\n",
       "      <td>LOWER GALDEFORD</td>\n",
       "      <td>LUDLOW</td>\n",
       "      <td>SHROPSHIRE</td>\n",
       "      <td>NaN</td>\n",
       "      <td>...</td>\n",
       "      <td>NaN</td>\n",
       "      <td>NaN</td>\n",
       "      <td>NaN</td>\n",
       "      <td>NaN</td>\n",
       "      <td>NaN</td>\n",
       "      <td>NaN</td>\n",
       "      <td>NaN</td>\n",
       "      <td>NaN</td>\n",
       "      <td>j.d. automotive (ludlow) ltd</td>\n",
       "      <td>0</td>\n",
       "    </tr>\n",
       "    <tr>\n",
       "      <th>4</th>\n",
       "      <td>346</td>\n",
       "      <td>J.D. PHILLIPS &amp; DAUGHTERS LIMITED</td>\n",
       "      <td>04947680</td>\n",
       "      <td>NaN</td>\n",
       "      <td>NaN</td>\n",
       "      <td>LLANDISILIO STORES &amp; POST OFFICE</td>\n",
       "      <td>LLANDISILIO</td>\n",
       "      <td>CLYNDERWEN</td>\n",
       "      <td>PEMBS.</td>\n",
       "      <td>NaN</td>\n",
       "      <td>...</td>\n",
       "      <td>NaN</td>\n",
       "      <td>NaN</td>\n",
       "      <td>NaN</td>\n",
       "      <td>NaN</td>\n",
       "      <td>NaN</td>\n",
       "      <td>NaN</td>\n",
       "      <td>NaN</td>\n",
       "      <td>NaN</td>\n",
       "      <td>j.d. phillips &amp; daughters limited</td>\n",
       "      <td>0</td>\n",
       "    </tr>\n",
       "  </tbody>\n",
       "</table>\n",
       "<p>5 rows × 56 columns</p>\n",
       "</div>"
      ],
      "text/plain": [
       "   Unnamed: 0                        CompanyName  CompanyNumber  \\\n",
       "0          50           J.C.B. EQUIPMENT LIMITED       01000710   \n",
       "1         175                 J.C.W (NW) LIMITED       09028601   \n",
       "2         225                     J.D BARTON LTD       09035149   \n",
       "3         252       J.D. AUTOMOTIVE (LUDLOW) LTD       04806642   \n",
       "4         346  J.D. PHILLIPS & DAUGHTERS LIMITED       04947680   \n",
       "\n",
       "  RegAddress.CareOf RegAddress.POBox           RegAddress.AddressLine1  \\\n",
       "0               NaN              NaN                    LAKESIDE WORKS   \n",
       "1               NaN              NaN             144 THATTO HEATH ROAD   \n",
       "2               NaN              NaN                   38 HUNTER CLOSE   \n",
       "3               NaN              NaN               SMITHFIELD CAR PARK   \n",
       "4               NaN              NaN  LLANDISILIO STORES & POST OFFICE   \n",
       "\n",
       "   RegAddress.AddressLine2 RegAddress.PostTown RegAddress.County  \\\n",
       "0                 ROCESTER              STAFFS               NaN   \n",
       "1                      NaN          ST. HELENS               NaN   \n",
       "2            WILLESBOROUGH             ASHFORD               NaN   \n",
       "3          LOWER GALDEFORD              LUDLOW        SHROPSHIRE   \n",
       "4              LLANDISILIO          CLYNDERWEN            PEMBS.   \n",
       "\n",
       "  RegAddress.Country      ...      PreviousName_7.CONDATE  \\\n",
       "0                NaN      ...                         NaN   \n",
       "1                NaN      ...                         NaN   \n",
       "2                NaN      ...                         NaN   \n",
       "3                NaN      ...                         NaN   \n",
       "4                NaN      ...                         NaN   \n",
       "\n",
       "   PreviousName_7.CompanyName PreviousName_8.CONDATE  \\\n",
       "0                         NaN                    NaN   \n",
       "1                         NaN                    NaN   \n",
       "2                         NaN                    NaN   \n",
       "3                         NaN                    NaN   \n",
       "4                         NaN                    NaN   \n",
       "\n",
       "   PreviousName_8.CompanyName  PreviousName_9.CONDATE  \\\n",
       "0                         NaN                     NaN   \n",
       "1                         NaN                     NaN   \n",
       "2                         NaN                     NaN   \n",
       "3                         NaN                     NaN   \n",
       "4                         NaN                     NaN   \n",
       "\n",
       "   PreviousName_9.CompanyName  PreviousName_10.CONDATE  \\\n",
       "0                         NaN                      NaN   \n",
       "1                         NaN                      NaN   \n",
       "2                         NaN                      NaN   \n",
       "3                         NaN                      NaN   \n",
       "4                         NaN                      NaN   \n",
       "\n",
       "    PreviousName_10.CompanyName                         clean_name  \\\n",
       "0                           NaN           j.c.b. equipment limited   \n",
       "1                           NaN                 j.c.w (nw) limited   \n",
       "2                           NaN                     j.d barton ltd   \n",
       "3                           NaN       j.d. automotive (ludlow) ltd   \n",
       "4                           NaN  j.d. phillips & daughters limited   \n",
       "\n",
       "  has_trademark  \n",
       "0             0  \n",
       "1             0  \n",
       "2             0  \n",
       "3             0  \n",
       "4             0  \n",
       "\n",
       "[5 rows x 56 columns]"
      ]
     },
     "execution_count": 56,
     "metadata": {},
     "output_type": "execute_result"
    }
   ],
   "source": [
    "# Inspect the first few or last rows\n",
    "df.head()"
   ]
  },
  {
   "cell_type": "code",
   "execution_count": 57,
   "metadata": {
    "collapsed": false,
    "slideshow": {
     "slide_type": "subslide"
    }
   },
   "outputs": [
    {
     "data": {
      "text/html": [
       "<div style=\"max-height:1000px;max-width:1500px;overflow:auto;\">\n",
       "<table border=\"1\" class=\"dataframe\">\n",
       "  <thead>\n",
       "    <tr style=\"text-align: right;\">\n",
       "      <th></th>\n",
       "      <th>Unnamed: 0</th>\n",
       "      <th>CompanyName</th>\n",
       "      <th>CompanyNumber</th>\n",
       "      <th>RegAddress.CareOf</th>\n",
       "      <th>RegAddress.POBox</th>\n",
       "      <th>RegAddress.AddressLine1</th>\n",
       "      <th>RegAddress.AddressLine2</th>\n",
       "      <th>RegAddress.PostTown</th>\n",
       "      <th>RegAddress.County</th>\n",
       "      <th>RegAddress.Country</th>\n",
       "      <th>...</th>\n",
       "      <th>PreviousName_7.CONDATE</th>\n",
       "      <th>PreviousName_7.CompanyName</th>\n",
       "      <th>PreviousName_8.CONDATE</th>\n",
       "      <th>PreviousName_8.CompanyName</th>\n",
       "      <th>PreviousName_9.CONDATE</th>\n",
       "      <th>PreviousName_9.CompanyName</th>\n",
       "      <th>PreviousName_10.CONDATE</th>\n",
       "      <th>PreviousName_10.CompanyName</th>\n",
       "      <th>clean_name</th>\n",
       "      <th>has_trademark</th>\n",
       "    </tr>\n",
       "  </thead>\n",
       "  <tbody>\n",
       "    <tr>\n",
       "      <th>11043</th>\n",
       "      <td>849165</td>\n",
       "      <td>PIPEWORKS MECHANICAL SERVICES (SOUTH EAST) LIM...</td>\n",
       "      <td>06506556</td>\n",
       "      <td>NaN</td>\n",
       "      <td>NaN</td>\n",
       "      <td>3 THE OLD PRINT HOUSE</td>\n",
       "      <td>RUSSELL STREET</td>\n",
       "      <td>DOVER</td>\n",
       "      <td>KENT</td>\n",
       "      <td>NaN</td>\n",
       "      <td>...</td>\n",
       "      <td>NaN</td>\n",
       "      <td>NaN</td>\n",
       "      <td>NaN</td>\n",
       "      <td>NaN</td>\n",
       "      <td>NaN</td>\n",
       "      <td>NaN</td>\n",
       "      <td>NaN</td>\n",
       "      <td>NaN</td>\n",
       "      <td>pipeworks mechanical services (south east) lim...</td>\n",
       "      <td>0</td>\n",
       "    </tr>\n",
       "    <tr>\n",
       "      <th>11044</th>\n",
       "      <td>849265</td>\n",
       "      <td>PIPLAIN DESIGN UK LIMITED</td>\n",
       "      <td>08742811</td>\n",
       "      <td>NaN</td>\n",
       "      <td>NaN</td>\n",
       "      <td>HALE HOUSE, UNIT 5</td>\n",
       "      <td>296A GREEN LANES</td>\n",
       "      <td>PALMERS GREEN</td>\n",
       "      <td>LONDON</td>\n",
       "      <td>NaN</td>\n",
       "      <td>...</td>\n",
       "      <td>NaN</td>\n",
       "      <td>NaN</td>\n",
       "      <td>NaN</td>\n",
       "      <td>NaN</td>\n",
       "      <td>NaN</td>\n",
       "      <td>NaN</td>\n",
       "      <td>NaN</td>\n",
       "      <td>NaN</td>\n",
       "      <td>piplain design uk limited</td>\n",
       "      <td>0</td>\n",
       "    </tr>\n",
       "    <tr>\n",
       "      <th>11045</th>\n",
       "      <td>849316</td>\n",
       "      <td>PIPPA ROLLS DESIGNS LIMITED</td>\n",
       "      <td>07755892</td>\n",
       "      <td>NaN</td>\n",
       "      <td>NaN</td>\n",
       "      <td>270 COLCHESTER ROAD</td>\n",
       "      <td>NaN</td>\n",
       "      <td>IPSWICH</td>\n",
       "      <td>NaN</td>\n",
       "      <td>NaN</td>\n",
       "      <td>...</td>\n",
       "      <td>NaN</td>\n",
       "      <td>NaN</td>\n",
       "      <td>NaN</td>\n",
       "      <td>NaN</td>\n",
       "      <td>NaN</td>\n",
       "      <td>NaN</td>\n",
       "      <td>NaN</td>\n",
       "      <td>NaN</td>\n",
       "      <td>pippa rolls designs limited</td>\n",
       "      <td>0</td>\n",
       "    </tr>\n",
       "    <tr>\n",
       "      <th>11046</th>\n",
       "      <td>849352</td>\n",
       "      <td>PIPPIN BUILDING PRODUCTS LIMITED</td>\n",
       "      <td>04573772</td>\n",
       "      <td>NaN</td>\n",
       "      <td>NaN</td>\n",
       "      <td>8 NEW FIELDS</td>\n",
       "      <td>2 STINSFORD ROAD NUFFIELD</td>\n",
       "      <td>POOLE</td>\n",
       "      <td>DORSET</td>\n",
       "      <td>NaN</td>\n",
       "      <td>...</td>\n",
       "      <td>NaN</td>\n",
       "      <td>NaN</td>\n",
       "      <td>NaN</td>\n",
       "      <td>NaN</td>\n",
       "      <td>NaN</td>\n",
       "      <td>NaN</td>\n",
       "      <td>NaN</td>\n",
       "      <td>NaN</td>\n",
       "      <td>pippin building products limited</td>\n",
       "      <td>0</td>\n",
       "    </tr>\n",
       "    <tr>\n",
       "      <th>11047</th>\n",
       "      <td>849689</td>\n",
       "      <td>PIRBUDAK LIMITED</td>\n",
       "      <td>08824795</td>\n",
       "      <td>NaN</td>\n",
       "      <td>NaN</td>\n",
       "      <td>834 HERTFORD ROAD</td>\n",
       "      <td>NaN</td>\n",
       "      <td>ENFIELD</td>\n",
       "      <td>MIDDLESEX</td>\n",
       "      <td>NaN</td>\n",
       "      <td>...</td>\n",
       "      <td>NaN</td>\n",
       "      <td>NaN</td>\n",
       "      <td>NaN</td>\n",
       "      <td>NaN</td>\n",
       "      <td>NaN</td>\n",
       "      <td>NaN</td>\n",
       "      <td>NaN</td>\n",
       "      <td>NaN</td>\n",
       "      <td>pirbudak limited</td>\n",
       "      <td>0</td>\n",
       "    </tr>\n",
       "    <tr>\n",
       "      <th>11048</th>\n",
       "      <td>849732</td>\n",
       "      <td>PIRI FINO FRANCHISE LIMITED</td>\n",
       "      <td>08273169</td>\n",
       "      <td>NaN</td>\n",
       "      <td>NaN</td>\n",
       "      <td>573 CHESTER ROAD</td>\n",
       "      <td>NaN</td>\n",
       "      <td>SUTTON COLDFIELD</td>\n",
       "      <td>W MIDLANDS</td>\n",
       "      <td>NaN</td>\n",
       "      <td>...</td>\n",
       "      <td>NaN</td>\n",
       "      <td>NaN</td>\n",
       "      <td>NaN</td>\n",
       "      <td>NaN</td>\n",
       "      <td>NaN</td>\n",
       "      <td>NaN</td>\n",
       "      <td>NaN</td>\n",
       "      <td>NaN</td>\n",
       "      <td>piri fino franchise limited</td>\n",
       "      <td>0</td>\n",
       "    </tr>\n",
       "    <tr>\n",
       "      <th>11049</th>\n",
       "      <td>849793</td>\n",
       "      <td>PIRNIE FARMS</td>\n",
       "      <td>SL000893</td>\n",
       "      <td>NaN</td>\n",
       "      <td>NaN</td>\n",
       "      <td>PIRNIE</td>\n",
       "      <td>KELSO</td>\n",
       "      <td>NaN</td>\n",
       "      <td>NaN</td>\n",
       "      <td>NaN</td>\n",
       "      <td>...</td>\n",
       "      <td>NaN</td>\n",
       "      <td>NaN</td>\n",
       "      <td>NaN</td>\n",
       "      <td>NaN</td>\n",
       "      <td>NaN</td>\n",
       "      <td>NaN</td>\n",
       "      <td>NaN</td>\n",
       "      <td>NaN</td>\n",
       "      <td>pirnie farms</td>\n",
       "      <td>0</td>\n",
       "    </tr>\n",
       "    <tr>\n",
       "      <th>11050</th>\n",
       "      <td>849827</td>\n",
       "      <td>PIRRIE DESIGN CAPITAL LTD.</td>\n",
       "      <td>08742539</td>\n",
       "      <td>NaN</td>\n",
       "      <td>NaN</td>\n",
       "      <td>209 CRANMER COURT</td>\n",
       "      <td>WHITEHEADS GROVE</td>\n",
       "      <td>LONDON</td>\n",
       "      <td>NaN</td>\n",
       "      <td>NaN</td>\n",
       "      <td>...</td>\n",
       "      <td>NaN</td>\n",
       "      <td>NaN</td>\n",
       "      <td>NaN</td>\n",
       "      <td>NaN</td>\n",
       "      <td>NaN</td>\n",
       "      <td>NaN</td>\n",
       "      <td>NaN</td>\n",
       "      <td>NaN</td>\n",
       "      <td>pirrie design capital ltd.</td>\n",
       "      <td>0</td>\n",
       "    </tr>\n",
       "    <tr>\n",
       "      <th>11051</th>\n",
       "      <td>849880</td>\n",
       "      <td>PIS CONTRACTING LTD</td>\n",
       "      <td>09642072</td>\n",
       "      <td>NaN</td>\n",
       "      <td>NaN</td>\n",
       "      <td>BRANSTON COURT</td>\n",
       "      <td>BRANSTON STREET</td>\n",
       "      <td>BIRMINGHAM</td>\n",
       "      <td>NaN</td>\n",
       "      <td>UNITED KINGDOM</td>\n",
       "      <td>...</td>\n",
       "      <td>NaN</td>\n",
       "      <td>NaN</td>\n",
       "      <td>NaN</td>\n",
       "      <td>NaN</td>\n",
       "      <td>NaN</td>\n",
       "      <td>NaN</td>\n",
       "      <td>NaN</td>\n",
       "      <td>NaN</td>\n",
       "      <td>pis contracting ltd</td>\n",
       "      <td>0</td>\n",
       "    </tr>\n",
       "    <tr>\n",
       "      <th>11052</th>\n",
       "      <td>849984</td>\n",
       "      <td>PISGAH PARTNERS LIMITED</td>\n",
       "      <td>08631383</td>\n",
       "      <td>NaN</td>\n",
       "      <td>NaN</td>\n",
       "      <td>4 FITZGERALD AVENUE</td>\n",
       "      <td>NaN</td>\n",
       "      <td>LONDON</td>\n",
       "      <td>NaN</td>\n",
       "      <td>NaN</td>\n",
       "      <td>...</td>\n",
       "      <td>NaN</td>\n",
       "      <td>NaN</td>\n",
       "      <td>NaN</td>\n",
       "      <td>NaN</td>\n",
       "      <td>NaN</td>\n",
       "      <td>NaN</td>\n",
       "      <td>NaN</td>\n",
       "      <td>NaN</td>\n",
       "      <td>pisgah partners limited</td>\n",
       "      <td>0</td>\n",
       "    </tr>\n",
       "  </tbody>\n",
       "</table>\n",
       "<p>10 rows × 56 columns</p>\n",
       "</div>"
      ],
      "text/plain": [
       "       Unnamed: 0                                        CompanyName  \\\n",
       "11043      849165  PIPEWORKS MECHANICAL SERVICES (SOUTH EAST) LIM...   \n",
       "11044      849265                          PIPLAIN DESIGN UK LIMITED   \n",
       "11045      849316                        PIPPA ROLLS DESIGNS LIMITED   \n",
       "11046      849352                   PIPPIN BUILDING PRODUCTS LIMITED   \n",
       "11047      849689                                   PIRBUDAK LIMITED   \n",
       "11048      849732                        PIRI FINO FRANCHISE LIMITED   \n",
       "11049      849793                                       PIRNIE FARMS   \n",
       "11050      849827                         PIRRIE DESIGN CAPITAL LTD.   \n",
       "11051      849880                                PIS CONTRACTING LTD   \n",
       "11052      849984                            PISGAH PARTNERS LIMITED   \n",
       "\n",
       "       CompanyNumber RegAddress.CareOf RegAddress.POBox  \\\n",
       "11043       06506556               NaN              NaN   \n",
       "11044       08742811               NaN              NaN   \n",
       "11045       07755892               NaN              NaN   \n",
       "11046       04573772               NaN              NaN   \n",
       "11047       08824795               NaN              NaN   \n",
       "11048       08273169               NaN              NaN   \n",
       "11049       SL000893               NaN              NaN   \n",
       "11050       08742539               NaN              NaN   \n",
       "11051       09642072               NaN              NaN   \n",
       "11052       08631383               NaN              NaN   \n",
       "\n",
       "      RegAddress.AddressLine1    RegAddress.AddressLine2 RegAddress.PostTown  \\\n",
       "11043   3 THE OLD PRINT HOUSE             RUSSELL STREET               DOVER   \n",
       "11044      HALE HOUSE, UNIT 5           296A GREEN LANES       PALMERS GREEN   \n",
       "11045     270 COLCHESTER ROAD                        NaN             IPSWICH   \n",
       "11046            8 NEW FIELDS  2 STINSFORD ROAD NUFFIELD               POOLE   \n",
       "11047       834 HERTFORD ROAD                        NaN             ENFIELD   \n",
       "11048        573 CHESTER ROAD                        NaN    SUTTON COLDFIELD   \n",
       "11049                  PIRNIE                      KELSO                 NaN   \n",
       "11050       209 CRANMER COURT           WHITEHEADS GROVE              LONDON   \n",
       "11051          BRANSTON COURT            BRANSTON STREET          BIRMINGHAM   \n",
       "11052     4 FITZGERALD AVENUE                        NaN              LONDON   \n",
       "\n",
       "      RegAddress.County RegAddress.Country      ...       \\\n",
       "11043              KENT                NaN      ...        \n",
       "11044            LONDON                NaN      ...        \n",
       "11045               NaN                NaN      ...        \n",
       "11046            DORSET                NaN      ...        \n",
       "11047         MIDDLESEX                NaN      ...        \n",
       "11048        W MIDLANDS                NaN      ...        \n",
       "11049               NaN                NaN      ...        \n",
       "11050               NaN                NaN      ...        \n",
       "11051               NaN     UNITED KINGDOM      ...        \n",
       "11052               NaN                NaN      ...        \n",
       "\n",
       "      PreviousName_7.CONDATE  PreviousName_7.CompanyName  \\\n",
       "11043                    NaN                         NaN   \n",
       "11044                    NaN                         NaN   \n",
       "11045                    NaN                         NaN   \n",
       "11046                    NaN                         NaN   \n",
       "11047                    NaN                         NaN   \n",
       "11048                    NaN                         NaN   \n",
       "11049                    NaN                         NaN   \n",
       "11050                    NaN                         NaN   \n",
       "11051                    NaN                         NaN   \n",
       "11052                    NaN                         NaN   \n",
       "\n",
       "      PreviousName_8.CONDATE  PreviousName_8.CompanyName  \\\n",
       "11043                    NaN                         NaN   \n",
       "11044                    NaN                         NaN   \n",
       "11045                    NaN                         NaN   \n",
       "11046                    NaN                         NaN   \n",
       "11047                    NaN                         NaN   \n",
       "11048                    NaN                         NaN   \n",
       "11049                    NaN                         NaN   \n",
       "11050                    NaN                         NaN   \n",
       "11051                    NaN                         NaN   \n",
       "11052                    NaN                         NaN   \n",
       "\n",
       "       PreviousName_9.CONDATE  PreviousName_9.CompanyName  \\\n",
       "11043                     NaN                         NaN   \n",
       "11044                     NaN                         NaN   \n",
       "11045                     NaN                         NaN   \n",
       "11046                     NaN                         NaN   \n",
       "11047                     NaN                         NaN   \n",
       "11048                     NaN                         NaN   \n",
       "11049                     NaN                         NaN   \n",
       "11050                     NaN                         NaN   \n",
       "11051                     NaN                         NaN   \n",
       "11052                     NaN                         NaN   \n",
       "\n",
       "       PreviousName_10.CONDATE   PreviousName_10.CompanyName  \\\n",
       "11043                      NaN                           NaN   \n",
       "11044                      NaN                           NaN   \n",
       "11045                      NaN                           NaN   \n",
       "11046                      NaN                           NaN   \n",
       "11047                      NaN                           NaN   \n",
       "11048                      NaN                           NaN   \n",
       "11049                      NaN                           NaN   \n",
       "11050                      NaN                           NaN   \n",
       "11051                      NaN                           NaN   \n",
       "11052                      NaN                           NaN   \n",
       "\n",
       "                                              clean_name has_trademark  \n",
       "11043  pipeworks mechanical services (south east) lim...             0  \n",
       "11044                          piplain design uk limited             0  \n",
       "11045                        pippa rolls designs limited             0  \n",
       "11046                   pippin building products limited             0  \n",
       "11047                                   pirbudak limited             0  \n",
       "11048                        piri fino franchise limited             0  \n",
       "11049                                       pirnie farms             0  \n",
       "11050                         pirrie design capital ltd.             0  \n",
       "11051                                pis contracting ltd             0  \n",
       "11052                            pisgah partners limited             0  \n",
       "\n",
       "[10 rows x 56 columns]"
      ]
     },
     "execution_count": 57,
     "metadata": {},
     "output_type": "execute_result"
    }
   ],
   "source": [
    "df.tail(10)"
   ]
  },
  {
   "cell_type": "code",
   "execution_count": 59,
   "metadata": {
    "collapsed": false,
    "slideshow": {
     "slide_type": "subslide"
    }
   },
   "outputs": [
    {
     "data": {
      "text/plain": [
       "array([[50, 'J.C.B. EQUIPMENT LIMITED', '01000710', ..., nan,\n",
       "        'j.c.b. equipment limited', 0],\n",
       "       [175, 'J.C.W (NW) LIMITED', '09028601', ..., nan,\n",
       "        'j.c.w (nw) limited', 0],\n",
       "       [225, 'J.D BARTON LTD', '09035149', ..., nan, 'j.d barton ltd', 0],\n",
       "       ..., \n",
       "       [849827, 'PIRRIE DESIGN CAPITAL LTD.', '08742539', ..., nan,\n",
       "        'pirrie design capital ltd.', 0],\n",
       "       [849880, 'PIS CONTRACTING LTD', '09642072', ..., nan,\n",
       "        'pis contracting ltd', 0],\n",
       "       [849984, 'PISGAH PARTNERS LIMITED', '08631383', ..., nan,\n",
       "        'pisgah partners limited', 0]], dtype=object)"
      ]
     },
     "execution_count": 59,
     "metadata": {},
     "output_type": "execute_result"
    }
   ],
   "source": [
    "# Get out hands on the raw data\n",
    "df.values"
   ]
  },
  {
   "cell_type": "code",
   "execution_count": 60,
   "metadata": {
    "collapsed": false,
    "slideshow": {
     "slide_type": "fragment"
    }
   },
   "outputs": [
    {
     "data": {
      "text/plain": [
       "numpy.ndarray"
      ]
     },
     "execution_count": 60,
     "metadata": {},
     "output_type": "execute_result"
    }
   ],
   "source": [
    "type(df.values)"
   ]
  },
  {
   "cell_type": "code",
   "execution_count": 62,
   "metadata": {
    "collapsed": false,
    "slideshow": {
     "slide_type": "fragment"
    }
   },
   "outputs": [
    {
     "data": {
      "text/plain": [
       "(11053, 56)"
      ]
     },
     "execution_count": 62,
     "metadata": {},
     "output_type": "execute_result"
    }
   ],
   "source": [
    "# Query to see how big our how big our data frame is\n",
    "df.shape"
   ]
  },
  {
   "cell_type": "code",
   "execution_count": 63,
   "metadata": {
    "collapsed": false,
    "slideshow": {
     "slide_type": "subslide"
    }
   },
   "outputs": [
    {
     "data": {
      "text/plain": [
       "count    11053.000000\n",
       "mean         0.779155\n",
       "std          6.609417\n",
       "min          0.000000\n",
       "25%          0.000000\n",
       "50%          0.000000\n",
       "75%          0.000000\n",
       "max        312.000000\n",
       "Name: Mortgages.NumMortCharges, dtype: float64"
      ]
     },
     "execution_count": 63,
     "metadata": {},
     "output_type": "execute_result"
    }
   ],
   "source": [
    "# Quickly assess numerical data\n",
    "df['Mortgages.NumMortCharges'].describe()"
   ]
  },
  {
   "cell_type": "code",
   "execution_count": 68,
   "metadata": {
    "collapsed": false,
    "slideshow": {
     "slide_type": "fragment"
    }
   },
   "outputs": [
    {
     "data": {
      "text/plain": [
       "8612"
      ]
     },
     "execution_count": 68,
     "metadata": {},
     "output_type": "execute_result"
    }
   ],
   "source": [
    "df['Mortgages.NumMortCharges'].sum()"
   ]
  },
  {
   "cell_type": "code",
   "execution_count": 69,
   "metadata": {
    "collapsed": false,
    "slideshow": {
     "slide_type": "fragment"
    }
   },
   "outputs": [
    {
     "data": {
      "text/plain": [
       "count             11053\n",
       "unique              556\n",
       "top       None Supplied\n",
       "freq               2477\n",
       "Name: SICCode.SicText_1, dtype: object"
      ]
     },
     "execution_count": 69,
     "metadata": {},
     "output_type": "execute_result"
    }
   ],
   "source": [
    "# And non-numerical data\n",
    "df['SICCode.SicText_1'].describe()"
   ]
  },
  {
   "cell_type": "code",
   "execution_count": 70,
   "metadata": {
    "collapsed": false,
    "slideshow": {
     "slide_type": "fragment"
    }
   },
   "outputs": [
    {
     "data": {
      "text/html": [
       "<div style=\"max-height:1000px;max-width:1500px;overflow:auto;\">\n",
       "<table border=\"1\" class=\"dataframe\">\n",
       "  <thead>\n",
       "    <tr style=\"text-align: right;\">\n",
       "      <th></th>\n",
       "      <th>CompanyName</th>\n",
       "      <th>CompanyNumber</th>\n",
       "      <th>RegAddress.CareOf</th>\n",
       "      <th>RegAddress.POBox</th>\n",
       "      <th>RegAddress.AddressLine1</th>\n",
       "      <th>RegAddress.AddressLine2</th>\n",
       "      <th>RegAddress.PostTown</th>\n",
       "      <th>RegAddress.County</th>\n",
       "      <th>RegAddress.Country</th>\n",
       "      <th>RegAddress.PostCode</th>\n",
       "      <th>...</th>\n",
       "      <th>PreviousName_2.CompanyName</th>\n",
       "      <th>PreviousName_3.CONDATE</th>\n",
       "      <th>PreviousName_3.CompanyName</th>\n",
       "      <th>PreviousName_4.CONDATE</th>\n",
       "      <th>PreviousName_4.CompanyName</th>\n",
       "      <th>PreviousName_5.CONDATE</th>\n",
       "      <th>PreviousName_5.CompanyName</th>\n",
       "      <th>PreviousName_6.CONDATE</th>\n",
       "      <th>PreviousName_6.CompanyName</th>\n",
       "      <th>clean_name</th>\n",
       "    </tr>\n",
       "  </thead>\n",
       "  <tbody>\n",
       "    <tr>\n",
       "      <th>count</th>\n",
       "      <td>11053</td>\n",
       "      <td>11053</td>\n",
       "      <td>469</td>\n",
       "      <td>14</td>\n",
       "      <td>11022</td>\n",
       "      <td>7539</td>\n",
       "      <td>10738</td>\n",
       "      <td>5709</td>\n",
       "      <td>2565</td>\n",
       "      <td>10945</td>\n",
       "      <td>...</td>\n",
       "      <td>237</td>\n",
       "      <td>53</td>\n",
       "      <td>53</td>\n",
       "      <td>15</td>\n",
       "      <td>15</td>\n",
       "      <td>3</td>\n",
       "      <td>3</td>\n",
       "      <td>2</td>\n",
       "      <td>2</td>\n",
       "      <td>11053</td>\n",
       "    </tr>\n",
       "    <tr>\n",
       "      <th>unique</th>\n",
       "      <td>11053</td>\n",
       "      <td>11053</td>\n",
       "      <td>427</td>\n",
       "      <td>14</td>\n",
       "      <td>9489</td>\n",
       "      <td>5451</td>\n",
       "      <td>1766</td>\n",
       "      <td>368</td>\n",
       "      <td>25</td>\n",
       "      <td>9182</td>\n",
       "      <td>...</td>\n",
       "      <td>237</td>\n",
       "      <td>52</td>\n",
       "      <td>53</td>\n",
       "      <td>15</td>\n",
       "      <td>15</td>\n",
       "      <td>3</td>\n",
       "      <td>3</td>\n",
       "      <td>2</td>\n",
       "      <td>2</td>\n",
       "      <td>11053</td>\n",
       "    </tr>\n",
       "    <tr>\n",
       "      <th>top</th>\n",
       "      <td>LONDON HOLIDAY SERVICES LIMITED</td>\n",
       "      <td>00764426</td>\n",
       "      <td>NEW WAVE ACCOUNTING</td>\n",
       "      <td>46</td>\n",
       "      <td>145-157 ST JOHN STREET</td>\n",
       "      <td>LONDON</td>\n",
       "      <td>LONDON</td>\n",
       "      <td>SURREY</td>\n",
       "      <td>ENGLAND</td>\n",
       "      <td>EC1V 4PW</td>\n",
       "      <td>...</td>\n",
       "      <td>PRECIS (2464) LIMITED</td>\n",
       "      <td>30/01/1998</td>\n",
       "      <td>BITS AND PIXELS LTD</td>\n",
       "      <td>16/08/1996</td>\n",
       "      <td>DONALD HEALEY MOTOR COMPANY,LIMITED</td>\n",
       "      <td>09/11/2010</td>\n",
       "      <td>EVER 1199 LIMITED</td>\n",
       "      <td>24/02/1999</td>\n",
       "      <td>SOUTH WALES RADIO LIMITED</td>\n",
       "      <td>olsense limited</td>\n",
       "    </tr>\n",
       "    <tr>\n",
       "      <th>freq</th>\n",
       "      <td>1</td>\n",
       "      <td>1</td>\n",
       "      <td>7</td>\n",
       "      <td>1</td>\n",
       "      <td>46</td>\n",
       "      <td>131</td>\n",
       "      <td>1937</td>\n",
       "      <td>326</td>\n",
       "      <td>1274</td>\n",
       "      <td>52</td>\n",
       "      <td>...</td>\n",
       "      <td>1</td>\n",
       "      <td>2</td>\n",
       "      <td>1</td>\n",
       "      <td>1</td>\n",
       "      <td>1</td>\n",
       "      <td>1</td>\n",
       "      <td>1</td>\n",
       "      <td>1</td>\n",
       "      <td>1</td>\n",
       "      <td>1</td>\n",
       "    </tr>\n",
       "  </tbody>\n",
       "</table>\n",
       "<p>4 rows × 37 columns</p>\n",
       "</div>"
      ],
      "text/plain": [
       "                            CompanyName  CompanyNumber    RegAddress.CareOf  \\\n",
       "count                             11053          11053                  469   \n",
       "unique                            11053          11053                  427   \n",
       "top     LONDON HOLIDAY SERVICES LIMITED       00764426  NEW WAVE ACCOUNTING   \n",
       "freq                                  1              1                    7   \n",
       "\n",
       "       RegAddress.POBox RegAddress.AddressLine1  RegAddress.AddressLine2  \\\n",
       "count                14                   11022                     7539   \n",
       "unique               14                    9489                     5451   \n",
       "top                  46  145-157 ST JOHN STREET                   LONDON   \n",
       "freq                  1                      46                      131   \n",
       "\n",
       "       RegAddress.PostTown RegAddress.County RegAddress.Country  \\\n",
       "count                10738              5709               2565   \n",
       "unique                1766               368                 25   \n",
       "top                 LONDON            SURREY            ENGLAND   \n",
       "freq                  1937               326               1274   \n",
       "\n",
       "       RegAddress.PostCode       ...         PreviousName_2.CompanyName  \\\n",
       "count                10945       ...                                237   \n",
       "unique                9182       ...                                237   \n",
       "top               EC1V 4PW       ...              PRECIS (2464) LIMITED   \n",
       "freq                    52       ...                                  1   \n",
       "\n",
       "       PreviousName_3.CONDATE  PreviousName_3.CompanyName  \\\n",
       "count                      53                          53   \n",
       "unique                     52                          53   \n",
       "top                30/01/1998         BITS AND PIXELS LTD   \n",
       "freq                        2                           1   \n",
       "\n",
       "       PreviousName_4.CONDATE           PreviousName_4.CompanyName  \\\n",
       "count                      15                                   15   \n",
       "unique                     15                                   15   \n",
       "top                16/08/1996  DONALD HEALEY MOTOR COMPANY,LIMITED   \n",
       "freq                        1                                    1   \n",
       "\n",
       "       PreviousName_5.CONDATE  PreviousName_5.CompanyName  \\\n",
       "count                       3                           3   \n",
       "unique                      3                           3   \n",
       "top                09/11/2010           EVER 1199 LIMITED   \n",
       "freq                        1                           1   \n",
       "\n",
       "       PreviousName_6.CONDATE  PreviousName_6.CompanyName       clean_name  \n",
       "count                       2                           2            11053  \n",
       "unique                      2                           2            11053  \n",
       "top                24/02/1999   SOUTH WALES RADIO LIMITED  olsense limited  \n",
       "freq                        1                           1                1  \n",
       "\n",
       "[4 rows x 37 columns]"
      ]
     },
     "execution_count": 70,
     "metadata": {},
     "output_type": "execute_result"
    }
   ],
   "source": [
    "# We can also call this on a frame as a whole and specify which types to include\n",
    "df.describe(include=['object'])"
   ]
  },
  {
   "cell_type": "code",
   "execution_count": 73,
   "metadata": {
    "collapsed": false,
    "slideshow": {
     "slide_type": "fragment"
    }
   },
   "outputs": [
    {
     "data": {
      "text/plain": [
       "11053"
      ]
     },
     "execution_count": 73,
     "metadata": {},
     "output_type": "execute_result"
    }
   ],
   "source": [
    "# Each Company Number is unique..\n",
    "df[' CompanyNumber'].nunique()"
   ]
  },
  {
   "cell_type": "markdown",
   "metadata": {
    "slideshow": {
     "slide_type": "subslide"
    }
   },
   "source": [
    "### Data types\n",
    "\n",
    "The main pandas datatypes are ```float```, ```int```, ```bool```, ```datetime64```, ```timedelta``` and ```object```. ```float``` and ```int``` also have 32 and 64 bit variants.\n",
    "\n",
    "Lets take a look at the datatypes in our dataframe again."
   ]
  },
  {
   "cell_type": "code",
   "execution_count": 75,
   "metadata": {
    "collapsed": false,
    "slideshow": {
     "slide_type": "fragment"
    }
   },
   "outputs": [
    {
     "data": {
      "text/plain": [
       "Unnamed: 0                              int64\n",
       "CompanyName                            object\n",
       " CompanyNumber                         object\n",
       "RegAddress.CareOf                      object\n",
       "RegAddress.POBox                       object\n",
       "RegAddress.AddressLine1                object\n",
       " RegAddress.AddressLine2               object\n",
       "RegAddress.PostTown                    object\n",
       "RegAddress.County                      object\n",
       "RegAddress.Country                     object\n",
       "RegAddress.PostCode                    object\n",
       "CompanyCategory                        object\n",
       "CompanyStatus                          object\n",
       "CountryOfOrigin                        object\n",
       "DissolutionDate                       float64\n",
       "IncorporationDate                      object\n",
       "Accounts.AccountRefDay                float64\n",
       "Accounts.AccountRefMonth              float64\n",
       "Accounts.NextDueDate                   object\n",
       "Accounts.LastMadeUpDate                object\n",
       "Accounts.AccountCategory               object\n",
       "Returns.NextDueDate                    object\n",
       "Returns.LastMadeUpDate                 object\n",
       "Mortgages.NumMortCharges                int64\n",
       "Mortgages.NumMortOutstanding            int64\n",
       "Mortgages.NumMortPartSatisfied          int64\n",
       "Mortgages.NumMortSatisfied              int64\n",
       "SICCode.SicText_1                      object\n",
       "SICCode.SicText_2                      object\n",
       "SICCode.SicText_3                      object\n",
       "SICCode.SicText_4                      object\n",
       "LimitedPartnerships.NumGenPartners      int64\n",
       "LimitedPartnerships.NumLimPartners      int64\n",
       "URI                                    object\n",
       "PreviousName_1.CONDATE                 object\n",
       " PreviousName_1.CompanyName            object\n",
       " PreviousName_2.CONDATE                object\n",
       " PreviousName_2.CompanyName            object\n",
       "PreviousName_3.CONDATE                 object\n",
       " PreviousName_3.CompanyName            object\n",
       "PreviousName_4.CONDATE                 object\n",
       " PreviousName_4.CompanyName            object\n",
       "PreviousName_5.CONDATE                 object\n",
       " PreviousName_5.CompanyName            object\n",
       "PreviousName_6.CONDATE                 object\n",
       " PreviousName_6.CompanyName            object\n",
       "PreviousName_7.CONDATE                float64\n",
       " PreviousName_7.CompanyName           float64\n",
       "PreviousName_8.CONDATE                float64\n",
       " PreviousName_8.CompanyName           float64\n",
       "PreviousName_9.CONDATE                float64\n",
       " PreviousName_9.CompanyName           float64\n",
       "PreviousName_10.CONDATE               float64\n",
       " PreviousName_10.CompanyName          float64\n",
       "clean_name                             object\n",
       "has_trademark                           int64\n",
       "dtype: object"
      ]
     },
     "execution_count": 75,
     "metadata": {},
     "output_type": "execute_result"
    }
   ],
   "source": [
    "df.dtypes"
   ]
  },
  {
   "cell_type": "code",
   "execution_count": 76,
   "metadata": {
    "collapsed": true,
    "slideshow": {
     "slide_type": "fragment"
    }
   },
   "outputs": [],
   "source": [
    "df['IncorporationDate'] = pd.to_datetime(df['IncorporationDate'])"
   ]
  },
  {
   "cell_type": "code",
   "execution_count": 199,
   "metadata": {
    "collapsed": false,
    "slideshow": {
     "slide_type": "fragment"
    }
   },
   "outputs": [
    {
     "data": {
      "text/plain": [
       "CompanyName                            object\n",
       " CompanyNumber                         object\n",
       "RegAddress.CareOf                      object\n",
       "RegAddress.POBox                       object\n",
       "RegAddress.AddressLine1                object\n",
       " RegAddress.AddressLine2               object\n",
       "RegAddress.PostTown                    object\n",
       "RegAddress.County                      object\n",
       "RegAddress.Country                     object\n",
       "RegAddress.PostCode                    object\n",
       "CompanyCategory                        object\n",
       "CompanyStatus                          object\n",
       "CountryOfOrigin                        object\n",
       "DissolutionDate                       float64\n",
       "IncorporationDate                      object\n",
       "Accounts.AccountRefDay                float64\n",
       "Accounts.AccountRefMonth              float64\n",
       "Accounts.NextDueDate                   object\n",
       "Accounts.LastMadeUpDate                object\n",
       "Accounts.AccountCategory               object\n",
       "Returns.NextDueDate                    object\n",
       "Returns.LastMadeUpDate                 object\n",
       "Mortgages.NumMortCharges                int64\n",
       "Mortgages.NumMortOutstanding            int64\n",
       "Mortgages.NumMortPartSatisfied          int64\n",
       "Mortgages.NumMortSatisfied              int64\n",
       "SICCode.SicText_1                      object\n",
       "SICCode.SicText_2                      object\n",
       "SICCode.SicText_3                      object\n",
       "SICCode.SicText_4                      object\n",
       "LimitedPartnerships.NumGenPartners      int64\n",
       "LimitedPartnerships.NumLimPartners      int64\n",
       "URI                                    object\n",
       "PreviousName_1.CONDATE                 object\n",
       " PreviousName_1.CompanyName            object\n",
       " PreviousName_2.CONDATE                object\n",
       " PreviousName_2.CompanyName            object\n",
       "PreviousName_3.CONDATE                 object\n",
       " PreviousName_3.CompanyName            object\n",
       "PreviousName_4.CONDATE                 object\n",
       " PreviousName_4.CompanyName            object\n",
       "PreviousName_5.CONDATE                 object\n",
       " PreviousName_5.CompanyName            object\n",
       "PreviousName_6.CONDATE                 object\n",
       " PreviousName_6.CompanyName            object\n",
       "PreviousName_7.CONDATE                float64\n",
       " PreviousName_7.CompanyName           float64\n",
       "PreviousName_8.CONDATE                float64\n",
       " PreviousName_8.CompanyName           float64\n",
       "PreviousName_9.CONDATE                float64\n",
       " PreviousName_9.CompanyName           float64\n",
       "PreviousName_10.CONDATE               float64\n",
       " PreviousName_10.CompanyName          float64\n",
       "dtype: object"
      ]
     },
     "execution_count": 199,
     "metadata": {},
     "output_type": "execute_result"
    }
   ],
   "source": [
    "df.dtypes"
   ]
  },
  {
   "cell_type": "code",
   "execution_count": 79,
   "metadata": {
    "collapsed": false,
    "slideshow": {
     "slide_type": "fragment"
    }
   },
   "outputs": [
    {
     "data": {
      "text/plain": [
       "count                   11053\n",
       "unique                   4467\n",
       "top       2015-01-19 00:00:00\n",
       "freq                       18\n",
       "first     1864-01-04 00:00:00\n",
       "last      2015-12-06 00:00:00\n",
       "Name: IncorporationDate, dtype: object"
      ]
     },
     "execution_count": 79,
     "metadata": {},
     "output_type": "execute_result"
    }
   ],
   "source": [
    "df['IncorporationDate'].describe()"
   ]
  },
  {
   "cell_type": "markdown",
   "metadata": {
    "slideshow": {
     "slide_type": "subslide"
    }
   },
   "source": [
    "### Selecting rows and columns\n",
    "\n",
    "How can we slice and dice with pandas?\n",
    "\n",
    "```[]``` generally returns a lower dimensional datastructure"
   ]
  },
  {
   "cell_type": "code",
   "execution_count": 80,
   "metadata": {
    "collapsed": false,
    "slideshow": {
     "slide_type": "fragment"
    }
   },
   "outputs": [
    {
     "data": {
      "text/plain": [
       "pandas.core.series.Series"
      ]
     },
     "execution_count": 80,
     "metadata": {},
     "output_type": "execute_result"
    }
   ],
   "source": [
    "type(df['CompanyName'])"
   ]
  },
  {
   "cell_type": "code",
   "execution_count": 82,
   "metadata": {
    "collapsed": false,
    "slideshow": {
     "slide_type": "fragment"
    }
   },
   "outputs": [
    {
     "data": {
      "text/plain": [
       "str"
      ]
     },
     "execution_count": 82,
     "metadata": {},
     "output_type": "execute_result"
    }
   ],
   "source": [
    "names = df['CompanyName']\n",
    "type(names[0])"
   ]
  },
  {
   "cell_type": "code",
   "execution_count": 84,
   "metadata": {
    "collapsed": false,
    "slideshow": {
     "slide_type": "fragment"
    }
   },
   "outputs": [
    {
     "data": {
      "text/plain": [
       "pandas.core.frame.DataFrame"
      ]
     },
     "execution_count": 84,
     "metadata": {},
     "output_type": "execute_result"
    }
   ],
   "source": [
    "# We can also pass a list of columns\n",
    "type(df[['CompanyName', 'IncorporationDate']])"
   ]
  },
  {
   "cell_type": "code",
   "execution_count": 85,
   "metadata": {
    "collapsed": false,
    "slideshow": {
     "slide_type": "fragment"
    }
   },
   "outputs": [
    {
     "data": {
      "text/html": [
       "<div style=\"max-height:1000px;max-width:1500px;overflow:auto;\">\n",
       "<table border=\"1\" class=\"dataframe\">\n",
       "  <thead>\n",
       "    <tr style=\"text-align: right;\">\n",
       "      <th></th>\n",
       "      <th>CompanyName</th>\n",
       "      <th>IncorporationDate</th>\n",
       "    </tr>\n",
       "  </thead>\n",
       "  <tbody>\n",
       "    <tr>\n",
       "      <th>0</th>\n",
       "      <td>J.C.B. EQUIPMENT LIMITED</td>\n",
       "      <td>1971-01-25</td>\n",
       "    </tr>\n",
       "    <tr>\n",
       "      <th>1</th>\n",
       "      <td>J.C.W (NW) LIMITED</td>\n",
       "      <td>2014-07-05</td>\n",
       "    </tr>\n",
       "  </tbody>\n",
       "</table>\n",
       "</div>"
      ],
      "text/plain": [
       "                CompanyName IncorporationDate\n",
       "0  J.C.B. EQUIPMENT LIMITED        1971-01-25\n",
       "1        J.C.W (NW) LIMITED        2014-07-05"
      ]
     },
     "execution_count": 85,
     "metadata": {},
     "output_type": "execute_result"
    }
   ],
   "source": [
    "df[['CompanyName', 'IncorporationDate']].head(2)"
   ]
  },
  {
   "cell_type": "markdown",
   "metadata": {
    "slideshow": {
     "slide_type": "fragment"
    }
   },
   "source": [
    "We can also access columns in DataFrames as an attribute, though this comes with a few caveats."
   ]
  },
  {
   "cell_type": "code",
   "execution_count": 86,
   "metadata": {
    "collapsed": false,
    "slideshow": {
     "slide_type": "fragment"
    }
   },
   "outputs": [
    {
     "data": {
      "text/plain": [
       "0             J.C.B. EQUIPMENT LIMITED\n",
       "1                   J.C.W (NW) LIMITED\n",
       "2                       J.D BARTON LTD\n",
       "3         J.D. AUTOMOTIVE (LUDLOW) LTD\n",
       "4    J.D. PHILLIPS & DAUGHTERS LIMITED\n",
       "Name: CompanyName, dtype: object"
      ]
     },
     "execution_count": 86,
     "metadata": {},
     "output_type": "execute_result"
    }
   ],
   "source": [
    "df.CompanyName.head()"
   ]
  },
  {
   "cell_type": "code",
   "execution_count": 88,
   "metadata": {
    "collapsed": false,
    "slideshow": {
     "slide_type": "fragment"
    }
   },
   "outputs": [
    {
     "ename": "AttributeError",
     "evalue": "'DataFrame' object has no attribute 'Mortgages'",
     "output_type": "error",
     "traceback": [
      "\u001b[1;31m---------------------------------------------------------------------------\u001b[0m",
      "\u001b[1;31mAttributeError\u001b[0m                            Traceback (most recent call last)",
      "\u001b[1;32m<ipython-input-88-dfc0d8aba485>\u001b[0m in \u001b[0;36m<module>\u001b[1;34m()\u001b[0m\n\u001b[1;32m----> 1\u001b[1;33m \u001b[0mdf\u001b[0m\u001b[1;33m.\u001b[0m\u001b[0mMortgages\u001b[0m\u001b[1;33m.\u001b[0m\u001b[0mNumMortCharges\u001b[0m\u001b[1;33m\u001b[0m\u001b[0m\n\u001b[0m",
      "\u001b[1;32m/mnt/home_dirs/alex/.virtualenvs/ipython/local/lib/python2.7/site-packages/pandas/core/generic.pyc\u001b[0m in \u001b[0;36m__getattr__\u001b[1;34m(self, name)\u001b[0m\n\u001b[0;32m   2081\u001b[0m                 \u001b[1;32mreturn\u001b[0m \u001b[0mself\u001b[0m\u001b[1;33m[\u001b[0m\u001b[0mname\u001b[0m\u001b[1;33m]\u001b[0m\u001b[1;33m\u001b[0m\u001b[0m\n\u001b[0;32m   2082\u001b[0m             raise AttributeError(\"'%s' object has no attribute '%s'\" %\n\u001b[1;32m-> 2083\u001b[1;33m                                  (type(self).__name__, name))\n\u001b[0m\u001b[0;32m   2084\u001b[0m \u001b[1;33m\u001b[0m\u001b[0m\n\u001b[0;32m   2085\u001b[0m     \u001b[1;32mdef\u001b[0m \u001b[0m__setattr__\u001b[0m\u001b[1;33m(\u001b[0m\u001b[0mself\u001b[0m\u001b[1;33m,\u001b[0m \u001b[0mname\u001b[0m\u001b[1;33m,\u001b[0m \u001b[0mvalue\u001b[0m\u001b[1;33m)\u001b[0m\u001b[1;33m:\u001b[0m\u001b[1;33m\u001b[0m\u001b[0m\n",
      "\u001b[1;31mAttributeError\u001b[0m: 'DataFrame' object has no attribute 'Mortgages'"
     ]
    }
   ],
   "source": [
    "df.Mortgages.NumMortCharges"
   ]
  },
  {
   "cell_type": "markdown",
   "metadata": {
    "slideshow": {
     "slide_type": "fragment"
    }
   },
   "source": [
    "Try using tab-complete..."
   ]
  },
  {
   "cell_type": "markdown",
   "metadata": {
    "slideshow": {
     "slide_type": "subslide"
    }
   },
   "source": [
    "A simple way of slicing rows is to use ```[]```. This works in much the same way as standard Python slicing."
   ]
  },
  {
   "cell_type": "markdown",
   "metadata": {
    "slideshow": {
     "slide_type": "fragment"
    }
   },
   "source": [
    "How would you access the first row in a DataFrame?"
   ]
  },
  {
   "cell_type": "code",
   "execution_count": 91,
   "metadata": {
    "collapsed": false,
    "slideshow": {
     "slide_type": "fragment"
    }
   },
   "outputs": [
    {
     "data": {
      "text/html": [
       "<div style=\"max-height:1000px;max-width:1500px;overflow:auto;\">\n",
       "<table border=\"1\" class=\"dataframe\">\n",
       "  <thead>\n",
       "    <tr style=\"text-align: right;\">\n",
       "      <th></th>\n",
       "      <th>Unnamed: 0</th>\n",
       "      <th>CompanyName</th>\n",
       "      <th>CompanyNumber</th>\n",
       "      <th>RegAddress.CareOf</th>\n",
       "      <th>RegAddress.POBox</th>\n",
       "      <th>RegAddress.AddressLine1</th>\n",
       "      <th>RegAddress.AddressLine2</th>\n",
       "      <th>RegAddress.PostTown</th>\n",
       "      <th>RegAddress.County</th>\n",
       "      <th>RegAddress.Country</th>\n",
       "      <th>...</th>\n",
       "      <th>PreviousName_7.CONDATE</th>\n",
       "      <th>PreviousName_7.CompanyName</th>\n",
       "      <th>PreviousName_8.CONDATE</th>\n",
       "      <th>PreviousName_8.CompanyName</th>\n",
       "      <th>PreviousName_9.CONDATE</th>\n",
       "      <th>PreviousName_9.CompanyName</th>\n",
       "      <th>PreviousName_10.CONDATE</th>\n",
       "      <th>PreviousName_10.CompanyName</th>\n",
       "      <th>clean_name</th>\n",
       "      <th>has_trademark</th>\n",
       "    </tr>\n",
       "  </thead>\n",
       "  <tbody>\n",
       "    <tr>\n",
       "      <th>0</th>\n",
       "      <td>50</td>\n",
       "      <td>J.C.B. EQUIPMENT LIMITED</td>\n",
       "      <td>01000710</td>\n",
       "      <td>NaN</td>\n",
       "      <td>NaN</td>\n",
       "      <td>LAKESIDE WORKS</td>\n",
       "      <td>ROCESTER</td>\n",
       "      <td>STAFFS</td>\n",
       "      <td>NaN</td>\n",
       "      <td>NaN</td>\n",
       "      <td>...</td>\n",
       "      <td>NaN</td>\n",
       "      <td>NaN</td>\n",
       "      <td>NaN</td>\n",
       "      <td>NaN</td>\n",
       "      <td>NaN</td>\n",
       "      <td>NaN</td>\n",
       "      <td>NaN</td>\n",
       "      <td>NaN</td>\n",
       "      <td>j.c.b. equipment limited</td>\n",
       "      <td>0</td>\n",
       "    </tr>\n",
       "  </tbody>\n",
       "</table>\n",
       "<p>1 rows × 56 columns</p>\n",
       "</div>"
      ],
      "text/plain": [
       "   Unnamed: 0               CompanyName  CompanyNumber RegAddress.CareOf  \\\n",
       "0          50  J.C.B. EQUIPMENT LIMITED       01000710               NaN   \n",
       "\n",
       "  RegAddress.POBox RegAddress.AddressLine1  RegAddress.AddressLine2  \\\n",
       "0              NaN          LAKESIDE WORKS                 ROCESTER   \n",
       "\n",
       "  RegAddress.PostTown RegAddress.County RegAddress.Country      ...       \\\n",
       "0              STAFFS               NaN                NaN      ...        \n",
       "\n",
       "  PreviousName_7.CONDATE  PreviousName_7.CompanyName PreviousName_8.CONDATE  \\\n",
       "0                    NaN                         NaN                    NaN   \n",
       "\n",
       "   PreviousName_8.CompanyName  PreviousName_9.CONDATE  \\\n",
       "0                         NaN                     NaN   \n",
       "\n",
       "   PreviousName_9.CompanyName  PreviousName_10.CONDATE  \\\n",
       "0                         NaN                      NaN   \n",
       "\n",
       "    PreviousName_10.CompanyName                clean_name has_trademark  \n",
       "0                           NaN  j.c.b. equipment limited             0  \n",
       "\n",
       "[1 rows x 56 columns]"
      ]
     },
     "execution_count": 91,
     "metadata": {},
     "output_type": "execute_result"
    }
   ],
   "source": [
    "df[:1]"
   ]
  },
  {
   "cell_type": "markdown",
   "metadata": {
    "slideshow": {
     "slide_type": "fragment"
    }
   },
   "source": [
    "How would you access all but the last row in a DataFrame?"
   ]
  },
  {
   "cell_type": "code",
   "execution_count": 100,
   "metadata": {
    "collapsed": false
   },
   "outputs": [
    {
     "data": {
      "text/html": [
       "<div style=\"max-height:1000px;max-width:1500px;overflow:auto;\">\n",
       "<table border=\"1\" class=\"dataframe\">\n",
       "  <thead>\n",
       "    <tr style=\"text-align: right;\">\n",
       "      <th></th>\n",
       "      <th>Unnamed: 0</th>\n",
       "      <th>CompanyName</th>\n",
       "      <th>CompanyNumber</th>\n",
       "      <th>RegAddress.CareOf</th>\n",
       "      <th>RegAddress.POBox</th>\n",
       "      <th>RegAddress.AddressLine1</th>\n",
       "      <th>RegAddress.AddressLine2</th>\n",
       "      <th>RegAddress.PostTown</th>\n",
       "      <th>RegAddress.County</th>\n",
       "      <th>RegAddress.Country</th>\n",
       "      <th>...</th>\n",
       "      <th>PreviousName_7.CONDATE</th>\n",
       "      <th>PreviousName_7.CompanyName</th>\n",
       "      <th>PreviousName_8.CONDATE</th>\n",
       "      <th>PreviousName_8.CompanyName</th>\n",
       "      <th>PreviousName_9.CONDATE</th>\n",
       "      <th>PreviousName_9.CompanyName</th>\n",
       "      <th>PreviousName_10.CONDATE</th>\n",
       "      <th>PreviousName_10.CompanyName</th>\n",
       "      <th>clean_name</th>\n",
       "      <th>has_trademark</th>\n",
       "    </tr>\n",
       "  </thead>\n",
       "  <tbody>\n",
       "    <tr>\n",
       "      <th>11050</th>\n",
       "      <td>849827</td>\n",
       "      <td>PIRRIE DESIGN CAPITAL LTD.</td>\n",
       "      <td>08742539</td>\n",
       "      <td>NaN</td>\n",
       "      <td>NaN</td>\n",
       "      <td>209 CRANMER COURT</td>\n",
       "      <td>WHITEHEADS GROVE</td>\n",
       "      <td>LONDON</td>\n",
       "      <td>NaN</td>\n",
       "      <td>NaN</td>\n",
       "      <td>...</td>\n",
       "      <td>NaN</td>\n",
       "      <td>NaN</td>\n",
       "      <td>NaN</td>\n",
       "      <td>NaN</td>\n",
       "      <td>NaN</td>\n",
       "      <td>NaN</td>\n",
       "      <td>NaN</td>\n",
       "      <td>NaN</td>\n",
       "      <td>pirrie design capital ltd.</td>\n",
       "      <td>0</td>\n",
       "    </tr>\n",
       "    <tr>\n",
       "      <th>11051</th>\n",
       "      <td>849880</td>\n",
       "      <td>PIS CONTRACTING LTD</td>\n",
       "      <td>09642072</td>\n",
       "      <td>NaN</td>\n",
       "      <td>NaN</td>\n",
       "      <td>BRANSTON COURT</td>\n",
       "      <td>BRANSTON STREET</td>\n",
       "      <td>BIRMINGHAM</td>\n",
       "      <td>NaN</td>\n",
       "      <td>UNITED KINGDOM</td>\n",
       "      <td>...</td>\n",
       "      <td>NaN</td>\n",
       "      <td>NaN</td>\n",
       "      <td>NaN</td>\n",
       "      <td>NaN</td>\n",
       "      <td>NaN</td>\n",
       "      <td>NaN</td>\n",
       "      <td>NaN</td>\n",
       "      <td>NaN</td>\n",
       "      <td>pis contracting ltd</td>\n",
       "      <td>0</td>\n",
       "    </tr>\n",
       "    <tr>\n",
       "      <th>11052</th>\n",
       "      <td>849984</td>\n",
       "      <td>PISGAH PARTNERS LIMITED</td>\n",
       "      <td>08631383</td>\n",
       "      <td>NaN</td>\n",
       "      <td>NaN</td>\n",
       "      <td>4 FITZGERALD AVENUE</td>\n",
       "      <td>NaN</td>\n",
       "      <td>LONDON</td>\n",
       "      <td>NaN</td>\n",
       "      <td>NaN</td>\n",
       "      <td>...</td>\n",
       "      <td>NaN</td>\n",
       "      <td>NaN</td>\n",
       "      <td>NaN</td>\n",
       "      <td>NaN</td>\n",
       "      <td>NaN</td>\n",
       "      <td>NaN</td>\n",
       "      <td>NaN</td>\n",
       "      <td>NaN</td>\n",
       "      <td>pisgah partners limited</td>\n",
       "      <td>0</td>\n",
       "    </tr>\n",
       "  </tbody>\n",
       "</table>\n",
       "<p>3 rows × 56 columns</p>\n",
       "</div>"
      ],
      "text/plain": [
       "       Unnamed: 0                 CompanyName  CompanyNumber  \\\n",
       "11050      849827  PIRRIE DESIGN CAPITAL LTD.       08742539   \n",
       "11051      849880         PIS CONTRACTING LTD       09642072   \n",
       "11052      849984     PISGAH PARTNERS LIMITED       08631383   \n",
       "\n",
       "      RegAddress.CareOf RegAddress.POBox RegAddress.AddressLine1  \\\n",
       "11050               NaN              NaN       209 CRANMER COURT   \n",
       "11051               NaN              NaN          BRANSTON COURT   \n",
       "11052               NaN              NaN     4 FITZGERALD AVENUE   \n",
       "\n",
       "       RegAddress.AddressLine2 RegAddress.PostTown RegAddress.County  \\\n",
       "11050         WHITEHEADS GROVE              LONDON               NaN   \n",
       "11051          BRANSTON STREET          BIRMINGHAM               NaN   \n",
       "11052                      NaN              LONDON               NaN   \n",
       "\n",
       "      RegAddress.Country      ...      PreviousName_7.CONDATE  \\\n",
       "11050                NaN      ...                         NaN   \n",
       "11051     UNITED KINGDOM      ...                         NaN   \n",
       "11052                NaN      ...                         NaN   \n",
       "\n",
       "       PreviousName_7.CompanyName PreviousName_8.CONDATE  \\\n",
       "11050                         NaN                    NaN   \n",
       "11051                         NaN                    NaN   \n",
       "11052                         NaN                    NaN   \n",
       "\n",
       "       PreviousName_8.CompanyName  PreviousName_9.CONDATE  \\\n",
       "11050                         NaN                     NaN   \n",
       "11051                         NaN                     NaN   \n",
       "11052                         NaN                     NaN   \n",
       "\n",
       "       PreviousName_9.CompanyName  PreviousName_10.CONDATE  \\\n",
       "11050                         NaN                      NaN   \n",
       "11051                         NaN                      NaN   \n",
       "11052                         NaN                      NaN   \n",
       "\n",
       "        PreviousName_10.CompanyName                  clean_name has_trademark  \n",
       "11050                           NaN  pirrie design capital ltd.             0  \n",
       "11051                           NaN         pis contracting ltd             0  \n",
       "11052                           NaN     pisgah partners limited             0  \n",
       "\n",
       "[3 rows x 56 columns]"
      ]
     },
     "execution_count": 100,
     "metadata": {},
     "output_type": "execute_result"
    }
   ],
   "source": [
    "df.tail(3)"
   ]
  },
  {
   "cell_type": "code",
   "execution_count": 124,
   "metadata": {
    "collapsed": false,
    "slideshow": {
     "slide_type": "fragment"
    }
   },
   "outputs": [
    {
     "name": "stdout",
     "output_type": "stream",
     "text": [
      "11053\n",
      "11052\n"
     ]
    },
    {
     "data": {
      "text/html": [
       "<div style=\"max-height:1000px;max-width:1500px;overflow:auto;\">\n",
       "<table border=\"1\" class=\"dataframe\">\n",
       "  <thead>\n",
       "    <tr style=\"text-align: right;\">\n",
       "      <th></th>\n",
       "      <th>Unnamed: 0</th>\n",
       "      <th>CompanyName</th>\n",
       "      <th>CompanyNumber</th>\n",
       "      <th>RegAddress.CareOf</th>\n",
       "      <th>RegAddress.POBox</th>\n",
       "      <th>RegAddress.AddressLine1</th>\n",
       "      <th>RegAddress.AddressLine2</th>\n",
       "      <th>RegAddress.PostTown</th>\n",
       "      <th>RegAddress.County</th>\n",
       "      <th>RegAddress.Country</th>\n",
       "      <th>...</th>\n",
       "      <th>PreviousName_7.CONDATE</th>\n",
       "      <th>PreviousName_7.CompanyName</th>\n",
       "      <th>PreviousName_8.CONDATE</th>\n",
       "      <th>PreviousName_8.CompanyName</th>\n",
       "      <th>PreviousName_9.CONDATE</th>\n",
       "      <th>PreviousName_9.CompanyName</th>\n",
       "      <th>PreviousName_10.CONDATE</th>\n",
       "      <th>PreviousName_10.CompanyName</th>\n",
       "      <th>clean_name</th>\n",
       "      <th>has_trademark</th>\n",
       "    </tr>\n",
       "  </thead>\n",
       "  <tbody>\n",
       "    <tr>\n",
       "      <th>11050</th>\n",
       "      <td>849827</td>\n",
       "      <td>PIRRIE DESIGN CAPITAL LTD.</td>\n",
       "      <td>08742539</td>\n",
       "      <td>NaN</td>\n",
       "      <td>NaN</td>\n",
       "      <td>209 CRANMER COURT</td>\n",
       "      <td>WHITEHEADS GROVE</td>\n",
       "      <td>LONDON</td>\n",
       "      <td>NaN</td>\n",
       "      <td>NaN</td>\n",
       "      <td>...</td>\n",
       "      <td>NaN</td>\n",
       "      <td>NaN</td>\n",
       "      <td>NaN</td>\n",
       "      <td>NaN</td>\n",
       "      <td>NaN</td>\n",
       "      <td>NaN</td>\n",
       "      <td>NaN</td>\n",
       "      <td>NaN</td>\n",
       "      <td>pirrie design capital ltd.</td>\n",
       "      <td>0</td>\n",
       "    </tr>\n",
       "    <tr>\n",
       "      <th>11051</th>\n",
       "      <td>849880</td>\n",
       "      <td>PIS CONTRACTING LTD</td>\n",
       "      <td>09642072</td>\n",
       "      <td>NaN</td>\n",
       "      <td>NaN</td>\n",
       "      <td>BRANSTON COURT</td>\n",
       "      <td>BRANSTON STREET</td>\n",
       "      <td>BIRMINGHAM</td>\n",
       "      <td>NaN</td>\n",
       "      <td>UNITED KINGDOM</td>\n",
       "      <td>...</td>\n",
       "      <td>NaN</td>\n",
       "      <td>NaN</td>\n",
       "      <td>NaN</td>\n",
       "      <td>NaN</td>\n",
       "      <td>NaN</td>\n",
       "      <td>NaN</td>\n",
       "      <td>NaN</td>\n",
       "      <td>NaN</td>\n",
       "      <td>pis contracting ltd</td>\n",
       "      <td>0</td>\n",
       "    </tr>\n",
       "  </tbody>\n",
       "</table>\n",
       "<p>2 rows × 56 columns</p>\n",
       "</div>"
      ],
      "text/plain": [
       "       Unnamed: 0                 CompanyName  CompanyNumber  \\\n",
       "11050      849827  PIRRIE DESIGN CAPITAL LTD.       08742539   \n",
       "11051      849880         PIS CONTRACTING LTD       09642072   \n",
       "\n",
       "      RegAddress.CareOf RegAddress.POBox RegAddress.AddressLine1  \\\n",
       "11050               NaN              NaN       209 CRANMER COURT   \n",
       "11051               NaN              NaN          BRANSTON COURT   \n",
       "\n",
       "       RegAddress.AddressLine2 RegAddress.PostTown RegAddress.County  \\\n",
       "11050         WHITEHEADS GROVE              LONDON               NaN   \n",
       "11051          BRANSTON STREET          BIRMINGHAM               NaN   \n",
       "\n",
       "      RegAddress.Country      ...      PreviousName_7.CONDATE  \\\n",
       "11050                NaN      ...                         NaN   \n",
       "11051     UNITED KINGDOM      ...                         NaN   \n",
       "\n",
       "       PreviousName_7.CompanyName PreviousName_8.CONDATE  \\\n",
       "11050                         NaN                    NaN   \n",
       "11051                         NaN                    NaN   \n",
       "\n",
       "       PreviousName_8.CompanyName  PreviousName_9.CONDATE  \\\n",
       "11050                         NaN                     NaN   \n",
       "11051                         NaN                     NaN   \n",
       "\n",
       "       PreviousName_9.CompanyName  PreviousName_10.CONDATE  \\\n",
       "11050                         NaN                      NaN   \n",
       "11051                         NaN                      NaN   \n",
       "\n",
       "        PreviousName_10.CompanyName                  clean_name has_trademark  \n",
       "11050                           NaN  pirrie design capital ltd.             0  \n",
       "11051                           NaN         pis contracting ltd             0  \n",
       "\n",
       "[2 rows x 56 columns]"
      ]
     },
     "execution_count": 124,
     "metadata": {},
     "output_type": "execute_result"
    }
   ],
   "source": [
    "print df.shape[0]\n",
    "print df[:df.shape[0]-1].shape[0]\n",
    "df[:df.shape[0]-1].tail(2)"
   ]
  },
  {
   "cell_type": "markdown",
   "metadata": {
    "slideshow": {
     "slide_type": "subslide"
    }
   },
   "source": [
    "We can also introduce a step parameter"
   ]
  },
  {
   "cell_type": "code",
   "execution_count": 114,
   "metadata": {
    "collapsed": false,
    "slideshow": {
     "slide_type": "fragment"
    }
   },
   "outputs": [
    {
     "data": {
      "text/html": [
       "<div style=\"max-height:1000px;max-width:1500px;overflow:auto;\">\n",
       "<table border=\"1\" class=\"dataframe\">\n",
       "  <thead>\n",
       "    <tr style=\"text-align: right;\">\n",
       "      <th></th>\n",
       "      <th>Unnamed: 0</th>\n",
       "      <th>CompanyName</th>\n",
       "      <th>CompanyNumber</th>\n",
       "      <th>RegAddress.CareOf</th>\n",
       "      <th>RegAddress.POBox</th>\n",
       "      <th>RegAddress.AddressLine1</th>\n",
       "      <th>RegAddress.AddressLine2</th>\n",
       "      <th>RegAddress.PostTown</th>\n",
       "      <th>RegAddress.County</th>\n",
       "      <th>RegAddress.Country</th>\n",
       "      <th>...</th>\n",
       "      <th>PreviousName_7.CONDATE</th>\n",
       "      <th>PreviousName_7.CompanyName</th>\n",
       "      <th>PreviousName_8.CONDATE</th>\n",
       "      <th>PreviousName_8.CompanyName</th>\n",
       "      <th>PreviousName_9.CONDATE</th>\n",
       "      <th>PreviousName_9.CompanyName</th>\n",
       "      <th>PreviousName_10.CONDATE</th>\n",
       "      <th>PreviousName_10.CompanyName</th>\n",
       "      <th>clean_name</th>\n",
       "      <th>has_trademark</th>\n",
       "    </tr>\n",
       "  </thead>\n",
       "  <tbody>\n",
       "    <tr>\n",
       "      <th>0</th>\n",
       "      <td>50</td>\n",
       "      <td>J.C.B. EQUIPMENT LIMITED</td>\n",
       "      <td>01000710</td>\n",
       "      <td>NaN</td>\n",
       "      <td>NaN</td>\n",
       "      <td>LAKESIDE WORKS</td>\n",
       "      <td>ROCESTER</td>\n",
       "      <td>STAFFS</td>\n",
       "      <td>NaN</td>\n",
       "      <td>NaN</td>\n",
       "      <td>...</td>\n",
       "      <td>NaN</td>\n",
       "      <td>NaN</td>\n",
       "      <td>NaN</td>\n",
       "      <td>NaN</td>\n",
       "      <td>NaN</td>\n",
       "      <td>NaN</td>\n",
       "      <td>NaN</td>\n",
       "      <td>NaN</td>\n",
       "      <td>j.c.b. equipment limited</td>\n",
       "      <td>0</td>\n",
       "    </tr>\n",
       "    <tr>\n",
       "      <th>10</th>\n",
       "      <td>722</td>\n",
       "      <td>J.E.K. ASSOCIATES LIMITED</td>\n",
       "      <td>06897464</td>\n",
       "      <td>NaN</td>\n",
       "      <td>NaN</td>\n",
       "      <td>6 TIPPENDELL LANE</td>\n",
       "      <td>CHISWELL GREEN</td>\n",
       "      <td>ST ALBANS</td>\n",
       "      <td>HERTFORDSHIRE</td>\n",
       "      <td>NaN</td>\n",
       "      <td>...</td>\n",
       "      <td>NaN</td>\n",
       "      <td>NaN</td>\n",
       "      <td>NaN</td>\n",
       "      <td>NaN</td>\n",
       "      <td>NaN</td>\n",
       "      <td>NaN</td>\n",
       "      <td>NaN</td>\n",
       "      <td>NaN</td>\n",
       "      <td>j.e.k. associates limited</td>\n",
       "      <td>0</td>\n",
       "    </tr>\n",
       "  </tbody>\n",
       "</table>\n",
       "<p>2 rows × 56 columns</p>\n",
       "</div>"
      ],
      "text/plain": [
       "    Unnamed: 0                CompanyName  CompanyNumber RegAddress.CareOf  \\\n",
       "0           50   J.C.B. EQUIPMENT LIMITED       01000710               NaN   \n",
       "10         722  J.E.K. ASSOCIATES LIMITED       06897464               NaN   \n",
       "\n",
       "   RegAddress.POBox RegAddress.AddressLine1  RegAddress.AddressLine2  \\\n",
       "0               NaN          LAKESIDE WORKS                 ROCESTER   \n",
       "10              NaN       6 TIPPENDELL LANE           CHISWELL GREEN   \n",
       "\n",
       "   RegAddress.PostTown RegAddress.County RegAddress.Country      ...       \\\n",
       "0               STAFFS               NaN                NaN      ...        \n",
       "10           ST ALBANS     HERTFORDSHIRE                NaN      ...        \n",
       "\n",
       "   PreviousName_7.CONDATE  PreviousName_7.CompanyName PreviousName_8.CONDATE  \\\n",
       "0                     NaN                         NaN                    NaN   \n",
       "10                    NaN                         NaN                    NaN   \n",
       "\n",
       "    PreviousName_8.CompanyName  PreviousName_9.CONDATE  \\\n",
       "0                          NaN                     NaN   \n",
       "10                         NaN                     NaN   \n",
       "\n",
       "    PreviousName_9.CompanyName  PreviousName_10.CONDATE  \\\n",
       "0                          NaN                      NaN   \n",
       "10                         NaN                      NaN   \n",
       "\n",
       "     PreviousName_10.CompanyName                 clean_name has_trademark  \n",
       "0                            NaN   j.c.b. equipment limited             0  \n",
       "10                           NaN  j.e.k. associates limited             0  \n",
       "\n",
       "[2 rows x 56 columns]"
      ]
     },
     "execution_count": 114,
     "metadata": {},
     "output_type": "execute_result"
    }
   ],
   "source": [
    "df[:20:10]"
   ]
  },
  {
   "cell_type": "markdown",
   "metadata": {
    "slideshow": {
     "slide_type": "fragment"
    }
   },
   "source": [
    "How would we take every third company name of the first 10 companies?\n",
    "\n",
    "ie 3rd, 6th and 9th"
   ]
  },
  {
   "cell_type": "code",
   "execution_count": 121,
   "metadata": {
    "collapsed": false,
    "slideshow": {
     "slide_type": "fragment"
    }
   },
   "outputs": [
    {
     "data": {
      "text/plain": [
       "0                      J.C.B. EQUIPMENT LIMITED\n",
       "1                            J.C.W (NW) LIMITED\n",
       "2                                J.D BARTON LTD\n",
       "3                  J.D. AUTOMOTIVE (LUDLOW) LTD\n",
       "4             J.D. PHILLIPS & DAUGHTERS LIMITED\n",
       "5                            J.D. WYATT LIMITED\n",
       "6              J.D.H. BUSINESS SERVICES LIMITED\n",
       "7                           J.E. PORTER LIMITED\n",
       "8    J.E. STRUTT FARMING (PLANT & HIRE) LIMITED\n",
       "9                      J.E.BALLARD & CO.LIMITED\n",
       "Name: CompanyName, dtype: object"
      ]
     },
     "execution_count": 121,
     "metadata": {},
     "output_type": "execute_result"
    }
   ],
   "source": [
    "df[:10].CompanyName"
   ]
  },
  {
   "cell_type": "code",
   "execution_count": 122,
   "metadata": {
    "collapsed": false,
    "slideshow": {
     "slide_type": "fragment"
    }
   },
   "outputs": [
    {
     "data": {
      "text/plain": [
       "2                                J.D BARTON LTD\n",
       "5                            J.D. WYATT LIMITED\n",
       "8    J.E. STRUTT FARMING (PLANT & HIRE) LIMITED\n",
       "Name: CompanyName, dtype: object"
      ]
     },
     "execution_count": 122,
     "metadata": {},
     "output_type": "execute_result"
    }
   ],
   "source": [
    "df[2:10:3].CompanyName"
   ]
  },
  {
   "cell_type": "markdown",
   "metadata": {
    "slideshow": {
     "slide_type": "subslide"
    }
   },
   "source": [
    "pandas allows selection by label, position, index and advanced hierarchical indexing.\n",
    "\n",
    "The devil is in the detail, and its easy to get into a mess."
   ]
  },
  {
   "cell_type": "markdown",
   "metadata": {
    "slideshow": {
     "slide_type": "fragment"
    }
   },
   "source": [
    "```df.loc``` is used for selection via the index and can take a label, a list of labels, a slice of lables and a boolean array. The rules governing things like which elements are inclusive/exclusive vary from what you might expect."
   ]
  },
  {
   "cell_type": "code",
   "execution_count": 133,
   "metadata": {
    "collapsed": false,
    "slideshow": {
     "slide_type": "fragment"
    }
   },
   "outputs": [
    {
     "data": {
      "text/plain": [
       "'J.C.B. EQUIPMENT LIMITED'"
      ]
     },
     "execution_count": 133,
     "metadata": {},
     "output_type": "execute_result"
    }
   ],
   "source": [
    "# Take the row with the index label 0 - this is NOT generally the 0th element\n",
    "df.loc[0].CompanyName"
   ]
  },
  {
   "cell_type": "markdown",
   "metadata": {
    "slideshow": {
     "slide_type": "fragment"
    }
   },
   "source": [
    "```.loc``` can also take a list of index labels. How would we take every other element, upto the 10th, starting at the 2nd?"
   ]
  },
  {
   "cell_type": "code",
   "execution_count": 134,
   "metadata": {
    "collapsed": false,
    "slideshow": {
     "slide_type": "fragment"
    }
   },
   "outputs": [
    {
     "data": {
      "text/plain": [
       "1              J.C.W (NW) LIMITED\n",
       "3    J.D. AUTOMOTIVE (LUDLOW) LTD\n",
       "5              J.D. WYATT LIMITED\n",
       "7             J.E. PORTER LIMITED\n",
       "9        J.E.BALLARD & CO.LIMITED\n",
       "Name: CompanyName, dtype: object"
      ]
     },
     "execution_count": 134,
     "metadata": {},
     "output_type": "execute_result"
    }
   ],
   "source": [
    "df.loc[range(1,10,2)].CompanyName"
   ]
  },
  {
   "cell_type": "markdown",
   "metadata": {
    "slideshow": {
     "slide_type": "fragment"
    }
   },
   "source": [
    "```.loc``` can also take a slice object. Both the stop and the start are included. How would we take the first 6 company names?"
   ]
  },
  {
   "cell_type": "code",
   "execution_count": 136,
   "metadata": {
    "collapsed": false,
    "slideshow": {
     "slide_type": "fragment"
    }
   },
   "outputs": [
    {
     "data": {
      "text/plain": [
       "0             J.C.B. EQUIPMENT LIMITED\n",
       "1                   J.C.W (NW) LIMITED\n",
       "2                       J.D BARTON LTD\n",
       "3         J.D. AUTOMOTIVE (LUDLOW) LTD\n",
       "4    J.D. PHILLIPS & DAUGHTERS LIMITED\n",
       "5                   J.D. WYATT LIMITED\n",
       "Name: CompanyName, dtype: object"
      ]
     },
     "execution_count": 136,
     "metadata": {},
     "output_type": "execute_result"
    }
   ],
   "source": [
    "df.loc[0:5].CompanyName"
   ]
  },
  {
   "cell_type": "code",
   "execution_count": 138,
   "metadata": {
    "collapsed": false,
    "slideshow": {
     "slide_type": "fragment"
    }
   },
   "outputs": [
    {
     "data": {
      "text/plain": [
       "0             J.C.B. EQUIPMENT LIMITED\n",
       "1                   J.C.W (NW) LIMITED\n",
       "2                       J.D BARTON LTD\n",
       "3         J.D. AUTOMOTIVE (LUDLOW) LTD\n",
       "4    J.D. PHILLIPS & DAUGHTERS LIMITED\n",
       "Name: CompanyName, dtype: object"
      ]
     },
     "execution_count": 138,
     "metadata": {},
     "output_type": "execute_result"
    }
   ],
   "source": [
    "# Compare this to\n",
    "df[0:5].CompanyName"
   ]
  },
  {
   "cell_type": "markdown",
   "metadata": {
    "slideshow": {
     "slide_type": "subslide"
    }
   },
   "source": [
    "We can also pass in boolean arrays."
   ]
  },
  {
   "cell_type": "code",
   "execution_count": 141,
   "metadata": {
    "collapsed": false,
    "slideshow": {
     "slide_type": "fragment"
    }
   },
   "outputs": [
    {
     "data": {
      "text/plain": [
       "0    J.C.B. EQUIPMENT LIMITED\n",
       "2              J.D BARTON LTD\n",
       "Name: CompanyName, dtype: object"
      ]
     },
     "execution_count": 141,
     "metadata": {},
     "output_type": "execute_result"
    }
   ],
   "source": [
    "df.loc[[True, False, True]].CompanyName"
   ]
  },
  {
   "cell_type": "markdown",
   "metadata": {
    "slideshow": {
     "slide_type": "subslide"
    }
   },
   "source": [
    "We'll look at Boolean arrays in more detail later when we talk about Masks. For now, its worth pointing out that you can also pass in column labels to ```.loc```."
   ]
  },
  {
   "cell_type": "code",
   "execution_count": 143,
   "metadata": {
    "collapsed": false,
    "slideshow": {
     "slide_type": "fragment"
    }
   },
   "outputs": [
    {
     "data": {
      "text/html": [
       "<div style=\"max-height:1000px;max-width:1500px;overflow:auto;\">\n",
       "<table border=\"1\" class=\"dataframe\">\n",
       "  <thead>\n",
       "    <tr style=\"text-align: right;\">\n",
       "      <th></th>\n",
       "      <th>CompanyName</th>\n",
       "      <th>IncorporationDate</th>\n",
       "    </tr>\n",
       "  </thead>\n",
       "  <tbody>\n",
       "    <tr>\n",
       "      <th>0</th>\n",
       "      <td>J.C.B. EQUIPMENT LIMITED</td>\n",
       "      <td>1971-01-25</td>\n",
       "    </tr>\n",
       "    <tr>\n",
       "      <th>1</th>\n",
       "      <td>J.C.W (NW) LIMITED</td>\n",
       "      <td>2014-07-05</td>\n",
       "    </tr>\n",
       "    <tr>\n",
       "      <th>2</th>\n",
       "      <td>J.D BARTON LTD</td>\n",
       "      <td>2014-12-05</td>\n",
       "    </tr>\n",
       "    <tr>\n",
       "      <th>3</th>\n",
       "      <td>J.D. AUTOMOTIVE (LUDLOW) LTD</td>\n",
       "      <td>2003-06-20</td>\n",
       "    </tr>\n",
       "    <tr>\n",
       "      <th>4</th>\n",
       "      <td>J.D. PHILLIPS &amp; DAUGHTERS LIMITED</td>\n",
       "      <td>2003-10-30</td>\n",
       "    </tr>\n",
       "    <tr>\n",
       "      <th>5</th>\n",
       "      <td>J.D. WYATT LIMITED</td>\n",
       "      <td>2003-04-29</td>\n",
       "    </tr>\n",
       "  </tbody>\n",
       "</table>\n",
       "</div>"
      ],
      "text/plain": [
       "                         CompanyName IncorporationDate\n",
       "0           J.C.B. EQUIPMENT LIMITED        1971-01-25\n",
       "1                 J.C.W (NW) LIMITED        2014-07-05\n",
       "2                     J.D BARTON LTD        2014-12-05\n",
       "3       J.D. AUTOMOTIVE (LUDLOW) LTD        2003-06-20\n",
       "4  J.D. PHILLIPS & DAUGHTERS LIMITED        2003-10-30\n",
       "5                 J.D. WYATT LIMITED        2003-04-29"
      ]
     },
     "execution_count": 143,
     "metadata": {},
     "output_type": "execute_result"
    }
   ],
   "source": [
    "df.loc[0:5, ['CompanyName', 'IncorporationDate']]"
   ]
  },
  {
   "cell_type": "markdown",
   "metadata": {
    "slideshow": {
     "slide_type": "subslide"
    }
   },
   "source": [
    "```.iloc``` allows selection by position. Most of this is pretty intuitive."
   ]
  },
  {
   "cell_type": "code",
   "execution_count": 162,
   "metadata": {
    "collapsed": false,
    "slideshow": {
     "slide_type": "fragment"
    }
   },
   "outputs": [
    {
     "data": {
      "text/plain": [
       "'J.C.B. EQUIPMENT LIMITED'"
      ]
     },
     "execution_count": 162,
     "metadata": {},
     "output_type": "execute_result"
    }
   ],
   "source": [
    "df.iloc[0, 0]"
   ]
  },
  {
   "cell_type": "code",
   "execution_count": 164,
   "metadata": {
    "collapsed": false,
    "slideshow": {
     "slide_type": "fragment"
    }
   },
   "outputs": [
    {
     "data": {
      "text/html": [
       "<div style=\"max-height:1000px;max-width:1500px;overflow:auto;\">\n",
       "<table border=\"1\" class=\"dataframe\">\n",
       "  <thead>\n",
       "    <tr style=\"text-align: right;\">\n",
       "      <th></th>\n",
       "      <th>CompanyName</th>\n",
       "      <th>CompanyNumber</th>\n",
       "    </tr>\n",
       "  </thead>\n",
       "  <tbody>\n",
       "    <tr>\n",
       "      <th>0</th>\n",
       "      <td>J.C.B. EQUIPMENT LIMITED</td>\n",
       "      <td>01000710</td>\n",
       "    </tr>\n",
       "    <tr>\n",
       "      <th>1</th>\n",
       "      <td>J.C.W (NW) LIMITED</td>\n",
       "      <td>09028601</td>\n",
       "    </tr>\n",
       "    <tr>\n",
       "      <th>2</th>\n",
       "      <td>J.D BARTON LTD</td>\n",
       "      <td>09035149</td>\n",
       "    </tr>\n",
       "    <tr>\n",
       "      <th>3</th>\n",
       "      <td>J.D. AUTOMOTIVE (LUDLOW) LTD</td>\n",
       "      <td>04806642</td>\n",
       "    </tr>\n",
       "    <tr>\n",
       "      <th>4</th>\n",
       "      <td>J.D. PHILLIPS &amp; DAUGHTERS LIMITED</td>\n",
       "      <td>04947680</td>\n",
       "    </tr>\n",
       "  </tbody>\n",
       "</table>\n",
       "</div>"
      ],
      "text/plain": [
       "                         CompanyName  CompanyNumber\n",
       "0           J.C.B. EQUIPMENT LIMITED       01000710\n",
       "1                 J.C.W (NW) LIMITED       09028601\n",
       "2                     J.D BARTON LTD       09035149\n",
       "3       J.D. AUTOMOTIVE (LUDLOW) LTD       04806642\n",
       "4  J.D. PHILLIPS & DAUGHTERS LIMITED       04947680"
      ]
     },
     "execution_count": 164,
     "metadata": {},
     "output_type": "execute_result"
    }
   ],
   "source": [
    "df.iloc[:5, [0,1]]"
   ]
  },
  {
   "cell_type": "code",
   "execution_count": 167,
   "metadata": {
    "collapsed": false,
    "slideshow": {
     "slide_type": "fragment"
    }
   },
   "outputs": [
    {
     "data": {
      "text/html": [
       "<div style=\"max-height:1000px;max-width:1500px;overflow:auto;\">\n",
       "<table border=\"1\" class=\"dataframe\">\n",
       "  <thead>\n",
       "    <tr style=\"text-align: right;\">\n",
       "      <th></th>\n",
       "      <th>CompanyName</th>\n",
       "      <th>CompanyNumber</th>\n",
       "      <th>RegAddress.CareOf</th>\n",
       "      <th>RegAddress.POBox</th>\n",
       "      <th>RegAddress.AddressLine1</th>\n",
       "    </tr>\n",
       "  </thead>\n",
       "  <tbody>\n",
       "    <tr>\n",
       "      <th>0</th>\n",
       "      <td>J.C.B. EQUIPMENT LIMITED</td>\n",
       "      <td>01000710</td>\n",
       "      <td>NaN</td>\n",
       "      <td>NaN</td>\n",
       "      <td>LAKESIDE WORKS</td>\n",
       "    </tr>\n",
       "    <tr>\n",
       "      <th>1</th>\n",
       "      <td>J.C.W (NW) LIMITED</td>\n",
       "      <td>09028601</td>\n",
       "      <td>NaN</td>\n",
       "      <td>NaN</td>\n",
       "      <td>144 THATTO HEATH ROAD</td>\n",
       "    </tr>\n",
       "    <tr>\n",
       "      <th>2</th>\n",
       "      <td>J.D BARTON LTD</td>\n",
       "      <td>09035149</td>\n",
       "      <td>NaN</td>\n",
       "      <td>NaN</td>\n",
       "      <td>38 HUNTER CLOSE</td>\n",
       "    </tr>\n",
       "    <tr>\n",
       "      <th>3</th>\n",
       "      <td>J.D. AUTOMOTIVE (LUDLOW) LTD</td>\n",
       "      <td>04806642</td>\n",
       "      <td>NaN</td>\n",
       "      <td>NaN</td>\n",
       "      <td>SMITHFIELD CAR PARK</td>\n",
       "    </tr>\n",
       "    <tr>\n",
       "      <th>4</th>\n",
       "      <td>J.D. PHILLIPS &amp; DAUGHTERS LIMITED</td>\n",
       "      <td>04947680</td>\n",
       "      <td>NaN</td>\n",
       "      <td>NaN</td>\n",
       "      <td>LLANDISILIO STORES &amp; POST OFFICE</td>\n",
       "    </tr>\n",
       "  </tbody>\n",
       "</table>\n",
       "</div>"
      ],
      "text/plain": [
       "                         CompanyName  CompanyNumber RegAddress.CareOf  \\\n",
       "0           J.C.B. EQUIPMENT LIMITED       01000710               NaN   \n",
       "1                 J.C.W (NW) LIMITED       09028601               NaN   \n",
       "2                     J.D BARTON LTD       09035149               NaN   \n",
       "3       J.D. AUTOMOTIVE (LUDLOW) LTD       04806642               NaN   \n",
       "4  J.D. PHILLIPS & DAUGHTERS LIMITED       04947680               NaN   \n",
       "\n",
       "  RegAddress.POBox           RegAddress.AddressLine1  \n",
       "0              NaN                    LAKESIDE WORKS  \n",
       "1              NaN             144 THATTO HEATH ROAD  \n",
       "2              NaN                   38 HUNTER CLOSE  \n",
       "3              NaN               SMITHFIELD CAR PARK  \n",
       "4              NaN  LLANDISILIO STORES & POST OFFICE  "
      ]
     },
     "execution_count": 167,
     "metadata": {},
     "output_type": "execute_result"
    }
   ],
   "source": [
    "df.iloc[:, 0:5].head()"
   ]
  },
  {
   "cell_type": "code",
   "execution_count": 169,
   "metadata": {
    "collapsed": false,
    "slideshow": {
     "slide_type": "fragment"
    }
   },
   "outputs": [
    {
     "data": {
      "text/plain": [
       "11053"
      ]
     },
     "execution_count": 169,
     "metadata": {},
     "output_type": "execute_result"
    }
   ],
   "source": [
    "# Pandas is fairly forgiving in terms of accessing out or ranges slices.\n",
    "df.shape[0]"
   ]
  },
  {
   "cell_type": "code",
   "execution_count": 171,
   "metadata": {
    "collapsed": false,
    "slideshow": {
     "slide_type": "fragment"
    }
   },
   "outputs": [
    {
     "data": {
      "text/plain": [
       "11048    PIRI FINO FRANCHISE LIMITED\n",
       "11049                   PIRNIE FARMS\n",
       "11050     PIRRIE DESIGN CAPITAL LTD.\n",
       "11051            PIS CONTRACTING LTD\n",
       "11052        PISGAH PARTNERS LIMITED\n",
       "Name: CompanyName, dtype: object"
      ]
     },
     "execution_count": 171,
     "metadata": {},
     "output_type": "execute_result"
    }
   ],
   "source": [
    "df['CompanyName'].tail(5)"
   ]
  },
  {
   "cell_type": "code",
   "execution_count": 170,
   "metadata": {
    "collapsed": false,
    "slideshow": {
     "slide_type": "fragment"
    }
   },
   "outputs": [
    {
     "data": {
      "text/plain": [
       "11049                  PIRNIE FARMS\n",
       "11050    PIRRIE DESIGN CAPITAL LTD.\n",
       "11051           PIS CONTRACTING LTD\n",
       "11052       PISGAH PARTNERS LIMITED\n",
       "Name: CompanyName, dtype: object"
      ]
     },
     "execution_count": 170,
     "metadata": {},
     "output_type": "execute_result"
    }
   ],
   "source": [
    "df.iloc[df.shape[0]-4:df.shape[0]+4:, 0]"
   ]
  },
  {
   "cell_type": "markdown",
   "metadata": {
    "slideshow": {
     "slide_type": "subslide"
    }
   },
   "source": [
    "Finally ```.ix``` is more general and allows inputs that both ```.iloc``` and ```.loc``` would expect. It comes into its own when dealing with hierarchical indees that are of mixed types (ie positional and pure label based).\n",
    "\n",
    "I tend to stick to ```.loc``` and avoid hierarchical indexes."
   ]
  },
  {
   "cell_type": "markdown",
   "metadata": {
    "slideshow": {
     "slide_type": "subslide"
    }
   },
   "source": [
    "One other function that is worth mentioning is ```.sample()```."
   ]
  },
  {
   "cell_type": "code",
   "execution_count": 172,
   "metadata": {
    "collapsed": false,
    "slideshow": {
     "slide_type": "fragment"
    }
   },
   "outputs": [
    {
     "data": {
      "text/plain": [
       "10648                          PERSPECTIVE TRADING LIMITED\n",
       "1889     KINGSTON BUSINESS DEVELOPMENT SERVICES (U.K.) ...\n",
       "4138                            LV POWER SOLUTIONS LIMITED\n",
       "963                           JS INVESTMENT MANAGEMENT LTD\n",
       "3835                            LONDON WINGS CORPORATE LTD\n",
       "10158                              PATCH SOLUTIONS LIMITED\n",
       "1482                        KEBLE COURT (STAMFORD) LIMITED\n",
       "824                            JOINT VENTURE CONTRACTS LTD\n",
       "9843                    PALLADIUM CLOTHING COMPANY LIMITED\n",
       "9500                           OVERLOAD MANAGEMENT LIMITED\n",
       "Name: CompanyName, dtype: object"
      ]
     },
     "execution_count": 172,
     "metadata": {},
     "output_type": "execute_result"
    }
   ],
   "source": [
    "df['CompanyName'].sample(n=10, replace=False, weights=np.random.rand(df.shape[0]))"
   ]
  },
  {
   "cell_type": "markdown",
   "metadata": {
    "slideshow": {
     "slide_type": "fragment"
    }
   },
   "source": [
    "How would we generate a sample, favouring those that have mortgages?"
   ]
  },
  {
   "cell_type": "code",
   "execution_count": 173,
   "metadata": {
    "collapsed": false,
    "slideshow": {
     "slide_type": "fragment"
    }
   },
   "outputs": [
    {
     "data": {
      "text/html": [
       "<div style=\"max-height:1000px;max-width:1500px;overflow:auto;\">\n",
       "<table border=\"1\" class=\"dataframe\">\n",
       "  <thead>\n",
       "    <tr style=\"text-align: right;\">\n",
       "      <th></th>\n",
       "      <th>CompanyName</th>\n",
       "      <th>Mortgages.NumMortCharges</th>\n",
       "    </tr>\n",
       "  </thead>\n",
       "  <tbody>\n",
       "    <tr>\n",
       "      <th>7188</th>\n",
       "      <td>MULTIGRAPHICS LIMITED</td>\n",
       "      <td>15</td>\n",
       "    </tr>\n",
       "    <tr>\n",
       "      <th>5173</th>\n",
       "      <td>MARTON COUNTRY CLUB LIMITED</td>\n",
       "      <td>7</td>\n",
       "    </tr>\n",
       "    <tr>\n",
       "      <th>6890</th>\n",
       "      <td>MORTLAKE UNDERWRITING LIMITED</td>\n",
       "      <td>128</td>\n",
       "    </tr>\n",
       "    <tr>\n",
       "      <th>7531</th>\n",
       "      <td>NAMECO (NO.804) LIMITED</td>\n",
       "      <td>70</td>\n",
       "    </tr>\n",
       "    <tr>\n",
       "      <th>4952</th>\n",
       "      <td>MAREHAY GARAGE LIMITED</td>\n",
       "      <td>2</td>\n",
       "    </tr>\n",
       "    <tr>\n",
       "      <th>2199</th>\n",
       "      <td>KRNS PROPERTIES LTD</td>\n",
       "      <td>10</td>\n",
       "    </tr>\n",
       "    <tr>\n",
       "      <th>5947</th>\n",
       "      <td>METNOR PROPERTY GROUP LIMITED</td>\n",
       "      <td>10</td>\n",
       "    </tr>\n",
       "    <tr>\n",
       "      <th>810</th>\n",
       "      <td>JOHNSTON BERRY LTD</td>\n",
       "      <td>33</td>\n",
       "    </tr>\n",
       "    <tr>\n",
       "      <th>1439</th>\n",
       "      <td>KBC PUBLIC RELATIONS &amp; MARKETING LTD.</td>\n",
       "      <td>4</td>\n",
       "    </tr>\n",
       "    <tr>\n",
       "      <th>4016</th>\n",
       "      <td>LS CLAYTON SQUARE LIMITED</td>\n",
       "      <td>11</td>\n",
       "    </tr>\n",
       "  </tbody>\n",
       "</table>\n",
       "</div>"
      ],
      "text/plain": [
       "                                CompanyName  Mortgages.NumMortCharges\n",
       "7188                  MULTIGRAPHICS LIMITED                        15\n",
       "5173            MARTON COUNTRY CLUB LIMITED                         7\n",
       "6890          MORTLAKE UNDERWRITING LIMITED                       128\n",
       "7531                NAMECO (NO.804) LIMITED                        70\n",
       "4952                 MAREHAY GARAGE LIMITED                         2\n",
       "2199                    KRNS PROPERTIES LTD                        10\n",
       "5947          METNOR PROPERTY GROUP LIMITED                        10\n",
       "810                      JOHNSTON BERRY LTD                        33\n",
       "1439  KBC PUBLIC RELATIONS & MARKETING LTD.                         4\n",
       "4016              LS CLAYTON SQUARE LIMITED                        11"
      ]
     },
     "execution_count": 173,
     "metadata": {},
     "output_type": "execute_result"
    }
   ],
   "source": [
    "df[['CompanyName', 'Mortgages.NumMortCharges']].sample(n=10, \n",
    "                                                       weights=df['Mortgages.NumMortCharges'])"
   ]
  },
  {
   "cell_type": "markdown",
   "metadata": {
    "slideshow": {
     "slide_type": "subslide"
    }
   },
   "source": [
    "pandas also allows for boolean masking."
   ]
  },
  {
   "cell_type": "code",
   "execution_count": 189,
   "metadata": {
    "collapsed": false,
    "slideshow": {
     "slide_type": "fragment"
    }
   },
   "outputs": [
    {
     "data": {
      "text/html": [
       "<div style=\"max-height:1000px;max-width:1500px;overflow:auto;\">\n",
       "<table border=\"1\" class=\"dataframe\">\n",
       "  <thead>\n",
       "    <tr style=\"text-align: right;\">\n",
       "      <th></th>\n",
       "      <th>CompanyName</th>\n",
       "      <th>Mortgages.NumMortCharges</th>\n",
       "    </tr>\n",
       "  </thead>\n",
       "  <tbody>\n",
       "    <tr>\n",
       "      <th>7</th>\n",
       "      <td>J.E. PORTER LIMITED</td>\n",
       "      <td>10</td>\n",
       "    </tr>\n",
       "    <tr>\n",
       "      <th>484</th>\n",
       "      <td>JEVENOR LIMITED</td>\n",
       "      <td>10</td>\n",
       "    </tr>\n",
       "    <tr>\n",
       "      <th>2199</th>\n",
       "      <td>KRNS PROPERTIES LTD</td>\n",
       "      <td>10</td>\n",
       "    </tr>\n",
       "    <tr>\n",
       "      <th>2569</th>\n",
       "      <td>LANDER AUTOMOTIVE LTD.</td>\n",
       "      <td>10</td>\n",
       "    </tr>\n",
       "    <tr>\n",
       "      <th>3348</th>\n",
       "      <td>LINETEX INVESTMENTS LIMITED</td>\n",
       "      <td>10</td>\n",
       "    </tr>\n",
       "  </tbody>\n",
       "</table>\n",
       "</div>"
      ],
      "text/plain": [
       "                      CompanyName  Mortgages.NumMortCharges\n",
       "7             J.E. PORTER LIMITED                        10\n",
       "484               JEVENOR LIMITED                        10\n",
       "2199          KRNS PROPERTIES LTD                        10\n",
       "2569       LANDER AUTOMOTIVE LTD.                        10\n",
       "3348  LINETEX INVESTMENTS LIMITED                        10"
      ]
     },
     "execution_count": 189,
     "metadata": {},
     "output_type": "execute_result"
    }
   ],
   "source": [
    "df[df['Mortgages.NumMortCharges'] == 10][['CompanyName', 'Mortgages.NumMortCharges']].head()"
   ]
  },
  {
   "cell_type": "markdown",
   "metadata": {
    "slideshow": {
     "slide_type": "fragment"
    }
   },
   "source": [
    "Find the earlist incorporation date of a company incorporated this year."
   ]
  },
  {
   "cell_type": "code",
   "execution_count": 191,
   "metadata": {
    "collapsed": false,
    "slideshow": {
     "slide_type": "fragment"
    }
   },
   "outputs": [
    {
     "data": {
      "text/plain": [
       "'2015-01-04'"
      ]
     },
     "execution_count": 191,
     "metadata": {},
     "output_type": "execute_result"
    }
   ],
   "source": [
    "df[df['IncorporationDate'] > '2015-01-01']['IncorporationDate'].min()"
   ]
  },
  {
   "cell_type": "markdown",
   "metadata": {
    "slideshow": {
     "slide_type": "fragment"
    }
   },
   "source": [
    "Find the average number of mortgage charges for companies orginating outside the United Kingdom (use CountryOfOrigin and 'United Kingdom')."
   ]
  },
  {
   "cell_type": "code",
   "execution_count": 195,
   "metadata": {
    "collapsed": false,
    "slideshow": {
     "slide_type": "fragment"
    }
   },
   "outputs": [
    {
     "data": {
      "text/plain": [
       "0.080000000000000002"
      ]
     },
     "execution_count": 195,
     "metadata": {},
     "output_type": "execute_result"
    }
   ],
   "source": [
    "df[df.CountryOfOrigin != 'United Kingdom']['Mortgages.NumMortCharges'].mean()"
   ]
  },
  {
   "cell_type": "markdown",
   "metadata": {
    "slideshow": {
     "slide_type": "fragment"
    }
   },
   "source": [
    "You can also use ```.isin()``` to build a boolean mask over a list (or similar) and combine masks.\n",
    "\n",
    "How would you find the set of companies that are either 'Private Limited Company' or 'Public Limited Company' and were incorporated in 2014?"
   ]
  },
  {
   "cell_type": "code",
   "execution_count": 204,
   "metadata": {
    "collapsed": false,
    "slideshow": {
     "slide_type": "fragment"
    }
   },
   "outputs": [
    {
     "data": {
      "text/html": [
       "<div style=\"max-height:1000px;max-width:1500px;overflow:auto;\">\n",
       "<table border=\"1\" class=\"dataframe\">\n",
       "  <thead>\n",
       "    <tr style=\"text-align: right;\">\n",
       "      <th></th>\n",
       "      <th>CompanyName</th>\n",
       "      <th>IncorporationDate</th>\n",
       "      <th>CompanyCategory</th>\n",
       "    </tr>\n",
       "  </thead>\n",
       "  <tbody>\n",
       "    <tr>\n",
       "      <th>4775</th>\n",
       "      <td>MANCHURIA SECURITIES LIMITED</td>\n",
       "      <td>2014-11-12</td>\n",
       "      <td>Private Limited Company</td>\n",
       "    </tr>\n",
       "    <tr>\n",
       "      <th>10706</th>\n",
       "      <td>PETERANNA LTD</td>\n",
       "      <td>2014-09-16</td>\n",
       "      <td>Private Limited Company</td>\n",
       "    </tr>\n",
       "    <tr>\n",
       "      <th>2263</th>\n",
       "      <td>KUNSHAN SUHONG MOULD &amp; PLASTICS CO., LTD</td>\n",
       "      <td>2014-04-29</td>\n",
       "      <td>Private Limited Company</td>\n",
       "    </tr>\n",
       "    <tr>\n",
       "      <th>5273</th>\n",
       "      <td>MATT MURDOCK LIMITED</td>\n",
       "      <td>2014-08-28</td>\n",
       "      <td>Private Limited Company</td>\n",
       "    </tr>\n",
       "    <tr>\n",
       "      <th>8686</th>\n",
       "      <td>NUTRAVIT UK LIMITED</td>\n",
       "      <td>2014-05-20</td>\n",
       "      <td>Private Limited Company</td>\n",
       "    </tr>\n",
       "    <tr>\n",
       "      <th>2</th>\n",
       "      <td>J.D BARTON LTD</td>\n",
       "      <td>2014-12-05</td>\n",
       "      <td>Private Limited Company</td>\n",
       "    </tr>\n",
       "    <tr>\n",
       "      <th>7857</th>\n",
       "      <td>NEW BANKHEAD LIMITED</td>\n",
       "      <td>2014-07-16</td>\n",
       "      <td>Private Limited Company</td>\n",
       "    </tr>\n",
       "    <tr>\n",
       "      <th>7086</th>\n",
       "      <td>MS TRADING LTD</td>\n",
       "      <td>2014-11-04</td>\n",
       "      <td>Private Limited Company</td>\n",
       "    </tr>\n",
       "    <tr>\n",
       "      <th>371</th>\n",
       "      <td>JD TRANSPORT LTD</td>\n",
       "      <td>2014-07-14</td>\n",
       "      <td>Private Limited Company</td>\n",
       "    </tr>\n",
       "    <tr>\n",
       "      <th>6133</th>\n",
       "      <td>MIDASUK LTD</td>\n",
       "      <td>2014-07-24</td>\n",
       "      <td>Private Limited Company</td>\n",
       "    </tr>\n",
       "  </tbody>\n",
       "</table>\n",
       "</div>"
      ],
      "text/plain": [
       "                                    CompanyName IncorporationDate  \\\n",
       "4775               MANCHURIA SECURITIES LIMITED        2014-11-12   \n",
       "10706                             PETERANNA LTD        2014-09-16   \n",
       "2263   KUNSHAN SUHONG MOULD & PLASTICS CO., LTD        2014-04-29   \n",
       "5273                       MATT MURDOCK LIMITED        2014-08-28   \n",
       "8686                        NUTRAVIT UK LIMITED        2014-05-20   \n",
       "2                                J.D BARTON LTD        2014-12-05   \n",
       "7857                       NEW BANKHEAD LIMITED        2014-07-16   \n",
       "7086                             MS TRADING LTD        2014-11-04   \n",
       "371                            JD TRANSPORT LTD        2014-07-14   \n",
       "6133                                MIDASUK LTD        2014-07-24   \n",
       "\n",
       "               CompanyCategory  \n",
       "4775   Private Limited Company  \n",
       "10706  Private Limited Company  \n",
       "2263   Private Limited Company  \n",
       "5273   Private Limited Company  \n",
       "8686   Private Limited Company  \n",
       "2      Private Limited Company  \n",
       "7857   Private Limited Company  \n",
       "7086   Private Limited Company  \n",
       "371    Private Limited Company  \n",
       "6133   Private Limited Company  "
      ]
     },
     "execution_count": 204,
     "metadata": {},
     "output_type": "execute_result"
    }
   ],
   "source": [
    "types = ['Private Limited Company', 'Public Limited Company']\n",
    "cols = ['CompanyName', 'IncorporationDate', 'CompanyCategory']\n",
    "\n",
    "df[(df.IncorporationDate > '2013-12-31') & \n",
    "   (df.IncorporationDate < '2015-01-01') & \n",
    "   (df.CompanyCategory.isin(types))][cols].sample(10)"
   ]
  },
  {
   "cell_type": "markdown",
   "metadata": {
    "slideshow": {
     "slide_type": "fragment"
    }
   },
   "source": [
    "We can also negate conditions using ```~```.\n",
    "\n",
    "How would you find the set of countries that companies originate from other than the United Kingdom?\n",
    "\n",
    "You can use ```unique()``` to return unique values from a column."
   ]
  },
  {
   "cell_type": "code",
   "execution_count": 207,
   "metadata": {
    "collapsed": false,
    "slideshow": {
     "slide_type": "fragment"
    }
   },
   "outputs": [
    {
     "data": {
      "text/plain": [
       "array(['IRELAND', 'CHANNEL ISLANDS', 'VIRGIN ISLANDS', 'FRANCE',\n",
       "       'NETHERLANDS', 'GERMANY', 'ISLE OF MAN', 'WEST GERMANY', 'HUNGARY',\n",
       "       'SPAIN', 'UNITED STATES', 'CAYMAN ISLANDS', 'NIGERIA', 'INDIA',\n",
       "       'CANADA', 'SINGAPORE', 'DENMARK'], dtype=object)"
      ]
     },
     "execution_count": 207,
     "metadata": {},
     "output_type": "execute_result"
    }
   ],
   "source": [
    "df[~df.CountryOfOrigin.isin(['United Kingdom'])].CountryOfOrigin.unique()"
   ]
  },
  {
   "cell_type": "markdown",
   "metadata": {
    "slideshow": {
     "slide_type": "subslide"
    }
   },
   "source": [
    "As a quick aside, we can use these masks to inspect particular rows, such as those that we know might contain non-ASCII characters."
   ]
  },
  {
   "cell_type": "code",
   "execution_count": 217,
   "metadata": {
    "collapsed": false,
    "slideshow": {
     "slide_type": "fragment"
    }
   },
   "outputs": [
    {
     "data": {
      "text/plain": [
       "7783    NESTLÉ WATERS UK LIMITED\n",
       "Name: CompanyName, dtype: object"
      ]
     },
     "execution_count": 217,
     "metadata": {},
     "output_type": "execute_result"
    }
   ],
   "source": [
    "df[df[' CompanyNumber'] == '02334804']['CompanyName']"
   ]
  },
  {
   "cell_type": "markdown",
   "metadata": {
    "slideshow": {
     "slide_type": "subslide"
    }
   },
   "source": [
    "### Working with strings\n",
    "\n",
    "pandas has a set of methods for processing strings. These are accessible using the ```str``` attribute and should be familiar from standard Python."
   ]
  },
  {
   "cell_type": "code",
   "execution_count": 209,
   "metadata": {
    "collapsed": false,
    "slideshow": {
     "slide_type": "fragment"
    }
   },
   "outputs": [
    {
     "data": {
      "text/plain": [
       "count    11053.000000\n",
       "mean        24.312766\n",
       "std          8.380376\n",
       "min          4.000000\n",
       "25%         18.000000\n",
       "50%         23.000000\n",
       "75%         29.000000\n",
       "max         76.000000\n",
       "Name: CompanyName, dtype: float64"
      ]
     },
     "execution_count": 209,
     "metadata": {},
     "output_type": "execute_result"
    }
   ],
   "source": [
    "df.CompanyName.str.len().describe()"
   ]
  },
  {
   "cell_type": "markdown",
   "metadata": {
    "slideshow": {
     "slide_type": "fragment"
    }
   },
   "source": [
    "Lets look at our column names again:"
   ]
  },
  {
   "cell_type": "code",
   "execution_count": 208,
   "metadata": {
    "collapsed": false,
    "slideshow": {
     "slide_type": "fragment"
    }
   },
   "outputs": [
    {
     "data": {
      "text/plain": [
       "Index([u'CompanyName', u' CompanyNumber', u'RegAddress.CareOf',\n",
       "       u'RegAddress.POBox', u'RegAddress.AddressLine1',\n",
       "       u' RegAddress.AddressLine2', u'RegAddress.PostTown',\n",
       "       u'RegAddress.County', u'RegAddress.Country', u'RegAddress.PostCode',\n",
       "       u'CompanyCategory', u'CompanyStatus', u'CountryOfOrigin',\n",
       "       u'DissolutionDate', u'IncorporationDate', u'Accounts.AccountRefDay',\n",
       "       u'Accounts.AccountRefMonth', u'Accounts.NextDueDate',\n",
       "       u'Accounts.LastMadeUpDate', u'Accounts.AccountCategory',\n",
       "       u'Returns.NextDueDate', u'Returns.LastMadeUpDate',\n",
       "       u'Mortgages.NumMortCharges', u'Mortgages.NumMortOutstanding',\n",
       "       u'Mortgages.NumMortPartSatisfied', u'Mortgages.NumMortSatisfied',\n",
       "       u'SICCode.SicText_1', u'SICCode.SicText_2', u'SICCode.SicText_3',\n",
       "       u'SICCode.SicText_4', u'LimitedPartnerships.NumGenPartners',\n",
       "       u'LimitedPartnerships.NumLimPartners', u'URI',\n",
       "       u'PreviousName_1.CONDATE', u' PreviousName_1.CompanyName',\n",
       "       u' PreviousName_2.CONDATE', u' PreviousName_2.CompanyName',\n",
       "       u'PreviousName_3.CONDATE', u' PreviousName_3.CompanyName',\n",
       "       u'PreviousName_4.CONDATE', u' PreviousName_4.CompanyName',\n",
       "       u'PreviousName_5.CONDATE', u' PreviousName_5.CompanyName',\n",
       "       u'PreviousName_6.CONDATE', u' PreviousName_6.CompanyName',\n",
       "       u'PreviousName_7.CONDATE', u' PreviousName_7.CompanyName',\n",
       "       u'PreviousName_8.CONDATE', u' PreviousName_8.CompanyName',\n",
       "       u'PreviousName_9.CONDATE', u' PreviousName_9.CompanyName',\n",
       "       u'PreviousName_10.CONDATE', u' PreviousName_10.CompanyName'],\n",
       "      dtype='object')"
      ]
     },
     "execution_count": 208,
     "metadata": {},
     "output_type": "execute_result"
    }
   ],
   "source": [
    "df.columns"
   ]
  },
  {
   "cell_type": "markdown",
   "metadata": {
    "slideshow": {
     "slide_type": "fragment"
    }
   },
   "source": [
    "How can we deal with that whitespace using the ```strip()``` method?"
   ]
  },
  {
   "cell_type": "code",
   "execution_count": 210,
   "metadata": {
    "collapsed": true,
    "slideshow": {
     "slide_type": "fragment"
    }
   },
   "outputs": [],
   "source": [
    "df.columns = df.columns.str.strip()"
   ]
  },
  {
   "cell_type": "code",
   "execution_count": 215,
   "metadata": {
    "collapsed": false,
    "slideshow": {
     "slide_type": "fragment"
    }
   },
   "outputs": [
    {
     "data": {
      "text/html": [
       "<div style=\"max-height:1000px;max-width:1500px;overflow:auto;\">\n",
       "<table border=\"1\" class=\"dataframe\">\n",
       "  <thead>\n",
       "    <tr style=\"text-align: right;\">\n",
       "      <th></th>\n",
       "      <th>CompanyName</th>\n",
       "      <th>CompanyNumber</th>\n",
       "    </tr>\n",
       "  </thead>\n",
       "  <tbody>\n",
       "    <tr>\n",
       "      <th>0</th>\n",
       "      <td>J.C.B. EQUIPMENT LIMITED</td>\n",
       "      <td>01000710</td>\n",
       "    </tr>\n",
       "    <tr>\n",
       "      <th>1</th>\n",
       "      <td>J.C.W (NW) LIMITED</td>\n",
       "      <td>09028601</td>\n",
       "    </tr>\n",
       "  </tbody>\n",
       "</table>\n",
       "</div>"
      ],
      "text/plain": [
       "                CompanyName CompanyNumber\n",
       "0  J.C.B. EQUIPMENT LIMITED      01000710\n",
       "1        J.C.W (NW) LIMITED      09028601"
      ]
     },
     "execution_count": 215,
     "metadata": {},
     "output_type": "execute_result"
    }
   ],
   "source": [
    "df.iloc[:2, :2]"
   ]
  },
  {
   "cell_type": "markdown",
   "metadata": {
    "slideshow": {
     "slide_type": "slide"
    }
   },
   "source": [
    "### Creating DataFrames from other sources and merging DataFrames together\n",
    "\n",
    "As we saw in the overview, pandas has many ways of creating DataFrames.\n",
    "\n",
    "We're going to load in some recent trademark applications from UK companies. This data is in XML, so we're going to have to do a bit more preprocessing to get it into a DataFrame.\n",
    "\n",
    "We're going to use the ```etree``` package of the ```lxml``` library we imported at the top of the tutorial to do this. "
   ]
  },
  {
   "cell_type": "code",
   "execution_count": 240,
   "metadata": {
    "collapsed": false,
    "slideshow": {
     "slide_type": "fragment"
    }
   },
   "outputs": [],
   "source": [
    "# Parse and access the root member\n",
    "! gunzip datasets/trademarks/jnl.xml\n",
    "raw_trademarks = etree.parse('datasets/trademarks/jnl.xml')\n",
    "doc = tree.getroot()\n",
    "\n",
    "# Use an xpath expression to iterate over each applicant name, and build a list\n",
    "applicants = [a.text for a in doc.findall('.//ApplicantName')]"
   ]
  },
  {
   "cell_type": "code",
   "execution_count": 241,
   "metadata": {
    "collapsed": true,
    "slideshow": {
     "slide_type": "subslide"
    }
   },
   "outputs": [],
   "source": [
    "# Create a DataFrame using a dict of lists\n",
    "trademarks = pd.DataFrame({'applicants': applicants})"
   ]
  },
  {
   "cell_type": "code",
   "execution_count": 242,
   "metadata": {
    "collapsed": false,
    "slideshow": {
     "slide_type": "fragment"
    }
   },
   "outputs": [
    {
     "data": {
      "text/html": [
       "<div style=\"max-height:1000px;max-width:1500px;overflow:auto;\">\n",
       "<table border=\"1\" class=\"dataframe\">\n",
       "  <thead>\n",
       "    <tr style=\"text-align: right;\">\n",
       "      <th></th>\n",
       "      <th>applicants</th>\n",
       "    </tr>\n",
       "  </thead>\n",
       "  <tbody>\n",
       "    <tr>\n",
       "      <th>0</th>\n",
       "      <td>Barefaced Skincare Limited</td>\n",
       "    </tr>\n",
       "    <tr>\n",
       "      <th>1</th>\n",
       "      <td>Floreana Ltd</td>\n",
       "    </tr>\n",
       "    <tr>\n",
       "      <th>2</th>\n",
       "      <td>Floreana Ltd</td>\n",
       "    </tr>\n",
       "    <tr>\n",
       "      <th>3</th>\n",
       "      <td>Step2Progress Limited</td>\n",
       "    </tr>\n",
       "    <tr>\n",
       "      <th>4</th>\n",
       "      <td>Peter John Savage</td>\n",
       "    </tr>\n",
       "  </tbody>\n",
       "</table>\n",
       "</div>"
      ],
      "text/plain": [
       "                   applicants\n",
       "0  Barefaced Skincare Limited\n",
       "1                Floreana Ltd\n",
       "2                Floreana Ltd\n",
       "3       Step2Progress Limited\n",
       "4           Peter John Savage"
      ]
     },
     "execution_count": 242,
     "metadata": {},
     "output_type": "execute_result"
    }
   ],
   "source": [
    "trademarks.head()"
   ]
  },
  {
   "cell_type": "code",
   "execution_count": 243,
   "metadata": {
    "collapsed": false
   },
   "outputs": [
    {
     "data": {
      "text/plain": [
       "applicants    1001\n",
       "dtype: int64"
      ]
     },
     "execution_count": 243,
     "metadata": {},
     "output_type": "execute_result"
    }
   ],
   "source": [
    "trademarks.count()"
   ]
  },
  {
   "cell_type": "markdown",
   "metadata": {
    "slideshow": {
     "slide_type": "subslide"
    }
   },
   "source": [
    "OK, so we've got two DataFrames now. One has our sample of companies, and one has our list of applicants.\n",
    "\n",
    "pandas provides database style join methods for joining two dataframes.\n",
    "\n",
    "Breif aside: checkout ```pd.concat([df1, df2])``` for (in its simplest form) concatanating two DataFrames together. \n",
    "\n",
    "There is scope for dealing with DataFrames of different widths (ie number of columns) and or indexing schemes. But, as with so much of pandas it rapidly becomse hard to track what is actually going on and code becomes unreadable. If your DataFrames do not match up nicely and you want to concatanate them, sort them out first."
   ]
  },
  {
   "cell_type": "markdown",
   "metadata": {
    "slideshow": {
     "slide_type": "subslide"
    }
   },
   "source": [
    "Back to our merge methods.\n",
    "\n",
    "These are performant ways of joining two DataFrames on indexes or specific columns. We'll focus on ```pd.merge```. This takes two data frames (a 'left' and a 'right') and returns a new dataframe which is the result of the merge.\n",
    "\n",
    "The approach taken to the merge is controlled by the 'how' keyword argument. For the indexes or chosen columns:\n",
    "* inner: retain the intersection of rows where the columns match\n",
    "* left: retain all rows from the left DataFrame, retain only those from the right that match\n",
    "* right: retain all rows from the right DataFrame, retain only those from the left that match\n",
    "* outer: retain all rows from both DataFrames\n",
    "\n",
    "What does this look like in practice?"
   ]
  },
  {
   "cell_type": "code",
   "execution_count": 233,
   "metadata": {
    "collapsed": false,
    "slideshow": {
     "slide_type": "subslide"
    }
   },
   "outputs": [
    {
     "data": {
      "text/html": [
       "<div style=\"max-height:1000px;max-width:1500px;overflow:auto;\">\n",
       "<table border=\"1\" class=\"dataframe\">\n",
       "  <thead>\n",
       "    <tr style=\"text-align: right;\">\n",
       "      <th></th>\n",
       "      <th>applicants</th>\n",
       "      <th>CompanyName</th>\n",
       "    </tr>\n",
       "  </thead>\n",
       "  <tbody>\n",
       "    <tr>\n",
       "      <th>0</th>\n",
       "      <td>PEEL HOLDINGS LAND AND PROPERTY (UK) LIMITED</td>\n",
       "      <td>PEEL HOLDINGS LAND AND PROPERTY (UK) LIMITED</td>\n",
       "    </tr>\n",
       "    <tr>\n",
       "      <th>1</th>\n",
       "      <td>JE NETTOIE LIMITED</td>\n",
       "      <td>JE NETTOIE LIMITED</td>\n",
       "    </tr>\n",
       "    <tr>\n",
       "      <th>2</th>\n",
       "      <td>JOSHBRAND PROMOTIONS LIMITED</td>\n",
       "      <td>JOSHBRAND PROMOTIONS LIMITED</td>\n",
       "    </tr>\n",
       "    <tr>\n",
       "      <th>3</th>\n",
       "      <td>OLLYHUGS LTD</td>\n",
       "      <td>OLLYHUGS LTD</td>\n",
       "    </tr>\n",
       "    <tr>\n",
       "      <th>4</th>\n",
       "      <td>LINKING ENVIRONMENT AND FARMING</td>\n",
       "      <td>LINKING ENVIRONMENT AND FARMING</td>\n",
       "    </tr>\n",
       "    <tr>\n",
       "      <th>5</th>\n",
       "      <td>NATIONAL SKILLS ACADEMY FOR FOOD AND DRINK</td>\n",
       "      <td>NATIONAL SKILLS ACADEMY FOR FOOD AND DRINK</td>\n",
       "    </tr>\n",
       "    <tr>\n",
       "      <th>6</th>\n",
       "      <td>ONE BOUTIQUE LONDON LTD</td>\n",
       "      <td>ONE BOUTIQUE LONDON LTD</td>\n",
       "    </tr>\n",
       "    <tr>\n",
       "      <th>7</th>\n",
       "      <td>ORB GLOBAL LTD</td>\n",
       "      <td>ORB GLOBAL LTD</td>\n",
       "    </tr>\n",
       "    <tr>\n",
       "      <th>8</th>\n",
       "      <td>PEGAS TOURISTIK UK LIMITED</td>\n",
       "      <td>PEGAS TOURISTIK UK LIMITED</td>\n",
       "    </tr>\n",
       "    <tr>\n",
       "      <th>9</th>\n",
       "      <td>ONEE GROUP LIMITED</td>\n",
       "      <td>ONEE GROUP LIMITED</td>\n",
       "    </tr>\n",
       "    <tr>\n",
       "      <th>10</th>\n",
       "      <td>ONEE GROUP LIMITED</td>\n",
       "      <td>ONEE GROUP LIMITED</td>\n",
       "    </tr>\n",
       "    <tr>\n",
       "      <th>11</th>\n",
       "      <td>ONEE GROUP LIMITED</td>\n",
       "      <td>ONEE GROUP LIMITED</td>\n",
       "    </tr>\n",
       "    <tr>\n",
       "      <th>12</th>\n",
       "      <td>MIND LIFE INSPIRE LTD</td>\n",
       "      <td>MIND LIFE INSPIRE LTD</td>\n",
       "    </tr>\n",
       "  </tbody>\n",
       "</table>\n",
       "</div>"
      ],
      "text/plain": [
       "                                      applicants  \\\n",
       "0   PEEL HOLDINGS LAND AND PROPERTY (UK) LIMITED   \n",
       "1                             JE NETTOIE LIMITED   \n",
       "2                   JOSHBRAND PROMOTIONS LIMITED   \n",
       "3                                   OLLYHUGS LTD   \n",
       "4                LINKING ENVIRONMENT AND FARMING   \n",
       "5     NATIONAL SKILLS ACADEMY FOR FOOD AND DRINK   \n",
       "6                        ONE BOUTIQUE LONDON LTD   \n",
       "7                                 ORB GLOBAL LTD   \n",
       "8                     PEGAS TOURISTIK UK LIMITED   \n",
       "9                             ONEE GROUP LIMITED   \n",
       "10                            ONEE GROUP LIMITED   \n",
       "11                            ONEE GROUP LIMITED   \n",
       "12                         MIND LIFE INSPIRE LTD   \n",
       "\n",
       "                                     CompanyName  \n",
       "0   PEEL HOLDINGS LAND AND PROPERTY (UK) LIMITED  \n",
       "1                             JE NETTOIE LIMITED  \n",
       "2                   JOSHBRAND PROMOTIONS LIMITED  \n",
       "3                                   OLLYHUGS LTD  \n",
       "4                LINKING ENVIRONMENT AND FARMING  \n",
       "5     NATIONAL SKILLS ACADEMY FOR FOOD AND DRINK  \n",
       "6                        ONE BOUTIQUE LONDON LTD  \n",
       "7                                 ORB GLOBAL LTD  \n",
       "8                     PEGAS TOURISTIK UK LIMITED  \n",
       "9                             ONEE GROUP LIMITED  \n",
       "10                            ONEE GROUP LIMITED  \n",
       "11                            ONEE GROUP LIMITED  \n",
       "12                         MIND LIFE INSPIRE LTD  "
      ]
     },
     "execution_count": 233,
     "metadata": {},
     "output_type": "execute_result"
    }
   ],
   "source": [
    "pd.merge(trademarks,\n",
    "         df[['CompanyName']], #Note df['CompanyName'] would return a Series\n",
    "         how='inner',\n",
    "         left_on='applicants',\n",
    "         right_on='CompanyName')"
   ]
  },
  {
   "cell_type": "markdown",
   "metadata": {
    "slideshow": {
     "slide_type": "fragment"
    }
   },
   "source": [
    "Thats not a very good match rate!\n",
    "\n",
    "What can we do to improve this?"
   ]
  },
  {
   "cell_type": "markdown",
   "metadata": {
    "slideshow": {
     "slide_type": "subslide"
    }
   },
   "source": [
    "One option is to perform some normalisation on the applicant and company names using the ```str``` methods we saw earlier.\n",
    "\n",
    "What could we do here?"
   ]
  },
  {
   "cell_type": "markdown",
   "metadata": {
    "slideshow": {
     "slide_type": "fragment"
    }
   },
   "source": [
    "* lowercase\n",
    "* strip leading/trailing spaces\n",
    "* strip whitespace\n",
    "* deal with Limited and Ltd"
   ]
  },
  {
   "cell_type": "code",
   "execution_count": 239,
   "metadata": {
    "collapsed": false,
    "slideshow": {
     "slide_type": "fragment"
    }
   },
   "outputs": [
    {
     "data": {
      "text/plain": [
       "0      barefacedskincarelimited\n",
       "1                   floreanaltd\n",
       "2                   floreanaltd\n",
       "3          step2progresslimited\n",
       "4               peterjohnsavage\n",
       "5               vincentdassault\n",
       "6                     ianredman\n",
       "7         turbomedorthoticsinc.\n",
       "8       portusconsultinglimited\n",
       "9              marekryanlarwood\n",
       "10                 brokdlimited\n",
       "11    inspireddentalcarelimited\n",
       "12                 gymreaperltd\n",
       "13               agentagroupltd\n",
       "14       philbinproductslimited\n",
       "15     buoyantupholsterylimited\n",
       "16               centerpiecellp\n",
       "17               péan&zakianllp\n",
       "18                paulkaraiskos\n",
       "19                    aranosman\n",
       "Name: applicants, dtype: object"
      ]
     },
     "execution_count": 239,
     "metadata": {},
     "output_type": "execute_result"
    }
   ],
   "source": [
    "trademarks.applicants.str.lower().str.strip().str.replace(' ', '').head(20)"
   ]
  },
  {
   "cell_type": "markdown",
   "metadata": {
    "slideshow": {
     "slide_type": "fragment"
    }
   },
   "source": [
    "This sort of chaining is not very pretty and is to be avoided.\n",
    "\n",
    "Instead, lets take a look at the ```applymap()``` function. This applies a function to each element of a DataFrame."
   ]
  },
  {
   "cell_type": "code",
   "execution_count": 324,
   "metadata": {
    "collapsed": false,
    "slideshow": {
     "slide_type": "fragment"
    }
   },
   "outputs": [],
   "source": [
    "from functools import partial\n",
    "\n",
    "def normalise(name):\n",
    "    \"\"\"Normalise a company name for matching\"\"\"\n",
    "    \n",
    "    def my_replace(old, new, name):\n",
    "        \"\"\"Change the order of the args to make the function partial friendly\"\"\"\n",
    "        return unicode.replace(name, old, new)\n",
    "    \n",
    "    if isinstance(name, str):\n",
    "        name = unicode(name, encoding='utf8')\n",
    "    \n",
    "    repl_whitespace = partial(my_replace, ' ', '')\n",
    "    repl_some_punc = partial(my_replace, '.', '')\n",
    "    \n",
    "    funcs = [unicode.lower, unicode.strip, repl_whitespace, repl_some_punc]\n",
    "    \n",
    "    for f in funcs:\n",
    "        name = f(name)\n",
    "        \n",
    "    return name\n"
   ]
  },
  {
   "cell_type": "code",
   "execution_count": 326,
   "metadata": {
    "collapsed": false,
    "slideshow": {
     "slide_type": "fragment"
    }
   },
   "outputs": [
    {
     "data": {
      "text/html": [
       "<div style=\"max-height:1000px;max-width:1500px;overflow:auto;\">\n",
       "<table border=\"1\" class=\"dataframe\">\n",
       "  <thead>\n",
       "    <tr style=\"text-align: right;\">\n",
       "      <th></th>\n",
       "      <th>CompanyName</th>\n",
       "    </tr>\n",
       "  </thead>\n",
       "  <tbody>\n",
       "    <tr>\n",
       "      <th>0</th>\n",
       "      <td>jcbequipmentlimited</td>\n",
       "    </tr>\n",
       "    <tr>\n",
       "      <th>1</th>\n",
       "      <td>jcw(nw)limited</td>\n",
       "    </tr>\n",
       "    <tr>\n",
       "      <th>2</th>\n",
       "      <td>jdbartonltd</td>\n",
       "    </tr>\n",
       "    <tr>\n",
       "      <th>3</th>\n",
       "      <td>jdautomotive(ludlow)ltd</td>\n",
       "    </tr>\n",
       "    <tr>\n",
       "      <th>4</th>\n",
       "      <td>jdphillips&amp;daughterslimited</td>\n",
       "    </tr>\n",
       "  </tbody>\n",
       "</table>\n",
       "</div>"
      ],
      "text/plain": [
       "                   CompanyName\n",
       "0          jcbequipmentlimited\n",
       "1               jcw(nw)limited\n",
       "2                  jdbartonltd\n",
       "3      jdautomotive(ludlow)ltd\n",
       "4  jdphillips&daughterslimited"
      ]
     },
     "execution_count": 326,
     "metadata": {},
     "output_type": "execute_result"
    }
   ],
   "source": [
    "df[['CompanyName']].applymap(normalise).head()"
   ]
  },
  {
   "cell_type": "code",
   "execution_count": 327,
   "metadata": {
    "collapsed": false,
    "slideshow": {
     "slide_type": "fragment"
    }
   },
   "outputs": [
    {
     "data": {
      "text/html": [
       "<div style=\"max-height:1000px;max-width:1500px;overflow:auto;\">\n",
       "<table border=\"1\" class=\"dataframe\">\n",
       "  <thead>\n",
       "    <tr style=\"text-align: right;\">\n",
       "      <th></th>\n",
       "      <th>applicants</th>\n",
       "    </tr>\n",
       "  </thead>\n",
       "  <tbody>\n",
       "    <tr>\n",
       "      <th>0</th>\n",
       "      <td>barefacedskincarelimited</td>\n",
       "    </tr>\n",
       "    <tr>\n",
       "      <th>1</th>\n",
       "      <td>floreanaltd</td>\n",
       "    </tr>\n",
       "    <tr>\n",
       "      <th>2</th>\n",
       "      <td>floreanaltd</td>\n",
       "    </tr>\n",
       "    <tr>\n",
       "      <th>3</th>\n",
       "      <td>step2progresslimited</td>\n",
       "    </tr>\n",
       "    <tr>\n",
       "      <th>4</th>\n",
       "      <td>peterjohnsavage</td>\n",
       "    </tr>\n",
       "  </tbody>\n",
       "</table>\n",
       "</div>"
      ],
      "text/plain": [
       "                 applicants\n",
       "0  barefacedskincarelimited\n",
       "1               floreanaltd\n",
       "2               floreanaltd\n",
       "3      step2progresslimited\n",
       "4           peterjohnsavage"
      ]
     },
     "execution_count": 327,
     "metadata": {},
     "output_type": "execute_result"
    }
   ],
   "source": [
    "trademarks[['applicants']].applymap(normalise).head()"
   ]
  },
  {
   "cell_type": "code",
   "execution_count": 328,
   "metadata": {
    "collapsed": false,
    "slideshow": {
     "slide_type": "fragment"
    }
   },
   "outputs": [],
   "source": [
    "df['norm_CompanyName'] = df[['CompanyName']].applymap(normalise)\n",
    "trademarks['norm_Applicant'] = trademarks[['applicants']].applymap(normalise)"
   ]
  },
  {
   "cell_type": "code",
   "execution_count": 329,
   "metadata": {
    "collapsed": false,
    "slideshow": {
     "slide_type": "fragment"
    }
   },
   "outputs": [
    {
     "data": {
      "text/plain": [
       "74"
      ]
     },
     "execution_count": 329,
     "metadata": {},
     "output_type": "execute_result"
    }
   ],
   "source": [
    "# Lets go ahead and do an inner merge to work see what thats done to our match rate\n",
    "pd.merge(trademarks,\n",
    "         df[['norm_CompanyName']],\n",
    "         how='inner',\n",
    "         left_on='norm_Applicant',\n",
    "         right_on='norm_CompanyName').shape[0]"
   ]
  }
 ],
 "metadata": {
  "celltoolbar": "Slideshow",
  "kernelspec": {
   "display_name": "Python 2",
   "language": "python",
   "name": "python2"
  },
  "language_info": {
   "codemirror_mode": {
    "name": "ipython",
    "version": 2
   },
   "file_extension": ".py",
   "mimetype": "text/x-python",
   "name": "python",
   "nbconvert_exporter": "python",
   "pygments_lexer": "ipython2",
   "version": "2.7.6"
  }
 },
 "nbformat": 4,
 "nbformat_minor": 0
}
