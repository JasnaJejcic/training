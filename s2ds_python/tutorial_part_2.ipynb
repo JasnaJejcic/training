{
 "cells": [
  {
   "cell_type": "markdown",
   "metadata": {
    "slideshow": {
     "slide_type": "slide"
    }
   },
   "source": [
    "## Exploratory work with IPython Notebook and pandas"
   ]
  },
  {
   "cell_type": "markdown",
   "metadata": {
    "slideshow": {
     "slide_type": "slide"
    }
   },
   "source": [
    "### IPython Notebooks\n",
    "\n",
    "* Web based interactive computing environment\n",
    "* Notebook connects to a pluggable backend (not just IPython - see Project Jupyter)\n",
    "* Export functionality (eg these slides)\n",
    "* IPython Notebook docs: http://ipython.org/ipython-doc/3/notebook/notebook.html\n",
    "* Project Jupyter: https://jupyter.org/\n",
    "* Indepth tutorial: http://ipython.org/notebook.html#scipy-2013"
   ]
  },
  {
   "cell_type": "markdown",
   "metadata": {
    "slideshow": {
     "slide_type": "slide"
    }
   },
   "source": [
    "####  Notebook good practice\n",
    "\n",
    "* Notebooks should be re-runnable\n",
    "* Notebooks should be kept under version control\n",
    "* Self-documenting (read like a report)\n",
    "* Make code modular (define functions outside, import as needed)\n",
    "* Setting up a server: http://ipython.org/ipython-doc/3/notebook/public_server.html\n",
    "* Security (executing code in a browser): http://ipython.org/ipython-doc/3/notebook/security.html"
   ]
  },
  {
   "cell_type": "markdown",
   "metadata": {
    "slideshow": {
     "slide_type": "slide"
    }
   },
   "source": [
    "#### A few easy wins\n",
    "\n",
    "* Run your iPython server from a virtual env\n",
    "* User agnostic db access (eg .my.cnf)\n",
    "* Public data (/var/data/client/... not /home/alex/stuff/faff/data/big.csv)\n",
    "* Consider clearing output before committing"
   ]
  },
  {
   "cell_type": "markdown",
   "metadata": {
    "slideshow": {
     "slide_type": "subslide"
    }
   },
   "source": [
    "#### Magics\n",
    "\n",
    "Mini command language inside IPython\n",
    "\n",
    "https://ipython.org/ipython-doc/dev/interactive/magics.html\n",
    "\n",
    "Some common magics within IPython Notebooks are:\n",
    "* %lsmagic - list currently available magics\n",
    "* %matplotlib inline - inline backend\n",
    "* %env - manage environment variables"
   ]
  },
  {
   "cell_type": "markdown",
   "metadata": {
    "slideshow": {
     "slide_type": "subslide"
    }
   },
   "source": [
    "### NumPy\n",
    "\n",
    "* 'Numerical Python'\n",
    "* Key datatype is the ```ndarray```\n",
    "* Broadcast operations (```np.max```)\n",
    "* Linear algebra (see ```np.linalg``` package)\n",
    "* Set logic\n",
    "* Sorting\n",
    "* Input/output\n",
    "* Integrate with C, C++, Fortran\n",
    "* And lots more\n"
   ]
  },
  {
   "cell_type": "markdown",
   "metadata": {
    "slideshow": {
     "slide_type": "subslide"
    }
   },
   "source": [
    "### pandas\n",
    "\n",
    "* Built on top of NumPy (so plays well with NumPy based libraries eg scikit learn)\n",
    "* Two key data structures are ```Series``` and ```DataFrame```\n",
    "* ```Series``` is a one dimensional array with an ```index```\n",
    "* ```DataFrame``` is a tabular/spreadsheet datastructure with ordered collection of columns (can be thought of as a ```dict``` of ```Series```)\n",
    "* Functionality for selecting, filtering, broadcast operations, time series, plotting and lots more\n"
   ]
  },
  {
   "cell_type": "code",
   "execution_count": 286,
   "metadata": {
    "collapsed": false,
    "slideshow": {
     "slide_type": "subslide"
    }
   },
   "outputs": [
    {
     "data": {
      "text/plain": [
       "0    0.844149\n",
       "1    0.113549\n",
       "2    0.867449\n",
       "3    0.720758\n",
       "4    0.578008\n",
       "5    0.738358\n",
       "6    0.083126\n",
       "7    0.557500\n",
       "8    0.812729\n",
       "9    0.993649\n",
       "dtype: float64"
      ]
     },
     "execution_count": 286,
     "metadata": {},
     "output_type": "execute_result"
    }
   ],
   "source": [
    "from pandas import Series, DataFrame\n",
    "import pandas as pd\n",
    "import numpy as np\n",
    "\n",
    "s = Series(np.random.rand(10))\n",
    "s"
   ]
  },
  {
   "cell_type": "code",
   "execution_count": 287,
   "metadata": {
    "collapsed": false,
    "slideshow": {
     "slide_type": "fragment"
    }
   },
   "outputs": [
    {
     "data": {
      "text/plain": [
       "Int64Index([0, 1, 2, 3, 4, 5, 6, 7, 8, 9], dtype='int64')"
      ]
     },
     "execution_count": 287,
     "metadata": {},
     "output_type": "execute_result"
    }
   ],
   "source": [
    "s.index"
   ]
  },
  {
   "cell_type": "code",
   "execution_count": 288,
   "metadata": {
    "collapsed": false,
    "slideshow": {
     "slide_type": "fragment"
    }
   },
   "outputs": [
    {
     "data": {
      "text/plain": [
       "0    0.844149\n",
       "2    0.867449\n",
       "3    0.720758\n",
       "4    0.578008\n",
       "5    0.738358\n",
       "7    0.557500\n",
       "8    0.812729\n",
       "9    0.993649\n",
       "dtype: float64"
      ]
     },
     "execution_count": 288,
     "metadata": {},
     "output_type": "execute_result"
    }
   ],
   "source": [
    "s[s > 0.5]"
   ]
  },
  {
   "cell_type": "markdown",
   "metadata": {
    "slideshow": {
     "slide_type": "subslide"
    }
   },
   "source": [
    "### DataFrames\n",
    "\n",
    "Many constructors:\n",
    "* ```ndarray```\n",
    "* ```dict``` of ```Series```\n",
    "* ```dict``` of ```dict```s\n",
    "* ```list``` of ```dict```s \n",
    "* ```list``` of ```list```s or ```tuple```s\n",
    "* Another ```DataFrame```"
   ]
  },
  {
   "cell_type": "code",
   "execution_count": 289,
   "metadata": {
    "collapsed": false,
    "slideshow": {
     "slide_type": "fragment"
    }
   },
   "outputs": [
    {
     "data": {
      "text/html": [
       "<div style=\"max-height:1000px;max-width:1500px;overflow:auto;\">\n",
       "<table border=\"1\" class=\"dataframe\">\n",
       "  <thead>\n",
       "    <tr style=\"text-align: right;\">\n",
       "      <th></th>\n",
       "      <th>a</th>\n",
       "      <th>b</th>\n",
       "    </tr>\n",
       "  </thead>\n",
       "  <tbody>\n",
       "    <tr>\n",
       "      <th>0</th>\n",
       "      <td>0.370570</td>\n",
       "      <td>0.140356</td>\n",
       "    </tr>\n",
       "    <tr>\n",
       "      <th>1</th>\n",
       "      <td>0.013870</td>\n",
       "      <td>0.255704</td>\n",
       "    </tr>\n",
       "    <tr>\n",
       "      <th>2</th>\n",
       "      <td>0.940903</td>\n",
       "      <td>0.820523</td>\n",
       "    </tr>\n",
       "    <tr>\n",
       "      <th>3</th>\n",
       "      <td>0.390808</td>\n",
       "      <td>0.266127</td>\n",
       "    </tr>\n",
       "    <tr>\n",
       "      <th>4</th>\n",
       "      <td>0.536158</td>\n",
       "      <td>0.760639</td>\n",
       "    </tr>\n",
       "  </tbody>\n",
       "</table>\n",
       "</div>"
      ],
      "text/plain": [
       "          a         b\n",
       "0  0.370570  0.140356\n",
       "1  0.013870  0.255704\n",
       "2  0.940903  0.820523\n",
       "3  0.390808  0.266127\n",
       "4  0.536158  0.760639"
      ]
     },
     "execution_count": 289,
     "metadata": {},
     "output_type": "execute_result"
    }
   ],
   "source": [
    "df = DataFrame({'a':np.random.rand(5), 'b':np.random.rand(5)})\n",
    "df"
   ]
  },
  {
   "cell_type": "code",
   "execution_count": 290,
   "metadata": {
    "collapsed": false,
    "slideshow": {
     "slide_type": "subslide"
    }
   },
   "outputs": [
    {
     "data": {
      "text/plain": [
       "array([[ 0.37057047,  0.14035623],\n",
       "       [ 0.01387022,  0.25570431],\n",
       "       [ 0.94090281,  0.82052304],\n",
       "       [ 0.39080812,  0.26612738],\n",
       "       [ 0.53615817,  0.76063863]])"
      ]
     },
     "execution_count": 290,
     "metadata": {},
     "output_type": "execute_result"
    }
   ],
   "source": [
    "df.values"
   ]
  },
  {
   "cell_type": "code",
   "execution_count": 291,
   "metadata": {
    "collapsed": false,
    "slideshow": {
     "slide_type": "fragment"
    }
   },
   "outputs": [
    {
     "data": {
      "text/plain": [
       "numpy.ndarray"
      ]
     },
     "execution_count": 291,
     "metadata": {},
     "output_type": "execute_result"
    }
   ],
   "source": [
    "type(df.values)"
   ]
  },
  {
   "cell_type": "markdown",
   "metadata": {
    "slideshow": {
     "slide_type": "slide"
    }
   },
   "source": [
    "### How to follow the rest of this tutorial\n",
    "\n",
    "* Go to http://training.growthintel.com:8000/\n",
    "* Start a new Python 2 notebook (select New > Python 2)\n",
    "* This will serve up a temporary notebook that you can use\n",
    "* Note: your notebook server will die after 10 minutes of inactivity and they're transient (ie you won't be able to save and come back to it)\n",
    "* We're going to be processing some CSV and XML data relating to UK businesses"
   ]
  },
  {
   "cell_type": "markdown",
   "metadata": {
    "slideshow": {
     "slide_type": "subslide"
    }
   },
   "source": [
    "### Imports and magics\n",
    "\n",
    "First of all, we'll import the other libraries we expect to need and call the magic functions we expect to use."
   ]
  },
  {
   "cell_type": "code",
   "execution_count": 292,
   "metadata": {
    "collapsed": true,
    "slideshow": {
     "slide_type": "fragment"
    }
   },
   "outputs": [],
   "source": [
    "%matplotlib inline"
   ]
  },
  {
   "cell_type": "code",
   "execution_count": 293,
   "metadata": {
    "collapsed": false,
    "slideshow": {
     "slide_type": "fragment"
    }
   },
   "outputs": [],
   "source": [
    "import matplotlib.pyplot as plt\n",
    "import xml.etree.ElementTree as ET"
   ]
  },
  {
   "cell_type": "markdown",
   "metadata": {
    "slideshow": {
     "slide_type": "slide"
    }
   },
   "source": [
    "### Loading data\n",
    "\n",
    "Pandas has a rich Input/Output API that works with common formats like CSV, Excel, SQL, pickled files (and even the clipboard) as well as more specialist formats like HDF5.\n",
    "\n",
    "These (input) exist as top level functions (eg ```pd.read_csv()```) and (output) on objects like ```DataFrames``` (eg ```df.to_csv()```).\n",
    "\n",
    "Lets try and use ```read_csv``` to load in a sample of the list of all the registered businesses in the UK. There is a sample dataset in ```datasets/companies/companies-house.csv```."
   ]
  },
  {
   "cell_type": "code",
   "execution_count": 294,
   "metadata": {
    "collapsed": false,
    "slideshow": {
     "slide_type": "fragment"
    }
   },
   "outputs": [],
   "source": [
    "df = pd.read_csv('datasets/companies/companies-house.csv')"
   ]
  },
  {
   "cell_type": "markdown",
   "metadata": {
    "slideshow": {
     "slide_type": "subslide"
    }
   },
   "source": [
    "### DataFrame basics\n",
    "\n",
    "Now that we've got our ```DataFrame```, what sort of things can we do with it?"
   ]
  },
  {
   "cell_type": "code",
   "execution_count": 295,
   "metadata": {
    "collapsed": false,
    "slideshow": {
     "slide_type": "fragment"
    }
   },
   "outputs": [
    {
     "data": {
      "text/plain": [
       "Index([u'CompanyName', u' CompanyNumber', u'RegAddress.CareOf',\n",
       "       u'RegAddress.POBox', u'RegAddress.AddressLine1',\n",
       "       u' RegAddress.AddressLine2', u'RegAddress.PostTown',\n",
       "       u'RegAddress.County', u'RegAddress.Country', u'RegAddress.PostCode',\n",
       "       u'CompanyCategory', u'CompanyStatus', u'CountryOfOrigin',\n",
       "       u'DissolutionDate', u'IncorporationDate', u'Accounts.AccountRefDay',\n",
       "       u'Accounts.AccountRefMonth', u'Accounts.NextDueDate',\n",
       "       u'Accounts.LastMadeUpDate', u'Accounts.AccountCategory',\n",
       "       u'Returns.NextDueDate', u'Returns.LastMadeUpDate',\n",
       "       u'Mortgages.NumMortCharges', u'Mortgages.NumMortOutstanding',\n",
       "       u'Mortgages.NumMortPartSatisfied', u'Mortgages.NumMortSatisfied',\n",
       "       u'SICCode.SicText_1', u'SICCode.SicText_2', u'SICCode.SicText_3',\n",
       "       u'SICCode.SicText_4', u'LimitedPartnerships.NumGenPartners',\n",
       "       u'LimitedPartnerships.NumLimPartners', u'URI',\n",
       "       u'PreviousName_1.CONDATE', u' PreviousName_1.CompanyName',\n",
       "       u' PreviousName_2.CONDATE', u' PreviousName_2.CompanyName',\n",
       "       u'PreviousName_3.CONDATE', u' PreviousName_3.CompanyName',\n",
       "       u'PreviousName_4.CONDATE', u' PreviousName_4.CompanyName',\n",
       "       u'PreviousName_5.CONDATE', u' PreviousName_5.CompanyName',\n",
       "       u'PreviousName_6.CONDATE', u' PreviousName_6.CompanyName',\n",
       "       u'PreviousName_7.CONDATE', u' PreviousName_7.CompanyName',\n",
       "       u'PreviousName_8.CONDATE', u' PreviousName_8.CompanyName',\n",
       "       u'PreviousName_9.CONDATE', u' PreviousName_9.CompanyName',\n",
       "       u'PreviousName_10.CONDATE', u' PreviousName_10.CompanyName'],\n",
       "      dtype='object')"
      ]
     },
     "execution_count": 295,
     "metadata": {},
     "output_type": "execute_result"
    }
   ],
   "source": [
    "# Have a look at the columns we've got\n",
    "df.columns"
   ]
  },
  {
   "cell_type": "code",
   "execution_count": 296,
   "metadata": {
    "collapsed": false,
    "slideshow": {
     "slide_type": "subslide"
    }
   },
   "outputs": [
    {
     "data": {
      "text/plain": [
       "CompanyName                            object\n",
       " CompanyNumber                         object\n",
       "RegAddress.CareOf                      object\n",
       "RegAddress.POBox                       object\n",
       "RegAddress.AddressLine1                object\n",
       " RegAddress.AddressLine2               object\n",
       "RegAddress.PostTown                    object\n",
       "RegAddress.County                      object\n",
       "RegAddress.Country                     object\n",
       "RegAddress.PostCode                    object\n",
       "CompanyCategory                        object\n",
       "CompanyStatus                          object\n",
       "CountryOfOrigin                        object\n",
       "DissolutionDate                       float64\n",
       "IncorporationDate                      object\n",
       "Accounts.AccountRefDay                float64\n",
       "Accounts.AccountRefMonth              float64\n",
       "Accounts.NextDueDate                   object\n",
       "Accounts.LastMadeUpDate                object\n",
       "Accounts.AccountCategory               object\n",
       "Returns.NextDueDate                    object\n",
       "Returns.LastMadeUpDate                 object\n",
       "Mortgages.NumMortCharges                int64\n",
       "Mortgages.NumMortOutstanding            int64\n",
       "Mortgages.NumMortPartSatisfied          int64\n",
       "Mortgages.NumMortSatisfied              int64\n",
       "SICCode.SicText_1                      object\n",
       "SICCode.SicText_2                      object\n",
       "SICCode.SicText_3                      object\n",
       "SICCode.SicText_4                      object\n",
       "LimitedPartnerships.NumGenPartners      int64\n",
       "LimitedPartnerships.NumLimPartners      int64\n",
       "URI                                    object\n",
       "PreviousName_1.CONDATE                 object\n",
       " PreviousName_1.CompanyName            object\n",
       " PreviousName_2.CONDATE                object\n",
       " PreviousName_2.CompanyName            object\n",
       "PreviousName_3.CONDATE                 object\n",
       " PreviousName_3.CompanyName            object\n",
       "PreviousName_4.CONDATE                 object\n",
       " PreviousName_4.CompanyName            object\n",
       "PreviousName_5.CONDATE                 object\n",
       " PreviousName_5.CompanyName            object\n",
       "PreviousName_6.CONDATE                 object\n",
       " PreviousName_6.CompanyName            object\n",
       "PreviousName_7.CONDATE                float64\n",
       " PreviousName_7.CompanyName           float64\n",
       "PreviousName_8.CONDATE                float64\n",
       " PreviousName_8.CompanyName           float64\n",
       "PreviousName_9.CONDATE                float64\n",
       " PreviousName_9.CompanyName           float64\n",
       "PreviousName_10.CONDATE               float64\n",
       " PreviousName_10.CompanyName          float64\n",
       "dtype: object"
      ]
     },
     "execution_count": 296,
     "metadata": {},
     "output_type": "execute_result"
    }
   ],
   "source": [
    "# and their datatypes\n",
    "df.dtypes"
   ]
  },
  {
   "cell_type": "code",
   "execution_count": 297,
   "metadata": {
    "collapsed": false,
    "slideshow": {
     "slide_type": "subslide"
    }
   },
   "outputs": [
    {
     "data": {
      "text/html": [
       "<div style=\"max-height:1000px;max-width:1500px;overflow:auto;\">\n",
       "<table border=\"1\" class=\"dataframe\">\n",
       "  <thead>\n",
       "    <tr style=\"text-align: right;\">\n",
       "      <th></th>\n",
       "      <th>CompanyName</th>\n",
       "      <th>CompanyNumber</th>\n",
       "      <th>RegAddress.CareOf</th>\n",
       "      <th>RegAddress.POBox</th>\n",
       "      <th>RegAddress.AddressLine1</th>\n",
       "      <th>RegAddress.AddressLine2</th>\n",
       "      <th>RegAddress.PostTown</th>\n",
       "      <th>RegAddress.County</th>\n",
       "      <th>RegAddress.Country</th>\n",
       "      <th>RegAddress.PostCode</th>\n",
       "      <th>...</th>\n",
       "      <th>PreviousName_6.CONDATE</th>\n",
       "      <th>PreviousName_6.CompanyName</th>\n",
       "      <th>PreviousName_7.CONDATE</th>\n",
       "      <th>PreviousName_7.CompanyName</th>\n",
       "      <th>PreviousName_8.CONDATE</th>\n",
       "      <th>PreviousName_8.CompanyName</th>\n",
       "      <th>PreviousName_9.CONDATE</th>\n",
       "      <th>PreviousName_9.CompanyName</th>\n",
       "      <th>PreviousName_10.CONDATE</th>\n",
       "      <th>PreviousName_10.CompanyName</th>\n",
       "    </tr>\n",
       "  </thead>\n",
       "  <tbody>\n",
       "    <tr>\n",
       "      <th>0</th>\n",
       "      <td>J.C.B. EQUIPMENT LIMITED</td>\n",
       "      <td>01000710</td>\n",
       "      <td>NaN</td>\n",
       "      <td>NaN</td>\n",
       "      <td>LAKESIDE WORKS</td>\n",
       "      <td>ROCESTER</td>\n",
       "      <td>STAFFS</td>\n",
       "      <td>NaN</td>\n",
       "      <td>NaN</td>\n",
       "      <td>ST14 5JP</td>\n",
       "      <td>...</td>\n",
       "      <td>NaN</td>\n",
       "      <td>NaN</td>\n",
       "      <td>NaN</td>\n",
       "      <td>NaN</td>\n",
       "      <td>NaN</td>\n",
       "      <td>NaN</td>\n",
       "      <td>NaN</td>\n",
       "      <td>NaN</td>\n",
       "      <td>NaN</td>\n",
       "      <td>NaN</td>\n",
       "    </tr>\n",
       "    <tr>\n",
       "      <th>1</th>\n",
       "      <td>J.C.W (NW) LIMITED</td>\n",
       "      <td>09028601</td>\n",
       "      <td>NaN</td>\n",
       "      <td>NaN</td>\n",
       "      <td>144 THATTO HEATH ROAD</td>\n",
       "      <td>NaN</td>\n",
       "      <td>ST. HELENS</td>\n",
       "      <td>NaN</td>\n",
       "      <td>NaN</td>\n",
       "      <td>WA9 5PE</td>\n",
       "      <td>...</td>\n",
       "      <td>NaN</td>\n",
       "      <td>NaN</td>\n",
       "      <td>NaN</td>\n",
       "      <td>NaN</td>\n",
       "      <td>NaN</td>\n",
       "      <td>NaN</td>\n",
       "      <td>NaN</td>\n",
       "      <td>NaN</td>\n",
       "      <td>NaN</td>\n",
       "      <td>NaN</td>\n",
       "    </tr>\n",
       "    <tr>\n",
       "      <th>2</th>\n",
       "      <td>J.D BARTON LTD</td>\n",
       "      <td>09035149</td>\n",
       "      <td>NaN</td>\n",
       "      <td>NaN</td>\n",
       "      <td>38 HUNTER CLOSE</td>\n",
       "      <td>WILLESBOROUGH</td>\n",
       "      <td>ASHFORD</td>\n",
       "      <td>NaN</td>\n",
       "      <td>NaN</td>\n",
       "      <td>TN24 0DT</td>\n",
       "      <td>...</td>\n",
       "      <td>NaN</td>\n",
       "      <td>NaN</td>\n",
       "      <td>NaN</td>\n",
       "      <td>NaN</td>\n",
       "      <td>NaN</td>\n",
       "      <td>NaN</td>\n",
       "      <td>NaN</td>\n",
       "      <td>NaN</td>\n",
       "      <td>NaN</td>\n",
       "      <td>NaN</td>\n",
       "    </tr>\n",
       "    <tr>\n",
       "      <th>3</th>\n",
       "      <td>J.D. AUTOMOTIVE (LUDLOW) LTD</td>\n",
       "      <td>04806642</td>\n",
       "      <td>NaN</td>\n",
       "      <td>NaN</td>\n",
       "      <td>SMITHFIELD CAR PARK</td>\n",
       "      <td>LOWER GALDEFORD</td>\n",
       "      <td>LUDLOW</td>\n",
       "      <td>SHROPSHIRE</td>\n",
       "      <td>NaN</td>\n",
       "      <td>SY8 1RT</td>\n",
       "      <td>...</td>\n",
       "      <td>NaN</td>\n",
       "      <td>NaN</td>\n",
       "      <td>NaN</td>\n",
       "      <td>NaN</td>\n",
       "      <td>NaN</td>\n",
       "      <td>NaN</td>\n",
       "      <td>NaN</td>\n",
       "      <td>NaN</td>\n",
       "      <td>NaN</td>\n",
       "      <td>NaN</td>\n",
       "    </tr>\n",
       "    <tr>\n",
       "      <th>4</th>\n",
       "      <td>J.D. PHILLIPS &amp; DAUGHTERS LIMITED</td>\n",
       "      <td>04947680</td>\n",
       "      <td>NaN</td>\n",
       "      <td>NaN</td>\n",
       "      <td>LLANDISILIO STORES &amp; POST OFFICE</td>\n",
       "      <td>LLANDISILIO</td>\n",
       "      <td>CLYNDERWEN</td>\n",
       "      <td>PEMBS.</td>\n",
       "      <td>NaN</td>\n",
       "      <td>SA66 7SU</td>\n",
       "      <td>...</td>\n",
       "      <td>NaN</td>\n",
       "      <td>NaN</td>\n",
       "      <td>NaN</td>\n",
       "      <td>NaN</td>\n",
       "      <td>NaN</td>\n",
       "      <td>NaN</td>\n",
       "      <td>NaN</td>\n",
       "      <td>NaN</td>\n",
       "      <td>NaN</td>\n",
       "      <td>NaN</td>\n",
       "    </tr>\n",
       "  </tbody>\n",
       "</table>\n",
       "<p>5 rows × 53 columns</p>\n",
       "</div>"
      ],
      "text/plain": [
       "                         CompanyName  CompanyNumber RegAddress.CareOf  \\\n",
       "0           J.C.B. EQUIPMENT LIMITED       01000710               NaN   \n",
       "1                 J.C.W (NW) LIMITED       09028601               NaN   \n",
       "2                     J.D BARTON LTD       09035149               NaN   \n",
       "3       J.D. AUTOMOTIVE (LUDLOW) LTD       04806642               NaN   \n",
       "4  J.D. PHILLIPS & DAUGHTERS LIMITED       04947680               NaN   \n",
       "\n",
       "  RegAddress.POBox           RegAddress.AddressLine1  RegAddress.AddressLine2  \\\n",
       "0              NaN                    LAKESIDE WORKS                 ROCESTER   \n",
       "1              NaN             144 THATTO HEATH ROAD                      NaN   \n",
       "2              NaN                   38 HUNTER CLOSE            WILLESBOROUGH   \n",
       "3              NaN               SMITHFIELD CAR PARK          LOWER GALDEFORD   \n",
       "4              NaN  LLANDISILIO STORES & POST OFFICE              LLANDISILIO   \n",
       "\n",
       "  RegAddress.PostTown RegAddress.County RegAddress.Country  \\\n",
       "0              STAFFS               NaN                NaN   \n",
       "1          ST. HELENS               NaN                NaN   \n",
       "2             ASHFORD               NaN                NaN   \n",
       "3              LUDLOW        SHROPSHIRE                NaN   \n",
       "4          CLYNDERWEN            PEMBS.                NaN   \n",
       "\n",
       "  RegAddress.PostCode             ...              PreviousName_6.CONDATE  \\\n",
       "0            ST14 5JP             ...                                 NaN   \n",
       "1             WA9 5PE             ...                                 NaN   \n",
       "2            TN24 0DT             ...                                 NaN   \n",
       "3             SY8 1RT             ...                                 NaN   \n",
       "4            SA66 7SU             ...                                 NaN   \n",
       "\n",
       "   PreviousName_6.CompanyName PreviousName_7.CONDATE  \\\n",
       "0                         NaN                    NaN   \n",
       "1                         NaN                    NaN   \n",
       "2                         NaN                    NaN   \n",
       "3                         NaN                    NaN   \n",
       "4                         NaN                    NaN   \n",
       "\n",
       "    PreviousName_7.CompanyName PreviousName_8.CONDATE  \\\n",
       "0                          NaN                    NaN   \n",
       "1                          NaN                    NaN   \n",
       "2                          NaN                    NaN   \n",
       "3                          NaN                    NaN   \n",
       "4                          NaN                    NaN   \n",
       "\n",
       "    PreviousName_8.CompanyName  PreviousName_9.CONDATE  \\\n",
       "0                          NaN                     NaN   \n",
       "1                          NaN                     NaN   \n",
       "2                          NaN                     NaN   \n",
       "3                          NaN                     NaN   \n",
       "4                          NaN                     NaN   \n",
       "\n",
       "   PreviousName_9.CompanyName PreviousName_10.CONDATE  \\\n",
       "0                         NaN                     NaN   \n",
       "1                         NaN                     NaN   \n",
       "2                         NaN                     NaN   \n",
       "3                         NaN                     NaN   \n",
       "4                         NaN                     NaN   \n",
       "\n",
       "   PreviousName_10.CompanyName  \n",
       "0                          NaN  \n",
       "1                          NaN  \n",
       "2                          NaN  \n",
       "3                          NaN  \n",
       "4                          NaN  \n",
       "\n",
       "[5 rows x 53 columns]"
      ]
     },
     "execution_count": 297,
     "metadata": {},
     "output_type": "execute_result"
    }
   ],
   "source": [
    "# Inspect the first few or last rows\n",
    "df.head()"
   ]
  },
  {
   "cell_type": "code",
   "execution_count": 298,
   "metadata": {
    "collapsed": false,
    "slideshow": {
     "slide_type": "subslide"
    }
   },
   "outputs": [
    {
     "data": {
      "text/html": [
       "<div style=\"max-height:1000px;max-width:1500px;overflow:auto;\">\n",
       "<table border=\"1\" class=\"dataframe\">\n",
       "  <thead>\n",
       "    <tr style=\"text-align: right;\">\n",
       "      <th></th>\n",
       "      <th>CompanyName</th>\n",
       "      <th>CompanyNumber</th>\n",
       "      <th>RegAddress.CareOf</th>\n",
       "      <th>RegAddress.POBox</th>\n",
       "      <th>RegAddress.AddressLine1</th>\n",
       "      <th>RegAddress.AddressLine2</th>\n",
       "      <th>RegAddress.PostTown</th>\n",
       "      <th>RegAddress.County</th>\n",
       "      <th>RegAddress.Country</th>\n",
       "      <th>RegAddress.PostCode</th>\n",
       "      <th>...</th>\n",
       "      <th>PreviousName_6.CONDATE</th>\n",
       "      <th>PreviousName_6.CompanyName</th>\n",
       "      <th>PreviousName_7.CONDATE</th>\n",
       "      <th>PreviousName_7.CompanyName</th>\n",
       "      <th>PreviousName_8.CONDATE</th>\n",
       "      <th>PreviousName_8.CompanyName</th>\n",
       "      <th>PreviousName_9.CONDATE</th>\n",
       "      <th>PreviousName_9.CompanyName</th>\n",
       "      <th>PreviousName_10.CONDATE</th>\n",
       "      <th>PreviousName_10.CompanyName</th>\n",
       "    </tr>\n",
       "  </thead>\n",
       "  <tbody>\n",
       "    <tr>\n",
       "      <th>11051</th>\n",
       "      <td>PIS CONTRACTING LTD</td>\n",
       "      <td>09642072</td>\n",
       "      <td>NaN</td>\n",
       "      <td>NaN</td>\n",
       "      <td>BRANSTON COURT</td>\n",
       "      <td>BRANSTON STREET</td>\n",
       "      <td>BIRMINGHAM</td>\n",
       "      <td>NaN</td>\n",
       "      <td>UNITED KINGDOM</td>\n",
       "      <td>B18 6BA</td>\n",
       "      <td>...</td>\n",
       "      <td>NaN</td>\n",
       "      <td>NaN</td>\n",
       "      <td>NaN</td>\n",
       "      <td>NaN</td>\n",
       "      <td>NaN</td>\n",
       "      <td>NaN</td>\n",
       "      <td>NaN</td>\n",
       "      <td>NaN</td>\n",
       "      <td>NaN</td>\n",
       "      <td>NaN</td>\n",
       "    </tr>\n",
       "    <tr>\n",
       "      <th>11052</th>\n",
       "      <td>PISGAH PARTNERS LIMITED</td>\n",
       "      <td>08631383</td>\n",
       "      <td>NaN</td>\n",
       "      <td>NaN</td>\n",
       "      <td>4 FITZGERALD AVENUE</td>\n",
       "      <td>NaN</td>\n",
       "      <td>LONDON</td>\n",
       "      <td>NaN</td>\n",
       "      <td>NaN</td>\n",
       "      <td>SW14 8SZ</td>\n",
       "      <td>...</td>\n",
       "      <td>NaN</td>\n",
       "      <td>NaN</td>\n",
       "      <td>NaN</td>\n",
       "      <td>NaN</td>\n",
       "      <td>NaN</td>\n",
       "      <td>NaN</td>\n",
       "      <td>NaN</td>\n",
       "      <td>NaN</td>\n",
       "      <td>NaN</td>\n",
       "      <td>NaN</td>\n",
       "    </tr>\n",
       "  </tbody>\n",
       "</table>\n",
       "<p>2 rows × 53 columns</p>\n",
       "</div>"
      ],
      "text/plain": [
       "                   CompanyName  CompanyNumber RegAddress.CareOf  \\\n",
       "11051      PIS CONTRACTING LTD       09642072               NaN   \n",
       "11052  PISGAH PARTNERS LIMITED       08631383               NaN   \n",
       "\n",
       "      RegAddress.POBox RegAddress.AddressLine1  RegAddress.AddressLine2  \\\n",
       "11051              NaN          BRANSTON COURT          BRANSTON STREET   \n",
       "11052              NaN     4 FITZGERALD AVENUE                      NaN   \n",
       "\n",
       "      RegAddress.PostTown RegAddress.County RegAddress.Country  \\\n",
       "11051          BIRMINGHAM               NaN     UNITED KINGDOM   \n",
       "11052              LONDON               NaN                NaN   \n",
       "\n",
       "      RegAddress.PostCode             ...              PreviousName_6.CONDATE  \\\n",
       "11051             B18 6BA             ...                                 NaN   \n",
       "11052            SW14 8SZ             ...                                 NaN   \n",
       "\n",
       "       PreviousName_6.CompanyName PreviousName_7.CONDATE  \\\n",
       "11051                         NaN                    NaN   \n",
       "11052                         NaN                    NaN   \n",
       "\n",
       "        PreviousName_7.CompanyName PreviousName_8.CONDATE  \\\n",
       "11051                          NaN                    NaN   \n",
       "11052                          NaN                    NaN   \n",
       "\n",
       "        PreviousName_8.CompanyName  PreviousName_9.CONDATE  \\\n",
       "11051                          NaN                     NaN   \n",
       "11052                          NaN                     NaN   \n",
       "\n",
       "       PreviousName_9.CompanyName PreviousName_10.CONDATE  \\\n",
       "11051                         NaN                     NaN   \n",
       "11052                         NaN                     NaN   \n",
       "\n",
       "       PreviousName_10.CompanyName  \n",
       "11051                          NaN  \n",
       "11052                          NaN  \n",
       "\n",
       "[2 rows x 53 columns]"
      ]
     },
     "execution_count": 298,
     "metadata": {},
     "output_type": "execute_result"
    }
   ],
   "source": [
    "df.tail(2)"
   ]
  },
  {
   "cell_type": "code",
   "execution_count": 299,
   "metadata": {
    "collapsed": false,
    "slideshow": {
     "slide_type": "fragment"
    }
   },
   "outputs": [
    {
     "data": {
      "text/plain": [
       "(11053, 53)"
      ]
     },
     "execution_count": 299,
     "metadata": {},
     "output_type": "execute_result"
    }
   ],
   "source": [
    "# Query to see how big our how big our data frame is\n",
    "df.shape"
   ]
  },
  {
   "cell_type": "code",
   "execution_count": 300,
   "metadata": {
    "collapsed": false,
    "slideshow": {
     "slide_type": "subslide"
    }
   },
   "outputs": [
    {
     "data": {
      "text/plain": [
       "count    11053.000000\n",
       "mean         0.779155\n",
       "std          6.609417\n",
       "min          0.000000\n",
       "25%          0.000000\n",
       "50%          0.000000\n",
       "75%          0.000000\n",
       "max        312.000000\n",
       "Name: Mortgages.NumMortCharges, dtype: float64"
      ]
     },
     "execution_count": 300,
     "metadata": {},
     "output_type": "execute_result"
    }
   ],
   "source": [
    "# Quickly assess numerical data\n",
    "df['Mortgages.NumMortCharges'].describe()"
   ]
  },
  {
   "cell_type": "code",
   "execution_count": 301,
   "metadata": {
    "collapsed": false,
    "slideshow": {
     "slide_type": "fragment"
    }
   },
   "outputs": [
    {
     "data": {
      "text/plain": [
       "8612"
      ]
     },
     "execution_count": 301,
     "metadata": {},
     "output_type": "execute_result"
    }
   ],
   "source": [
    "df['Mortgages.NumMortCharges'].sum()"
   ]
  },
  {
   "cell_type": "code",
   "execution_count": 302,
   "metadata": {
    "collapsed": false,
    "slideshow": {
     "slide_type": "fragment"
    }
   },
   "outputs": [
    {
     "data": {
      "text/plain": [
       "0"
      ]
     },
     "execution_count": 302,
     "metadata": {},
     "output_type": "execute_result"
    }
   ],
   "source": [
    "df['Mortgages.NumMortCharges'].min()"
   ]
  },
  {
   "cell_type": "code",
   "execution_count": 303,
   "metadata": {
    "collapsed": false,
    "slideshow": {
     "slide_type": "fragment"
    }
   },
   "outputs": [
    {
     "data": {
      "text/plain": [
       "count             11053\n",
       "unique              556\n",
       "top       None Supplied\n",
       "freq               2477\n",
       "Name: SICCode.SicText_1, dtype: object"
      ]
     },
     "execution_count": 303,
     "metadata": {},
     "output_type": "execute_result"
    }
   ],
   "source": [
    "# And non-numerical data\n",
    "df['SICCode.SicText_1'].describe()"
   ]
  },
  {
   "cell_type": "code",
   "execution_count": 304,
   "metadata": {
    "collapsed": false,
    "slideshow": {
     "slide_type": "subslide"
    }
   },
   "outputs": [
    {
     "data": {
      "text/html": [
       "<div style=\"max-height:1000px;max-width:1500px;overflow:auto;\">\n",
       "<table border=\"1\" class=\"dataframe\">\n",
       "  <thead>\n",
       "    <tr style=\"text-align: right;\">\n",
       "      <th></th>\n",
       "      <th>CompanyName</th>\n",
       "      <th>CompanyNumber</th>\n",
       "      <th>RegAddress.CareOf</th>\n",
       "      <th>RegAddress.POBox</th>\n",
       "      <th>RegAddress.AddressLine1</th>\n",
       "      <th>RegAddress.AddressLine2</th>\n",
       "      <th>RegAddress.PostTown</th>\n",
       "      <th>RegAddress.County</th>\n",
       "      <th>RegAddress.Country</th>\n",
       "      <th>RegAddress.PostCode</th>\n",
       "      <th>...</th>\n",
       "      <th>PreviousName_2.CONDATE</th>\n",
       "      <th>PreviousName_2.CompanyName</th>\n",
       "      <th>PreviousName_3.CONDATE</th>\n",
       "      <th>PreviousName_3.CompanyName</th>\n",
       "      <th>PreviousName_4.CONDATE</th>\n",
       "      <th>PreviousName_4.CompanyName</th>\n",
       "      <th>PreviousName_5.CONDATE</th>\n",
       "      <th>PreviousName_5.CompanyName</th>\n",
       "      <th>PreviousName_6.CONDATE</th>\n",
       "      <th>PreviousName_6.CompanyName</th>\n",
       "    </tr>\n",
       "  </thead>\n",
       "  <tbody>\n",
       "    <tr>\n",
       "      <th>count</th>\n",
       "      <td>11053</td>\n",
       "      <td>11053</td>\n",
       "      <td>469</td>\n",
       "      <td>14</td>\n",
       "      <td>11022</td>\n",
       "      <td>7539</td>\n",
       "      <td>10738</td>\n",
       "      <td>5709</td>\n",
       "      <td>2565</td>\n",
       "      <td>10945</td>\n",
       "      <td>...</td>\n",
       "      <td>237</td>\n",
       "      <td>237</td>\n",
       "      <td>53</td>\n",
       "      <td>53</td>\n",
       "      <td>15</td>\n",
       "      <td>15</td>\n",
       "      <td>3</td>\n",
       "      <td>3</td>\n",
       "      <td>2</td>\n",
       "      <td>2</td>\n",
       "    </tr>\n",
       "    <tr>\n",
       "      <th>unique</th>\n",
       "      <td>11053</td>\n",
       "      <td>11053</td>\n",
       "      <td>427</td>\n",
       "      <td>14</td>\n",
       "      <td>9489</td>\n",
       "      <td>5451</td>\n",
       "      <td>1766</td>\n",
       "      <td>368</td>\n",
       "      <td>25</td>\n",
       "      <td>9182</td>\n",
       "      <td>...</td>\n",
       "      <td>236</td>\n",
       "      <td>237</td>\n",
       "      <td>52</td>\n",
       "      <td>53</td>\n",
       "      <td>15</td>\n",
       "      <td>15</td>\n",
       "      <td>3</td>\n",
       "      <td>3</td>\n",
       "      <td>2</td>\n",
       "      <td>2</td>\n",
       "    </tr>\n",
       "    <tr>\n",
       "      <th>top</th>\n",
       "      <td>LONDON HOLIDAY SERVICES LIMITED</td>\n",
       "      <td>00764426</td>\n",
       "      <td>NEW WAVE ACCOUNTING</td>\n",
       "      <td>46</td>\n",
       "      <td>145-157 ST JOHN STREET</td>\n",
       "      <td>LONDON</td>\n",
       "      <td>LONDON</td>\n",
       "      <td>SURREY</td>\n",
       "      <td>ENGLAND</td>\n",
       "      <td>EC1V 4PW</td>\n",
       "      <td>...</td>\n",
       "      <td>02/02/2001</td>\n",
       "      <td>PRECIS (2464) LIMITED</td>\n",
       "      <td>30/01/1998</td>\n",
       "      <td>BITS AND PIXELS LTD</td>\n",
       "      <td>16/08/1996</td>\n",
       "      <td>DONALD HEALEY MOTOR COMPANY,LIMITED</td>\n",
       "      <td>09/11/2010</td>\n",
       "      <td>EVER 1199 LIMITED</td>\n",
       "      <td>24/02/1999</td>\n",
       "      <td>SOUTH WALES RADIO LIMITED</td>\n",
       "    </tr>\n",
       "    <tr>\n",
       "      <th>freq</th>\n",
       "      <td>1</td>\n",
       "      <td>1</td>\n",
       "      <td>7</td>\n",
       "      <td>1</td>\n",
       "      <td>46</td>\n",
       "      <td>131</td>\n",
       "      <td>1937</td>\n",
       "      <td>326</td>\n",
       "      <td>1274</td>\n",
       "      <td>52</td>\n",
       "      <td>...</td>\n",
       "      <td>2</td>\n",
       "      <td>1</td>\n",
       "      <td>2</td>\n",
       "      <td>1</td>\n",
       "      <td>1</td>\n",
       "      <td>1</td>\n",
       "      <td>1</td>\n",
       "      <td>1</td>\n",
       "      <td>1</td>\n",
       "      <td>1</td>\n",
       "    </tr>\n",
       "  </tbody>\n",
       "</table>\n",
       "<p>4 rows × 36 columns</p>\n",
       "</div>"
      ],
      "text/plain": [
       "                            CompanyName  CompanyNumber    RegAddress.CareOf  \\\n",
       "count                             11053          11053                  469   \n",
       "unique                            11053          11053                  427   \n",
       "top     LONDON HOLIDAY SERVICES LIMITED       00764426  NEW WAVE ACCOUNTING   \n",
       "freq                                  1              1                    7   \n",
       "\n",
       "       RegAddress.POBox RegAddress.AddressLine1  RegAddress.AddressLine2  \\\n",
       "count                14                   11022                     7539   \n",
       "unique               14                    9489                     5451   \n",
       "top                  46  145-157 ST JOHN STREET                   LONDON   \n",
       "freq                  1                      46                      131   \n",
       "\n",
       "       RegAddress.PostTown RegAddress.County RegAddress.Country  \\\n",
       "count                10738              5709               2565   \n",
       "unique                1766               368                 25   \n",
       "top                 LONDON            SURREY            ENGLAND   \n",
       "freq                  1937               326               1274   \n",
       "\n",
       "       RegAddress.PostCode             ...              \\\n",
       "count                10945             ...               \n",
       "unique                9182             ...               \n",
       "top               EC1V 4PW             ...               \n",
       "freq                    52             ...               \n",
       "\n",
       "        PreviousName_2.CONDATE  PreviousName_2.CompanyName  \\\n",
       "count                      237                         237   \n",
       "unique                     236                         237   \n",
       "top                 02/02/2001       PRECIS (2464) LIMITED   \n",
       "freq                         2                           1   \n",
       "\n",
       "       PreviousName_3.CONDATE  PreviousName_3.CompanyName  \\\n",
       "count                      53                          53   \n",
       "unique                     52                          53   \n",
       "top                30/01/1998         BITS AND PIXELS LTD   \n",
       "freq                        2                           1   \n",
       "\n",
       "       PreviousName_4.CONDATE           PreviousName_4.CompanyName  \\\n",
       "count                      15                                   15   \n",
       "unique                     15                                   15   \n",
       "top                16/08/1996  DONALD HEALEY MOTOR COMPANY,LIMITED   \n",
       "freq                        1                                    1   \n",
       "\n",
       "       PreviousName_5.CONDATE  PreviousName_5.CompanyName  \\\n",
       "count                       3                           3   \n",
       "unique                      3                           3   \n",
       "top                09/11/2010           EVER 1199 LIMITED   \n",
       "freq                        1                           1   \n",
       "\n",
       "       PreviousName_6.CONDATE  PreviousName_6.CompanyName  \n",
       "count                       2                           2  \n",
       "unique                      2                           2  \n",
       "top                24/02/1999   SOUTH WALES RADIO LIMITED  \n",
       "freq                        1                           1  \n",
       "\n",
       "[4 rows x 36 columns]"
      ]
     },
     "execution_count": 304,
     "metadata": {},
     "output_type": "execute_result"
    }
   ],
   "source": [
    "# We can also call this on a frame as a whole and specify which types to include\n",
    "df.describe(include=['object'])"
   ]
  },
  {
   "cell_type": "markdown",
   "metadata": {
    "slideshow": {
     "slide_type": "subslide"
    }
   },
   "source": [
    "### Data types\n",
    "\n",
    "The main pandas datatypes are ```float```, ```int```, ```bool```, ```datetime64```, ```timedelta``` and ```object```. ```float``` and ```int``` also have 32 and 64 bit variants.\n",
    "\n",
    "Lets take a look at the datatypes in our dataframe again."
   ]
  },
  {
   "cell_type": "code",
   "execution_count": 305,
   "metadata": {
    "collapsed": false,
    "slideshow": {
     "slide_type": "fragment"
    }
   },
   "outputs": [
    {
     "data": {
      "text/plain": [
       "CompanyName                            object\n",
       " CompanyNumber                         object\n",
       "RegAddress.CareOf                      object\n",
       "RegAddress.POBox                       object\n",
       "RegAddress.AddressLine1                object\n",
       " RegAddress.AddressLine2               object\n",
       "RegAddress.PostTown                    object\n",
       "RegAddress.County                      object\n",
       "RegAddress.Country                     object\n",
       "RegAddress.PostCode                    object\n",
       "CompanyCategory                        object\n",
       "CompanyStatus                          object\n",
       "CountryOfOrigin                        object\n",
       "DissolutionDate                       float64\n",
       "IncorporationDate                      object\n",
       "Accounts.AccountRefDay                float64\n",
       "Accounts.AccountRefMonth              float64\n",
       "Accounts.NextDueDate                   object\n",
       "Accounts.LastMadeUpDate                object\n",
       "Accounts.AccountCategory               object\n",
       "Returns.NextDueDate                    object\n",
       "Returns.LastMadeUpDate                 object\n",
       "Mortgages.NumMortCharges                int64\n",
       "Mortgages.NumMortOutstanding            int64\n",
       "Mortgages.NumMortPartSatisfied          int64\n",
       "Mortgages.NumMortSatisfied              int64\n",
       "SICCode.SicText_1                      object\n",
       "SICCode.SicText_2                      object\n",
       "SICCode.SicText_3                      object\n",
       "SICCode.SicText_4                      object\n",
       "LimitedPartnerships.NumGenPartners      int64\n",
       "LimitedPartnerships.NumLimPartners      int64\n",
       "URI                                    object\n",
       "PreviousName_1.CONDATE                 object\n",
       " PreviousName_1.CompanyName            object\n",
       " PreviousName_2.CONDATE                object\n",
       " PreviousName_2.CompanyName            object\n",
       "PreviousName_3.CONDATE                 object\n",
       " PreviousName_3.CompanyName            object\n",
       "PreviousName_4.CONDATE                 object\n",
       " PreviousName_4.CompanyName            object\n",
       "PreviousName_5.CONDATE                 object\n",
       " PreviousName_5.CompanyName            object\n",
       "PreviousName_6.CONDATE                 object\n",
       " PreviousName_6.CompanyName            object\n",
       "PreviousName_7.CONDATE                float64\n",
       " PreviousName_7.CompanyName           float64\n",
       "PreviousName_8.CONDATE                float64\n",
       " PreviousName_8.CompanyName           float64\n",
       "PreviousName_9.CONDATE                float64\n",
       " PreviousName_9.CompanyName           float64\n",
       "PreviousName_10.CONDATE               float64\n",
       " PreviousName_10.CompanyName          float64\n",
       "dtype: object"
      ]
     },
     "execution_count": 305,
     "metadata": {},
     "output_type": "execute_result"
    }
   ],
   "source": [
    "df.dtypes"
   ]
  },
  {
   "cell_type": "code",
   "execution_count": 306,
   "metadata": {
    "collapsed": true,
    "slideshow": {
     "slide_type": "subslide"
    }
   },
   "outputs": [],
   "source": [
    "df['IncorporationDate'] = pd.to_datetime(df['IncorporationDate'])"
   ]
  },
  {
   "cell_type": "markdown",
   "metadata": {
    "slideshow": {
     "slide_type": "fragment"
    }
   },
   "source": [
    "How would you use this function to correct the ```dtype``` of the _Accounts.NextDueDate_ field?"
   ]
  },
  {
   "cell_type": "code",
   "execution_count": 307,
   "metadata": {
    "collapsed": true,
    "slideshow": {
     "slide_type": "fragment"
    }
   },
   "outputs": [],
   "source": [
    "df['Accounts.NextDueDate'] = pd.to_datetime(df['Accounts.NextDueDate'])"
   ]
  },
  {
   "cell_type": "code",
   "execution_count": 308,
   "metadata": {
    "collapsed": false,
    "slideshow": {
     "slide_type": "fragment"
    }
   },
   "outputs": [
    {
     "data": {
      "text/plain": [
       "CountryOfOrigin                     object\n",
       "DissolutionDate                    float64\n",
       "IncorporationDate           datetime64[ns]\n",
       "Accounts.AccountRefDay             float64\n",
       "Accounts.AccountRefMonth           float64\n",
       "Accounts.NextDueDate        datetime64[ns]\n",
       "Accounts.LastMadeUpDate             object\n",
       "Accounts.AccountCategory            object\n",
       "dtype: object"
      ]
     },
     "execution_count": 308,
     "metadata": {},
     "output_type": "execute_result"
    }
   ],
   "source": [
    "df.dtypes[12:20]"
   ]
  },
  {
   "cell_type": "markdown",
   "metadata": {
    "slideshow": {
     "slide_type": "slide"
    }
   },
   "source": [
    "### Selecting rows and columns\n",
    "\n",
    "How can we slice and dice with pandas?\n",
    "\n",
    "We can use the the familiar ```[]``` notation. One way to think about how this works is that in general it returns a lower dimensional datastructure than the one you call on."
   ]
  },
  {
   "cell_type": "code",
   "execution_count": 309,
   "metadata": {
    "collapsed": false,
    "slideshow": {
     "slide_type": "fragment"
    }
   },
   "outputs": [
    {
     "data": {
      "text/plain": [
       "pandas.core.frame.DataFrame"
      ]
     },
     "execution_count": 309,
     "metadata": {},
     "output_type": "execute_result"
    }
   ],
   "source": [
    "type(df)"
   ]
  },
  {
   "cell_type": "code",
   "execution_count": 310,
   "metadata": {
    "collapsed": false,
    "slideshow": {
     "slide_type": "fragment"
    }
   },
   "outputs": [
    {
     "data": {
      "text/plain": [
       "pandas.core.series.Series"
      ]
     },
     "execution_count": 310,
     "metadata": {},
     "output_type": "execute_result"
    }
   ],
   "source": [
    "type(df['CompanyName'])"
   ]
  },
  {
   "cell_type": "code",
   "execution_count": 311,
   "metadata": {
    "collapsed": false,
    "slideshow": {
     "slide_type": "fragment"
    }
   },
   "outputs": [
    {
     "data": {
      "text/plain": [
       "str"
      ]
     },
     "execution_count": 311,
     "metadata": {},
     "output_type": "execute_result"
    }
   ],
   "source": [
    "names = df['CompanyName']\n",
    "type(names[0])"
   ]
  },
  {
   "cell_type": "markdown",
   "metadata": {
    "slideshow": {
     "slide_type": "subslide"
    }
   },
   "source": [
    "But, as with so much of ```pandas```, the operator is flexible - it also accepts a ```list``` of columns and in that case we get back a ```DataFrame```."
   ]
  },
  {
   "cell_type": "code",
   "execution_count": 312,
   "metadata": {
    "collapsed": false,
    "slideshow": {
     "slide_type": "fragment"
    }
   },
   "outputs": [
    {
     "data": {
      "text/plain": [
       "pandas.core.frame.DataFrame"
      ]
     },
     "execution_count": 312,
     "metadata": {},
     "output_type": "execute_result"
    }
   ],
   "source": [
    "# We can also pass a list of columns\n",
    "type(df[['CompanyName', 'IncorporationDate']])"
   ]
  },
  {
   "cell_type": "code",
   "execution_count": 313,
   "metadata": {
    "collapsed": false,
    "slideshow": {
     "slide_type": "fragment"
    }
   },
   "outputs": [
    {
     "data": {
      "text/html": [
       "<div style=\"max-height:1000px;max-width:1500px;overflow:auto;\">\n",
       "<table border=\"1\" class=\"dataframe\">\n",
       "  <thead>\n",
       "    <tr style=\"text-align: right;\">\n",
       "      <th></th>\n",
       "      <th>CompanyName</th>\n",
       "      <th>IncorporationDate</th>\n",
       "    </tr>\n",
       "  </thead>\n",
       "  <tbody>\n",
       "    <tr>\n",
       "      <th>0</th>\n",
       "      <td>J.C.B. EQUIPMENT LIMITED</td>\n",
       "      <td>1971-01-25</td>\n",
       "    </tr>\n",
       "    <tr>\n",
       "      <th>1</th>\n",
       "      <td>J.C.W (NW) LIMITED</td>\n",
       "      <td>2014-07-05</td>\n",
       "    </tr>\n",
       "    <tr>\n",
       "      <th>2</th>\n",
       "      <td>J.D BARTON LTD</td>\n",
       "      <td>2014-12-05</td>\n",
       "    </tr>\n",
       "    <tr>\n",
       "      <th>3</th>\n",
       "      <td>J.D. AUTOMOTIVE (LUDLOW) LTD</td>\n",
       "      <td>2003-06-20</td>\n",
       "    </tr>\n",
       "    <tr>\n",
       "      <th>4</th>\n",
       "      <td>J.D. PHILLIPS &amp; DAUGHTERS LIMITED</td>\n",
       "      <td>2003-10-30</td>\n",
       "    </tr>\n",
       "  </tbody>\n",
       "</table>\n",
       "</div>"
      ],
      "text/plain": [
       "                         CompanyName IncorporationDate\n",
       "0           J.C.B. EQUIPMENT LIMITED        1971-01-25\n",
       "1                 J.C.W (NW) LIMITED        2014-07-05\n",
       "2                     J.D BARTON LTD        2014-12-05\n",
       "3       J.D. AUTOMOTIVE (LUDLOW) LTD        2003-06-20\n",
       "4  J.D. PHILLIPS & DAUGHTERS LIMITED        2003-10-30"
      ]
     },
     "execution_count": 313,
     "metadata": {},
     "output_type": "execute_result"
    }
   ],
   "source": [
    "df[['CompanyName', 'IncorporationDate']].head(5)"
   ]
  },
  {
   "cell_type": "markdown",
   "metadata": {
    "slideshow": {
     "slide_type": "subslide"
    }
   },
   "source": [
    "We can also access columns in ```DataFrame``` objects as an attribute, as long as the column name is a valid Python identifier."
   ]
  },
  {
   "cell_type": "code",
   "execution_count": 314,
   "metadata": {
    "collapsed": false,
    "slideshow": {
     "slide_type": "fragment"
    }
   },
   "outputs": [
    {
     "data": {
      "text/plain": [
       "0             J.C.B. EQUIPMENT LIMITED\n",
       "1                   J.C.W (NW) LIMITED\n",
       "2                       J.D BARTON LTD\n",
       "3         J.D. AUTOMOTIVE (LUDLOW) LTD\n",
       "4    J.D. PHILLIPS & DAUGHTERS LIMITED\n",
       "Name: CompanyName, dtype: object"
      ]
     },
     "execution_count": 314,
     "metadata": {},
     "output_type": "execute_result"
    }
   ],
   "source": [
    "df.CompanyName.head()"
   ]
  },
  {
   "cell_type": "code",
   "execution_count": 315,
   "metadata": {
    "collapsed": false,
    "slideshow": {
     "slide_type": "fragment"
    }
   },
   "outputs": [],
   "source": [
    "#df.Mortgages.NumMortCharges"
   ]
  },
  {
   "cell_type": "markdown",
   "metadata": {
    "slideshow": {
     "slide_type": "fragment"
    }
   },
   "source": [
    "Try using tab-complete..."
   ]
  },
  {
   "cell_type": "markdown",
   "metadata": {
    "slideshow": {
     "slide_type": "subslide"
    }
   },
   "source": [
    "We can also select rows using ```[]```.\n",
    "\n",
    "We can supply ```slice``` expressions in much the same way as for standard Python slicing."
   ]
  },
  {
   "cell_type": "markdown",
   "metadata": {
    "slideshow": {
     "slide_type": "fragment"
    }
   },
   "source": [
    "How would you access the first two rows in a ```DataFrame```?"
   ]
  },
  {
   "cell_type": "code",
   "execution_count": 316,
   "metadata": {
    "collapsed": false,
    "slideshow": {
     "slide_type": "fragment"
    }
   },
   "outputs": [
    {
     "data": {
      "text/html": [
       "<div style=\"max-height:1000px;max-width:1500px;overflow:auto;\">\n",
       "<table border=\"1\" class=\"dataframe\">\n",
       "  <thead>\n",
       "    <tr style=\"text-align: right;\">\n",
       "      <th></th>\n",
       "      <th>CompanyName</th>\n",
       "      <th>CompanyNumber</th>\n",
       "      <th>RegAddress.CareOf</th>\n",
       "      <th>RegAddress.POBox</th>\n",
       "      <th>RegAddress.AddressLine1</th>\n",
       "      <th>RegAddress.AddressLine2</th>\n",
       "      <th>RegAddress.PostTown</th>\n",
       "      <th>RegAddress.County</th>\n",
       "      <th>RegAddress.Country</th>\n",
       "      <th>RegAddress.PostCode</th>\n",
       "      <th>...</th>\n",
       "      <th>PreviousName_6.CONDATE</th>\n",
       "      <th>PreviousName_6.CompanyName</th>\n",
       "      <th>PreviousName_7.CONDATE</th>\n",
       "      <th>PreviousName_7.CompanyName</th>\n",
       "      <th>PreviousName_8.CONDATE</th>\n",
       "      <th>PreviousName_8.CompanyName</th>\n",
       "      <th>PreviousName_9.CONDATE</th>\n",
       "      <th>PreviousName_9.CompanyName</th>\n",
       "      <th>PreviousName_10.CONDATE</th>\n",
       "      <th>PreviousName_10.CompanyName</th>\n",
       "    </tr>\n",
       "  </thead>\n",
       "  <tbody>\n",
       "    <tr>\n",
       "      <th>0</th>\n",
       "      <td>J.C.B. EQUIPMENT LIMITED</td>\n",
       "      <td>01000710</td>\n",
       "      <td>NaN</td>\n",
       "      <td>NaN</td>\n",
       "      <td>LAKESIDE WORKS</td>\n",
       "      <td>ROCESTER</td>\n",
       "      <td>STAFFS</td>\n",
       "      <td>NaN</td>\n",
       "      <td>NaN</td>\n",
       "      <td>ST14 5JP</td>\n",
       "      <td>...</td>\n",
       "      <td>NaN</td>\n",
       "      <td>NaN</td>\n",
       "      <td>NaN</td>\n",
       "      <td>NaN</td>\n",
       "      <td>NaN</td>\n",
       "      <td>NaN</td>\n",
       "      <td>NaN</td>\n",
       "      <td>NaN</td>\n",
       "      <td>NaN</td>\n",
       "      <td>NaN</td>\n",
       "    </tr>\n",
       "    <tr>\n",
       "      <th>1</th>\n",
       "      <td>J.C.W (NW) LIMITED</td>\n",
       "      <td>09028601</td>\n",
       "      <td>NaN</td>\n",
       "      <td>NaN</td>\n",
       "      <td>144 THATTO HEATH ROAD</td>\n",
       "      <td>NaN</td>\n",
       "      <td>ST. HELENS</td>\n",
       "      <td>NaN</td>\n",
       "      <td>NaN</td>\n",
       "      <td>WA9 5PE</td>\n",
       "      <td>...</td>\n",
       "      <td>NaN</td>\n",
       "      <td>NaN</td>\n",
       "      <td>NaN</td>\n",
       "      <td>NaN</td>\n",
       "      <td>NaN</td>\n",
       "      <td>NaN</td>\n",
       "      <td>NaN</td>\n",
       "      <td>NaN</td>\n",
       "      <td>NaN</td>\n",
       "      <td>NaN</td>\n",
       "    </tr>\n",
       "  </tbody>\n",
       "</table>\n",
       "<p>2 rows × 53 columns</p>\n",
       "</div>"
      ],
      "text/plain": [
       "                CompanyName  CompanyNumber RegAddress.CareOf RegAddress.POBox  \\\n",
       "0  J.C.B. EQUIPMENT LIMITED       01000710               NaN              NaN   \n",
       "1        J.C.W (NW) LIMITED       09028601               NaN              NaN   \n",
       "\n",
       "  RegAddress.AddressLine1  RegAddress.AddressLine2 RegAddress.PostTown  \\\n",
       "0          LAKESIDE WORKS                 ROCESTER              STAFFS   \n",
       "1   144 THATTO HEATH ROAD                      NaN          ST. HELENS   \n",
       "\n",
       "  RegAddress.County RegAddress.Country RegAddress.PostCode  \\\n",
       "0               NaN                NaN            ST14 5JP   \n",
       "1               NaN                NaN             WA9 5PE   \n",
       "\n",
       "              ...              PreviousName_6.CONDATE  \\\n",
       "0             ...                                 NaN   \n",
       "1             ...                                 NaN   \n",
       "\n",
       "   PreviousName_6.CompanyName PreviousName_7.CONDATE  \\\n",
       "0                         NaN                    NaN   \n",
       "1                         NaN                    NaN   \n",
       "\n",
       "    PreviousName_7.CompanyName PreviousName_8.CONDATE  \\\n",
       "0                          NaN                    NaN   \n",
       "1                          NaN                    NaN   \n",
       "\n",
       "    PreviousName_8.CompanyName  PreviousName_9.CONDATE  \\\n",
       "0                          NaN                     NaN   \n",
       "1                          NaN                     NaN   \n",
       "\n",
       "   PreviousName_9.CompanyName PreviousName_10.CONDATE  \\\n",
       "0                         NaN                     NaN   \n",
       "1                         NaN                     NaN   \n",
       "\n",
       "   PreviousName_10.CompanyName  \n",
       "0                          NaN  \n",
       "1                          NaN  \n",
       "\n",
       "[2 rows x 53 columns]"
      ]
     },
     "execution_count": 316,
     "metadata": {},
     "output_type": "execute_result"
    }
   ],
   "source": [
    "df[:2]"
   ]
  },
  {
   "cell_type": "markdown",
   "metadata": {
    "slideshow": {
     "slide_type": "subslide"
    }
   },
   "source": [
    "How would you access all but the last row in a ```DataFrame```?"
   ]
  },
  {
   "cell_type": "code",
   "execution_count": 317,
   "metadata": {
    "collapsed": false,
    "slideshow": {
     "slide_type": "fragment"
    }
   },
   "outputs": [
    {
     "data": {
      "text/html": [
       "<div style=\"max-height:1000px;max-width:1500px;overflow:auto;\">\n",
       "<table border=\"1\" class=\"dataframe\">\n",
       "  <thead>\n",
       "    <tr style=\"text-align: right;\">\n",
       "      <th></th>\n",
       "      <th>CompanyName</th>\n",
       "      <th>CompanyNumber</th>\n",
       "      <th>RegAddress.CareOf</th>\n",
       "      <th>RegAddress.POBox</th>\n",
       "      <th>RegAddress.AddressLine1</th>\n",
       "      <th>RegAddress.AddressLine2</th>\n",
       "      <th>RegAddress.PostTown</th>\n",
       "      <th>RegAddress.County</th>\n",
       "      <th>RegAddress.Country</th>\n",
       "      <th>RegAddress.PostCode</th>\n",
       "      <th>...</th>\n",
       "      <th>PreviousName_6.CONDATE</th>\n",
       "      <th>PreviousName_6.CompanyName</th>\n",
       "      <th>PreviousName_7.CONDATE</th>\n",
       "      <th>PreviousName_7.CompanyName</th>\n",
       "      <th>PreviousName_8.CONDATE</th>\n",
       "      <th>PreviousName_8.CompanyName</th>\n",
       "      <th>PreviousName_9.CONDATE</th>\n",
       "      <th>PreviousName_9.CompanyName</th>\n",
       "      <th>PreviousName_10.CONDATE</th>\n",
       "      <th>PreviousName_10.CompanyName</th>\n",
       "    </tr>\n",
       "  </thead>\n",
       "  <tbody>\n",
       "    <tr>\n",
       "      <th>11050</th>\n",
       "      <td>PIRRIE DESIGN CAPITAL LTD.</td>\n",
       "      <td>08742539</td>\n",
       "      <td>NaN</td>\n",
       "      <td>NaN</td>\n",
       "      <td>209 CRANMER COURT</td>\n",
       "      <td>WHITEHEADS GROVE</td>\n",
       "      <td>LONDON</td>\n",
       "      <td>NaN</td>\n",
       "      <td>NaN</td>\n",
       "      <td>SW3 3HG</td>\n",
       "      <td>...</td>\n",
       "      <td>NaN</td>\n",
       "      <td>NaN</td>\n",
       "      <td>NaN</td>\n",
       "      <td>NaN</td>\n",
       "      <td>NaN</td>\n",
       "      <td>NaN</td>\n",
       "      <td>NaN</td>\n",
       "      <td>NaN</td>\n",
       "      <td>NaN</td>\n",
       "      <td>NaN</td>\n",
       "    </tr>\n",
       "    <tr>\n",
       "      <th>11051</th>\n",
       "      <td>PIS CONTRACTING LTD</td>\n",
       "      <td>09642072</td>\n",
       "      <td>NaN</td>\n",
       "      <td>NaN</td>\n",
       "      <td>BRANSTON COURT</td>\n",
       "      <td>BRANSTON STREET</td>\n",
       "      <td>BIRMINGHAM</td>\n",
       "      <td>NaN</td>\n",
       "      <td>UNITED KINGDOM</td>\n",
       "      <td>B18 6BA</td>\n",
       "      <td>...</td>\n",
       "      <td>NaN</td>\n",
       "      <td>NaN</td>\n",
       "      <td>NaN</td>\n",
       "      <td>NaN</td>\n",
       "      <td>NaN</td>\n",
       "      <td>NaN</td>\n",
       "      <td>NaN</td>\n",
       "      <td>NaN</td>\n",
       "      <td>NaN</td>\n",
       "      <td>NaN</td>\n",
       "    </tr>\n",
       "    <tr>\n",
       "      <th>11052</th>\n",
       "      <td>PISGAH PARTNERS LIMITED</td>\n",
       "      <td>08631383</td>\n",
       "      <td>NaN</td>\n",
       "      <td>NaN</td>\n",
       "      <td>4 FITZGERALD AVENUE</td>\n",
       "      <td>NaN</td>\n",
       "      <td>LONDON</td>\n",
       "      <td>NaN</td>\n",
       "      <td>NaN</td>\n",
       "      <td>SW14 8SZ</td>\n",
       "      <td>...</td>\n",
       "      <td>NaN</td>\n",
       "      <td>NaN</td>\n",
       "      <td>NaN</td>\n",
       "      <td>NaN</td>\n",
       "      <td>NaN</td>\n",
       "      <td>NaN</td>\n",
       "      <td>NaN</td>\n",
       "      <td>NaN</td>\n",
       "      <td>NaN</td>\n",
       "      <td>NaN</td>\n",
       "    </tr>\n",
       "  </tbody>\n",
       "</table>\n",
       "<p>3 rows × 53 columns</p>\n",
       "</div>"
      ],
      "text/plain": [
       "                      CompanyName  CompanyNumber RegAddress.CareOf  \\\n",
       "11050  PIRRIE DESIGN CAPITAL LTD.       08742539               NaN   \n",
       "11051         PIS CONTRACTING LTD       09642072               NaN   \n",
       "11052     PISGAH PARTNERS LIMITED       08631383               NaN   \n",
       "\n",
       "      RegAddress.POBox RegAddress.AddressLine1  RegAddress.AddressLine2  \\\n",
       "11050              NaN       209 CRANMER COURT         WHITEHEADS GROVE   \n",
       "11051              NaN          BRANSTON COURT          BRANSTON STREET   \n",
       "11052              NaN     4 FITZGERALD AVENUE                      NaN   \n",
       "\n",
       "      RegAddress.PostTown RegAddress.County RegAddress.Country  \\\n",
       "11050              LONDON               NaN                NaN   \n",
       "11051          BIRMINGHAM               NaN     UNITED KINGDOM   \n",
       "11052              LONDON               NaN                NaN   \n",
       "\n",
       "      RegAddress.PostCode             ...              PreviousName_6.CONDATE  \\\n",
       "11050             SW3 3HG             ...                                 NaN   \n",
       "11051             B18 6BA             ...                                 NaN   \n",
       "11052            SW14 8SZ             ...                                 NaN   \n",
       "\n",
       "       PreviousName_6.CompanyName PreviousName_7.CONDATE  \\\n",
       "11050                         NaN                    NaN   \n",
       "11051                         NaN                    NaN   \n",
       "11052                         NaN                    NaN   \n",
       "\n",
       "        PreviousName_7.CompanyName PreviousName_8.CONDATE  \\\n",
       "11050                          NaN                    NaN   \n",
       "11051                          NaN                    NaN   \n",
       "11052                          NaN                    NaN   \n",
       "\n",
       "        PreviousName_8.CompanyName  PreviousName_9.CONDATE  \\\n",
       "11050                          NaN                     NaN   \n",
       "11051                          NaN                     NaN   \n",
       "11052                          NaN                     NaN   \n",
       "\n",
       "       PreviousName_9.CompanyName PreviousName_10.CONDATE  \\\n",
       "11050                         NaN                     NaN   \n",
       "11051                         NaN                     NaN   \n",
       "11052                         NaN                     NaN   \n",
       "\n",
       "       PreviousName_10.CompanyName  \n",
       "11050                          NaN  \n",
       "11051                          NaN  \n",
       "11052                          NaN  \n",
       "\n",
       "[3 rows x 53 columns]"
      ]
     },
     "execution_count": 317,
     "metadata": {},
     "output_type": "execute_result"
    }
   ],
   "source": [
    "df.tail(3)"
   ]
  },
  {
   "cell_type": "code",
   "execution_count": 318,
   "metadata": {
    "collapsed": false,
    "slideshow": {
     "slide_type": "subslide"
    }
   },
   "outputs": [
    {
     "data": {
      "text/html": [
       "<div style=\"max-height:1000px;max-width:1500px;overflow:auto;\">\n",
       "<table border=\"1\" class=\"dataframe\">\n",
       "  <thead>\n",
       "    <tr style=\"text-align: right;\">\n",
       "      <th></th>\n",
       "      <th>CompanyName</th>\n",
       "      <th>CompanyNumber</th>\n",
       "      <th>RegAddress.CareOf</th>\n",
       "      <th>RegAddress.POBox</th>\n",
       "      <th>RegAddress.AddressLine1</th>\n",
       "      <th>RegAddress.AddressLine2</th>\n",
       "      <th>RegAddress.PostTown</th>\n",
       "      <th>RegAddress.County</th>\n",
       "      <th>RegAddress.Country</th>\n",
       "      <th>RegAddress.PostCode</th>\n",
       "      <th>...</th>\n",
       "      <th>PreviousName_6.CONDATE</th>\n",
       "      <th>PreviousName_6.CompanyName</th>\n",
       "      <th>PreviousName_7.CONDATE</th>\n",
       "      <th>PreviousName_7.CompanyName</th>\n",
       "      <th>PreviousName_8.CONDATE</th>\n",
       "      <th>PreviousName_8.CompanyName</th>\n",
       "      <th>PreviousName_9.CONDATE</th>\n",
       "      <th>PreviousName_9.CompanyName</th>\n",
       "      <th>PreviousName_10.CONDATE</th>\n",
       "      <th>PreviousName_10.CompanyName</th>\n",
       "    </tr>\n",
       "  </thead>\n",
       "  <tbody>\n",
       "    <tr>\n",
       "      <th>11049</th>\n",
       "      <td>PIRNIE FARMS</td>\n",
       "      <td>SL000893</td>\n",
       "      <td>NaN</td>\n",
       "      <td>NaN</td>\n",
       "      <td>PIRNIE</td>\n",
       "      <td>KELSO</td>\n",
       "      <td>NaN</td>\n",
       "      <td>NaN</td>\n",
       "      <td>NaN</td>\n",
       "      <td>NaN</td>\n",
       "      <td>...</td>\n",
       "      <td>NaN</td>\n",
       "      <td>NaN</td>\n",
       "      <td>NaN</td>\n",
       "      <td>NaN</td>\n",
       "      <td>NaN</td>\n",
       "      <td>NaN</td>\n",
       "      <td>NaN</td>\n",
       "      <td>NaN</td>\n",
       "      <td>NaN</td>\n",
       "      <td>NaN</td>\n",
       "    </tr>\n",
       "    <tr>\n",
       "      <th>11050</th>\n",
       "      <td>PIRRIE DESIGN CAPITAL LTD.</td>\n",
       "      <td>08742539</td>\n",
       "      <td>NaN</td>\n",
       "      <td>NaN</td>\n",
       "      <td>209 CRANMER COURT</td>\n",
       "      <td>WHITEHEADS GROVE</td>\n",
       "      <td>LONDON</td>\n",
       "      <td>NaN</td>\n",
       "      <td>NaN</td>\n",
       "      <td>SW3 3HG</td>\n",
       "      <td>...</td>\n",
       "      <td>NaN</td>\n",
       "      <td>NaN</td>\n",
       "      <td>NaN</td>\n",
       "      <td>NaN</td>\n",
       "      <td>NaN</td>\n",
       "      <td>NaN</td>\n",
       "      <td>NaN</td>\n",
       "      <td>NaN</td>\n",
       "      <td>NaN</td>\n",
       "      <td>NaN</td>\n",
       "    </tr>\n",
       "    <tr>\n",
       "      <th>11051</th>\n",
       "      <td>PIS CONTRACTING LTD</td>\n",
       "      <td>09642072</td>\n",
       "      <td>NaN</td>\n",
       "      <td>NaN</td>\n",
       "      <td>BRANSTON COURT</td>\n",
       "      <td>BRANSTON STREET</td>\n",
       "      <td>BIRMINGHAM</td>\n",
       "      <td>NaN</td>\n",
       "      <td>UNITED KINGDOM</td>\n",
       "      <td>B18 6BA</td>\n",
       "      <td>...</td>\n",
       "      <td>NaN</td>\n",
       "      <td>NaN</td>\n",
       "      <td>NaN</td>\n",
       "      <td>NaN</td>\n",
       "      <td>NaN</td>\n",
       "      <td>NaN</td>\n",
       "      <td>NaN</td>\n",
       "      <td>NaN</td>\n",
       "      <td>NaN</td>\n",
       "      <td>NaN</td>\n",
       "    </tr>\n",
       "  </tbody>\n",
       "</table>\n",
       "<p>3 rows × 53 columns</p>\n",
       "</div>"
      ],
      "text/plain": [
       "                      CompanyName  CompanyNumber RegAddress.CareOf  \\\n",
       "11049                PIRNIE FARMS       SL000893               NaN   \n",
       "11050  PIRRIE DESIGN CAPITAL LTD.       08742539               NaN   \n",
       "11051         PIS CONTRACTING LTD       09642072               NaN   \n",
       "\n",
       "      RegAddress.POBox RegAddress.AddressLine1  RegAddress.AddressLine2  \\\n",
       "11049              NaN                  PIRNIE                    KELSO   \n",
       "11050              NaN       209 CRANMER COURT         WHITEHEADS GROVE   \n",
       "11051              NaN          BRANSTON COURT          BRANSTON STREET   \n",
       "\n",
       "      RegAddress.PostTown RegAddress.County RegAddress.Country  \\\n",
       "11049                 NaN               NaN                NaN   \n",
       "11050              LONDON               NaN                NaN   \n",
       "11051          BIRMINGHAM               NaN     UNITED KINGDOM   \n",
       "\n",
       "      RegAddress.PostCode             ...              PreviousName_6.CONDATE  \\\n",
       "11049                 NaN             ...                                 NaN   \n",
       "11050             SW3 3HG             ...                                 NaN   \n",
       "11051             B18 6BA             ...                                 NaN   \n",
       "\n",
       "       PreviousName_6.CompanyName PreviousName_7.CONDATE  \\\n",
       "11049                         NaN                    NaN   \n",
       "11050                         NaN                    NaN   \n",
       "11051                         NaN                    NaN   \n",
       "\n",
       "        PreviousName_7.CompanyName PreviousName_8.CONDATE  \\\n",
       "11049                          NaN                    NaN   \n",
       "11050                          NaN                    NaN   \n",
       "11051                          NaN                    NaN   \n",
       "\n",
       "        PreviousName_8.CompanyName  PreviousName_9.CONDATE  \\\n",
       "11049                          NaN                     NaN   \n",
       "11050                          NaN                     NaN   \n",
       "11051                          NaN                     NaN   \n",
       "\n",
       "       PreviousName_9.CompanyName PreviousName_10.CONDATE  \\\n",
       "11049                         NaN                     NaN   \n",
       "11050                         NaN                     NaN   \n",
       "11051                         NaN                     NaN   \n",
       "\n",
       "       PreviousName_10.CompanyName  \n",
       "11049                          NaN  \n",
       "11050                          NaN  \n",
       "11051                          NaN  \n",
       "\n",
       "[3 rows x 53 columns]"
      ]
     },
     "execution_count": 318,
     "metadata": {},
     "output_type": "execute_result"
    }
   ],
   "source": [
    "df[:-1].tail(3)\n"
   ]
  },
  {
   "cell_type": "markdown",
   "metadata": {
    "slideshow": {
     "slide_type": "subslide"
    }
   },
   "source": [
    "We can also introduce a step parameter by adding a second ```:```. For example, to take the every 10th row starting from the first up the 20th we could do:"
   ]
  },
  {
   "cell_type": "code",
   "execution_count": 319,
   "metadata": {
    "collapsed": false,
    "slideshow": {
     "slide_type": "fragment"
    }
   },
   "outputs": [
    {
     "data": {
      "text/html": [
       "<div style=\"max-height:1000px;max-width:1500px;overflow:auto;\">\n",
       "<table border=\"1\" class=\"dataframe\">\n",
       "  <thead>\n",
       "    <tr style=\"text-align: right;\">\n",
       "      <th></th>\n",
       "      <th>CompanyName</th>\n",
       "      <th>CompanyNumber</th>\n",
       "      <th>RegAddress.CareOf</th>\n",
       "      <th>RegAddress.POBox</th>\n",
       "      <th>RegAddress.AddressLine1</th>\n",
       "      <th>RegAddress.AddressLine2</th>\n",
       "      <th>RegAddress.PostTown</th>\n",
       "      <th>RegAddress.County</th>\n",
       "      <th>RegAddress.Country</th>\n",
       "      <th>RegAddress.PostCode</th>\n",
       "      <th>...</th>\n",
       "      <th>PreviousName_6.CONDATE</th>\n",
       "      <th>PreviousName_6.CompanyName</th>\n",
       "      <th>PreviousName_7.CONDATE</th>\n",
       "      <th>PreviousName_7.CompanyName</th>\n",
       "      <th>PreviousName_8.CONDATE</th>\n",
       "      <th>PreviousName_8.CompanyName</th>\n",
       "      <th>PreviousName_9.CONDATE</th>\n",
       "      <th>PreviousName_9.CompanyName</th>\n",
       "      <th>PreviousName_10.CONDATE</th>\n",
       "      <th>PreviousName_10.CompanyName</th>\n",
       "    </tr>\n",
       "  </thead>\n",
       "  <tbody>\n",
       "    <tr>\n",
       "      <th>0</th>\n",
       "      <td>J.C.B. EQUIPMENT LIMITED</td>\n",
       "      <td>01000710</td>\n",
       "      <td>NaN</td>\n",
       "      <td>NaN</td>\n",
       "      <td>LAKESIDE WORKS</td>\n",
       "      <td>ROCESTER</td>\n",
       "      <td>STAFFS</td>\n",
       "      <td>NaN</td>\n",
       "      <td>NaN</td>\n",
       "      <td>ST14 5JP</td>\n",
       "      <td>...</td>\n",
       "      <td>NaN</td>\n",
       "      <td>NaN</td>\n",
       "      <td>NaN</td>\n",
       "      <td>NaN</td>\n",
       "      <td>NaN</td>\n",
       "      <td>NaN</td>\n",
       "      <td>NaN</td>\n",
       "      <td>NaN</td>\n",
       "      <td>NaN</td>\n",
       "      <td>NaN</td>\n",
       "    </tr>\n",
       "    <tr>\n",
       "      <th>10</th>\n",
       "      <td>J.E.K. ASSOCIATES LIMITED</td>\n",
       "      <td>06897464</td>\n",
       "      <td>NaN</td>\n",
       "      <td>NaN</td>\n",
       "      <td>6 TIPPENDELL LANE</td>\n",
       "      <td>CHISWELL GREEN</td>\n",
       "      <td>ST ALBANS</td>\n",
       "      <td>HERTFORDSHIRE</td>\n",
       "      <td>NaN</td>\n",
       "      <td>AL2 3HL</td>\n",
       "      <td>...</td>\n",
       "      <td>NaN</td>\n",
       "      <td>NaN</td>\n",
       "      <td>NaN</td>\n",
       "      <td>NaN</td>\n",
       "      <td>NaN</td>\n",
       "      <td>NaN</td>\n",
       "      <td>NaN</td>\n",
       "      <td>NaN</td>\n",
       "      <td>NaN</td>\n",
       "      <td>NaN</td>\n",
       "    </tr>\n",
       "  </tbody>\n",
       "</table>\n",
       "<p>2 rows × 53 columns</p>\n",
       "</div>"
      ],
      "text/plain": [
       "                  CompanyName  CompanyNumber RegAddress.CareOf  \\\n",
       "0    J.C.B. EQUIPMENT LIMITED       01000710               NaN   \n",
       "10  J.E.K. ASSOCIATES LIMITED       06897464               NaN   \n",
       "\n",
       "   RegAddress.POBox RegAddress.AddressLine1  RegAddress.AddressLine2  \\\n",
       "0               NaN          LAKESIDE WORKS                 ROCESTER   \n",
       "10              NaN       6 TIPPENDELL LANE           CHISWELL GREEN   \n",
       "\n",
       "   RegAddress.PostTown RegAddress.County RegAddress.Country  \\\n",
       "0               STAFFS               NaN                NaN   \n",
       "10           ST ALBANS     HERTFORDSHIRE                NaN   \n",
       "\n",
       "   RegAddress.PostCode             ...              PreviousName_6.CONDATE  \\\n",
       "0             ST14 5JP             ...                                 NaN   \n",
       "10             AL2 3HL             ...                                 NaN   \n",
       "\n",
       "    PreviousName_6.CompanyName PreviousName_7.CONDATE  \\\n",
       "0                          NaN                    NaN   \n",
       "10                         NaN                    NaN   \n",
       "\n",
       "     PreviousName_7.CompanyName PreviousName_8.CONDATE  \\\n",
       "0                           NaN                    NaN   \n",
       "10                          NaN                    NaN   \n",
       "\n",
       "     PreviousName_8.CompanyName  PreviousName_9.CONDATE  \\\n",
       "0                           NaN                     NaN   \n",
       "10                          NaN                     NaN   \n",
       "\n",
       "    PreviousName_9.CompanyName PreviousName_10.CONDATE  \\\n",
       "0                          NaN                     NaN   \n",
       "10                         NaN                     NaN   \n",
       "\n",
       "    PreviousName_10.CompanyName  \n",
       "0                           NaN  \n",
       "10                          NaN  \n",
       "\n",
       "[2 rows x 53 columns]"
      ]
     },
     "execution_count": 319,
     "metadata": {},
     "output_type": "execute_result"
    }
   ],
   "source": [
    "df[:20:10]"
   ]
  },
  {
   "cell_type": "markdown",
   "metadata": {
    "slideshow": {
     "slide_type": "fragment"
    }
   },
   "source": [
    "How would we take every third company name of the first 10 companies?\n",
    "\n",
    "ie 3rd, 6th and 9th"
   ]
  },
  {
   "cell_type": "code",
   "execution_count": 320,
   "metadata": {
    "collapsed": false,
    "slideshow": {
     "slide_type": "fragment"
    }
   },
   "outputs": [
    {
     "data": {
      "text/plain": [
       "2                                J.D BARTON LTD\n",
       "5                            J.D. WYATT LIMITED\n",
       "8    J.E. STRUTT FARMING (PLANT & HIRE) LIMITED\n",
       "Name: CompanyName, dtype: object"
      ]
     },
     "execution_count": 320,
     "metadata": {},
     "output_type": "execute_result"
    }
   ],
   "source": [
    "df[2:10:3].CompanyName"
   ]
  },
  {
   "cell_type": "markdown",
   "metadata": {
    "slideshow": {
     "slide_type": "subslide"
    }
   },
   "source": [
    "pandas has a rich set of functionality for selecting data. It allows selection by index label, position and also has advanced hierarchical indexing.\n",
    "\n",
    "I'm going to focus on selecting by label and selection by position.\n",
    "\n",
    "In general:\n",
    "* ```df.loc``` is used for selection by index label\n",
    "* ```df.iloc``` is used for selection by position\n",
    "\n",
    "But:\n",
    "* The rules governing things like which elements are inclusive/exclusive vary\n",
    "* Watch out when the index labels are integers (as in our case - often when no index is supplied)"
   ]
  },
  {
   "cell_type": "code",
   "execution_count": 321,
   "metadata": {
    "collapsed": false,
    "slideshow": {
     "slide_type": "fragment"
    }
   },
   "outputs": [
    {
     "data": {
      "text/plain": [
       "'J.C.B. EQUIPMENT LIMITED'"
      ]
     },
     "execution_count": 321,
     "metadata": {},
     "output_type": "execute_result"
    }
   ],
   "source": [
    "# Take the row with the index label 0 - this is NOT in general the 0th element\n",
    "df.loc[0].CompanyName"
   ]
  },
  {
   "cell_type": "code",
   "execution_count": 322,
   "metadata": {
    "collapsed": false,
    "slideshow": {
     "slide_type": "fragment"
    }
   },
   "outputs": [
    {
     "data": {
      "text/plain": [
       "'J.C.B. EQUIPMENT LIMITED'"
      ]
     },
     "execution_count": 322,
     "metadata": {},
     "output_type": "execute_result"
    }
   ],
   "source": [
    "# Take the row at position 0 - this is NOT in general the row with label 0\n",
    "df.iloc[0].CompanyName"
   ]
  },
  {
   "cell_type": "markdown",
   "metadata": {
    "slideshow": {
     "slide_type": "subslide"
    }
   },
   "source": [
    "Both ```.loc``` and ```.iloc``` can take a ```list```. Using ```iloc```, how would we take every other element, upto the 10th, starting at the 2nd? You can use the ```range()``` function to build the list."
   ]
  },
  {
   "cell_type": "code",
   "execution_count": 323,
   "metadata": {
    "collapsed": false,
    "slideshow": {
     "slide_type": "fragment"
    }
   },
   "outputs": [
    {
     "data": {
      "text/plain": [
       "1              J.C.W (NW) LIMITED\n",
       "3    J.D. AUTOMOTIVE (LUDLOW) LTD\n",
       "5              J.D. WYATT LIMITED\n",
       "7             J.E. PORTER LIMITED\n",
       "9        J.E.BALLARD & CO.LIMITED\n",
       "Name: CompanyName, dtype: object"
      ]
     },
     "execution_count": 323,
     "metadata": {},
     "output_type": "execute_result"
    }
   ],
   "source": [
    "df.iloc[range(1,10,2)].CompanyName"
   ]
  },
  {
   "cell_type": "markdown",
   "metadata": {
    "slideshow": {
     "slide_type": "subslide"
    }
   },
   "source": [
    "```.loc``` and ```.iloc``` can also take a ```list``` slice expression. Watch for different inclusivity/exclusivity behaviour here."
   ]
  },
  {
   "cell_type": "code",
   "execution_count": 324,
   "metadata": {
    "collapsed": false,
    "slideshow": {
     "slide_type": "fragment"
    }
   },
   "outputs": [
    {
     "data": {
      "text/plain": [
       "0             J.C.B. EQUIPMENT LIMITED\n",
       "1                   J.C.W (NW) LIMITED\n",
       "2                       J.D BARTON LTD\n",
       "3         J.D. AUTOMOTIVE (LUDLOW) LTD\n",
       "4    J.D. PHILLIPS & DAUGHTERS LIMITED\n",
       "Name: CompanyName, dtype: object"
      ]
     },
     "execution_count": 324,
     "metadata": {},
     "output_type": "execute_result"
    }
   ],
   "source": [
    "df.loc[0:4].CompanyName"
   ]
  },
  {
   "cell_type": "code",
   "execution_count": 325,
   "metadata": {
    "collapsed": false,
    "slideshow": {
     "slide_type": "fragment"
    }
   },
   "outputs": [
    {
     "data": {
      "text/plain": [
       "0             J.C.B. EQUIPMENT LIMITED\n",
       "1                   J.C.W (NW) LIMITED\n",
       "2                       J.D BARTON LTD\n",
       "3         J.D. AUTOMOTIVE (LUDLOW) LTD\n",
       "4    J.D. PHILLIPS & DAUGHTERS LIMITED\n",
       "Name: CompanyName, dtype: object"
      ]
     },
     "execution_count": 325,
     "metadata": {},
     "output_type": "execute_result"
    }
   ],
   "source": [
    "# Compared to\n",
    "df.iloc[0:5].CompanyName"
   ]
  },
  {
   "cell_type": "markdown",
   "metadata": {
    "slideshow": {
     "slide_type": "subslide"
    }
   },
   "source": [
    "In terms of selecting columns, ```.loc``` will expect column labels, whilst ```.iloc``` will expect positions."
   ]
  },
  {
   "cell_type": "code",
   "execution_count": 326,
   "metadata": {
    "collapsed": false,
    "slideshow": {
     "slide_type": "fragment"
    }
   },
   "outputs": [
    {
     "data": {
      "text/html": [
       "<div style=\"max-height:1000px;max-width:1500px;overflow:auto;\">\n",
       "<table border=\"1\" class=\"dataframe\">\n",
       "  <thead>\n",
       "    <tr style=\"text-align: right;\">\n",
       "      <th></th>\n",
       "      <th>CompanyName</th>\n",
       "      <th>IncorporationDate</th>\n",
       "    </tr>\n",
       "  </thead>\n",
       "  <tbody>\n",
       "    <tr>\n",
       "      <th>0</th>\n",
       "      <td>J.C.B. EQUIPMENT LIMITED</td>\n",
       "      <td>1971-01-25</td>\n",
       "    </tr>\n",
       "    <tr>\n",
       "      <th>1</th>\n",
       "      <td>J.C.W (NW) LIMITED</td>\n",
       "      <td>2014-07-05</td>\n",
       "    </tr>\n",
       "    <tr>\n",
       "      <th>2</th>\n",
       "      <td>J.D BARTON LTD</td>\n",
       "      <td>2014-12-05</td>\n",
       "    </tr>\n",
       "    <tr>\n",
       "      <th>3</th>\n",
       "      <td>J.D. AUTOMOTIVE (LUDLOW) LTD</td>\n",
       "      <td>2003-06-20</td>\n",
       "    </tr>\n",
       "    <tr>\n",
       "      <th>4</th>\n",
       "      <td>J.D. PHILLIPS &amp; DAUGHTERS LIMITED</td>\n",
       "      <td>2003-10-30</td>\n",
       "    </tr>\n",
       "  </tbody>\n",
       "</table>\n",
       "</div>"
      ],
      "text/plain": [
       "                         CompanyName IncorporationDate\n",
       "0           J.C.B. EQUIPMENT LIMITED        1971-01-25\n",
       "1                 J.C.W (NW) LIMITED        2014-07-05\n",
       "2                     J.D BARTON LTD        2014-12-05\n",
       "3       J.D. AUTOMOTIVE (LUDLOW) LTD        2003-06-20\n",
       "4  J.D. PHILLIPS & DAUGHTERS LIMITED        2003-10-30"
      ]
     },
     "execution_count": 326,
     "metadata": {},
     "output_type": "execute_result"
    }
   ],
   "source": [
    "df.loc[0:4, ['CompanyName', 'IncorporationDate']]"
   ]
  },
  {
   "cell_type": "code",
   "execution_count": 327,
   "metadata": {
    "collapsed": false,
    "slideshow": {
     "slide_type": "fragment"
    }
   },
   "outputs": [
    {
     "data": {
      "text/html": [
       "<div style=\"max-height:1000px;max-width:1500px;overflow:auto;\">\n",
       "<table border=\"1\" class=\"dataframe\">\n",
       "  <thead>\n",
       "    <tr style=\"text-align: right;\">\n",
       "      <th></th>\n",
       "      <th>CompanyName</th>\n",
       "      <th>IncorporationDate</th>\n",
       "    </tr>\n",
       "  </thead>\n",
       "  <tbody>\n",
       "    <tr>\n",
       "      <th>0</th>\n",
       "      <td>J.C.B. EQUIPMENT LIMITED</td>\n",
       "      <td>1971-01-25</td>\n",
       "    </tr>\n",
       "    <tr>\n",
       "      <th>1</th>\n",
       "      <td>J.C.W (NW) LIMITED</td>\n",
       "      <td>2014-07-05</td>\n",
       "    </tr>\n",
       "    <tr>\n",
       "      <th>2</th>\n",
       "      <td>J.D BARTON LTD</td>\n",
       "      <td>2014-12-05</td>\n",
       "    </tr>\n",
       "    <tr>\n",
       "      <th>3</th>\n",
       "      <td>J.D. AUTOMOTIVE (LUDLOW) LTD</td>\n",
       "      <td>2003-06-20</td>\n",
       "    </tr>\n",
       "    <tr>\n",
       "      <th>4</th>\n",
       "      <td>J.D. PHILLIPS &amp; DAUGHTERS LIMITED</td>\n",
       "      <td>2003-10-30</td>\n",
       "    </tr>\n",
       "  </tbody>\n",
       "</table>\n",
       "</div>"
      ],
      "text/plain": [
       "                         CompanyName IncorporationDate\n",
       "0           J.C.B. EQUIPMENT LIMITED        1971-01-25\n",
       "1                 J.C.W (NW) LIMITED        2014-07-05\n",
       "2                     J.D BARTON LTD        2014-12-05\n",
       "3       J.D. AUTOMOTIVE (LUDLOW) LTD        2003-06-20\n",
       "4  J.D. PHILLIPS & DAUGHTERS LIMITED        2003-10-30"
      ]
     },
     "execution_count": 327,
     "metadata": {},
     "output_type": "execute_result"
    }
   ],
   "source": [
    "df.iloc[0:5, [0, 14]]"
   ]
  },
  {
   "cell_type": "markdown",
   "metadata": {
    "collapsed": false,
    "slideshow": {
     "slide_type": "subslide"
    }
   },
   "source": [
    "Pandas is also fairly forgiving in terms of trying to access out of range elements."
   ]
  },
  {
   "cell_type": "code",
   "execution_count": 328,
   "metadata": {
    "collapsed": false,
    "slideshow": {
     "slide_type": "fragment"
    }
   },
   "outputs": [
    {
     "data": {
      "text/plain": [
       "11049                  PIRNIE FARMS\n",
       "11050    PIRRIE DESIGN CAPITAL LTD.\n",
       "11051           PIS CONTRACTING LTD\n",
       "11052       PISGAH PARTNERS LIMITED\n",
       "Name: CompanyName, dtype: object"
      ]
     },
     "execution_count": 328,
     "metadata": {},
     "output_type": "execute_result"
    }
   ],
   "source": [
    "df.iloc[df.shape[0]-4:df.shape[0]+4:, 0]"
   ]
  },
  {
   "cell_type": "markdown",
   "metadata": {
    "slideshow": {
     "slide_type": "subslide"
    }
   },
   "source": [
    "One other function that is worth mentioning is ```.sample()```."
   ]
  },
  {
   "cell_type": "code",
   "execution_count": 329,
   "metadata": {
    "collapsed": false,
    "slideshow": {
     "slide_type": "fragment"
    }
   },
   "outputs": [
    {
     "data": {
      "text/plain": [
       "10031    PARKER AND CHASE EDMONDS EDUCATION LIMITED\n",
       "10978                                 PINE LAKE LTD\n",
       "1982        KJC MECHANICAL DESIGN SOLUTIONS LIMITED\n",
       "3655                    LOCKER COMPANY (UK) LIMITED\n",
       "2364            L&S TECHNOLOGY INDUSTRIAL CO., LTD.\n",
       "3603                                LMR (POOLE) LTD\n",
       "531            JIGSAW INTELLIGENT SOLUTIONS LIMITED\n",
       "6253                 MILL MEWS DEVELOPMENTS LIMITED\n",
       "6974                      MOURNE REDEVELOPMENTS LTD\n",
       "7168                       MULBERRY MEDICAL LIMITED\n",
       "Name: CompanyName, dtype: object"
      ]
     },
     "execution_count": 329,
     "metadata": {},
     "output_type": "execute_result"
    }
   ],
   "source": [
    "df['CompanyName'].sample(n=10, replace=False, weights=np.random.rand(df.shape[0]))"
   ]
  },
  {
   "cell_type": "markdown",
   "metadata": {
    "slideshow": {
     "slide_type": "subslide"
    }
   },
   "source": [
    "```df['CompanyName'].sample(n=10, replace=False, weights=np.random.rand(df.shape[0]))```\n",
    "\n",
    "How would we generate a sample of 5 companies, without replacement, favouring those that have mortgages (use _Mortgages.NumMortCharges_)?"
   ]
  },
  {
   "cell_type": "code",
   "execution_count": 330,
   "metadata": {
    "collapsed": false,
    "slideshow": {
     "slide_type": "fragment"
    }
   },
   "outputs": [
    {
     "data": {
      "text/html": [
       "<div style=\"max-height:1000px;max-width:1500px;overflow:auto;\">\n",
       "<table border=\"1\" class=\"dataframe\">\n",
       "  <thead>\n",
       "    <tr style=\"text-align: right;\">\n",
       "      <th></th>\n",
       "      <th>CompanyName</th>\n",
       "      <th>Mortgages.NumMortCharges</th>\n",
       "    </tr>\n",
       "  </thead>\n",
       "  <tbody>\n",
       "    <tr>\n",
       "      <th>139</th>\n",
       "      <td>JAISON PROPERTY DEVELOPMENT CO. LIMITED</td>\n",
       "      <td>68</td>\n",
       "    </tr>\n",
       "    <tr>\n",
       "      <th>2636</th>\n",
       "      <td>LANTERN (REAL ESTATE) LIMITED</td>\n",
       "      <td>17</td>\n",
       "    </tr>\n",
       "    <tr>\n",
       "      <th>8384</th>\n",
       "      <td>NORTH ATLANTIC SMALLER COMPANIES INVESTMENT TR...</td>\n",
       "      <td>10</td>\n",
       "    </tr>\n",
       "    <tr>\n",
       "      <th>3622</th>\n",
       "      <td>LOCAL CREDIT &amp; FINANCE LIMITED</td>\n",
       "      <td>175</td>\n",
       "    </tr>\n",
       "    <tr>\n",
       "      <th>4498</th>\n",
       "      <td>MACLAY INNS LIMITED</td>\n",
       "      <td>66</td>\n",
       "    </tr>\n",
       "  </tbody>\n",
       "</table>\n",
       "</div>"
      ],
      "text/plain": [
       "                                            CompanyName  \\\n",
       "139             JAISON PROPERTY DEVELOPMENT CO. LIMITED   \n",
       "2636                      LANTERN (REAL ESTATE) LIMITED   \n",
       "8384  NORTH ATLANTIC SMALLER COMPANIES INVESTMENT TR...   \n",
       "3622                     LOCAL CREDIT & FINANCE LIMITED   \n",
       "4498                                MACLAY INNS LIMITED   \n",
       "\n",
       "      Mortgages.NumMortCharges  \n",
       "139                         68  \n",
       "2636                        17  \n",
       "8384                        10  \n",
       "3622                       175  \n",
       "4498                        66  "
      ]
     },
     "execution_count": 330,
     "metadata": {},
     "output_type": "execute_result"
    }
   ],
   "source": [
    "df[['CompanyName', 'Mortgages.NumMortCharges']].sample(n=5, replace=False,\n",
    "                            weights=df['Mortgages.NumMortCharges'])"
   ]
  },
  {
   "cell_type": "markdown",
   "metadata": {
    "slideshow": {
     "slide_type": "subslide"
    }
   },
   "source": [
    "pandas also allows for ```boolean``` masking.\n",
    "\n",
    "Any expression evaluated to a ```boolean``` can be used to down select from within a ```DataFrame```. Often, the mask is generated by evaulating some function on a ```DataFrame``` column, before being used to downselect from the same ```DataFrame```."
   ]
  },
  {
   "cell_type": "code",
   "execution_count": 331,
   "metadata": {
    "collapsed": false,
    "slideshow": {
     "slide_type": "fragment"
    }
   },
   "outputs": [
    {
     "data": {
      "text/html": [
       "<div style=\"max-height:1000px;max-width:1500px;overflow:auto;\">\n",
       "<table border=\"1\" class=\"dataframe\">\n",
       "  <thead>\n",
       "    <tr style=\"text-align: right;\">\n",
       "      <th></th>\n",
       "      <th>CompanyName</th>\n",
       "      <th>Mortgages.NumMortCharges</th>\n",
       "    </tr>\n",
       "  </thead>\n",
       "  <tbody>\n",
       "    <tr>\n",
       "      <th>7</th>\n",
       "      <td>J.E. PORTER LIMITED</td>\n",
       "      <td>10</td>\n",
       "    </tr>\n",
       "    <tr>\n",
       "      <th>484</th>\n",
       "      <td>JEVENOR LIMITED</td>\n",
       "      <td>10</td>\n",
       "    </tr>\n",
       "    <tr>\n",
       "      <th>2199</th>\n",
       "      <td>KRNS PROPERTIES LTD</td>\n",
       "      <td>10</td>\n",
       "    </tr>\n",
       "    <tr>\n",
       "      <th>2569</th>\n",
       "      <td>LANDER AUTOMOTIVE LTD.</td>\n",
       "      <td>10</td>\n",
       "    </tr>\n",
       "    <tr>\n",
       "      <th>3348</th>\n",
       "      <td>LINETEX INVESTMENTS LIMITED</td>\n",
       "      <td>10</td>\n",
       "    </tr>\n",
       "  </tbody>\n",
       "</table>\n",
       "</div>"
      ],
      "text/plain": [
       "                      CompanyName  Mortgages.NumMortCharges\n",
       "7             J.E. PORTER LIMITED                        10\n",
       "484               JEVENOR LIMITED                        10\n",
       "2199          KRNS PROPERTIES LTD                        10\n",
       "2569       LANDER AUTOMOTIVE LTD.                        10\n",
       "3348  LINETEX INVESTMENTS LIMITED                        10"
      ]
     },
     "execution_count": 331,
     "metadata": {},
     "output_type": "execute_result"
    }
   ],
   "source": [
    "df[df['Mortgages.NumMortCharges'] == 10][['CompanyName', 'Mortgages.NumMortCharges']].head()"
   ]
  },
  {
   "cell_type": "markdown",
   "metadata": {
    "slideshow": {
     "slide_type": "subslide"
    }
   },
   "source": [
    "```df['Mortgages.NumMortCharges'] == 10][['CompanyName', 'Mortgages.NumMortCharges']].head()```\n",
    "\n",
    "How would you find the earlist incorporation date of a company incorporated this year (Use _IncorporationeDate_ and the ```min()``` function we saw earlier)?"
   ]
  },
  {
   "cell_type": "code",
   "execution_count": 332,
   "metadata": {
    "collapsed": false,
    "slideshow": {
     "slide_type": "fragment"
    }
   },
   "outputs": [
    {
     "data": {
      "text/plain": [
       "Timestamp('2015-01-04 00:00:00')"
      ]
     },
     "execution_count": 332,
     "metadata": {},
     "output_type": "execute_result"
    }
   ],
   "source": [
    "df[df['IncorporationDate'] > '2015-01-01']['IncorporationDate'].min()"
   ]
  },
  {
   "cell_type": "markdown",
   "metadata": {
    "slideshow": {
     "slide_type": "subslide"
    }
   },
   "source": [
    "```df['Mortgages.NumMortCharges'] == 10][['CompanyName', 'Mortgages.NumMortCharges']].head()```\n",
    "\n",
    "How would you find the average (mean) number of mortgage charges for companies orginating outside the United Kingdom (use _CountryOfOrigin_)?"
   ]
  },
  {
   "cell_type": "code",
   "execution_count": 333,
   "metadata": {
    "collapsed": false,
    "slideshow": {
     "slide_type": "fragment"
    }
   },
   "outputs": [
    {
     "data": {
      "text/plain": [
       "0.080000000000000002"
      ]
     },
     "execution_count": 333,
     "metadata": {},
     "output_type": "execute_result"
    }
   ],
   "source": [
    "df[df.CountryOfOrigin != 'United Kingdom']['Mortgages.NumMortCharges'].mean()"
   ]
  },
  {
   "cell_type": "markdown",
   "metadata": {
    "slideshow": {
     "slide_type": "subslide"
    }
   },
   "source": [
    "You can also use ```.isin()``` to build a ```boolean``` mask over a ```list``` (or similar). \n",
    "\n",
    "It is also possible to  combine masks using ```&``` and ```|```. Masks can be negated using ```~```. Each mask has to be wrapped in its own parentheses when combining them.\n",
    "\n",
    "How would you find the set of companies that are either 'Private Limited Company' or 'Public Limited Company' and were incorporated in 2014 (use _CompanyCategory_ and _IncorporationDate_)?"
   ]
  },
  {
   "cell_type": "code",
   "execution_count": 334,
   "metadata": {
    "collapsed": false,
    "scrolled": true,
    "slideshow": {
     "slide_type": "fragment"
    }
   },
   "outputs": [
    {
     "data": {
      "text/html": [
       "<div style=\"max-height:1000px;max-width:1500px;overflow:auto;\">\n",
       "<table border=\"1\" class=\"dataframe\">\n",
       "  <thead>\n",
       "    <tr style=\"text-align: right;\">\n",
       "      <th></th>\n",
       "      <th>CompanyName</th>\n",
       "      <th>IncorporationDate</th>\n",
       "      <th>CompanyCategory</th>\n",
       "    </tr>\n",
       "  </thead>\n",
       "  <tbody>\n",
       "    <tr>\n",
       "      <th>1</th>\n",
       "      <td>J.C.W (NW) LIMITED</td>\n",
       "      <td>2014-07-05</td>\n",
       "      <td>Private Limited Company</td>\n",
       "    </tr>\n",
       "    <tr>\n",
       "      <th>2</th>\n",
       "      <td>J.D BARTON LTD</td>\n",
       "      <td>2014-12-05</td>\n",
       "      <td>Private Limited Company</td>\n",
       "    </tr>\n",
       "    <tr>\n",
       "      <th>16</th>\n",
       "      <td>J.G CONSTRUCTION (UK) LIMITED</td>\n",
       "      <td>2014-01-13</td>\n",
       "      <td>Private Limited Company</td>\n",
       "    </tr>\n",
       "    <tr>\n",
       "      <th>32</th>\n",
       "      <td>J.O. CONSULTING (UK) LTD</td>\n",
       "      <td>2014-09-18</td>\n",
       "      <td>Private Limited Company</td>\n",
       "    </tr>\n",
       "    <tr>\n",
       "      <th>67</th>\n",
       "      <td>JAC LIFECYCLE LIMITED</td>\n",
       "      <td>2014-06-08</td>\n",
       "      <td>Private Limited Company</td>\n",
       "    </tr>\n",
       "  </tbody>\n",
       "</table>\n",
       "</div>"
      ],
      "text/plain": [
       "                      CompanyName IncorporationDate          CompanyCategory\n",
       "1              J.C.W (NW) LIMITED        2014-07-05  Private Limited Company\n",
       "2                  J.D BARTON LTD        2014-12-05  Private Limited Company\n",
       "16  J.G CONSTRUCTION (UK) LIMITED        2014-01-13  Private Limited Company\n",
       "32       J.O. CONSULTING (UK) LTD        2014-09-18  Private Limited Company\n",
       "67          JAC LIFECYCLE LIMITED        2014-06-08  Private Limited Company"
      ]
     },
     "execution_count": 334,
     "metadata": {},
     "output_type": "execute_result"
    }
   ],
   "source": [
    "types = ['Private Limited Company', 'Public Limited Company']\n",
    "cols = ['CompanyName', 'IncorporationDate', 'CompanyCategory']\n",
    "\n",
    "df[(df.IncorporationDate > '2013-12-31') & \n",
    "   (df.IncorporationDate < '2015-01-01') & \n",
    "   (df.CompanyCategory.isin(types))][cols].head(5)"
   ]
  },
  {
   "cell_type": "markdown",
   "metadata": {
    "slideshow": {
     "slide_type": "subslide"
    }
   },
   "source": [
    "```df[(df.IncorporationDate > '2013-12-31') & (df.IncorporationDate < '2015-01-01') & (df.CompanyCategory.isin(types))][cols].head(5)```\n",
    "\n",
    "How would you find the set of countries that companies originate from outside of CANADA or the UNITED STATES (use _CountryOfOrigin_ and the ```unique()``` function to return unique values from a column)?"
   ]
  },
  {
   "cell_type": "code",
   "execution_count": 335,
   "metadata": {
    "collapsed": false,
    "slideshow": {
     "slide_type": "fragment"
    }
   },
   "outputs": [
    {
     "data": {
      "text/plain": [
       "array(['United Kingdom', 'IRELAND', 'CHANNEL ISLANDS', 'VIRGIN ISLANDS',\n",
       "       'FRANCE', 'NETHERLANDS', 'GERMANY', 'ISLE OF MAN', 'WEST GERMANY',\n",
       "       'HUNGARY', 'SPAIN', 'CAYMAN ISLANDS', 'NIGERIA', 'INDIA',\n",
       "       'SINGAPORE', 'DENMARK'], dtype=object)"
      ]
     },
     "execution_count": 335,
     "metadata": {},
     "output_type": "execute_result"
    }
   ],
   "source": [
    "df[~df.CountryOfOrigin.isin(['UNITED STATES', 'CANADA'])].CountryOfOrigin.unique()"
   ]
  },
  {
   "cell_type": "markdown",
   "metadata": {
    "slideshow": {
     "slide_type": "subslide"
    }
   },
   "source": [
    "At Growth Intelligence, we've extended the pandas mask functionality a bit to allow you to persist the conditions of a mask and then apply them in a flexible fashion to different ```DataFrame``` objects. \n",
    "\n",
    "If you find yourself repeating (near identical) conditions alot and what to clean up your notebook code, checkout our blog at: http://growthintel.com/exploratory-data-analysis-in-pandas/."
   ]
  },
  {
   "cell_type": "markdown",
   "metadata": {
    "slideshow": {
     "slide_type": "subslide"
    }
   },
   "source": [
    "### Working with strings\n",
    "\n",
    "pandas has a set of methods for processing strings. These are accessible using the ```str``` attribute and should be familiar from standard Python."
   ]
  },
  {
   "cell_type": "code",
   "execution_count": 336,
   "metadata": {
    "collapsed": false,
    "slideshow": {
     "slide_type": "fragment"
    }
   },
   "outputs": [
    {
     "data": {
      "text/plain": [
       "count    11053.000000\n",
       "mean        24.312766\n",
       "std          8.380376\n",
       "min          4.000000\n",
       "25%         18.000000\n",
       "50%         23.000000\n",
       "75%         29.000000\n",
       "max         76.000000\n",
       "Name: CompanyName, dtype: float64"
      ]
     },
     "execution_count": 336,
     "metadata": {},
     "output_type": "execute_result"
    }
   ],
   "source": [
    "df.CompanyName.str.len().describe()"
   ]
  },
  {
   "cell_type": "markdown",
   "metadata": {
    "slideshow": {
     "slide_type": "subslide"
    }
   },
   "source": [
    "Lets look at our column names again:"
   ]
  },
  {
   "cell_type": "code",
   "execution_count": 337,
   "metadata": {
    "collapsed": false,
    "slideshow": {
     "slide_type": "fragment"
    }
   },
   "outputs": [
    {
     "data": {
      "text/plain": [
       "Index([u'CompanyName', u' CompanyNumber', u'RegAddress.CareOf',\n",
       "       u'RegAddress.POBox', u'RegAddress.AddressLine1',\n",
       "       u' RegAddress.AddressLine2', u'RegAddress.PostTown',\n",
       "       u'RegAddress.County', u'RegAddress.Country', u'RegAddress.PostCode',\n",
       "       u'CompanyCategory', u'CompanyStatus', u'CountryOfOrigin',\n",
       "       u'DissolutionDate', u'IncorporationDate', u'Accounts.AccountRefDay',\n",
       "       u'Accounts.AccountRefMonth', u'Accounts.NextDueDate',\n",
       "       u'Accounts.LastMadeUpDate', u'Accounts.AccountCategory',\n",
       "       u'Returns.NextDueDate', u'Returns.LastMadeUpDate',\n",
       "       u'Mortgages.NumMortCharges', u'Mortgages.NumMortOutstanding',\n",
       "       u'Mortgages.NumMortPartSatisfied', u'Mortgages.NumMortSatisfied',\n",
       "       u'SICCode.SicText_1', u'SICCode.SicText_2', u'SICCode.SicText_3',\n",
       "       u'SICCode.SicText_4', u'LimitedPartnerships.NumGenPartners',\n",
       "       u'LimitedPartnerships.NumLimPartners', u'URI',\n",
       "       u'PreviousName_1.CONDATE', u' PreviousName_1.CompanyName',\n",
       "       u' PreviousName_2.CONDATE', u' PreviousName_2.CompanyName',\n",
       "       u'PreviousName_3.CONDATE', u' PreviousName_3.CompanyName',\n",
       "       u'PreviousName_4.CONDATE', u' PreviousName_4.CompanyName',\n",
       "       u'PreviousName_5.CONDATE', u' PreviousName_5.CompanyName',\n",
       "       u'PreviousName_6.CONDATE', u' PreviousName_6.CompanyName',\n",
       "       u'PreviousName_7.CONDATE', u' PreviousName_7.CompanyName',\n",
       "       u'PreviousName_8.CONDATE', u' PreviousName_8.CompanyName',\n",
       "       u'PreviousName_9.CONDATE', u' PreviousName_9.CompanyName',\n",
       "       u'PreviousName_10.CONDATE', u' PreviousName_10.CompanyName'],\n",
       "      dtype='object')"
      ]
     },
     "execution_count": 337,
     "metadata": {},
     "output_type": "execute_result"
    }
   ],
   "source": [
    "df.columns"
   ]
  },
  {
   "cell_type": "markdown",
   "metadata": {
    "slideshow": {
     "slide_type": "subslide"
    }
   },
   "source": [
    "How could we remove that extra whitespace?"
   ]
  },
  {
   "cell_type": "code",
   "execution_count": 338,
   "metadata": {
    "collapsed": true,
    "slideshow": {
     "slide_type": "fragment"
    }
   },
   "outputs": [],
   "source": [
    "df.columns = df.columns.str.strip()"
   ]
  },
  {
   "cell_type": "code",
   "execution_count": 339,
   "metadata": {
    "collapsed": false,
    "slideshow": {
     "slide_type": "fragment"
    }
   },
   "outputs": [
    {
     "data": {
      "text/html": [
       "<div style=\"max-height:1000px;max-width:1500px;overflow:auto;\">\n",
       "<table border=\"1\" class=\"dataframe\">\n",
       "  <thead>\n",
       "    <tr style=\"text-align: right;\">\n",
       "      <th></th>\n",
       "      <th>CompanyName</th>\n",
       "      <th>CompanyNumber</th>\n",
       "    </tr>\n",
       "  </thead>\n",
       "  <tbody>\n",
       "    <tr>\n",
       "      <th>0</th>\n",
       "      <td>J.C.B. EQUIPMENT LIMITED</td>\n",
       "      <td>01000710</td>\n",
       "    </tr>\n",
       "    <tr>\n",
       "      <th>1</th>\n",
       "      <td>J.C.W (NW) LIMITED</td>\n",
       "      <td>09028601</td>\n",
       "    </tr>\n",
       "  </tbody>\n",
       "</table>\n",
       "</div>"
      ],
      "text/plain": [
       "                CompanyName CompanyNumber\n",
       "0  J.C.B. EQUIPMENT LIMITED      01000710\n",
       "1        J.C.W (NW) LIMITED      09028601"
      ]
     },
     "execution_count": 339,
     "metadata": {},
     "output_type": "execute_result"
    }
   ],
   "source": [
    "df.iloc[:2, :2]"
   ]
  },
  {
   "cell_type": "markdown",
   "metadata": {
    "slideshow": {
     "slide_type": "slide"
    }
   },
   "source": [
    "### Creating DataFrames from other sources and merging DataFrames together\n",
    "\n",
    "As we saw in the overview, pandas has many ways of creating ```DataFrame``` objects.\n",
    "\n",
    "We're going to load in some recent trademark applications from UK companies. This data is in XML, so we're going to have to do a bit more preprocessing to get it into a ```DataFrame```."
   ]
  },
  {
   "cell_type": "code",
   "execution_count": 340,
   "metadata": {
    "collapsed": false,
    "slideshow": {
     "slide_type": "fragment"
    }
   },
   "outputs": [],
   "source": [
    "# Parse and access the root member\n",
    "! gunzip -k datasets/trademarks/jnl.xml.gz\n",
    "raw_trademarks = ET.parse('datasets/trademarks/jnl.xml')\n",
    "! rm datasets/trademarks/jnl.xml\n",
    "\n",
    "doc = raw_trademarks.getroot()\n",
    "\n",
    "# Use an xpath expression to iterate over each applicant name, and build a list\n",
    "applicants = [a.text for a in doc.findall('.//ApplicantName')]"
   ]
  },
  {
   "cell_type": "markdown",
   "metadata": {
    "slideshow": {
     "slide_type": "subslide"
    }
   },
   "source": [
    "How would we create a ```DataFrame``` called eg ```trademarks``` using this ```list```? Remember you can create a ```DataFrame``` from a ```dict``` of ```list``` objects."
   ]
  },
  {
   "cell_type": "code",
   "execution_count": 341,
   "metadata": {
    "collapsed": true,
    "slideshow": {
     "slide_type": "fragment"
    }
   },
   "outputs": [],
   "source": [
    "trademarks = pd.DataFrame({'applicants': applicants})"
   ]
  },
  {
   "cell_type": "code",
   "execution_count": 342,
   "metadata": {
    "collapsed": false,
    "slideshow": {
     "slide_type": "fragment"
    }
   },
   "outputs": [
    {
     "data": {
      "text/html": [
       "<div style=\"max-height:1000px;max-width:1500px;overflow:auto;\">\n",
       "<table border=\"1\" class=\"dataframe\">\n",
       "  <thead>\n",
       "    <tr style=\"text-align: right;\">\n",
       "      <th></th>\n",
       "      <th>applicants</th>\n",
       "    </tr>\n",
       "  </thead>\n",
       "  <tbody>\n",
       "    <tr>\n",
       "      <th>0</th>\n",
       "      <td>Barefaced Skincare Limited</td>\n",
       "    </tr>\n",
       "    <tr>\n",
       "      <th>1</th>\n",
       "      <td>Floreana Ltd</td>\n",
       "    </tr>\n",
       "    <tr>\n",
       "      <th>2</th>\n",
       "      <td>Floreana Ltd</td>\n",
       "    </tr>\n",
       "    <tr>\n",
       "      <th>3</th>\n",
       "      <td>Step2Progress Limited</td>\n",
       "    </tr>\n",
       "    <tr>\n",
       "      <th>4</th>\n",
       "      <td>Peter John Savage</td>\n",
       "    </tr>\n",
       "  </tbody>\n",
       "</table>\n",
       "</div>"
      ],
      "text/plain": [
       "                   applicants\n",
       "0  Barefaced Skincare Limited\n",
       "1                Floreana Ltd\n",
       "2                Floreana Ltd\n",
       "3       Step2Progress Limited\n",
       "4           Peter John Savage"
      ]
     },
     "execution_count": 342,
     "metadata": {},
     "output_type": "execute_result"
    }
   ],
   "source": [
    "trademarks.head()"
   ]
  },
  {
   "cell_type": "code",
   "execution_count": 343,
   "metadata": {
    "collapsed": false,
    "slideshow": {
     "slide_type": "fragment"
    }
   },
   "outputs": [
    {
     "data": {
      "text/plain": [
       "applicants    1001\n",
       "dtype: int64"
      ]
     },
     "execution_count": 343,
     "metadata": {},
     "output_type": "execute_result"
    }
   ],
   "source": [
    "trademarks.count()"
   ]
  },
  {
   "cell_type": "markdown",
   "metadata": {
    "slideshow": {
     "slide_type": "subslide"
    }
   },
   "source": [
    "OK, so we've got two DataFrames now. One has our sample of companies, and one has our list of applicants.\n",
    "\n",
    "pandas provides database style join methods for joining two ```DataFrame``` objects.\n",
    "\n",
    "Breif aside: checkout ```pd.concat([df1, df2])``` for (in its simplest form) concatanating two ```DataFrame``` objects together. \n",
    "\n",
    "There is scope for dealing with ```DataFrame``` objects of different widths (ie number of columns) and or indexing schemes. But, as with so much of pandas it rapidly becomse hard to track what is actually going on and code becomes unreadable. If your ```DataFrame``` objects do not match up nicely and you want to concatanate them, sort them out first."
   ]
  },
  {
   "cell_type": "markdown",
   "metadata": {
    "slideshow": {
     "slide_type": "subslide"
    }
   },
   "source": [
    "Back to our merge methods.\n",
    "\n",
    "These are performant ways of joining two ```DataFrame``` objects on indexes or specific columns. We'll focus on ```pd.merge```. This takes two ```DataFrame``` objects (a 'left' and a 'right') and returns a new one which is the result of the merge.\n",
    "\n",
    "The approach taken to the merge is controlled by the ```how``` keyword argument. For the indexes or chosen columns:\n",
    "* inner: retain the intersection of rows where the columns match\n",
    "* left: retain all rows from the left ```DataFrame```, retain only those from the right that match\n",
    "* right: retain all rows from the right ```DataFrame```, retain only those from the left that match\n",
    "* outer: retain all rows from both ```DataFrame``` objects\n",
    "\n",
    "What does this look like in practice?"
   ]
  },
  {
   "cell_type": "code",
   "execution_count": 344,
   "metadata": {
    "collapsed": false,
    "slideshow": {
     "slide_type": "subslide"
    }
   },
   "outputs": [
    {
     "data": {
      "text/html": [
       "<div style=\"max-height:1000px;max-width:1500px;overflow:auto;\">\n",
       "<table border=\"1\" class=\"dataframe\">\n",
       "  <thead>\n",
       "    <tr style=\"text-align: right;\">\n",
       "      <th></th>\n",
       "      <th>applicants</th>\n",
       "      <th>CompanyName</th>\n",
       "    </tr>\n",
       "  </thead>\n",
       "  <tbody>\n",
       "    <tr>\n",
       "      <th>0</th>\n",
       "      <td>PEEL HOLDINGS LAND AND PROPERTY (UK) LIMITED</td>\n",
       "      <td>PEEL HOLDINGS LAND AND PROPERTY (UK) LIMITED</td>\n",
       "    </tr>\n",
       "    <tr>\n",
       "      <th>1</th>\n",
       "      <td>JE NETTOIE LIMITED</td>\n",
       "      <td>JE NETTOIE LIMITED</td>\n",
       "    </tr>\n",
       "    <tr>\n",
       "      <th>2</th>\n",
       "      <td>JOSHBRAND PROMOTIONS LIMITED</td>\n",
       "      <td>JOSHBRAND PROMOTIONS LIMITED</td>\n",
       "    </tr>\n",
       "    <tr>\n",
       "      <th>3</th>\n",
       "      <td>OLLYHUGS LTD</td>\n",
       "      <td>OLLYHUGS LTD</td>\n",
       "    </tr>\n",
       "    <tr>\n",
       "      <th>4</th>\n",
       "      <td>LINKING ENVIRONMENT AND FARMING</td>\n",
       "      <td>LINKING ENVIRONMENT AND FARMING</td>\n",
       "    </tr>\n",
       "    <tr>\n",
       "      <th>5</th>\n",
       "      <td>NATIONAL SKILLS ACADEMY FOR FOOD AND DRINK</td>\n",
       "      <td>NATIONAL SKILLS ACADEMY FOR FOOD AND DRINK</td>\n",
       "    </tr>\n",
       "    <tr>\n",
       "      <th>6</th>\n",
       "      <td>ONE BOUTIQUE LONDON LTD</td>\n",
       "      <td>ONE BOUTIQUE LONDON LTD</td>\n",
       "    </tr>\n",
       "    <tr>\n",
       "      <th>7</th>\n",
       "      <td>ORB GLOBAL LTD</td>\n",
       "      <td>ORB GLOBAL LTD</td>\n",
       "    </tr>\n",
       "    <tr>\n",
       "      <th>8</th>\n",
       "      <td>PEGAS TOURISTIK UK LIMITED</td>\n",
       "      <td>PEGAS TOURISTIK UK LIMITED</td>\n",
       "    </tr>\n",
       "    <tr>\n",
       "      <th>9</th>\n",
       "      <td>ONEE GROUP LIMITED</td>\n",
       "      <td>ONEE GROUP LIMITED</td>\n",
       "    </tr>\n",
       "    <tr>\n",
       "      <th>10</th>\n",
       "      <td>ONEE GROUP LIMITED</td>\n",
       "      <td>ONEE GROUP LIMITED</td>\n",
       "    </tr>\n",
       "    <tr>\n",
       "      <th>11</th>\n",
       "      <td>ONEE GROUP LIMITED</td>\n",
       "      <td>ONEE GROUP LIMITED</td>\n",
       "    </tr>\n",
       "    <tr>\n",
       "      <th>12</th>\n",
       "      <td>MIND LIFE INSPIRE LTD</td>\n",
       "      <td>MIND LIFE INSPIRE LTD</td>\n",
       "    </tr>\n",
       "  </tbody>\n",
       "</table>\n",
       "</div>"
      ],
      "text/plain": [
       "                                      applicants  \\\n",
       "0   PEEL HOLDINGS LAND AND PROPERTY (UK) LIMITED   \n",
       "1                             JE NETTOIE LIMITED   \n",
       "2                   JOSHBRAND PROMOTIONS LIMITED   \n",
       "3                                   OLLYHUGS LTD   \n",
       "4                LINKING ENVIRONMENT AND FARMING   \n",
       "5     NATIONAL SKILLS ACADEMY FOR FOOD AND DRINK   \n",
       "6                        ONE BOUTIQUE LONDON LTD   \n",
       "7                                 ORB GLOBAL LTD   \n",
       "8                     PEGAS TOURISTIK UK LIMITED   \n",
       "9                             ONEE GROUP LIMITED   \n",
       "10                            ONEE GROUP LIMITED   \n",
       "11                            ONEE GROUP LIMITED   \n",
       "12                         MIND LIFE INSPIRE LTD   \n",
       "\n",
       "                                     CompanyName  \n",
       "0   PEEL HOLDINGS LAND AND PROPERTY (UK) LIMITED  \n",
       "1                             JE NETTOIE LIMITED  \n",
       "2                   JOSHBRAND PROMOTIONS LIMITED  \n",
       "3                                   OLLYHUGS LTD  \n",
       "4                LINKING ENVIRONMENT AND FARMING  \n",
       "5     NATIONAL SKILLS ACADEMY FOR FOOD AND DRINK  \n",
       "6                        ONE BOUTIQUE LONDON LTD  \n",
       "7                                 ORB GLOBAL LTD  \n",
       "8                     PEGAS TOURISTIK UK LIMITED  \n",
       "9                             ONEE GROUP LIMITED  \n",
       "10                            ONEE GROUP LIMITED  \n",
       "11                            ONEE GROUP LIMITED  \n",
       "12                         MIND LIFE INSPIRE LTD  "
      ]
     },
     "execution_count": 344,
     "metadata": {},
     "output_type": "execute_result"
    }
   ],
   "source": [
    "pd.merge(trademarks,\n",
    "         df[['CompanyName']], #Note df['CompanyName'] would return a Series\n",
    "         how='inner',\n",
    "         left_on='applicants',\n",
    "         right_on='CompanyName')"
   ]
  },
  {
   "cell_type": "markdown",
   "metadata": {
    "slideshow": {
     "slide_type": "subslide"
    }
   },
   "source": [
    "Thats not a very good match rate!\n",
    "\n",
    "What can we do to improve this?"
   ]
  },
  {
   "cell_type": "markdown",
   "metadata": {
    "slideshow": {
     "slide_type": "fragment"
    }
   },
   "source": [
    "One option is to perform some normalisation on the applicant and company names using the ```str``` methods we saw earlier.\n",
    "\n",
    "What could we do here?"
   ]
  },
  {
   "cell_type": "markdown",
   "metadata": {
    "slideshow": {
     "slide_type": "fragment"
    }
   },
   "source": [
    "* normalise to lowercase\n",
    "* strip leading/trailing spaces\n",
    "* strip whitespace\n",
    "* normalise Limited and Ltd"
   ]
  },
  {
   "cell_type": "code",
   "execution_count": 345,
   "metadata": {
    "collapsed": false,
    "slideshow": {
     "slide_type": "fragment"
    }
   },
   "outputs": [
    {
     "data": {
      "text/plain": [
       "0    barefacedskincarelimited\n",
       "1                 floreanaltd\n",
       "2                 floreanaltd\n",
       "3        step2progresslimited\n",
       "4             peterjohnsavage\n",
       "5             vincentdassault\n",
       "6                   ianredman\n",
       "7       turbomedorthoticsinc.\n",
       "8     portusconsultinglimited\n",
       "9            marekryanlarwood\n",
       "Name: applicants, dtype: object"
      ]
     },
     "execution_count": 345,
     "metadata": {},
     "output_type": "execute_result"
    }
   ],
   "source": [
    "trademarks.applicants.str.lower().str.strip().str.replace(' ', '').head(10)"
   ]
  },
  {
   "cell_type": "markdown",
   "metadata": {
    "slideshow": {
     "slide_type": "subslide"
    }
   },
   "source": [
    "Lets take a look at the ```applymap()``` function. This applies a function to each element of a ```DataFrame```."
   ]
  },
  {
   "cell_type": "code",
   "execution_count": 346,
   "metadata": {
    "collapsed": true,
    "slideshow": {
     "slide_type": "fragment"
    }
   },
   "outputs": [],
   "source": [
    "def normalise(name):\n",
    "    \"\"\"Normalise a company name for matching\"\"\"\n",
    "            \n",
    "    name = name.lower()\n",
    "    name = name.strip()\n",
    "    \n",
    "    bad_chars = [' ', '.', '(', ')']\n",
    "    \n",
    "    for bc in bad_chars:\n",
    "        name = name.replace(bc, '')\n",
    "    \n",
    "    return name"
   ]
  },
  {
   "cell_type": "code",
   "execution_count": 347,
   "metadata": {
    "collapsed": false,
    "slideshow": {
     "slide_type": "subslide"
    }
   },
   "outputs": [
    {
     "data": {
      "text/html": [
       "<div style=\"max-height:1000px;max-width:1500px;overflow:auto;\">\n",
       "<table border=\"1\" class=\"dataframe\">\n",
       "  <thead>\n",
       "    <tr style=\"text-align: right;\">\n",
       "      <th></th>\n",
       "      <th>CompanyName</th>\n",
       "    </tr>\n",
       "  </thead>\n",
       "  <tbody>\n",
       "    <tr>\n",
       "      <th>0</th>\n",
       "      <td>jcbequipmentlimited</td>\n",
       "    </tr>\n",
       "    <tr>\n",
       "      <th>1</th>\n",
       "      <td>jcwnwlimited</td>\n",
       "    </tr>\n",
       "    <tr>\n",
       "      <th>2</th>\n",
       "      <td>jdbartonltd</td>\n",
       "    </tr>\n",
       "    <tr>\n",
       "      <th>3</th>\n",
       "      <td>jdautomotiveludlowltd</td>\n",
       "    </tr>\n",
       "    <tr>\n",
       "      <th>4</th>\n",
       "      <td>jdphillips&amp;daughterslimited</td>\n",
       "    </tr>\n",
       "  </tbody>\n",
       "</table>\n",
       "</div>"
      ],
      "text/plain": [
       "                   CompanyName\n",
       "0          jcbequipmentlimited\n",
       "1                 jcwnwlimited\n",
       "2                  jdbartonltd\n",
       "3        jdautomotiveludlowltd\n",
       "4  jdphillips&daughterslimited"
      ]
     },
     "execution_count": 347,
     "metadata": {},
     "output_type": "execute_result"
    }
   ],
   "source": [
    "df[['CompanyName']].applymap(normalise).head()"
   ]
  },
  {
   "cell_type": "code",
   "execution_count": 348,
   "metadata": {
    "collapsed": false,
    "slideshow": {
     "slide_type": "fragment"
    }
   },
   "outputs": [
    {
     "data": {
      "text/html": [
       "<div style=\"max-height:1000px;max-width:1500px;overflow:auto;\">\n",
       "<table border=\"1\" class=\"dataframe\">\n",
       "  <thead>\n",
       "    <tr style=\"text-align: right;\">\n",
       "      <th></th>\n",
       "      <th>applicants</th>\n",
       "    </tr>\n",
       "  </thead>\n",
       "  <tbody>\n",
       "    <tr>\n",
       "      <th>0</th>\n",
       "      <td>barefacedskincarelimited</td>\n",
       "    </tr>\n",
       "    <tr>\n",
       "      <th>1</th>\n",
       "      <td>floreanaltd</td>\n",
       "    </tr>\n",
       "    <tr>\n",
       "      <th>2</th>\n",
       "      <td>floreanaltd</td>\n",
       "    </tr>\n",
       "    <tr>\n",
       "      <th>3</th>\n",
       "      <td>step2progresslimited</td>\n",
       "    </tr>\n",
       "    <tr>\n",
       "      <th>4</th>\n",
       "      <td>peterjohnsavage</td>\n",
       "    </tr>\n",
       "  </tbody>\n",
       "</table>\n",
       "</div>"
      ],
      "text/plain": [
       "                 applicants\n",
       "0  barefacedskincarelimited\n",
       "1               floreanaltd\n",
       "2               floreanaltd\n",
       "3      step2progresslimited\n",
       "4           peterjohnsavage"
      ]
     },
     "execution_count": 348,
     "metadata": {},
     "output_type": "execute_result"
    }
   ],
   "source": [
    "trademarks[['applicants']].applymap(normalise).head()"
   ]
  },
  {
   "cell_type": "code",
   "execution_count": 349,
   "metadata": {
    "collapsed": false,
    "slideshow": {
     "slide_type": "subslide"
    }
   },
   "outputs": [],
   "source": [
    "df['norm_CompanyName'] = df[['CompanyName']].applymap(normalise)\n",
    "trademarks['norm_Applicant'] = trademarks[['applicants']].applymap(normalise)"
   ]
  },
  {
   "cell_type": "code",
   "execution_count": 350,
   "metadata": {
    "collapsed": false,
    "slideshow": {
     "slide_type": "fragment"
    }
   },
   "outputs": [
    {
     "data": {
      "text/plain": [
       "74"
      ]
     },
     "execution_count": 350,
     "metadata": {},
     "output_type": "execute_result"
    }
   ],
   "source": [
    "# Lets go ahead and do an inner merge to work see what thats done to our match rate\n",
    "pd.merge(trademarks,\n",
    "         df[['norm_CompanyName']],\n",
    "         how='inner',\n",
    "         left_on='norm_Applicant',\n",
    "         right_on='norm_CompanyName').shape[0]"
   ]
  },
  {
   "cell_type": "markdown",
   "metadata": {
    "slideshow": {
     "slide_type": "subslide"
    }
   },
   "source": [
    "```pd.merge(trademarks, df[['norm_CompanyName']], how='inner', left_on='norm_Applicant', right_on='norm_CompanyName')```\n",
    "\n",
    "\n",
    "How would we create a new ```DataFrame``` (lets call it ```matched_trademarks```) which has all of our trademark applications in, along with the registered postcode (use _RegAddress.PostCode_) of companies we've matched from ```df```?"
   ]
  },
  {
   "cell_type": "code",
   "execution_count": 351,
   "metadata": {
    "collapsed": true,
    "slideshow": {
     "slide_type": "fragment"
    }
   },
   "outputs": [],
   "source": [
    "matched_trademarks = pd.merge(trademarks,\n",
    "         df[['norm_CompanyName', 'RegAddress.PostCode']],\n",
    "         how='left',\n",
    "         left_on='norm_Applicant',\n",
    "         right_on='norm_CompanyName')"
   ]
  },
  {
   "cell_type": "code",
   "execution_count": 352,
   "metadata": {
    "collapsed": false,
    "slideshow": {
     "slide_type": "fragment"
    }
   },
   "outputs": [
    {
     "data": {
      "text/html": [
       "<div style=\"max-height:1000px;max-width:1500px;overflow:auto;\">\n",
       "<table border=\"1\" class=\"dataframe\">\n",
       "  <thead>\n",
       "    <tr style=\"text-align: right;\">\n",
       "      <th></th>\n",
       "      <th>applicants</th>\n",
       "      <th>norm_Applicant</th>\n",
       "      <th>norm_CompanyName</th>\n",
       "      <th>RegAddress.PostCode</th>\n",
       "    </tr>\n",
       "  </thead>\n",
       "  <tbody>\n",
       "    <tr>\n",
       "      <th>0</th>\n",
       "      <td>Barefaced Skincare Limited</td>\n",
       "      <td>barefacedskincarelimited</td>\n",
       "      <td>NaN</td>\n",
       "      <td>NaN</td>\n",
       "    </tr>\n",
       "    <tr>\n",
       "      <th>1</th>\n",
       "      <td>Floreana Ltd</td>\n",
       "      <td>floreanaltd</td>\n",
       "      <td>NaN</td>\n",
       "      <td>NaN</td>\n",
       "    </tr>\n",
       "    <tr>\n",
       "      <th>2</th>\n",
       "      <td>Floreana Ltd</td>\n",
       "      <td>floreanaltd</td>\n",
       "      <td>NaN</td>\n",
       "      <td>NaN</td>\n",
       "    </tr>\n",
       "    <tr>\n",
       "      <th>3</th>\n",
       "      <td>Step2Progress Limited</td>\n",
       "      <td>step2progresslimited</td>\n",
       "      <td>NaN</td>\n",
       "      <td>NaN</td>\n",
       "    </tr>\n",
       "    <tr>\n",
       "      <th>4</th>\n",
       "      <td>Peter John Savage</td>\n",
       "      <td>peterjohnsavage</td>\n",
       "      <td>NaN</td>\n",
       "      <td>NaN</td>\n",
       "    </tr>\n",
       "  </tbody>\n",
       "</table>\n",
       "</div>"
      ],
      "text/plain": [
       "                   applicants            norm_Applicant norm_CompanyName  \\\n",
       "0  Barefaced Skincare Limited  barefacedskincarelimited              NaN   \n",
       "1                Floreana Ltd               floreanaltd              NaN   \n",
       "2                Floreana Ltd               floreanaltd              NaN   \n",
       "3       Step2Progress Limited      step2progresslimited              NaN   \n",
       "4           Peter John Savage           peterjohnsavage              NaN   \n",
       "\n",
       "  RegAddress.PostCode  \n",
       "0                 NaN  \n",
       "1                 NaN  \n",
       "2                 NaN  \n",
       "3                 NaN  \n",
       "4                 NaN  "
      ]
     },
     "execution_count": 352,
     "metadata": {},
     "output_type": "execute_result"
    }
   ],
   "source": [
    "matched_trademarks.head(5)"
   ]
  },
  {
   "cell_type": "markdown",
   "metadata": {
    "slideshow": {
     "slide_type": "subslide"
    }
   },
   "source": [
    "We might want to get rid of the some of the columns after we've done the match. We can do this using the ```drop()``` method - this takes the ```column``` or ```row``` labels, the ```axis``` and whether or not we should work in place using ```inplace```, which takes a ```boolean```.\n",
    "\n",
    "How would we use this function to drop our normalised name columns from our trademarks ```DataFrame```?"
   ]
  },
  {
   "cell_type": "code",
   "execution_count": 353,
   "metadata": {
    "collapsed": false,
    "slideshow": {
     "slide_type": "fragment"
    }
   },
   "outputs": [],
   "source": [
    "matched_trademarks.drop(['norm_Applicant', 'norm_CompanyName'],\n",
    "                        axis=1,\n",
    "                       inplace=True)"
   ]
  },
  {
   "cell_type": "code",
   "execution_count": 354,
   "metadata": {
    "collapsed": false,
    "slideshow": {
     "slide_type": "fragment"
    }
   },
   "outputs": [
    {
     "data": {
      "text/plain": [
       "Index([u'applicants', u'RegAddress.PostCode'], dtype='object')"
      ]
     },
     "execution_count": 354,
     "metadata": {},
     "output_type": "execute_result"
    }
   ],
   "source": [
    "matched_trademarks.columns"
   ]
  },
  {
   "cell_type": "markdown",
   "metadata": {
    "slideshow": {
     "slide_type": "slide"
    }
   },
   "source": [
    "### Working with missing data\n",
    "\n",
    "pandas is pretty flexible when it comes to considering missing data. But keep in mind that ```NaN``` and ```None``` are considered missing by default, but ```inf``` and ```-inf``` are not. The ```Series``` functions ```isnull()``` and ```notnull()``` are extremely useful for dealing with missing data, however defined.\n",
    "\n",
    "They return a ```boolean``` mask on whether the data is missing or not. \n",
    "\n",
    "How would we use ```notnull()``` to return applicant names that we matched to companies in our reference dataset?"
   ]
  },
  {
   "cell_type": "code",
   "execution_count": 355,
   "metadata": {
    "collapsed": false,
    "slideshow": {
     "slide_type": "fragment"
    }
   },
   "outputs": [
    {
     "data": {
      "text/html": [
       "<div style=\"max-height:1000px;max-width:1500px;overflow:auto;\">\n",
       "<table border=\"1\" class=\"dataframe\">\n",
       "  <thead>\n",
       "    <tr style=\"text-align: right;\">\n",
       "      <th></th>\n",
       "      <th>applicants</th>\n",
       "      <th>RegAddress.PostCode</th>\n",
       "    </tr>\n",
       "  </thead>\n",
       "  <tbody>\n",
       "    <tr>\n",
       "      <th>14</th>\n",
       "      <td>Philbin Products Limited</td>\n",
       "      <td>CH64 5SZ</td>\n",
       "    </tr>\n",
       "    <tr>\n",
       "      <th>38</th>\n",
       "      <td>Outsmart the Thief Limited</td>\n",
       "      <td>YO43 3FN</td>\n",
       "    </tr>\n",
       "  </tbody>\n",
       "</table>\n",
       "</div>"
      ],
      "text/plain": [
       "                    applicants RegAddress.PostCode\n",
       "14    Philbin Products Limited            CH64 5SZ\n",
       "38  Outsmart the Thief Limited            YO43 3FN"
      ]
     },
     "execution_count": 355,
     "metadata": {},
     "output_type": "execute_result"
    }
   ],
   "source": [
    "matched_trademarks[matched_trademarks['RegAddress.PostCode'].notnull()].head(2)"
   ]
  },
  {
   "cell_type": "markdown",
   "metadata": {
    "slideshow": {
     "slide_type": "fragment"
    }
   },
   "source": [
    "How would we use ```isnull()``` to count the total number of applications that we failed to match (use the ```sum()``` function)?"
   ]
  },
  {
   "cell_type": "code",
   "execution_count": 356,
   "metadata": {
    "collapsed": false,
    "slideshow": {
     "slide_type": "fragment"
    }
   },
   "outputs": [
    {
     "data": {
      "text/plain": [
       "927"
      ]
     },
     "execution_count": 356,
     "metadata": {},
     "output_type": "execute_result"
    }
   ],
   "source": [
    "matched_trademarks['RegAddress.PostCode'].isnull().sum()"
   ]
  },
  {
   "cell_type": "markdown",
   "metadata": {
    "slideshow": {
     "slide_type": "subslide"
    }
   },
   "source": [
    "We can use the function ```fillna()``` to fill in missing data. In the simplest case, we just pass in a scalar on the on the ```Series``` or ```DataFrame``` that we want to manipulate.\n",
    "\n",
    "Lets use ```fillna()``` to replace missing postcodes with the string 'missing'. Remember the ```inplace``` argument from our ```drop()``` function? We need to consider that here also."
   ]
  },
  {
   "cell_type": "code",
   "execution_count": 357,
   "metadata": {
    "collapsed": false,
    "slideshow": {
     "slide_type": "fragment"
    }
   },
   "outputs": [
    {
     "name": "stdout",
     "output_type": "stream",
     "text": [
      "0\n"
     ]
    }
   ],
   "source": [
    "matched_trademarks['RegAddress.PostCode'].fillna('missing', inplace=True)\n",
    "\n",
    "print matched_trademarks['RegAddress.PostCode'].isnull().sum()"
   ]
  },
  {
   "cell_type": "code",
   "execution_count": 358,
   "metadata": {
    "collapsed": false,
    "slideshow": {
     "slide_type": "fragment"
    }
   },
   "outputs": [
    {
     "data": {
      "text/plain": [
       "927"
      ]
     },
     "execution_count": 358,
     "metadata": {},
     "output_type": "execute_result"
    }
   ],
   "source": [
    "(matched_trademarks['RegAddress.PostCode'] == 'missing').sum()"
   ]
  },
  {
   "cell_type": "markdown",
   "metadata": {
    "slideshow": {
     "slide_type": "slide"
    }
   },
   "source": [
    "### Grouping and aggregating data\n",
    "\n",
    "pandas has some powerful functionality for grouping elements together and then computing some aggregate statistics, dropping groups or transforming them.\n",
    "\n",
    "The ```groupby()``` method takes a ```key``` (often one or more column names) and returns a ```GroupBy``` object, which is a (lazily evaluated) grouping of (often rows) by the grouping criteria.\n",
    "\n",
    "How would we use this function to group by the _CompanyCategory_?"
   ]
  },
  {
   "cell_type": "code",
   "execution_count": 359,
   "metadata": {
    "collapsed": false,
    "slideshow": {
     "slide_type": "fragment"
    }
   },
   "outputs": [
    {
     "data": {
      "text/plain": [
       "<pandas.core.groupby.DataFrameGroupBy object at 0x11727f650>"
      ]
     },
     "execution_count": 359,
     "metadata": {},
     "output_type": "execute_result"
    }
   ],
   "source": [
    "df.groupby('CompanyCategory')"
   ]
  },
  {
   "cell_type": "markdown",
   "metadata": {
    "slideshow": {
     "slide_type": "subslide"
    }
   },
   "source": [
    "Once we have our ```GroupBy``` object, there are a suite of functions that we can apply. An obvious one is ```size()```, which tells us the size of each of the groups we've built."
   ]
  },
  {
   "cell_type": "code",
   "execution_count": 360,
   "metadata": {
    "collapsed": false,
    "slideshow": {
     "slide_type": "fragment"
    }
   },
   "outputs": [
    {
     "data": {
      "text/plain": [
       "CompanyCategory\n",
       "Community Interest Company                                                                      23\n",
       "Industrial and Provident Society                                                                27\n",
       "Investment Company with Variable Capital                                                         1\n",
       "Limited Liability Partnership                                                                  174\n",
       "Limited Partnership                                                                             93\n",
       "Other company type                                                                              28\n",
       "PRI/LBG/NSC (Private, Limited by guarantee, no share capital, use of 'Limited' exemption)       87\n",
       "PRI/LTD BY GUAR/NSC (Private, limited by guarantee, no share capital)                          210\n",
       "Private Limited Company                                                                      10377\n",
       "Private Unlimited Company                                                                       11\n",
       "Public Limited Company                                                                          19\n",
       "Registered Society                                                                               1\n",
       "Royal Charter Company                                                                            2\n",
       "dtype: int64"
      ]
     },
     "execution_count": 360,
     "metadata": {},
     "output_type": "execute_result"
    }
   ],
   "source": [
    "df.groupby('CompanyCategory').size()"
   ]
  },
  {
   "cell_type": "markdown",
   "metadata": {
    "slideshow": {
     "slide_type": "subslide"
    }
   },
   "source": [
    "This is just the start - there are lots of powerful things we can do with the ```GroupBy``` object. We're going to take a quick look at the ```agg``` function."
   ]
  },
  {
   "cell_type": "markdown",
   "metadata": {
    "slideshow": {
     "slide_type": "fragment"
    }
   },
   "source": [
    "The ```agg``` function takes a function that reduces the dimensionality of the returned objects, eg ```np.mean```, ```np.std```, ```np.min``` (these are ```NumPy``` functions). Its possible to pass in a ```dict```, where keys are column names and the values are the aggregating function to be applied.\n",
    "\n",
    "For example, to find the average number of _Mortgages.NumMortOutstanding_ we could pass in: ```{'Mortgages.NumMortOutstanding': np.mean}```.\n",
    "\n",
    "How would we use ```agg``` to find the total number of _Mortgages.NumMortCharges_ in each _CompanyCategory_ group?"
   ]
  },
  {
   "cell_type": "code",
   "execution_count": 361,
   "metadata": {
    "collapsed": false,
    "slideshow": {
     "slide_type": "subslide"
    }
   },
   "outputs": [
    {
     "data": {
      "text/html": [
       "<div style=\"max-height:1000px;max-width:1500px;overflow:auto;\">\n",
       "<table border=\"1\" class=\"dataframe\">\n",
       "  <thead>\n",
       "    <tr style=\"text-align: right;\">\n",
       "      <th></th>\n",
       "      <th>Mortgages.NumMortCharges</th>\n",
       "    </tr>\n",
       "    <tr>\n",
       "      <th>CompanyCategory</th>\n",
       "      <th></th>\n",
       "    </tr>\n",
       "  </thead>\n",
       "  <tbody>\n",
       "    <tr>\n",
       "      <th>Community Interest Company</th>\n",
       "      <td>9</td>\n",
       "    </tr>\n",
       "    <tr>\n",
       "      <th>Industrial and Provident Society</th>\n",
       "      <td>0</td>\n",
       "    </tr>\n",
       "    <tr>\n",
       "      <th>Investment Company with Variable Capital</th>\n",
       "      <td>0</td>\n",
       "    </tr>\n",
       "    <tr>\n",
       "      <th>Limited Liability Partnership</th>\n",
       "      <td>367</td>\n",
       "    </tr>\n",
       "    <tr>\n",
       "      <th>Limited Partnership</th>\n",
       "      <td>0</td>\n",
       "    </tr>\n",
       "    <tr>\n",
       "      <th>Other company type</th>\n",
       "      <td>2</td>\n",
       "    </tr>\n",
       "    <tr>\n",
       "      <th>PRI/LBG/NSC (Private, Limited by guarantee, no share capital, use of 'Limited' exemption)</th>\n",
       "      <td>11</td>\n",
       "    </tr>\n",
       "    <tr>\n",
       "      <th>PRI/LTD BY GUAR/NSC (Private, limited by guarantee, no share capital)</th>\n",
       "      <td>67</td>\n",
       "    </tr>\n",
       "    <tr>\n",
       "      <th>Private Limited Company</th>\n",
       "      <td>8097</td>\n",
       "    </tr>\n",
       "    <tr>\n",
       "      <th>Private Unlimited Company</th>\n",
       "      <td>20</td>\n",
       "    </tr>\n",
       "    <tr>\n",
       "      <th>Public Limited Company</th>\n",
       "      <td>39</td>\n",
       "    </tr>\n",
       "    <tr>\n",
       "      <th>Registered Society</th>\n",
       "      <td>0</td>\n",
       "    </tr>\n",
       "    <tr>\n",
       "      <th>Royal Charter Company</th>\n",
       "      <td>0</td>\n",
       "    </tr>\n",
       "  </tbody>\n",
       "</table>\n",
       "</div>"
      ],
      "text/plain": [
       "                                                    Mortgages.NumMortCharges\n",
       "CompanyCategory                                                             \n",
       "Community Interest Company                                                 9\n",
       "Industrial and Provident Society                                           0\n",
       "Investment Company with Variable Capital                                   0\n",
       "Limited Liability Partnership                                            367\n",
       "Limited Partnership                                                        0\n",
       "Other company type                                                         2\n",
       "PRI/LBG/NSC (Private, Limited by guarantee, no ...                        11\n",
       "PRI/LTD BY GUAR/NSC (Private, limited by guaran...                        67\n",
       "Private Limited Company                                                 8097\n",
       "Private Unlimited Company                                                 20\n",
       "Public Limited Company                                                    39\n",
       "Registered Society                                                         0\n",
       "Royal Charter Company                                                      0"
      ]
     },
     "execution_count": 361,
     "metadata": {},
     "output_type": "execute_result"
    }
   ],
   "source": [
    "df.groupby('CompanyCategory').agg({'Mortgages.NumMortCharges': np.sum})"
   ]
  },
  {
   "cell_type": "markdown",
   "metadata": {
    "slideshow": {
     "slide_type": "subslide"
    }
   },
   "source": [
    "```df.groupby('CompanyCategory').agg({'Mortgages.NumMortCharges': np.sum})```\n",
    "\n",
    "How would we find the maximum number of _Mortgages.NumMortOutstanding_ and the mean number of _Mortgages.NumMortSatisfied_, grouping companies by _CompanyCategory_ and _CompanyStatus_?"
   ]
  },
  {
   "cell_type": "code",
   "execution_count": 362,
   "metadata": {
    "collapsed": false,
    "slideshow": {
     "slide_type": "fragment"
    }
   },
   "outputs": [
    {
     "data": {
      "text/html": [
       "<div style=\"max-height:1000px;max-width:1500px;overflow:auto;\">\n",
       "<table border=\"1\" class=\"dataframe\">\n",
       "  <thead>\n",
       "    <tr style=\"text-align: right;\">\n",
       "      <th></th>\n",
       "      <th></th>\n",
       "      <th>Mortgages.NumMortSatisfied</th>\n",
       "      <th>Mortgages.NumMortOutstanding</th>\n",
       "    </tr>\n",
       "    <tr>\n",
       "      <th>CompanyCategory</th>\n",
       "      <th>CompanyStatus</th>\n",
       "      <th></th>\n",
       "      <th></th>\n",
       "    </tr>\n",
       "  </thead>\n",
       "  <tbody>\n",
       "    <tr>\n",
       "      <th rowspan=\"2\" valign=\"top\">Community Interest Company</th>\n",
       "      <th>Active</th>\n",
       "      <td>0.318182</td>\n",
       "      <td>2</td>\n",
       "    </tr>\n",
       "    <tr>\n",
       "      <th>Active - Proposal to Strike off</th>\n",
       "      <td>0.000000</td>\n",
       "      <td>0</td>\n",
       "    </tr>\n",
       "    <tr>\n",
       "      <th>Industrial and Provident Society</th>\n",
       "      <th>Active</th>\n",
       "      <td>0.000000</td>\n",
       "      <td>0</td>\n",
       "    </tr>\n",
       "    <tr>\n",
       "      <th>Investment Company with Variable Capital</th>\n",
       "      <th>Active</th>\n",
       "      <td>0.000000</td>\n",
       "      <td>0</td>\n",
       "    </tr>\n",
       "    <tr>\n",
       "      <th>Limited Liability Partnership</th>\n",
       "      <th>Active</th>\n",
       "      <td>0.036585</td>\n",
       "      <td>70</td>\n",
       "    </tr>\n",
       "  </tbody>\n",
       "</table>\n",
       "</div>"
      ],
      "text/plain": [
       "                                                                          Mortgages.NumMortSatisfied  \\\n",
       "CompanyCategory                          CompanyStatus                                                 \n",
       "Community Interest Company               Active                                             0.318182   \n",
       "                                         Active - Proposal to Strike off                    0.000000   \n",
       "Industrial and Provident Society         Active                                             0.000000   \n",
       "Investment Company with Variable Capital Active                                             0.000000   \n",
       "Limited Liability Partnership            Active                                             0.036585   \n",
       "\n",
       "                                                                          Mortgages.NumMortOutstanding  \n",
       "CompanyCategory                          CompanyStatus                                                  \n",
       "Community Interest Company               Active                                                      2  \n",
       "                                         Active - Proposal to Strike off                             0  \n",
       "Industrial and Provident Society         Active                                                      0  \n",
       "Investment Company with Variable Capital Active                                                      0  \n",
       "Limited Liability Partnership            Active                                                     70  "
      ]
     },
     "execution_count": 362,
     "metadata": {},
     "output_type": "execute_result"
    }
   ],
   "source": [
    "fns = {\n",
    "    'Mortgages.NumMortOutstanding': np.max,\n",
    "    'Mortgages.NumMortSatisfied': np.mean\n",
    "}\n",
    "\n",
    "df.groupby(['CompanyCategory', 'CompanyStatus']).agg(fns).head(5)"
   ]
  },
  {
   "cell_type": "markdown",
   "metadata": {
    "slideshow": {
     "slide_type": "subslide"
    }
   },
   "source": [
    "Grouping and aggregating in pandas is a vast topic. Just a few of the other things you could look at are:\n",
    "* Iterating through groups: ```for name, group in df.groupby('CompanyCategory')```\n",
    "* Selecting a group by label: ```df.groupby('CompanyCategory').get_group('Public Limited Company')```\n",
    "* Dropping groups which don't mean certain criteria (ie size): ```filter(lambda x: len (x) > 50)```\n",
    "* Using Grouper Specifications to control more precisely how to group (ie over or under sampling of certain groups)\n",
    "* Taking the first ```head()``` or last ```tail()``` member of any group"
   ]
  },
  {
   "cell_type": "markdown",
   "metadata": {
    "slideshow": {
     "slide_type": "subslide"
    }
   },
   "source": [
    "Grouping is powerful, but can be expensive (particularly if fully evaluated). Sometimes there are 'cheaper' ways of doing the same thing.\n",
    "\n",
    "How would we find the incorporation date of the oldest company in each different postcode (use _RegAddress.PostCode_)?"
   ]
  },
  {
   "cell_type": "code",
   "execution_count": 363,
   "metadata": {
    "collapsed": false,
    "slideshow": {
     "slide_type": "fragment"
    }
   },
   "outputs": [
    {
     "data": {
      "text/html": [
       "<div style=\"max-height:1000px;max-width:1500px;overflow:auto;\">\n",
       "<table border=\"1\" class=\"dataframe\">\n",
       "  <thead>\n",
       "    <tr style=\"text-align: right;\">\n",
       "      <th></th>\n",
       "      <th>IncorporationDate</th>\n",
       "    </tr>\n",
       "    <tr>\n",
       "      <th>RegAddress.PostCode</th>\n",
       "      <th></th>\n",
       "    </tr>\n",
       "  </thead>\n",
       "  <tbody>\n",
       "    <tr>\n",
       "      <th>21 107</th>\n",
       "      <td>1999-11-11</td>\n",
       "    </tr>\n",
       "    <tr>\n",
       "      <th>AB10 1FW</th>\n",
       "      <td>1940-03-04</td>\n",
       "    </tr>\n",
       "    <tr>\n",
       "      <th>AB10 1HA</th>\n",
       "      <td>2001-08-16</td>\n",
       "    </tr>\n",
       "    <tr>\n",
       "      <th>AB10 1TN</th>\n",
       "      <td>1995-11-12</td>\n",
       "    </tr>\n",
       "    <tr>\n",
       "      <th>AB10 1UD</th>\n",
       "      <td>2006-11-29</td>\n",
       "    </tr>\n",
       "  </tbody>\n",
       "</table>\n",
       "</div>"
      ],
      "text/plain": [
       "                    IncorporationDate\n",
       "RegAddress.PostCode                  \n",
       "21 107                     1999-11-11\n",
       "AB10 1FW                   1940-03-04\n",
       "AB10 1HA                   2001-08-16\n",
       "AB10 1TN                   1995-11-12\n",
       "AB10 1UD                   2006-11-29"
      ]
     },
     "execution_count": 363,
     "metadata": {},
     "output_type": "execute_result"
    }
   ],
   "source": [
    "#Using groups\n",
    "df.groupby(['RegAddress.PostCode']).agg({'IncorporationDate': np.min}).head()"
   ]
  },
  {
   "cell_type": "markdown",
   "metadata": {
    "slideshow": {
     "slide_type": "subslide"
    }
   },
   "source": [
    "How could you do this using ```sort()```?"
   ]
  },
  {
   "cell_type": "code",
   "execution_count": 364,
   "metadata": {
    "collapsed": false,
    "slideshow": {
     "slide_type": "fragment"
    }
   },
   "outputs": [
    {
     "data": {
      "text/html": [
       "<div style=\"max-height:1000px;max-width:1500px;overflow:auto;\">\n",
       "<table border=\"1\" class=\"dataframe\">\n",
       "  <thead>\n",
       "    <tr style=\"text-align: right;\">\n",
       "      <th></th>\n",
       "      <th>RegAddress.PostCode</th>\n",
       "      <th>IncorporationDate</th>\n",
       "    </tr>\n",
       "  </thead>\n",
       "  <tbody>\n",
       "    <tr>\n",
       "      <th>4808</th>\n",
       "      <td>21 107</td>\n",
       "      <td>1999-11-11</td>\n",
       "    </tr>\n",
       "    <tr>\n",
       "      <th>168</th>\n",
       "      <td>AB10 1FW</td>\n",
       "      <td>1940-03-04</td>\n",
       "    </tr>\n",
       "    <tr>\n",
       "      <th>6064</th>\n",
       "      <td>AB10 1HA</td>\n",
       "      <td>2001-08-16</td>\n",
       "    </tr>\n",
       "    <tr>\n",
       "      <th>5546</th>\n",
       "      <td>AB10 1TN</td>\n",
       "      <td>1995-11-12</td>\n",
       "    </tr>\n",
       "    <tr>\n",
       "      <th>8381</th>\n",
       "      <td>AB10 1UD</td>\n",
       "      <td>2006-11-29</td>\n",
       "    </tr>\n",
       "  </tbody>\n",
       "</table>\n",
       "</div>"
      ],
      "text/plain": [
       "     RegAddress.PostCode IncorporationDate\n",
       "4808              21 107        1999-11-11\n",
       "168             AB10 1FW        1940-03-04\n",
       "6064            AB10 1HA        2001-08-16\n",
       "5546            AB10 1TN        1995-11-12\n",
       "8381            AB10 1UD        2006-11-29"
      ]
     },
     "execution_count": 364,
     "metadata": {},
     "output_type": "execute_result"
    }
   ],
   "source": [
    "df[['RegAddress.PostCode', 'IncorporationDate']].sort(\n",
    "    ['RegAddress.PostCode', 'IncorporationDate']).drop_duplicates(['RegAddress.PostCode']).head()"
   ]
  },
  {
   "cell_type": "code",
   "execution_count": 365,
   "metadata": {
    "collapsed": false,
    "slideshow": {
     "slide_type": "subslide"
    }
   },
   "outputs": [
    {
     "name": "stdout",
     "output_type": "stream",
     "text": [
      "10 loops, best of 3: 520 ms per loop\n"
     ]
    }
   ],
   "source": [
    "%timeit -n 10 df.groupby(['RegAddress.PostCode']).agg({'IncorporationDate': np.min})"
   ]
  },
  {
   "cell_type": "code",
   "execution_count": 366,
   "metadata": {
    "collapsed": false,
    "slideshow": {
     "slide_type": "fragment"
    }
   },
   "outputs": [
    {
     "name": "stdout",
     "output_type": "stream",
     "text": [
      "10 loops, best of 3: 16.7 ms per loop\n"
     ]
    }
   ],
   "source": [
    "%timeit -n 10 df[['RegAddress.PostCode', 'IncorporationDate']].sort(\\\n",
    "    ['RegAddress.PostCode', 'IncorporationDate']).drop_duplicates(\\\n",
    "    ['RegAddress.PostCode'])"
   ]
  },
  {
   "cell_type": "markdown",
   "metadata": {
    "slideshow": {
     "slide_type": "slide"
    }
   },
   "source": [
    "### Plotting\n",
    "\n",
    "Plotting in pandas provides basic plotting capabilities by design, rather than trying to recreate all the functionality that is available elsewhere. The ```plot()``` function is a wrapper around ```matplotlib.pyplot.plot()```."
   ]
  },
  {
   "cell_type": "code",
   "execution_count": 367,
   "metadata": {
    "collapsed": false,
    "scrolled": false,
    "slideshow": {
     "slide_type": "subslide"
    }
   },
   "outputs": [
    {
     "data": {
      "text/plain": [
       "<matplotlib.text.Text at 0x117310f90>"
      ]
     },
     "execution_count": 367,
     "metadata": {},
     "output_type": "execute_result"
    },
    {
     "data": {
      "image/png": "[encoded data removed]",
      "text/plain": [
       "<matplotlib.figure.Figure at 0x11c5805d0>"
      ]
     },
     "metadata": {},
     "output_type": "display_data"
    }
   ],
   "source": [
    "import matplotlib\n",
    "matplotlib.style.use('ggplot')\n",
    "\n",
    "has_mortgage = df['Mortgages.NumMortCharges'] > 0\n",
    "\n",
    "mortgages = [u'Mortgages.NumMortOutstanding',\n",
    "             u'Mortgages.NumMortSatisfied']\n",
    "\n",
    "ax = df[has_mortgage].head(10)[mortgages].plot(kind='barh', stacked=True, figsize=(10, 5))\n",
    "\n",
    "ax.set_yticklabels(tuple(df[has_mortgage].CompanyNumber))\n",
    "ax.set_ylabel(\"Company\")\n",
    "ax.set_xlabel(\"Mortgages\")"
   ]
  },
  {
   "cell_type": "markdown",
   "metadata": {
    "slideshow": {
     "slide_type": "subslide"
    }
   },
   "source": [
    "Other common plotting operations are ```hist()```, ```df.plot(kind='scatter')``` and ```df.plot(kind='hexbin')```."
   ]
  },
  {
   "cell_type": "markdown",
   "metadata": {
    "slideshow": {
     "slide_type": "fragment"
    }
   },
   "source": [
    "<img src=\"scatter.png\">"
   ]
  },
  {
   "cell_type": "markdown",
   "metadata": {
    "slideshow": {
     "slide_type": "slide"
    }
   },
   "source": [
    "### A few gotchas"
   ]
  },
  {
   "cell_type": "markdown",
   "metadata": {
    "slideshow": {
     "slide_type": "subslide"
    }
   },
   "source": [
    "Use ```empty```, ```any()```, ```all()```, ```bool()``` and ```equals()``` to compare ```DataFrames``` and ```Series```."
   ]
  },
  {
   "cell_type": "code",
   "execution_count": 368,
   "metadata": {
    "collapsed": false,
    "slideshow": {
     "slide_type": "fragment"
    }
   },
   "outputs": [
    {
     "data": {
      "text/plain": [
       "True"
      ]
     },
     "execution_count": 368,
     "metadata": {},
     "output_type": "execute_result"
    }
   ],
   "source": [
    "(df['Mortgages.NumMortCharges']>100).any()"
   ]
  },
  {
   "cell_type": "code",
   "execution_count": 369,
   "metadata": {
    "collapsed": false,
    "slideshow": {
     "slide_type": "fragment"
    }
   },
   "outputs": [
    {
     "data": {
      "text/plain": [
       "True"
      ]
     },
     "execution_count": 369,
     "metadata": {},
     "output_type": "execute_result"
    }
   ],
   "source": [
    "df2 = df.copy(deep=True)\n",
    "df.equals(df2)"
   ]
  },
  {
   "cell_type": "markdown",
   "metadata": {
    "slideshow": {
     "slide_type": "subslide"
    }
   },
   "source": [
    "Be aware of the ```SettingWithCopyWarning```. Remember that ```df[df.CompanyStatus == 'Active']``` returns a copy of a ```DataFrame```, so if you try to set a new value on the basis of this it will not work."
   ]
  },
  {
   "cell_type": "code",
   "execution_count": 370,
   "metadata": {
    "collapsed": false,
    "slideshow": {
     "slide_type": "fragment"
    }
   },
   "outputs": [
    {
     "name": "stderr",
     "output_type": "stream",
     "text": [
      "/Users/alex/.virtualenvs/ipython/lib/python2.7/site-packages/IPython/kernel/__main__.py:1: SettingWithCopyWarning: \n",
      "A value is trying to be set on a copy of a slice from a DataFrame.\n",
      "Try using .loc[row_indexer,col_indexer] = value instead\n",
      "\n",
      "See the the caveats in the documentation: http://pandas.pydata.org/pandas-docs/stable/indexing.html#indexing-view-versus-copy\n",
      "  if __name__ == '__main__':\n"
     ]
    }
   ],
   "source": [
    "df[df['CompanyStatus'] == 'Active']['Solvent'] = True"
   ]
  },
  {
   "cell_type": "code",
   "execution_count": 371,
   "metadata": {
    "collapsed": false,
    "slideshow": {
     "slide_type": "fragment"
    }
   },
   "outputs": [
    {
     "data": {
      "text/plain": [
       "False"
      ]
     },
     "execution_count": 371,
     "metadata": {},
     "output_type": "execute_result"
    }
   ],
   "source": [
    "'Solvent' in df.columns"
   ]
  },
  {
   "cell_type": "markdown",
   "metadata": {
    "slideshow": {
     "slide_type": "fragment"
    }
   },
   "source": [
    "Instead, in this case I would set the 'base case', and then use ```.loc``` to downselect to the rows I need to change."
   ]
  },
  {
   "cell_type": "code",
   "execution_count": 372,
   "metadata": {
    "collapsed": true,
    "slideshow": {
     "slide_type": "fragment"
    }
   },
   "outputs": [],
   "source": [
    "df['Solvent'] = False\n",
    "df.loc[df['CompanyStatus'] == 'Active', 'Solvent'] = True"
   ]
  },
  {
   "cell_type": "code",
   "execution_count": 373,
   "metadata": {
    "collapsed": false,
    "slideshow": {
     "slide_type": "fragment"
    }
   },
   "outputs": [
    {
     "data": {
      "text/plain": [
       "Active    10337\n",
       "dtype: int64"
      ]
     },
     "execution_count": 373,
     "metadata": {},
     "output_type": "execute_result"
    }
   ],
   "source": [
    "df[df.Solvent].CompanyStatus.value_counts()"
   ]
  },
  {
   "cell_type": "markdown",
   "metadata": {
    "slideshow": {
     "slide_type": "slide"
    }
   },
   "source": [
    "### Things I haven't covered\n",
    "\n",
    "* Timeseries\n",
    "* Panels (> 2 dimensions ```DataFrames```)\n",
    "* Hierarchical indexing \n",
    "* Transformations (```melt()``` and ```pivot()```)\n",
    "* ```categorical``` values (since ```0.15```)\n",
    "* Other computational tools (```rolling_sum()```, ```rolling_std()```, ```rolling_apply()```)"
   ]
  },
  {
   "cell_type": "markdown",
   "metadata": {
    "slideshow": {
     "slide_type": "slide"
    }
   },
   "source": [
    "### Key takeaways\n",
    "\n",
    "* pandas is extremely powerful\n",
    "* With great power etc - as with all code, readability beats writability\n",
    "* pandas is not as internally consistent as it could be (works in place or returns)\n",
    "* Whatever you want to do with your dataset there is probably a method in pandas for doing it - try to use inbuilt pandas functionality rather than eg iterating over rows/columns and doing something custom, it might just take a bit of digging and can feel 'head against wallish' for a bit\n",
    "* Whatever you want to do with your dataset there are probably multiple ways of doing it in pandas - try to be (internally and externally) consistent and produce readable code\n",
    "* Consider abstractions (eg GrowthIntel masks) to make code and notebooks more readable"
   ]
  },
  {
   "cell_type": "markdown",
   "metadata": {
    "slideshow": {
     "slide_type": "slide"
    }
   },
   "source": [
    "### Resources\n",
    "\n",
    "* GrowthIntel blog post on Mask algebra: \n",
    "http://growthintel.com/exploratory-data-analysis-in-pandas/\n",
    "* pandas docs are comprehensive and getting better: http://pandas.pydata.org/\n",
    "* Ecosystem of libraries is growing all the time: http://pandas.pydata.org/pandas-docs/version/0.16.2/ecosystem.html\n",
    "* Book: Python for Data Analysis: Data Wrangling with Pandas, NumPy, and IPython by Wes McKinney (author of pandas)\n",
    "* Wes McKinney's blog: http://blog.wesmckinney.com/"
   ]
  }
 ],
 "metadata": {
  "celltoolbar": "Slideshow",
  "kernelspec": {
   "display_name": "Python 2",
   "language": "python",
   "name": "python2"
  },
  "language_info": {
   "codemirror_mode": {
    "name": "ipython",
    "version": 2
   },
   "file_extension": ".py",
   "mimetype": "text/x-python",
   "name": "python",
   "nbconvert_exporter": "python",
   "pygments_lexer": "ipython2",
   "version": "2.7.6"
  }
 },
 "nbformat": 4,
 "nbformat_minor": 0
}
