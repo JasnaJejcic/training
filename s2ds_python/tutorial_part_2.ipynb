{
 "cells": [
  {
   "cell_type": "markdown",
   "metadata": {
    "slideshow": {
     "slide_type": "slide"
    }
   },
   "source": [
    "## Exploratory work with IPython Notebook and Pandas"
   ]
  },
  {
   "cell_type": "markdown",
   "metadata": {
    "slideshow": {
     "slide_type": "subslide"
    }
   },
   "source": [
    "### IPython Notebooks\n",
    "\n",
    "* Web based interactive computing environment\n",
    "* Provide a browser based REPL (Read-eval-print loop)\n",
    "* Notebook connects to an IPython server (backend is pluggable - see Project Jupyter)\n",
    "* Export functionality (eg these slides)\n",
    "* NOT for engineering\n",
    "\n",
    "* IPython Notebook docs: http://ipython.org/ipython-doc/3/notebook/notebook.html\n",
    "* Project Jupyter: https://jupyter.org/\n",
    "* Indepth tutorial: http://ipython.org/notebook.html#scipy-2013"
   ]
  },
  {
   "cell_type": "markdown",
   "metadata": {
    "slideshow": {
     "slide_type": "subslide"
    }
   },
   "source": [
    "####  Notebook good practice\n",
    "\n",
    "* Notebooks should be re-runnable\n",
    "* Notebooks should be kept under version control\n",
    "* Self-documenting (read like a report)\n",
    "* Make code modular (define functions outside, import as needed)\n",
    "\n",
    "* Setting up a server: http://ipython.org/ipython-doc/3/notebook/public_server.html\n",
    "* Security (executing code in a browser): http://ipython.org/ipython-doc/3/notebook/security.html"
   ]
  },
  {
   "cell_type": "markdown",
   "metadata": {
    "slideshow": {
     "slide_type": "subslide"
    }
   },
   "source": [
    "#### Commit diffs\n",
    "\n",
    "If possible clear output before saving and committing:\n",
    "\n",
    "https://github.com/pelucid/devtools/commit/07cd08a3666101f9302735b091c851a2ee930455\n",
    "\n",
    "Tend to end up with useless diffs:\n",
    "\n",
    "https://github.com/pelucid/meg/commit/3597b4f30ce73d7ad9595e2ee847a62c6424fce9?diff=split#diff-5439da8795e32767a1974e756961cd4d\n",
    "\n",
    "* Pre-commit hooks (http://git-scm.com/book/en/v2/Customizing-Git-Git-Hooks), Python scripts to clear out output"
   ]
  },
  {
   "cell_type": "markdown",
   "metadata": {
    "slideshow": {
     "slide_type": "subslide"
    }
   },
   "source": [
    "#### Easy wins\n",
    "\n",
    "* Virtual env\n",
    "* User agnostic db access (eg .my.cnf)\n",
    "* Public data (/var/data/client/... not /home/alex/stuff/faff/data/big.csv)\n",
    "* Try to clear output before committing \n",
    "* Each has own server (resource hungry)"
   ]
  },
  {
   "cell_type": "markdown",
   "metadata": {
    "slideshow": {
     "slide_type": "subslide"
    }
   },
   "source": [
    "#### Magics\n",
    "\n",
    "* Mini command language inside IPython\n",
    "\n",
    "https://ipython.org/ipython-doc/dev/interactive/magics.html\n",
    "\n",
    "* Some common magics within IPython Notebooks are:\n",
    "** %lsmagic - list currently available magics\n",
    "** %matplotlib inline - inline backend\n",
    "** %env - manage environment variables\n",
    "\n"
   ]
  },
  {
   "cell_type": "markdown",
   "metadata": {
    "slideshow": {
     "slide_type": "subslide"
    }
   },
   "source": [
    "# TODOS:\n",
    "- Latex/raw\n",
    "- nbviewer\n",
    "- Include an example of a notebook - where is this most useful?"
   ]
  },
  {
   "cell_type": "markdown",
   "metadata": {
    "slideshow": {
     "slide_type": "subslide"
    }
   },
   "source": [
    "### NumPy\n",
    "\n",
    "* 'Numerical Python'\n",
    "* Key datatype is the ```ndarray```\n",
    "* Fast and broadcast operations\n",
    "* Linear algebra\n",
    "* Integrate with C, C++, Fortran\n",
    "* And lots more\n"
   ]
  },
  {
   "cell_type": "code",
   "execution_count": 1,
   "metadata": {
    "collapsed": false,
    "slideshow": {
     "slide_type": "fragment"
    }
   },
   "outputs": [
    {
     "data": {
      "text/plain": [
       "(4,)"
      ]
     },
     "execution_count": 1,
     "metadata": {},
     "output_type": "execute_result"
    }
   ],
   "source": [
    "import numpy as np\n",
    "\n",
    "data = [1, 2, 3, 4]\n",
    "array = np.array(data)\n",
    "array.shape"
   ]
  },
  {
   "cell_type": "code",
   "execution_count": 2,
   "metadata": {
    "collapsed": false,
    "slideshow": {
     "slide_type": "fragment"
    }
   },
   "outputs": [
    {
     "data": {
      "text/plain": [
       "4"
      ]
     },
     "execution_count": 2,
     "metadata": {},
     "output_type": "execute_result"
    }
   ],
   "source": [
    "np.max(array)"
   ]
  },
  {
   "cell_type": "code",
   "execution_count": 9,
   "metadata": {
    "collapsed": false,
    "slideshow": {
     "slide_type": "fragment"
    }
   },
   "outputs": [
    {
     "data": {
      "text/plain": [
       "array([[ 1.,  1.,  1.,  1.,  1.,  1.,  1.,  1.,  1.,  1.],\n",
       "       [ 1.,  1.,  1.,  1.,  1.,  1.,  1.,  1.,  1.,  1.],\n",
       "       [ 1.,  1.,  1.,  1.,  1.,  1.,  1.,  1.,  1.,  1.],\n",
       "       [ 1.,  1.,  1.,  1.,  1.,  1.,  1.,  1.,  1.,  1.],\n",
       "       [ 1.,  1.,  1.,  1.,  1.,  1.,  1.,  1.,  1.,  1.],\n",
       "       [ 1.,  1.,  1.,  1.,  1.,  1.,  1.,  1.,  1.,  1.],\n",
       "       [ 1.,  1.,  1.,  1.,  1.,  1.,  1.,  1.,  1.,  1.],\n",
       "       [ 1.,  1.,  1.,  1.,  1.,  1.,  1.,  1.,  1.,  1.],\n",
       "       [ 1.,  1.,  1.,  1.,  1.,  1.,  1.,  1.,  1.,  1.],\n",
       "       [ 1.,  1.,  1.,  1.,  1.,  1.,  1.,  1.,  1.,  1.]])"
      ]
     },
     "execution_count": 9,
     "metadata": {},
     "output_type": "execute_result"
    }
   ],
   "source": [
    "np.ones((10, 10))"
   ]
  },
  {
   "cell_type": "code",
   "execution_count": 10,
   "metadata": {
    "collapsed": false,
    "slideshow": {
     "slide_type": "fragment"
    }
   },
   "outputs": [
    {
     "data": {
      "text/plain": [
       "array([1, 2, 3, 4])"
      ]
     },
     "execution_count": 10,
     "metadata": {},
     "output_type": "execute_result"
    }
   ],
   "source": [
    "array"
   ]
  },
  {
   "cell_type": "code",
   "execution_count": 11,
   "metadata": {
    "collapsed": false,
    "slideshow": {
     "slide_type": "fragment"
    }
   },
   "outputs": [
    {
     "data": {
      "text/plain": [
       "array([2, 3, 4])"
      ]
     },
     "execution_count": 11,
     "metadata": {},
     "output_type": "execute_result"
    }
   ],
   "source": [
    "array[1:]"
   ]
  },
  {
   "cell_type": "code",
   "execution_count": 12,
   "metadata": {
    "collapsed": false,
    "slideshow": {
     "slide_type": "fragment"
    }
   },
   "outputs": [
    {
     "data": {
      "text/plain": [
       "array([ 1.        ,  1.41421356,  1.73205081,  2.        ])"
      ]
     },
     "execution_count": 12,
     "metadata": {},
     "output_type": "execute_result"
    }
   ],
   "source": [
    "np.sqrt(array)"
   ]
  },
  {
   "cell_type": "code",
   "execution_count": 13,
   "metadata": {
    "collapsed": false,
    "slideshow": {
     "slide_type": "fragment"
    }
   },
   "outputs": [
    {
     "data": {
      "text/plain": [
       "2.5"
      ]
     },
     "execution_count": 13,
     "metadata": {},
     "output_type": "execute_result"
    }
   ],
   "source": [
    "np.mean(array)"
   ]
  },
  {
   "cell_type": "code",
   "execution_count": null,
   "metadata": {
    "collapsed": true
   },
   "outputs": [],
   "source": [
    "mat "
   ]
  },
  {
   "cell_type": "markdown",
   "metadata": {
    "slideshow": {
     "slide_type": "subslide"
    }
   },
   "source": [
    "Also:\n",
    "* Linear algebra (see ```np.linalg``` package)\n",
    "* Set logic\n",
    "* Sorting\n",
    "* Input/output"
   ]
  },
  {
   "cell_type": "markdown",
   "metadata": {
    "slideshow": {
     "slide_type": "subslide"
    }
   },
   "source": [
    "### pandas\n",
    "\n",
    "* Built on top of NumPy (so plays well with NumPy based libraries eg scikit learn)\n",
    "* Two key data structures are ```Series``` and ```DataFrame```\n",
    "* ```Series``` is a one dimensional array with an ```index```\n",
    "* ```DataFrame``` is a tabular/spreadsheet with ordered collection of columns (can be thought of as a ```dict``` of ```Series```)\n",
    "* Functionality for selecting, filtering, broadcast operations, time series, plotting and lots more\n"
   ]
  },
  {
   "cell_type": "code",
   "execution_count": 24,
   "metadata": {
    "collapsed": false
   },
   "outputs": [
    {
     "data": {
      "text/plain": [
       "0    0.230771\n",
       "1    0.121939\n",
       "2    0.402066\n",
       "3    0.696302\n",
       "4    0.601025\n",
       "5    0.991137\n",
       "6    0.354698\n",
       "7    0.875854\n",
       "8    0.134958\n",
       "9    0.145949\n",
       "dtype: float64"
      ]
     },
     "execution_count": 24,
     "metadata": {},
     "output_type": "execute_result"
    }
   ],
   "source": [
    "from pandas import Series, DataFrame\n",
    "import pandas as pd\n",
    "\n",
    "s = Series(np.random.rand(10))\n",
    "s"
   ]
  },
  {
   "cell_type": "code",
   "execution_count": 16,
   "metadata": {
    "collapsed": false
   },
   "outputs": [
    {
     "data": {
      "text/plain": [
       "Int64Index([0, 1, 2, 3, 4, 5, 6, 7, 8, 9], dtype='int64')"
      ]
     },
     "execution_count": 16,
     "metadata": {},
     "output_type": "execute_result"
    }
   ],
   "source": [
    "s.index"
   ]
  },
  {
   "cell_type": "code",
   "execution_count": 22,
   "metadata": {
    "collapsed": false
   },
   "outputs": [
    {
     "data": {
      "text/plain": [
       "0    0.605849\n",
       "1    0.863140\n",
       "2    0.634565\n",
       "6    0.833650\n",
       "7    0.880774\n",
       "8    0.863164\n",
       "dtype: float64"
      ]
     },
     "execution_count": 22,
     "metadata": {},
     "output_type": "execute_result"
    }
   ],
   "source": [
    "s[s > 0.5]"
   ]
  },
  {
   "cell_type": "code",
   "execution_count": 26,
   "metadata": {
    "collapsed": false
   },
   "outputs": [
    {
     "data": {
      "text/html": [
       "<div style=\"max-height:1000px;max-width:1500px;overflow:auto;\">\n",
       "<table border=\"1\" class=\"dataframe\">\n",
       "  <thead>\n",
       "    <tr style=\"text-align: right;\">\n",
       "      <th></th>\n",
       "      <th>a</th>\n",
       "      <th>b</th>\n",
       "    </tr>\n",
       "  </thead>\n",
       "  <tbody>\n",
       "    <tr>\n",
       "      <th>0</th>\n",
       "      <td>0.558577</td>\n",
       "      <td>0.075653</td>\n",
       "    </tr>\n",
       "    <tr>\n",
       "      <th>1</th>\n",
       "      <td>0.749256</td>\n",
       "      <td>0.341849</td>\n",
       "    </tr>\n",
       "    <tr>\n",
       "      <th>2</th>\n",
       "      <td>0.759961</td>\n",
       "      <td>0.088551</td>\n",
       "    </tr>\n",
       "    <tr>\n",
       "      <th>3</th>\n",
       "      <td>0.484817</td>\n",
       "      <td>0.711775</td>\n",
       "    </tr>\n",
       "    <tr>\n",
       "      <th>4</th>\n",
       "      <td>0.572196</td>\n",
       "      <td>0.890946</td>\n",
       "    </tr>\n",
       "  </tbody>\n",
       "</table>\n",
       "</div>"
      ],
      "text/plain": [
       "          a         b\n",
       "0  0.558577  0.075653\n",
       "1  0.749256  0.341849\n",
       "2  0.759961  0.088551\n",
       "3  0.484817  0.711775\n",
       "4  0.572196  0.890946"
      ]
     },
     "execution_count": 26,
     "metadata": {},
     "output_type": "execute_result"
    }
   ],
   "source": [
    "df = DataFrame({'a':np.random.rand(5), 'b':np.random.rand(5)})\n",
    "df"
   ]
  },
  {
   "cell_type": "markdown",
   "metadata": {},
   "source": [
    "Many constructors:\n",
    "* ndarray\n",
    "* dict of arrays\n",
    "* dict of Series\n",
    "* dict of dicts\n",
    "* List of dicts \n",
    "* List of lists or tuples\n",
    "* Another DataFrame"
   ]
  },
  {
   "cell_type": "code",
   "execution_count": 27,
   "metadata": {
    "collapsed": false
   },
   "outputs": [
    {
     "data": {
      "text/plain": [
       "array([[ 0.55857676,  0.07565304],\n",
       "       [ 0.74925619,  0.34184864],\n",
       "       [ 0.75996097,  0.08855115],\n",
       "       [ 0.48481745,  0.71177506],\n",
       "       [ 0.57219592,  0.89094611]])"
      ]
     },
     "execution_count": 27,
     "metadata": {},
     "output_type": "execute_result"
    }
   ],
   "source": [
    "df.values"
   ]
  },
  {
   "cell_type": "markdown",
   "metadata": {},
   "source": [
    "Look at:\n",
    "* Broadcast operations ```df.mean()```\n",
    "* Working with missing data ```df.fillna()```\n",
    "* Comparisons ```df.gt()```\n",
    "* Descriptive/statistics ```df.describe(), df.nunique(), df.hist()```\n",
    "* Row/column/element-wise function application ```df.apply(lambda x: x**2)```\n",
    "* Iteration over rows/columns ```df.iterrows()```\n",
    "* Vectorized string methods ```df.str.lower()```\n",
    "* SQL-like merging ```pd.merge()```\n",
    "* Grouping ```df.groupby().groups```\n",
    "* Re-indexing and re-aligning\n",
    "* Reshaping ```pd.pivot_table()```\n",
    "* Pltting ```df.hist()```\n",
    "* IO from csv, text, HDF5\n",
    "* Timeseries"
   ]
  },
  {
   "cell_type": "markdown",
   "metadata": {},
   "source": [
    "http://www.xmind.net/m/WvfC/"
   ]
  }
 ],
 "metadata": {
  "celltoolbar": "Slideshow",
  "kernelspec": {
   "display_name": "Python 2",
   "language": "python",
   "name": "python2"
  },
  "language_info": {
   "codemirror_mode": {
    "name": "ipython",
    "version": 2
   },
   "file_extension": ".py",
   "mimetype": "text/x-python",
   "name": "python",
   "nbconvert_exporter": "python",
   "pygments_lexer": "ipython2",
   "version": "2.7.6"
  }
 },
 "nbformat": 4,
 "nbformat_minor": 0
}
