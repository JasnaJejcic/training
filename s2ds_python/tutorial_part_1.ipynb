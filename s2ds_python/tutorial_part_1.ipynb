{
 "cells": [
  {
   "cell_type": "markdown",
   "metadata": {
    "slideshow": {
     "slide_type": "slide"
    }
   },
   "source": [
    "# Growth Intel - Python Programming\n",
    "\n",
    "-----\n",
    "\n",
    "**Alex Mitchell @data_alex**\n",
    "\n",
    "**Prash Majmudar @prashmaj**"
   ]
  },
  {
   "cell_type": "markdown",
   "metadata": {
    "slideshow": {
     "slide_type": "slide"
    }
   },
   "source": [
    "## Python\n",
    "### Obligatory history\n",
    "\n",
    "* Python is over 20 years old\n",
    "* Creator Guido van Rossum has written up the history of Python / language design:\n",
    "http://python-history.blogspot.co.uk/2009/01/introduction-and-overview.html\n",
    "* Python is a multi-purpose language, it is dynamically typed, strongely typed and interpreted\n",
    "\n",
    "### This talk\n",
    "\n",
    "* Focus is on Python 2.7 (Python 3 features might be mentioned)\n",
    "* When we talk about about Python, we're talking about CPython (Python written in C), not Jython, IronPython, PyPy etc."
   ]
  },
  {
   "cell_type": "code",
   "execution_count": 1,
   "metadata": {
    "collapsed": false,
    "slideshow": {
     "slide_type": "subslide"
    }
   },
   "outputs": [
    {
     "name": "stdout",
     "output_type": "stream",
     "text": [
      "The Zen of Python, by Tim Peters\n",
      "\n",
      "Beautiful is better than ugly.\n",
      "Explicit is better than implicit.\n",
      "Simple is better than complex.\n",
      "Complex is better than complicated.\n",
      "Flat is better than nested.\n",
      "Sparse is better than dense.\n",
      "Readability counts.\n",
      "Special cases aren't special enough to break the rules.\n",
      "Although practicality beats purity.\n",
      "Errors should never pass silently.\n",
      "Unless explicitly silenced.\n",
      "In the face of ambiguity, refuse the temptation to guess.\n",
      "There should be one-- and preferably only one --obvious way to do it.\n",
      "Although that way may not be obvious at first unless you're Dutch.\n",
      "Now is better than never.\n",
      "Although never is often better than *right* now.\n",
      "If the implementation is hard to explain, it's a bad idea.\n",
      "If the implementation is easy to explain, it may be a good idea.\n",
      "Namespaces are one honking great idea -- let's do more of those!\n"
     ]
    }
   ],
   "source": [
    "import this"
   ]
  },
  {
   "cell_type": "markdown",
   "metadata": {
    "slideshow": {
     "slide_type": "slide"
    }
   },
   "source": [
    "## Why choose Python?\n",
    "\n",
    "### Readable / Easy to get started \n",
    "\n",
    "* Readablity core to language design\n",
    " * Implies maintainable, re-usable code\n",
    " \n",
    "### Productivity\n",
    "* Intepreted --> Faster to iterate (no compile + link phase) e.g. with REPL\n",
    "* Large standard library\n",
    "* Core language has higher order functions (hides implementation detail) - generally means less code required to get stuff done (less to maintain / debug etc.)\n",
    "* Large community support\n",
    "\n",
    "### It's fun\n",
    "\n",
    "```import antigravity```\n",
    "\n",
    "## Why Not Python?\n",
    "\n",
    "* Dynamic typing, lack of control over memory management: discipline is required\n",
    "* If you need to write fast CPU intensive code (though extensions such as NumPy exist) - you may want to use C  / C++\n",
    "* ..."
   ]
  },
  {
   "cell_type": "markdown",
   "metadata": {
    "slideshow": {
     "slide_type": "subslide"
    }
   },
   "source": [
    "## Use cases\n",
    "\n",
    "- Web Development (Django, Flask, Tornado, ...)\n",
    "- Machine learning (scikit-learn, PyBrain, ...)\n",
    "- Data analysis (Pandas, IPython NB)\n",
    "- Data pipelines (Luigi, PySpark, mrjob, disco)\n",
    "- Natural Language Processing (NLTK, gensim)\n",
    "- Machine Vision\n",
    "- Scripting / sysadmin (large standard lib for sysadmin tasks)\n",
    "- Networking (Twisted)\n",
    "- GUIs (Tkinter)\n",
    "- Games (pygame)\n",
    "- Animation\n",
    "\n",
    "Python bindings exist for most external services you might use (SQL / NoSQL databases, AWS)\n",
    "\n"
   ]
  },
  {
   "cell_type": "markdown",
   "metadata": {
    "slideshow": {
     "slide_type": "slide"
    }
   },
   "source": [
    "##  Getting started\n",
    "\n",
    "### Pick a development environment\n",
    "\n",
    "Some choices:\n",
    "\n",
    "* PyCharm - IDE\n",
    "\n",
    "* IPython + Editor (Vim, Emacs, Sublime).\n",
    "  NB: Vim / Emacs - harder to learn (needs setup, plus key bindings). Productive when setup (but takes years to perfect setup!). Available on the server and locally - same toolsets across environments.\n",
    "\n",
    "\n",
    "### Source control\n",
    "\n",
    "* Git hosted on Github is a good choice\n",
    "\n",
    "\n",
    "### Package managers and dependency isolation\n",
    "\n",
    "* Pip + virtualenv\n",
    " * `pip freeze`\n",
    " * `pip install -r requirements.txt`\n",
    "* Anaconda\n",
    "\n",
    "### Other tools\n",
    "\n",
    "* Pylint"
   ]
  },
  {
   "cell_type": "code",
   "execution_count": 6,
   "metadata": {
    "collapsed": false,
    "slideshow": {
     "slide_type": "slide"
    }
   },
   "outputs": [
    {
     "name": "stdout",
     "output_type": "stream",
     "text": [
      "Spam\n",
      "0\n",
      "1\n",
      "2\n",
      "3\n",
      "4\n",
      "5\n",
      "6\n",
      "7\n",
      "8\n",
      "9\n"
     ]
    }
   ],
   "source": [
    "# Lets just do something\n",
    "# Python borrows heavily  from C i.e. if else, while, for etc.\n",
    "print \"Spam\"\n",
    "for x in range(10):\n",
    "    print x\n",
    "    \n"
   ]
  },
  {
   "cell_type": "markdown",
   "metadata": {
    "slideshow": {
     "slide_type": "slide"
    }
   },
   "source": [
    "### What's happening here?\n",
    "\n",
    "* Python is compiling the source files into bytecode (note this is not machine code)\n",
    "* The bytecode files are cached as .pyc files - compilation only occurs if timestamps differ\n",
    "* The bytecode is run through the Python Interpreter (PVM)\n",
    "* ASIDE: The Python intepreter uses a Global Interpreter Lock (i.e. each operation is locked). This has consequences for multi-threading in Python (more later)"
   ]
  },
  {
   "cell_type": "markdown",
   "metadata": {
    "slideshow": {
     "slide_type": "fragment"
    }
   },
   "source": [
    "<img src=\"python_compile.png\">"
   ]
  },
  {
   "cell_type": "markdown",
   "metadata": {
    "slideshow": {
     "slide_type": "slide"
    }
   },
   "source": [
    "## Core types  / structures\n",
    "\n",
    "* Ints\n",
    "* Strings\n",
    "* Lists\n",
    "* Dicts\n",
    "* Tuples\n",
    "* Sets\n",
    "* Bools\n",
    "* None\n",
    "\n",
    "A few other points to note:\n",
    "\n",
    "* Variables in Python are basically aliases / names for objects\n",
    "* Nearly everything is an object. Including functions - these are First Class citizens. This means we can pass assign functions to variables, pass them into functions / methods, operate on them"
   ]
  },
  {
   "cell_type": "markdown",
   "metadata": {
    "slideshow": {
     "slide_type": "slide"
    }
   },
   "source": [
    "## Strings - Python 2"
   ]
  },
  {
   "cell_type": "markdown",
   "metadata": {
    "slideshow": {
     "slide_type": "subslide"
    }
   },
   "source": [
    "### Unicode and str\n",
    "\n",
    "* Strings have to representations in Python:\n",
    " * Byte strings - `str`\n",
    " * Unicode - `Unicode`\n",
    " \n",
    "* Byte strings "
   ]
  },
  {
   "cell_type": "markdown",
   "metadata": {
    "slideshow": {
     "slide_type": "subslide"
    }
   },
   "source": [
    "### Raw strings"
   ]
  },
  {
   "cell_type": "code",
   "execution_count": 36,
   "metadata": {
    "collapsed": false,
    "slideshow": {
     "slide_type": "fragment"
    }
   },
   "outputs": [
    {
     "name": "stdout",
     "output_type": "stream",
     "text": [
      "Hello\n"
     ]
    }
   ],
   "source": [
    "# Raw strings treat escape characters differently - backslashes are not escaped\n",
    "# Use for Regular expressions\n",
    "import re\n",
    "regex_str = r'\\bHello\\b'\n",
    "hello_regex = re.compile(regex_str)\n",
    "matches = hello_regex.search('Good day and Hello    to you all')\n",
    "print matches.group()\n",
    "\n",
    "# Otherwise I need to do this (less readable for complex regular expressions)\n",
    "regex_str = r'\\\\bHello\\\\b'\n"
   ]
  },
  {
   "cell_type": "code",
   "execution_count": null,
   "metadata": {
    "collapsed": true,
    "slideshow": {
     "slide_type": "subslide"
    }
   },
   "outputs": [],
   "source": []
  },
  {
   "cell_type": "code",
   "execution_count": 33,
   "metadata": {
    "collapsed": false,
    "slideshow": {
     "slide_type": "subslide"
    }
   },
   "outputs": [
    {
     "name": "stdout",
     "output_type": "stream",
     "text": [
      "['Level 42, 1 Canada Sq, Canary Wharf']\n"
     ]
    }
   ],
   "source": [
    "import math\n",
    "def concat_address(addresses):\n",
    "    \"\"\"Concat addresses.\"\"\"\n",
    "    \n",
    "    return \", \".join(addr)\n",
    "    \n",
    "    \n",
    "print test_func([[\"Level 42\", \"1 Canada Sq\", \"Canary Wharf\"]])"
   ]
  },
  {
   "cell_type": "markdown",
   "metadata": {
    "slideshow": {
     "slide_type": "subslide"
    }
   },
   "source": [
    "Python variables explained\n",
    "\n",
    "Insert links for explaining this stuff"
   ]
  },
  {
   "cell_type": "markdown",
   "metadata": {
    "slideshow": {
     "slide_type": "subslide"
    }
   },
   "source": [
    "### Lists"
   ]
  },
  {
   "cell_type": "code",
   "execution_count": 7,
   "metadata": {
    "collapsed": false,
    "slideshow": {
     "slide_type": "fragment"
    }
   },
   "outputs": [
    {
     "name": "stdout",
     "output_type": "stream",
     "text": [
      "Original list:  ['alex', 'bob', 'fred', 'alice']\n",
      "Last list element:  alice\n",
      "List is now:  ['alex', 'bob', 'fred', 'james']\n"
     ]
    }
   ],
   "source": [
    "\n",
    "names =  ['alex', 'bob', 'fred', 'alice']\n",
    "print \"Original list: \", names\n",
    "\n",
    "last = names.pop()\n",
    "print \"Last list element: \", last\n",
    "\n",
    "# Lists are mutable\n",
    "names.append('james')\n",
    "print \"List is now: \", names\n",
    "\n",
    "#names.count()\n",
    "\n",
    "\n"
   ]
  },
  {
   "cell_type": "code",
   "execution_count": 8,
   "metadata": {
    "collapsed": false,
    "slideshow": {
     "slide_type": "fragment"
    }
   },
   "outputs": [
    {
     "name": "stdout",
     "output_type": "stream",
     "text": [
      "start of array up to (not including) index of 2 ['alex', 'bob']\n",
      "Last element:  james\n",
      "First element:  alex\n",
      "Start at index 2, up to (not inc) index 4  ['fred', 'james']\n"
     ]
    }
   ],
   "source": [
    "# Slicing\n",
    "print \"start of array up to (not including) index of 2\", names[:2]\n",
    "print \"Last element: \", names[-1]\n",
    "print \"First element: \", names[0]\n",
    "print \"Start at index 2, up to (not inc) index 4 \", names[2:4]"
   ]
  },
  {
   "cell_type": "markdown",
   "metadata": {
    "slideshow": {
     "slide_type": "subslide"
    }
   },
   "source": [
    "### Dictionaries"
   ]
  },
  {
   "cell_type": "code",
   "execution_count": 9,
   "metadata": {
    "collapsed": false,
    "slideshow": {
     "slide_type": "fragment"
    }
   },
   "outputs": [
    {
     "name": "stdout",
     "output_type": "stream",
     "text": [
      "{'bbc.co.uk': 5000000.0, 'test.com': 1256, 'growthintel.com': 5000}\n",
      "Gi has:  5000\n"
     ]
    }
   ],
   "source": [
    "# Key-value collection\n",
    "url_visits = {\"test.com\":1256,  \"growthintel.com\":5000, \"bbc.co.uk\":5e6}\n",
    "print url_visits\n",
    "print \"Gi has: \", url_visits[\"growthintel.com\"]\n"
   ]
  },
  {
   "cell_type": "code",
   "execution_count": 12,
   "metadata": {
    "collapsed": false,
    "slideshow": {
     "slide_type": "fragment"
    }
   },
   "outputs": [
    {
     "name": "stdout",
     "output_type": "stream",
     "text": [
      "Got a Key Error: 'bob.com'\n"
     ]
    }
   ],
   "source": [
    "# Key does not exist\n",
    "try:\n",
    "    url_visits[\"bob.com\"]\n",
    "except KeyError as e:\n",
    "    print \"Got a Key Error:\", e"
   ]
  },
  {
   "cell_type": "code",
   "execution_count": 20,
   "metadata": {
    "collapsed": false,
    "slideshow": {
     "slide_type": "fragment"
    }
   },
   "outputs": [
    {
     "name": "stdout",
     "output_type": "stream",
     "text": [
      "Value for bob.com is:  None\n",
      "Key does not exist!\n"
     ]
    }
   ],
   "source": [
    "print \"Value for bob.com is: \", url_visits.get(\"bob.com\", None)\n",
    "\n",
    "# OR check key exists first\n",
    "\n",
    "if \"bob.com\" in url_visits:\n",
    "    print \"Key exists!\"\n",
    "else:\n",
    "    print \"Key does not exist!\""
   ]
  },
  {
   "cell_type": "markdown",
   "metadata": {
    "slideshow": {
     "slide_type": "fragment"
    }
   },
   "source": [
    "### Defaultdicts\n",
    "\n",
    "* Extends dictionaries to have a default factory for new keys that are added"
   ]
  },
  {
   "cell_type": "code",
   "execution_count": 21,
   "metadata": {
    "collapsed": false,
    "slideshow": {
     "slide_type": "fragment"
    }
   },
   "outputs": [
    {
     "name": "stdout",
     "output_type": "stream",
     "text": [
      "defaultdict(<type 'list'>, {'a': ['bob']})\n"
     ]
    }
   ],
   "source": [
    "from collections import defaultdict\n",
    "dict_of_lists = defaultdict(list)\n",
    "dict_of_lists['a'].append('bob')\n",
    "print dict_of_lists"
   ]
  },
  {
   "cell_type": "markdown",
   "metadata": {
    "slideshow": {
     "slide_type": "fragment"
    }
   },
   "source": [
    "* dictionary comprehensions"
   ]
  },
  {
   "cell_type": "code",
   "execution_count": null,
   "metadata": {
    "collapsed": true,
    "slideshow": {
     "slide_type": "fragment"
    }
   },
   "outputs": [],
   "source": [
    "Problem:\n",
    "Create dict to store the following info\n",
    "    \n",
    "* Brian Cohen\n",
    "* \n",
    "* "
   ]
  },
  {
   "cell_type": "markdown",
   "metadata": {
    "collapsed": true,
    "slideshow": {
     "slide_type": "subslide"
    }
   },
   "source": [
    "### Sets"
   ]
  },
  {
   "cell_type": "code",
   "execution_count": null,
   "metadata": {
    "collapsed": true,
    "slideshow": {
     "slide_type": "fragment"
    }
   },
   "outputs": [],
   "source": []
  },
  {
   "cell_type": "markdown",
   "metadata": {
    "slideshow": {
     "slide_type": "subslide"
    }
   },
   "source": [
    "### Tuples"
   ]
  },
  {
   "cell_type": "code",
   "execution_count": null,
   "metadata": {
    "collapsed": false,
    "slideshow": {
     "slide_type": "fragment"
    }
   },
   "outputs": [],
   "source": [
    "# Use the comma operator\n",
    "a = 1,\n",
    "\n",
    "# Single items MUST use the comma operator\n",
    "b = (1,) # Don't use (1)\n",
    "\n",
    "c = 1,2,3,4,\"hello\"\n",
    "\n",
    "print a\n",
    "print b\n",
    "print c"
   ]
  },
  {
   "cell_type": "markdown",
   "metadata": {
    "slideshow": {
     "slide_type": "fragment"
    }
   },
   "source": [
    "* Tuples are **immutable**.\n",
    " * Used as keys in dictionaries\n",
    " * Data containers to be passed to functions / methods - data cannot be modified (also see: `namedtuples`)\n"
   ]
  },
  {
   "cell_type": "code",
   "execution_count": null,
   "metadata": {
    "collapsed": true,
    "slideshow": {
     "slide_type": "fragment"
    }
   },
   "outputs": [],
   "source": []
  },
  {
   "cell_type": "code",
   "execution_count": null,
   "metadata": {
    "collapsed": true,
    "slideshow": {
     "slide_type": "slide"
    }
   },
   "outputs": [],
   "source": [
    "# Generators"
   ]
  },
  {
   "cell_type": "code",
   "execution_count": null,
   "metadata": {
    "collapsed": true,
    "slideshow": {
     "slide_type": "slide"
    }
   },
   "outputs": [],
   "source": [
    "## Functional features\n",
    "\n",
    "Map, Reduce, Filter -> \n",
    "Lambda functions\n",
    "\n",
    "Preferable to use List  / Dict comprehensions\n",
    "\n",
    "\n",
    "\n",
    "\n"
   ]
  },
  {
   "cell_type": "code",
   "execution_count": null,
   "metadata": {
    "collapsed": true,
    "slideshow": {
     "slide_type": "slide"
    }
   },
   "outputs": [],
   "source": [
    "Decorators"
   ]
  },
  {
   "cell_type": "markdown",
   "metadata": {
    "collapsed": true,
    "slideshow": {
     "slide_type": "slide"
    }
   },
   "source": [
    "## Organising your code\n",
    "\n",
    "Python code is organised into files (modules)\n",
    "Collections of modules are packages\n",
    "\n",
    "Python uses the file\n",
    "\n",
    "### Packages\n",
    "\n",
    "\n",
    "\n",
    "### Modules\n",
    "\n",
    "Modules are imported once. Code is executed on imported and namespace for that module created.\n",
    "Note:  Modules are sensible way to have an object created once only (Singleton)\n",
    "\n",
    "### Classes"
   ]
  },
  {
   "cell_type": "code",
   "execution_count": null,
   "metadata": {
    "collapsed": true,
    "slideshow": {
     "slide_type": "subslide"
    }
   },
   "outputs": [],
   "source": [
    "FEEDBACK:\n",
    "    \n",
    "    Interested in other libraries e.g. Pysparrk\n",
    "    Wants info on structuring an app"
   ]
  },
  {
   "cell_type": "code",
   "execution_count": 2,
   "metadata": {
    "collapsed": false,
    "slideshow": {
     "slide_type": "subslide"
    }
   },
   "outputs": [
    {
     "data": {
      "text/plain": [
       "['WRAPPER_ASSIGNMENTS',\n",
       " 'WRAPPER_UPDATES',\n",
       " '__builtins__',\n",
       " '__doc__',\n",
       " '__file__',\n",
       " '__name__',\n",
       " '__package__',\n",
       " 'cmp_to_key',\n",
       " 'partial',\n",
       " 'reduce',\n",
       " 'total_ordering',\n",
       " 'update_wrapper',\n",
       " 'wraps']"
      ]
     },
     "execution_count": 2,
     "metadata": {},
     "output_type": "execute_result"
    }
   ],
   "source": [
    "import functools\n",
    "dir(functools)"
   ]
  },
  {
   "cell_type": "code",
   "execution_count": 5,
   "metadata": {
    "collapsed": false,
    "slideshow": {
     "slide_type": "subslide"
    }
   },
   "outputs": [
    {
     "data": {
      "text/plain": [
       "['Callable',\n",
       " 'Container',\n",
       " 'Counter',\n",
       " 'Hashable',\n",
       " 'ItemsView',\n",
       " 'Iterable',\n",
       " 'Iterator',\n",
       " 'KeysView',\n",
       " 'Mapping',\n",
       " 'MappingView',\n",
       " 'MutableMapping',\n",
       " 'MutableSequence',\n",
       " 'MutableSet',\n",
       " 'OrderedDict',\n",
       " 'Sequence',\n",
       " 'Set',\n",
       " 'Sized',\n",
       " 'ValuesView',\n",
       " '__all__',\n",
       " '__builtins__',\n",
       " '__doc__',\n",
       " '__file__',\n",
       " '__name__',\n",
       " '__package__',\n",
       " '_abcoll',\n",
       " '_chain',\n",
       " '_class_template',\n",
       " '_eq',\n",
       " '_field_template',\n",
       " '_get_ident',\n",
       " '_heapq',\n",
       " '_imap',\n",
       " '_iskeyword',\n",
       " '_itemgetter',\n",
       " '_repeat',\n",
       " '_repr_template',\n",
       " '_starmap',\n",
       " '_sys',\n",
       " 'defaultdict',\n",
       " 'deque',\n",
       " 'namedtuple']"
      ]
     },
     "execution_count": 5,
     "metadata": {},
     "output_type": "execute_result"
    }
   ],
   "source": [
    "import collections\n",
    "dir(collections)"
   ]
  },
  {
   "cell_type": "code",
   "execution_count": 7,
   "metadata": {
    "collapsed": false,
    "slideshow": {
     "slide_type": "subslide"
    }
   },
   "outputs": [
    {
     "data": {
      "text/plain": [
       "['__doc__',\n",
       " '__file__',\n",
       " '__name__',\n",
       " '__package__',\n",
       " 'chain',\n",
       " 'combinations',\n",
       " 'combinations_with_replacement',\n",
       " 'compress',\n",
       " 'count',\n",
       " 'cycle',\n",
       " 'dropwhile',\n",
       " 'groupby',\n",
       " 'ifilter',\n",
       " 'ifilterfalse',\n",
       " 'imap',\n",
       " 'islice',\n",
       " 'izip',\n",
       " 'izip_longest',\n",
       " 'permutations',\n",
       " 'product',\n",
       " 'repeat',\n",
       " 'starmap',\n",
       " 'takewhile',\n",
       " 'tee']"
      ]
     },
     "execution_count": 7,
     "metadata": {},
     "output_type": "execute_result"
    }
   ],
   "source": [
    "import itertools\n",
    "dir(itertools)"
   ]
  },
  {
   "cell_type": "markdown",
   "metadata": {
    "slideshow": {
     "slide_type": "slide"
    }
   },
   "source": [
    "## Sequences\n",
    "\n",
    "* Sequence slicing\n",
    "* Iterating on sequences, iterating on sequences in parallel (zip), generators, itertools\n"
   ]
  },
  {
   "cell_type": "markdown",
   "metadata": {
    "slideshow": {
     "slide_type": "slide"
    }
   },
   "source": [
    "### Iterating over multiple sequences in parallel"
   ]
  },
  {
   "cell_type": "code",
   "execution_count": 37,
   "metadata": {
    "collapsed": false,
    "slideshow": {
     "slide_type": "fragment"
    }
   },
   "outputs": [
    {
     "data": {
      "text/plain": [
       "{1: 'a', 2: 'b', 3: 'c', 4: 'd'}"
      ]
     },
     "execution_count": 37,
     "metadata": {},
     "output_type": "execute_result"
    }
   ],
   "source": [
    "#  ZIP\n",
    "\n",
    "a = [1,2,3,4]\n",
    "b  = ['a', 'b', 'c', 'd']\n",
    "\n",
    "# Use zip to create a new list of tuples to pass to the dict constructor\n",
    "dict(zip(a,b))"
   ]
  },
  {
   "cell_type": "code",
   "execution_count": 19,
   "metadata": {
    "collapsed": false,
    "slideshow": {
     "slide_type": "fragment"
    }
   },
   "outputs": [
    {
     "name": "stdout",
     "output_type": "stream",
     "text": [
      "[(1, 'a'), (2, 'b'), (3, 'c'), (4, 'd')]\n",
      "<itertools.izip object at 0x7f152062c5f0>\n"
     ]
    },
    {
     "data": {
      "text/plain": [
       "(1, 'a')"
      ]
     },
     "execution_count": 19,
     "metadata": {},
     "output_type": "execute_result"
    }
   ],
   "source": [
    "# For long lists consider using izip to return an iterable rather than a new list\n",
    "import itertools\n",
    "\n",
    "print zip(a,b)\n",
    "\n",
    "print itertools.izip(a,b)\n",
    "\n",
    "zip_gen = itertools.izip(a,b)\n",
    "zip_gen.next()"
   ]
  }
 ],
 "metadata": {
  "celltoolbar": "Slideshow",
  "kernelspec": {
   "display_name": "Python 2",
   "language": "python",
   "name": "python2"
  },
  "language_info": {
   "codemirror_mode": {
    "name": "ipython",
    "version": 2
   },
   "file_extension": ".py",
   "mimetype": "text/x-python",
   "name": "python",
   "nbconvert_exporter": "python",
   "pygments_lexer": "ipython2",
   "version": "2.7.9"
  }
 },
 "nbformat": 4,
 "nbformat_minor": 0
}
