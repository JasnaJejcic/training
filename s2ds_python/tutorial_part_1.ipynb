{
 "cells": [
  {
   "cell_type": "markdown",
   "metadata": {
    "slideshow": {
     "slide_type": "slide"
    }
   },
   "source": [
    "![](Gi_logo1.png)\n",
    "# Python Development and Data analysis\n",
    "\n",
    "-----\n",
    "\n",
    "**Alex Mitchell @data_alex**\n",
    "\n",
    "**Prash Majmudar @prashmaj**"
   ]
  },
  {
   "cell_type": "markdown",
   "metadata": {
    "slideshow": {
     "slide_type": "slide"
    }
   },
   "source": [
    "## Python\n",
    "### Obligatory history\n",
    "\n",
    "* Python is over 20 years old\n",
    "* Creator Guido van Rossum has written up the history of Python / language design:\n",
    "http://python-history.blogspot.co.uk/2009/01/introduction-and-overview.html\n",
    "* Python is a multi-purpose language, it is dynamically, strongely typed and interpreted\n",
    "\n",
    "### This talk\n",
    "\n",
    "* Focus is on Python 2.7 (Python 3 features might be mentioned)\n",
    "* When we talk about about Python, we're talking about CPython (Python written in C), not Jython, IronPython, PyPy etc."
   ]
  },
  {
   "cell_type": "code",
   "execution_count": 85,
   "metadata": {
    "collapsed": false,
    "slideshow": {
     "slide_type": "subslide"
    }
   },
   "outputs": [],
   "source": [
    "import this"
   ]
  },
  {
   "cell_type": "markdown",
   "metadata": {
    "slideshow": {
     "slide_type": "subslide"
    }
   },
   "source": [
    "## Why choose Python?\n",
    "\n",
    "### Readable / Easy to get started \n",
    "\n",
    "* Readablity core to language design\n",
    " * Implies maintainable, re-usable code\n",
    " \n",
    "### Productivity\n",
    "* Intepreted --> Faster to iterate (no compile + link phase) e.g. with REPL\n",
    "* Large standard library\n",
    "* Core language has higher order functions (hides implementation detail) - generally means less code required to get stuff done (less to maintain / debug etc.)\n",
    "* Large community support\n",
    "\n",
    "### It's fun\n",
    "\n",
    "```import antigravity```\n",
    "\n",
    "## Why Not Python?\n",
    "\n",
    "* Dynamic typing, lack of control over memory management: discipline is required\n",
    "* If you need to write fast CPU intensive code (though extensions such as NumPy exist) - you may want to use C  / C++\n",
    "* ..."
   ]
  },
  {
   "cell_type": "markdown",
   "metadata": {
    "slideshow": {
     "slide_type": "subslide"
    }
   },
   "source": [
    "## Use cases\n",
    "\n",
    "- Web Development (Django, Flask, Tornado, ...)\n",
    "- Machine learning (scikit-learn, PyBrain, ...)\n",
    "- Data analysis (Pandas, IPython NB)\n",
    "- Data pipelines (Luigi, PySpark, mrjob, disco)\n",
    "- Natural Language Processing (NLTK, gensim)\n",
    "- Machine Vision\n",
    "- Scripting / sysadmin (large standard lib for sysadmin tasks)\n",
    "- Networking (Twisted)\n",
    "- GUIs (Tkinter)\n",
    "- Games (pygame)\n",
    "- Animation\n",
    "\n",
    "Python bindings exist for most external services you might use (SQL / NoSQL databases, AWS)\n",
    "\n"
   ]
  },
  {
   "cell_type": "markdown",
   "metadata": {
    "slideshow": {
     "slide_type": "subslide"
    }
   },
   "source": [
    "##  Getting started\n",
    "\n",
    "### Pick a development environment\n",
    "\n",
    "Some choices:\n",
    "\n",
    "* PyCharm - IDE\n",
    "\n",
    "* IPython + Editor (Vim, Emacs, Sublime).\n",
    "  NB: Vim / Emacs - harder to learn (needs setup, plus key bindings). Productive when setup (but takes years to perfect setup!). Available on the server and locally - same toolsets across environments.\n",
    "\n",
    "\n",
    "### Source control\n",
    "\n",
    "* Git hosted on Github is a good choice\n",
    "\n",
    "\n",
    "### Package managers and dependency isolation\n",
    "\n",
    "* Pip + virtualenv (https://virtualenv.pypa.io/en/latest/):\n",
    " * `pip install --upgrade pip`\n",
    " * `pip install virtualenv`\n",
    " \n",
    "* Start your env\n",
    " * `virtualenv TESTENV`\n",
    " * `source TESTENV\\bin\\activate`  and `deactivate`\n",
    " \n",
    "* Update requirements files\n",
    " * `pip freeze`\n",
    " * `pip install -r requirements.txt`\n",
    " \n",
    "* Anaconda\n",
    "\n",
    "### Other tools\n",
    "\n",
    "* Pylint"
   ]
  },
  {
   "cell_type": "code",
   "execution_count": 104,
   "metadata": {
    "collapsed": false,
    "slideshow": {
     "slide_type": "subslide"
    }
   },
   "outputs": [
    {
     "name": "stdout",
     "output_type": "stream",
     "text": [
      "Spam\n",
      "An even number 0\n",
      "1\n",
      "An even number 2\n",
      "3\n",
      "An even number 4\n",
      "5\n",
      "An even number 6\n",
      "7\n",
      "An even number 8\n",
      "9\n"
     ]
    }
   ],
   "source": [
    "# Python borrows heavily  from C i.e. if else, while, for etc.\n",
    "print \"Spam\"\n",
    "for x in range(10):\n",
    "    if x % 2:\n",
    "        print x\n",
    "    else:\n",
    "        print \"An even number\", x\n",
    "    \n"
   ]
  },
  {
   "cell_type": "markdown",
   "metadata": {
    "slideshow": {
     "slide_type": "subslide"
    }
   },
   "source": [
    "### What's happening here?\n",
    "\n",
    "* Python is compiling the source files into bytecode (note this is not machine code)\n",
    "* The bytecode files are cached as .pyc files - compilation only occurs if timestamps differ\n",
    "* The bytecode is run through the Python Interpreter (PVM)\n",
    "* ASIDE: The Python intepreter uses a Global Interpreter Lock (i.e. each operation is locked). This has consequences for multi-threading in Python (more later)"
   ]
  },
  {
   "cell_type": "markdown",
   "metadata": {
    "slideshow": {
     "slide_type": "fragment"
    }
   },
   "source": [
    "<img src=\"python_compile.png\">"
   ]
  },
  {
   "cell_type": "markdown",
   "metadata": {
    "slideshow": {
     "slide_type": "subslide"
    }
   },
   "source": [
    "### Exercise\n",
    "\n",
    "* Check the version of Python you have. Check you have pip!\n",
    "* Install and activate virtualenv\n",
    "* Use pip freeze to check installed packages in your virtualenv\n",
    "* Install the `requests` python package\n",
    "* Fire up IPython, import requests and work out how to download the content from a website (GET request and print the content\n",
    "* Use pip freeze to save your deps to a requirements file\n",
    "* Create and run a Python script (get.py) to save your code and run it"
   ]
  },
  {
   "cell_type": "markdown",
   "metadata": {
    "slideshow": {
     "slide_type": "slide"
    }
   },
   "source": [
    "## Core types  / structures\n",
    "\n",
    "* Ints\n",
    "* Strings\n",
    "* Lists\n",
    "* Dicts\n",
    "* Tuples\n",
    "* Sets\n",
    "* Bools\n",
    "* None\n",
    "\n",
    "A few other points to note:\n",
    "\n",
    "* Variables in Python are basically aliases / names for objects\n",
    "* Nearly everything is an object. Including functions - these are First Class citizens. This means we can pass assign functions to variables, pass them into functions / methods, operate on them"
   ]
  },
  {
   "cell_type": "markdown",
   "metadata": {
    "slideshow": {
     "slide_type": "subslide"
    }
   },
   "source": [
    "### Integers\n",
    "\n",
    "# Consider integer division as a gotcha!"
   ]
  },
  {
   "cell_type": "markdown",
   "metadata": {
    "slideshow": {
     "slide_type": "subslide"
    }
   },
   "source": [
    "## Strings - Python 2"
   ]
  },
  {
   "cell_type": "markdown",
   "metadata": {
    "slideshow": {
     "slide_type": "subslide"
    }
   },
   "source": [
    "### Unicode and str\n",
    "\n",
    "* Strings have two representations in Python 2:\n",
    " * Byte strings - `str`\n",
    " * Unicode - `Unicode`\n",
    " \n",
    "* Byte strings - a series of bytes. Characters are encoded into bytes using an encoding scheme:\n",
    " * ASCII - an encoding scheme where a single byte represents a character (i.e. 255 character encodings) with a direct mapping.\n",
    " * UTF-8, UTF-16, UTF-32\n",
    " * Latin-1\n",
    " * CP-1252\n",
    " * Other.... \n",
    "* Unicode an internal representation in Python, strings must be prefixed with `u` e.g. `u'Hello'`"
   ]
  },
  {
   "cell_type": "code",
   "execution_count": 105,
   "metadata": {
    "collapsed": false,
    "slideshow": {
     "slide_type": "fragment"
    }
   },
   "outputs": [
    {
     "name": "stdout",
     "output_type": "stream",
     "text": [
      "H\n",
      "H\n"
     ]
    }
   ],
   "source": [
    "# \\x Is the escape character for HEXADECIMAL representation. Hex 48 == 72 in decimal\n",
    "print '\\x48'\n",
    "\n",
    "#  Equivalent to\n",
    "print 'H'"
   ]
  },
  {
   "cell_type": "markdown",
   "metadata": {
    "slideshow": {
     "slide_type": "fragment"
    }
   },
   "source": [
    " * More complex characters (e.g. non-english languages, symbols) are not represented in ASCII. Unicode defines a codespace of over 1M code points (characters)\n",
    "  * READ the Unicode Primer if you're working with text!: https://docs.python.org/2/howto/unicode.html"
   ]
  },
  {
   "cell_type": "code",
   "execution_count": 122,
   "metadata": {
    "collapsed": false,
    "slideshow": {
     "slide_type": "fragment"
    }
   },
   "outputs": [
    {
     "name": "stdout",
     "output_type": "stream",
     "text": [
      "£ '\\xc2\\xa3'\n",
      "���\u0000 '\\xff\\xfe\\xa3\\x00'\n"
     ]
    }
   ],
   "source": [
    "# Characters encoded as a series of 8-bit (1 byte) units\n",
    "a = u'£'.encode('utf-8')\n",
    "\n",
    "# Characters encoded as a series of 16-bit units\n",
    "b = u'£'.encode('utf-16')\n",
    "print repr(a)\n",
    "print repr(b)"
   ]
  },
  {
   "cell_type": "markdown",
   "metadata": {
    "slideshow": {
     "slide_type": "subslide"
    }
   },
   "source": [
    "### How to handle encoding /  decoding of data\n",
    "\n",
    "* As early as possible try and DECODE from bytes into Pythons Unicode representation (e.g. when reading in a file). Lots of IO libraries support specifying the codec when reading / writing (e.g Pandas)\n",
    "* Work with Unicode in your code\n",
    "* When writing data out ENCODE from unicode into bytes)\n",
    "\n",
    "```\n",
    "data = data.decode('utf-8')\n",
    "out_data = transform(data)\n",
    "out_data = out_data.encode('utf-8)\n",
    "```\n",
    "\n",
    "\n",
    "* Sometimes you might not know what your data is encoded in, consider using:\n",
    " * `pip install chardet`"
   ]
  },
  {
   "cell_type": "markdown",
   "metadata": {
    "slideshow": {
     "slide_type": "subslide"
    }
   },
   "source": [
    "### Raw strings"
   ]
  },
  {
   "cell_type": "code",
   "execution_count": 87,
   "metadata": {
    "collapsed": false,
    "slideshow": {
     "slide_type": "fragment"
    }
   },
   "outputs": [
    {
     "name": "stdout",
     "output_type": "stream",
     "text": [
      "Hello\n"
     ]
    }
   ],
   "source": [
    "# Raw strings treat escape characters differently - backslashes are not escaped\n",
    "# Use for Regular expressions\n",
    "import re\n",
    "regex_str = r'\\bHello\\b'\n",
    "hello_regex = re.compile(regex_str)\n",
    "matches = hello_regex.search('Good day and Hello    to you all')\n",
    "print matches.group()\n",
    "\n",
    "# Otherwise I need to do this (less readable for complex regular expressions)\n",
    "regex_str = r'\\\\bHello\\\\b'\n"
   ]
  },
  {
   "cell_type": "code",
   "execution_count": 88,
   "metadata": {
    "collapsed": false,
    "slideshow": {
     "slide_type": "subslide"
    }
   },
   "outputs": [
    {
     "name": "stdout",
     "output_type": "stream",
     "text": [
      "Level 42, 1 Canada Sq, Canary Wharf\n"
     ]
    }
   ],
   "source": [
    "def concat_address(addresses):\n",
    "    \"\"\"Concat addresses.\"\"\"\n",
    "    \n",
    "    return \", \".join(addr)\n",
    "    \n",
    "addr = [\"Level 42\", \"1 Canada Sq\", \"Canary Wharf\"] \n",
    "print concat_address(addr)"
   ]
  },
  {
   "cell_type": "markdown",
   "metadata": {
    "slideshow": {
     "slide_type": "subslide"
    }
   },
   "source": [
    "Python variables explained\n",
    "\n",
    "Insert links for explaining this stuff"
   ]
  },
  {
   "cell_type": "markdown",
   "metadata": {
    "slideshow": {
     "slide_type": "subslide"
    }
   },
   "source": [
    "### Lists"
   ]
  },
  {
   "cell_type": "code",
   "execution_count": 89,
   "metadata": {
    "collapsed": false,
    "slideshow": {
     "slide_type": "fragment"
    }
   },
   "outputs": [
    {
     "name": "stdout",
     "output_type": "stream",
     "text": [
      "Original list:  ['alex', 'bob', 'fred', 'alice']\n",
      "Last list element:  alice\n",
      "List is now:  ['alex', 'bob', 'fred', 'james']\n"
     ]
    }
   ],
   "source": [
    "\n",
    "names =  ['alex', 'bob', 'fred', 'alice']\n",
    "print \"Original list: \", names\n",
    "\n",
    "last = names.pop()\n",
    "print \"Last list element: \", last\n",
    "\n",
    "# Lists are mutable\n",
    "names.append('james')\n",
    "print \"List is now: \", names\n",
    "\n",
    "#names.count()\n",
    "\n",
    "\n"
   ]
  },
  {
   "cell_type": "code",
   "execution_count": 90,
   "metadata": {
    "collapsed": false,
    "slideshow": {
     "slide_type": "fragment"
    }
   },
   "outputs": [
    {
     "name": "stdout",
     "output_type": "stream",
     "text": [
      "start of array up to (not including) index of 2 ['alex', 'bob']\n",
      "Last element:  james\n",
      "First element:  alex\n",
      "Start at index 2, up to (not inc) index 4  ['fred', 'james']\n"
     ]
    }
   ],
   "source": [
    "# Slicing\n",
    "print \"start of array up to (not including) index of 2\", names[:2]\n",
    "print \"Last element: \", names[-1]\n",
    "print \"First element: \", names[0]\n",
    "print \"Start at index 2, up to (not inc) index 4 \", names[2:4]"
   ]
  },
  {
   "cell_type": "markdown",
   "metadata": {
    "slideshow": {
     "slide_type": "subslide"
    }
   },
   "source": [
    "### Dictionaries"
   ]
  },
  {
   "cell_type": "code",
   "execution_count": 91,
   "metadata": {
    "collapsed": false,
    "slideshow": {
     "slide_type": "fragment"
    }
   },
   "outputs": [
    {
     "name": "stdout",
     "output_type": "stream",
     "text": [
      "{'bbc.co.uk': 5000000.0, 'test.com': 1256, 'growthintel.com': 5000}\n",
      "Gi has:  5000\n"
     ]
    }
   ],
   "source": [
    "# Key-value collection\n",
    "url_visits = {\"test.com\":1256,  \"growthintel.com\":5000, \"bbc.co.uk\":5e6}\n",
    "print url_visits\n",
    "print \"Gi has: \", url_visits[\"growthintel.com\"]\n"
   ]
  },
  {
   "cell_type": "code",
   "execution_count": 92,
   "metadata": {
    "collapsed": false,
    "slideshow": {
     "slide_type": "fragment"
    }
   },
   "outputs": [
    {
     "name": "stdout",
     "output_type": "stream",
     "text": [
      "Got a Key Error: 'bob.com'\n"
     ]
    }
   ],
   "source": [
    "# Key does not exist\n",
    "try:\n",
    "    url_visits[\"bob.com\"]\n",
    "except KeyError as e:\n",
    "    print \"Got a Key Error:\", e"
   ]
  },
  {
   "cell_type": "code",
   "execution_count": 93,
   "metadata": {
    "collapsed": false,
    "slideshow": {
     "slide_type": "fragment"
    }
   },
   "outputs": [
    {
     "name": "stdout",
     "output_type": "stream",
     "text": [
      "Value for bob.com is:  None\n",
      "Key does not exist!\n"
     ]
    }
   ],
   "source": [
    "print \"Value for bob.com is: \", url_visits.get(\"bob.com\", None)\n",
    "\n",
    "# OR check key exists first\n",
    "\n",
    "if \"bob.com\" in url_visits:\n",
    "    print \"Key exists!\"\n",
    "else:\n",
    "    print \"Key does not exist!\""
   ]
  },
  {
   "cell_type": "markdown",
   "metadata": {
    "slideshow": {
     "slide_type": "fragment"
    }
   },
   "source": [
    "### Defaultdicts\n",
    "\n",
    "* Extends dictionaries to have a default factory for new keys that are added"
   ]
  },
  {
   "cell_type": "code",
   "execution_count": 94,
   "metadata": {
    "collapsed": false,
    "slideshow": {
     "slide_type": "fragment"
    }
   },
   "outputs": [
    {
     "name": "stdout",
     "output_type": "stream",
     "text": [
      "defaultdict(<type 'list'>, {'a': ['bob']})\n"
     ]
    }
   ],
   "source": [
    "from collections import defaultdict\n",
    "dict_of_lists = defaultdict(list)\n",
    "dict_of_lists['a'].append('bob')\n",
    "print dict_of_lists"
   ]
  },
  {
   "cell_type": "markdown",
   "metadata": {
    "slideshow": {
     "slide_type": "fragment"
    }
   },
   "source": [
    "* dictionary comprehensions"
   ]
  },
  {
   "cell_type": "markdown",
   "metadata": {
    "collapsed": true,
    "slideshow": {
     "slide_type": "fragment"
    }
   },
   "source": [
    "Problem:\n",
    "Create dict to store the following info\n",
    "    \n",
    "* Brian Cohen\n",
    "* \n",
    "* "
   ]
  },
  {
   "cell_type": "markdown",
   "metadata": {
    "collapsed": true,
    "slideshow": {
     "slide_type": "subslide"
    }
   },
   "source": [
    "### Sets"
   ]
  },
  {
   "cell_type": "code",
   "execution_count": null,
   "metadata": {
    "collapsed": true,
    "slideshow": {
     "slide_type": "fragment"
    }
   },
   "outputs": [],
   "source": []
  },
  {
   "cell_type": "markdown",
   "metadata": {
    "slideshow": {
     "slide_type": "subslide"
    }
   },
   "source": [
    "### Tuples\n",
    "\n",
    "* Unfortuntately the syntax can be a bit clunky"
   ]
  },
  {
   "cell_type": "code",
   "execution_count": 95,
   "metadata": {
    "collapsed": false,
    "slideshow": {
     "slide_type": "fragment"
    }
   },
   "outputs": [
    {
     "name": "stdout",
     "output_type": "stream",
     "text": [
      "(1,)\n",
      "(1,)\n",
      "()\n",
      "(1, 2, 3, 4, 'hello')\n"
     ]
    }
   ],
   "source": [
    "# Use the comma operator - GOTCHA: Watch for trailing commas, you'll be constructing a tuple!\n",
    "a = 1,\n",
    "\n",
    "#BUT Recommend use parentheses (1,)\n",
    "\n",
    "# Single items MUST use the comma operator\n",
    "b = (1,) # Don't use (1)\n",
    "\n",
    "# Empty tuples MUST use parentheses\n",
    "c =  ()\n",
    "c  = tuple()\n",
    "\n",
    "d = 1,2,3,4,\"hello\"\n",
    "\n",
    "print a\n",
    "print b\n",
    "print c\n",
    "print d"
   ]
  },
  {
   "cell_type": "markdown",
   "metadata": {
    "slideshow": {
     "slide_type": "fragment"
    }
   },
   "source": [
    "* Tuples are **immutable**.\n",
    " * Used as keys in dictionaries\n",
    " * Data containers to be passed to functions / methods - data cannot be modified (also see: `namedtuples`)\n"
   ]
  },
  {
   "cell_type": "code",
   "execution_count": null,
   "metadata": {
    "collapsed": true,
    "slideshow": {
     "slide_type": "fragment"
    }
   },
   "outputs": [],
   "source": []
  },
  {
   "cell_type": "markdown",
   "metadata": {
    "collapsed": true,
    "slideshow": {
     "slide_type": "slide"
    }
   },
   "source": [
    "Decorators"
   ]
  },
  {
   "cell_type": "markdown",
   "metadata": {
    "slideshow": {
     "slide_type": "slide"
    }
   },
   "source": [
    "## Sequences\n",
    "\n",
    "* Sequence slicing\n",
    "* Iterating on sequences, iterating on sequences in parallel (zip), generators, itertools\n"
   ]
  },
  {
   "cell_type": "markdown",
   "metadata": {
    "collapsed": true,
    "slideshow": {
     "slide_type": "slide"
    }
   },
   "source": [
    "## Comprehensions\n",
    "\n",
    "Map, Reduce, Filter -> Don't need them, use list comprehensions!\n",
    "\n",
    "Preferable to use List  / Dict comprehensions\n",
    "\n",
    "\n",
    "\n",
    "\n"
   ]
  },
  {
   "cell_type": "code",
   "execution_count": 129,
   "metadata": {
    "collapsed": false,
    "slideshow": {
     "slide_type": "fragment"
    }
   },
   "outputs": [
    {
     "name": "stdout",
     "output_type": "stream",
     "text": [
      "[0, 1, 4, 9, 16, 25, 36, 49, 64, 81]\n",
      "[9, 16, 25, 36, 49, 64, 81]\n"
     ]
    }
   ],
   "source": [
    "def square(x):\n",
    "    return x**2\n",
    "\n",
    "squares = [square(x) for x in range(10)]\n",
    "print squares\n",
    "\n",
    "large_squares = [square(x) for x in range(10) if x > 2]\n",
    "print large_squares"
   ]
  },
  {
   "cell_type": "code",
   "execution_count": 96,
   "metadata": {
    "collapsed": true,
    "slideshow": {
     "slide_type": "slide"
    }
   },
   "outputs": [],
   "source": [
    "# Generators"
   ]
  },
  {
   "cell_type": "markdown",
   "metadata": {
    "slideshow": {
     "slide_type": "subslide"
    }
   },
   "source": [
    "### Iterating over multiple sequences in parallel"
   ]
  },
  {
   "cell_type": "code",
   "execution_count": 97,
   "metadata": {
    "collapsed": false,
    "slideshow": {
     "slide_type": "fragment"
    }
   },
   "outputs": [
    {
     "data": {
      "text/plain": [
       "{1: 'a', 2: 'b', 3: 'c', 4: 'd'}"
      ]
     },
     "execution_count": 97,
     "metadata": {},
     "output_type": "execute_result"
    }
   ],
   "source": [
    "#  ZIP\n",
    "\n",
    "a = [1,2,3,4]\n",
    "b  = ['a', 'b', 'c', 'd']\n",
    "\n",
    "# Use zip to create a new list of tuples to pass to the dict constructor\n",
    "dict(zip(a,b))"
   ]
  },
  {
   "cell_type": "code",
   "execution_count": 98,
   "metadata": {
    "collapsed": false,
    "slideshow": {
     "slide_type": "fragment"
    }
   },
   "outputs": [
    {
     "name": "stdout",
     "output_type": "stream",
     "text": [
      "[(1, 'a'), (2, 'b'), (3, 'c'), (4, 'd')]\n",
      "<itertools.izip object at 0x7f308bcfd878>\n"
     ]
    },
    {
     "data": {
      "text/plain": [
       "(1, 'a')"
      ]
     },
     "execution_count": 98,
     "metadata": {},
     "output_type": "execute_result"
    }
   ],
   "source": [
    "# For long lists consider using izip to return an iterable rather than a new list\n",
    "import itertools\n",
    "\n",
    "print zip(a,b)\n",
    "\n",
    "print itertools.izip(a,b)\n",
    "\n",
    "zip_gen = itertools.izip(a,b)\n",
    "zip_gen.next()"
   ]
  },
  {
   "cell_type": "code",
   "execution_count": 99,
   "metadata": {
    "collapsed": false,
    "scrolled": true,
    "slideshow": {
     "slide_type": "subslide"
    }
   },
   "outputs": [
    {
     "data": {
      "text/plain": [
       "['__doc__',\n",
       " '__file__',\n",
       " '__name__',\n",
       " '__package__',\n",
       " 'chain',\n",
       " 'combinations',\n",
       " 'combinations_with_replacement',\n",
       " 'compress',\n",
       " 'count',\n",
       " 'cycle',\n",
       " 'dropwhile',\n",
       " 'groupby',\n",
       " 'ifilter',\n",
       " 'ifilterfalse',\n",
       " 'imap',\n",
       " 'islice',\n",
       " 'izip',\n",
       " 'izip_longest',\n",
       " 'permutations',\n",
       " 'product',\n",
       " 'repeat',\n",
       " 'starmap',\n",
       " 'takewhile',\n",
       " 'tee']"
      ]
     },
     "execution_count": 99,
     "metadata": {},
     "output_type": "execute_result"
    }
   ],
   "source": [
    "import itertools\n",
    "dir(itertools)"
   ]
  },
  {
   "cell_type": "markdown",
   "metadata": {
    "collapsed": true,
    "slideshow": {
     "slide_type": "slide"
    }
   },
   "source": [
    "##  Building an Application\n",
    "\n",
    "### Setup a virtualenv\n",
    "\n",
    "### Follow a styleguide\n",
    "\n",
    "* Read PEP8 - Python Style guide\n",
    "\n",
    "### Organising your code\n",
    "\n",
    "* Python code is organised into files (modules)\n",
    "* Collections of modules are packages\n",
    "\n",
    "* Python uses the file system (directory structure) to identify module imports\n",
    " * As imports are dynamically looked up, you need to mark directories using `__init__.py`\n",
    " * You also need to set a PYTHONPATH e.g.:\n",
    " * `export PYTHONPATH=/home/prash/projects`\n"
   ]
  },
  {
   "cell_type": "markdown",
   "metadata": {
    "slideshow": {
     "slide_type": "subslide"
    }
   },
   "source": [
    "### Packages\n",
    "\n",
    "\n",
    "\n",
    "### Modules\n",
    "\n",
    "Modules are imported once. Code is executed on import and namespaced for the module created.\n",
    "Note:  Modules are sensible way to have an object created once only (Singleton)\n",
    "\n",
    "### Classes"
   ]
  },
  {
   "cell_type": "code",
   "execution_count": 100,
   "metadata": {
    "collapsed": false,
    "slideshow": {
     "slide_type": "subslide"
    }
   },
   "outputs": [
    {
     "name": "stdout",
     "output_type": "stream",
     "text": [
      "Top Level:\n",
      "\n",
      "total 12\n",
      "drwxrwxr-x 3 prash prash 4096 Aug  5 21:00 app\n",
      "-rw-rw-r-- 1 prash prash    0 Aug  5 21:00 README.md\n",
      "-rw-rw-r-- 1 prash prash    0 Aug  2 11:54 requirements.txt\n",
      "-rw-rw-r-- 1 prash prash    0 Aug  5 21:00 run.py\n",
      "-rw-rw-r-- 1 prash prash   60 Aug  5 21:00 set_path.sh\n",
      "-rw-rw-r-- 1 prash prash    0 Aug  5 21:00 settings.py\n",
      "drwxrwxr-x 2 prash prash 4096 Aug  5 18:59 tests\n",
      "\n",
      "App: \n",
      "\n",
      "total 4\n",
      "-rw-rw-r-- 1 prash prash    0 Aug  5 21:00 __init__.py\n",
      "drwxrwxr-x 2 prash prash 4096 Aug  5 19:00 models\n"
     ]
    }
   ],
   "source": [
    "print \"Top Level:\\n\"\n",
    "!ls -l example_project\n",
    "print \"\\nApp: \\n\"\n",
    "!ls -l example_project/app"
   ]
  },
  {
   "cell_type": "markdown",
   "metadata": {
    "collapsed": true,
    "slideshow": {
     "slide_type": "subslide"
    }
   },
   "source": [
    "FEEDBACK:\n",
    "    \n",
    "    Interested in other libraries e.g. Pysparrk\n",
    "    Wants info on structuring an app"
   ]
  },
  {
   "cell_type": "code",
   "execution_count": 101,
   "metadata": {
    "collapsed": false,
    "slideshow": {
     "slide_type": "subslide"
    }
   },
   "outputs": [
    {
     "data": {
      "text/plain": [
       "['WRAPPER_ASSIGNMENTS',\n",
       " 'WRAPPER_UPDATES',\n",
       " '__builtins__',\n",
       " '__doc__',\n",
       " '__file__',\n",
       " '__name__',\n",
       " '__package__',\n",
       " 'cmp_to_key',\n",
       " 'partial',\n",
       " 'reduce',\n",
       " 'total_ordering',\n",
       " 'update_wrapper',\n",
       " 'wraps']"
      ]
     },
     "execution_count": 101,
     "metadata": {},
     "output_type": "execute_result"
    }
   ],
   "source": [
    "import functools\n",
    "dir(functools)"
   ]
  },
  {
   "cell_type": "code",
   "execution_count": 102,
   "metadata": {
    "collapsed": false,
    "slideshow": {
     "slide_type": "subslide"
    }
   },
   "outputs": [
    {
     "data": {
      "text/plain": [
       "['Callable',\n",
       " 'Container',\n",
       " 'Counter',\n",
       " 'Hashable',\n",
       " 'ItemsView',\n",
       " 'Iterable',\n",
       " 'Iterator',\n",
       " 'KeysView',\n",
       " 'Mapping',\n",
       " 'MappingView',\n",
       " 'MutableMapping',\n",
       " 'MutableSequence',\n",
       " 'MutableSet',\n",
       " 'OrderedDict',\n",
       " 'Sequence',\n",
       " 'Set',\n",
       " 'Sized',\n",
       " 'ValuesView',\n",
       " '__all__',\n",
       " '__builtins__',\n",
       " '__doc__',\n",
       " '__file__',\n",
       " '__name__',\n",
       " '__package__',\n",
       " '_abcoll',\n",
       " '_chain',\n",
       " '_class_template',\n",
       " '_eq',\n",
       " '_field_template',\n",
       " '_get_ident',\n",
       " '_heapq',\n",
       " '_imap',\n",
       " '_iskeyword',\n",
       " '_itemgetter',\n",
       " '_repeat',\n",
       " '_repr_template',\n",
       " '_starmap',\n",
       " '_sys',\n",
       " 'defaultdict',\n",
       " 'deque',\n",
       " 'namedtuple']"
      ]
     },
     "execution_count": 102,
     "metadata": {},
     "output_type": "execute_result"
    }
   ],
   "source": [
    "import collections\n",
    "dir(collections)"
   ]
  }
 ],
 "metadata": {
  "celltoolbar": "Slideshow",
  "kernelspec": {
   "display_name": "Python 2",
   "language": "python",
   "name": "python2"
  },
  "language_info": {
   "codemirror_mode": {
    "name": "ipython",
    "version": 2
   },
   "file_extension": ".py",
   "mimetype": "text/x-python",
   "name": "python",
   "nbconvert_exporter": "python",
   "pygments_lexer": "ipython2",
   "version": "2.7.9"
  }
 },
 "nbformat": 4,
 "nbformat_minor": 0
}
