{
 "cells": [
  {
   "cell_type": "markdown",
   "metadata": {
    "slideshow": {
     "slide_type": "slide"
    }
   },
   "source": [
    "![](images/LogoPNG.png)\n",
    "# Python Development and Data analysis\n",
    "\n",
    "-----\n",
    "\n",
    "**Alex Mitchell @data_alex**\n",
    "\n",
    "**Prash Majmudar @prashmaj**"
   ]
  },
  {
   "cell_type": "markdown",
   "metadata": {
    "slideshow": {
     "slide_type": "slide"
    }
   },
   "source": [
    "## Python\n",
    "### Obligatory history\n",
    "\n",
    "* Python is over 20 years old\n",
    "* Creator Guido van Rossum has written up the history of Python / language design:\n",
    "http://python-history.blogspot.co.uk/2009/01/introduction-and-overview.html\n",
    "* Python is a multi-purpose language, it is dynamically, strongely typed and interpreted\n",
    "\n",
    "### This talk\n",
    "\n",
    "* Focus is on Python 2.7 (Python 3 features might be mentioned)\n",
    "* Will cover idiomatic Python aspects (Pythonic approaches)\n",
    "* When we talk about about Python, we're talking about CPython (Python written in C), not Jython, IronPython, PyPy etc.\n",
    "\n",
    "#### Structure\n",
    "\n",
    "* First half will cover core language concepts\n",
    "* Second half will cover Python for data analysis using the Pandas library"
   ]
  },
  {
   "cell_type": "code",
   "execution_count": 24,
   "metadata": {
    "collapsed": false,
    "slideshow": {
     "slide_type": "subslide"
    }
   },
   "outputs": [
    {
     "name": "stdout",
     "output_type": "stream",
     "text": [
      "The Zen of Python, by Tim Peters\n",
      "\n",
      "Beautiful is better than ugly.\n",
      "Explicit is better than implicit.\n",
      "Simple is better than complex.\n",
      "Complex is better than complicated.\n",
      "Flat is better than nested.\n",
      "Sparse is better than dense.\n",
      "Readability counts.\n",
      "Special cases aren't special enough to break the rules.\n",
      "Although practicality beats purity.\n",
      "Errors should never pass silently.\n",
      "Unless explicitly silenced.\n",
      "In the face of ambiguity, refuse the temptation to guess.\n",
      "There should be one-- and preferably only one --obvious way to do it.\n",
      "Although that way may not be obvious at first unless you're Dutch.\n",
      "Now is better than never.\n",
      "Although never is often better than *right* now.\n",
      "If the implementation is hard to explain, it's a bad idea.\n",
      "If the implementation is easy to explain, it may be a good idea.\n",
      "Namespaces are one honking great idea -- let's do more of those!\n"
     ]
    },
    {
     "data": {
      "text/plain": [
       "<module 'this' from '/home/prash/.pyenv/versions/2.7.9/lib/python2.7/this.pyc'>"
      ]
     },
     "execution_count": 24,
     "metadata": {},
     "output_type": "execute_result"
    }
   ],
   "source": [
    "import this\n",
    "reload(this)"
   ]
  },
  {
   "cell_type": "markdown",
   "metadata": {
    "slideshow": {
     "slide_type": "subslide"
    }
   },
   "source": [
    "## Why choose Python?\n",
    "\n",
    "### Readable / Easy to get started \n",
    "\n",
    "* Readablity core to language design\n",
    " * Implies maintainable, re-usable code\n",
    " \n",
    "### Productivity\n",
    "* Intepreted --> Faster to iterate (no compile + link phase) e.g. with REPL\n",
    "* Large standard library\n",
    "* Core language has higher order functions (hides implementation detail) - generally means less code required to get stuff done (less to maintain / debug etc.)\n",
    "* Large community support\n",
    "\n",
    "### It's fun\n",
    "\n",
    "```import antigravity```\n",
    "\n",
    "## Why Not Python?\n",
    "\n",
    "* Dynamic typing, lack of control over memory management: discipline is required\n",
    "* If you need to write fast CPU intensive code (though extensions such as NumPy exist) - you may want to use C  / C++\n",
    "* ..."
   ]
  },
  {
   "cell_type": "markdown",
   "metadata": {
    "slideshow": {
     "slide_type": "subslide"
    }
   },
   "source": [
    "## Use cases\n",
    "\n",
    "- Web Development (Django, Flask, Tornado, ...)\n",
    "- Machine learning (scikit-learn, PyBrain, PyMC, theano, ...)\n",
    "- Data analysis (Pandas, IPython NB)\n",
    "- Data pipelines (Luigi, PySpark, mrjob, disco)\n",
    "- Natural Language Processing (NLTK, gensim)\n",
    "- Machine Vision (OpenCV bindings)\n",
    "- Scripting / sysadmin (large standard lib for sysadmin tasks)\n",
    "- Networking (Twisted)\n",
    "- GUIs (Tkinter)\n",
    "- Games (pygame)\n",
    "- Animation\n",
    "\n",
    "Python bindings exist for most external services you might use (SQL / NoSQL databases, AWS)\n",
    "\n"
   ]
  },
  {
   "cell_type": "markdown",
   "metadata": {
    "slideshow": {
     "slide_type": "subslide"
    }
   },
   "source": [
    "##  Getting started\n",
    "\n",
    "### Pick a development environment\n",
    "\n",
    "Some choices:\n",
    "\n",
    "* PyCharm - IDE\n",
    "\n",
    "* IPython + Editor (Vim, Emacs, Sublime).\n",
    "  NB: Vim / Emacs - harder to learn (needs setup, plus key bindings). Productive when setup (but takes years to perfect setup!). Available on the server and locally - same toolsets across environments.\n",
    "\n",
    "\n",
    "### Source control\n",
    "\n",
    "* Git hosted on Github is a good choice\n"
   ]
  },
  {
   "cell_type": "markdown",
   "metadata": {
    "slideshow": {
     "slide_type": "subslide"
    }
   },
   "source": [
    "### Package managers and dependency isolation\n",
    "\n",
    "* Pip + virtualenv (https://virtualenv.pypa.io/en/latest/):\n",
    " * `pip install --upgrade pip`\n",
    " * `pip install virtualenv`\n",
    " \n",
    "* Start your env\n",
    " * `virtualenv TESTENV`\n",
    " * `source TESTENV\\bin\\activate`  and `deactivate`\n",
    " \n",
    "* Update requirements files\n",
    " * `pip freeze`\n",
    " * `pip install -r requirements.txt`\n",
    " \n",
    "* Anaconda\n",
    "\n",
    "### Other tools\n",
    "\n",
    "* Pylint\n",
    "\n",
    "### Resources\n",
    "\n",
    "* Hitchhikers guide to Python (http://docs.python-guide.org/en/latest/)\n",
    "* Full Stack Python (https://www.fullstackpython.com/)\n",
    "* Python docs are extensive (https://docs.python.org/2/)\n",
    " * e.g. Python HOW-TOs (https://docs.python.org/2/howto/)\n"
   ]
  },
  {
   "cell_type": "code",
   "execution_count": 53,
   "metadata": {
    "collapsed": false,
    "slideshow": {
     "slide_type": "subslide"
    }
   },
   "outputs": [
    {
     "name": "stdout",
     "output_type": "stream",
     "text": [
      "Spam\n",
      "An even number 0\n",
      "1\n",
      "An even number 2\n",
      "3\n",
      "An even number 4\n",
      "5\n",
      "An even number 6\n",
      "7\n",
      "An even number 8\n",
      "9\n"
     ]
    }
   ],
   "source": [
    "# Python borrows heavily  from C i.e. if else, while, for etc.\n",
    "\n",
    "# Create a file (Python Module) with the following code and run it:\n",
    "print \"Spam\"\n",
    "for x in range(10):\n",
    "    if x % 2:\n",
    "        print x\n",
    "    else:\n",
    "        print \"An even number\", x\n",
    "    \n"
   ]
  },
  {
   "cell_type": "markdown",
   "metadata": {
    "slideshow": {
     "slide_type": "subslide"
    }
   },
   "source": [
    "### What's happening here?\n",
    "\n",
    "* Python is compiling the source files into bytecode (note this is not machine code)\n",
    "* The bytecode files are cached as .pyc files - compilation only occurs if timestamps differ\n",
    "* The bytecode is run through the Python Interpreter (Python Virtual Machine - platform independent)\n",
    "* ASIDE: The Python intepreter uses a Global Interpreter Lock (i.e. each operation is locked). This has consequences for multi-threading in Python"
   ]
  },
  {
   "cell_type": "markdown",
   "metadata": {
    "slideshow": {
     "slide_type": "fragment"
    }
   },
   "source": [
    "<img src=\"images/python_compile.png\">"
   ]
  },
  {
   "cell_type": "markdown",
   "metadata": {
    "slideshow": {
     "slide_type": "subslide"
    }
   },
   "source": [
    "### IPython terminal\n",
    "\n",
    "* Install IPython (an enhanced Python Interpreter)\n",
    "* Great way to explore package / module api's and quickly debug / run code\n",
    "* More on IPython Later!"
   ]
  },
  {
   "cell_type": "code",
   "execution_count": 26,
   "metadata": {
    "collapsed": false,
    "slideshow": {
     "slide_type": "fragment"
    }
   },
   "outputs": [
    {
     "data": {
      "text/plain": [
       "['__all__',\n",
       " '__builtins__',\n",
       " '__doc__',\n",
       " '__file__',\n",
       " '__name__',\n",
       " '__package__',\n",
       " '_joinrealpath',\n",
       " '_unicode',\n",
       " '_uvarprog',\n",
       " '_varprog',\n",
       " 'abspath',\n",
       " 'altsep',\n",
       " 'basename',\n",
       " 'commonprefix',\n",
       " 'curdir',\n",
       " 'defpath',\n",
       " 'devnull',\n",
       " 'dirname',\n",
       " 'exists',\n",
       " 'expanduser',\n",
       " 'expandvars',\n",
       " 'extsep',\n",
       " 'genericpath',\n",
       " 'getatime',\n",
       " 'getctime',\n",
       " 'getmtime',\n",
       " 'getsize',\n",
       " 'isabs',\n",
       " 'isdir',\n",
       " 'isfile',\n",
       " 'islink',\n",
       " 'ismount',\n",
       " 'join',\n",
       " 'lexists',\n",
       " 'normcase',\n",
       " 'normpath',\n",
       " 'os',\n",
       " 'pardir',\n",
       " 'pathsep',\n",
       " 'realpath',\n",
       " 'relpath',\n",
       " 'samefile',\n",
       " 'sameopenfile',\n",
       " 'samestat',\n",
       " 'sep',\n",
       " 'split',\n",
       " 'splitdrive',\n",
       " 'splitext',\n",
       " 'stat',\n",
       " 'supports_unicode_filenames',\n",
       " 'sys',\n",
       " 'walk',\n",
       " 'warnings']"
      ]
     },
     "execution_count": 26,
     "metadata": {},
     "output_type": "execute_result"
    }
   ],
   "source": [
    "import os\n",
    "\n",
    "# use \"?\" to explore the API\n",
    "os.path?\n",
    "\n",
    "#  use dir(os.path)\n",
    "dir(os.path)"
   ]
  },
  {
   "cell_type": "markdown",
   "metadata": {
    "slideshow": {
     "slide_type": "subslide"
    }
   },
   "source": [
    "### Exercise\n",
    "\n",
    "* Check the version of Python you have. Check you have pip!\n",
    "* Install and activate virtualenv\n",
    "* Use pip freeze to check installed packages in your virtualenv\n",
    "* Install the `requests` python package\n",
    "* Fire up IPython, import requests and work out how to download the content from \"growthintel.com\" (GET request and print the content)\n",
    "* Use pip freeze to save your deps to a requirements file\n",
    "* Create and run a Python script (get.py) to save your code and run it"
   ]
  },
  {
   "cell_type": "markdown",
   "metadata": {
    "slideshow": {
     "slide_type": "subslide"
    }
   },
   "source": [
    "### Solution"
   ]
  },
  {
   "cell_type": "markdown",
   "metadata": {
    "slideshow": {
     "slide_type": "slide"
    }
   },
   "source": [
    "## Core types  / structures\n",
    "\n",
    "* Ints\n",
    "* Strings\n",
    "* Lists\n",
    "* Dicts\n",
    "* Tuples\n",
    "* Sets\n",
    "* Bools\n",
    "* None\n",
    "\n",
    "A few other points to note:\n",
    "\n",
    "* Variables in Python are basically aliases / names for objects\n",
    " * Useful explantion here: http://robertheaton.com/2014/02/09/pythons-pass-by-object-reference-as-explained-by-philip-k-dick/\n",
    "* Nearly everything is an object. Including functions - these are First Class citizens. This means we can pass assign functions to variables, pass them into functions / methods, operate on them"
   ]
  },
  {
   "cell_type": "markdown",
   "metadata": {
    "slideshow": {
     "slide_type": "subslide"
    }
   },
   "source": [
    "## Strings (Python  2)"
   ]
  },
  {
   "cell_type": "markdown",
   "metadata": {
    "slideshow": {
     "slide_type": "subslide"
    }
   },
   "source": [
    "### Unicode and str\n",
    "\n",
    "* Strings have two representations in Python 2:\n",
    " * Byte strings - `str`\n",
    " * Unicode - `unicode`\n",
    " \n",
    "* Byte strings - just a series of bytes. Text characters are encoded into bytes using an encoding scheme:\n",
    " * ASCII - an encoding scheme where a single byte represents a character (i.e. 255 character encodings) with a direct mapping.\n",
    " * UTF-8, UTF-16, UTF-32\n",
    " * Latin-1\n",
    " * CP-1252\n",
    " * Other.... \n",
    "* Unicode is an internal representation in Python, strings must be prefixed with `u` e.g. `u'Hello'`"
   ]
  },
  {
   "cell_type": "code",
   "execution_count": 27,
   "metadata": {
    "collapsed": false,
    "slideshow": {
     "slide_type": "fragment"
    }
   },
   "outputs": [
    {
     "name": "stdout",
     "output_type": "stream",
     "text": [
      "H\n",
      "H\n"
     ]
    }
   ],
   "source": [
    "# Bytestrings in Python\n",
    "# \\x Is the escape character for HEXADECIMAL representation. Hex 48 == 72 in decimal\n",
    "print '\\x48'\n",
    "\n",
    "#  Equivalent to\n",
    "print 'H'"
   ]
  },
  {
   "cell_type": "markdown",
   "metadata": {
    "slideshow": {
     "slide_type": "subslide"
    }
   },
   "source": [
    "### Unicode\n",
    "* More complex characters (e.g. non-english languages, symbols) are not represented in ASCII. Unicode defines a codespace of over 1M code points (characters)\n",
    "  * READ the Unicode Primer if you're working with text!: https://docs.python.org/2/howto/unicode.html"
   ]
  },
  {
   "cell_type": "code",
   "execution_count": 28,
   "metadata": {
    "collapsed": false,
    "slideshow": {
     "slide_type": "fragment"
    }
   },
   "outputs": [
    {
     "name": "stdout",
     "output_type": "stream",
     "text": [
      "u'bytestring'\n",
      "u'bytestring'\n",
      "'\\xc2\\xa3' £\n",
      "'\\xff\\xfe\\xa3\\x00' ���\u0000\n",
      "'\\xff\\xfe\\x00\\x00\\xa3\\x00\\x00\\x00' ��\u0000\u0000�\u0000\u0000\u0000\n",
      "£\n"
     ]
    }
   ],
   "source": [
    "# Create a Unicode string as follows\n",
    "bytestr1 = u'bytestring'\n",
    "\n",
    "# OR\n",
    "bytestr2 = unicode('bytestring')\n",
    "\n",
    "print repr(bytestr1)\n",
    "print repr(bytestr2)\n",
    "\n",
    "# Characters can be encoded as a series of 8-bit (1 byte) units - UTF-8\n",
    "a = u'£'.encode('utf-8')\n",
    "\n",
    "# Characters encoded as a series of 16-bit units - UTF-16\n",
    "b = u'£'.encode('utf-16')\n",
    "\n",
    "#  UTF-32\n",
    "c = u'£'.encode('utf-32')\n",
    "print repr(a), a\n",
    "print repr(b), b\n",
    "print repr(c), c\n",
    "\n",
    "\n",
    "# Note you can also specify the codepoint number itself using \\u. i.e. U+00A3\n",
    "print u'\\u00a3'\n"
   ]
  },
  {
   "cell_type": "markdown",
   "metadata": {
    "slideshow": {
     "slide_type": "subslide"
    }
   },
   "source": [
    "\n",
    "<img style=\"float: left\" src=\"images/Gotcha_small.png\">\n",
    "### How to handle encoding /  decoding of data\n",
    "\n",
    "\n",
    "* As early as possible try and DECODE from bytes into Pythons Unicode representation (e.g. when reading in a file). Lots of IO libraries support specifying the codec when reading / writing (e.g Pandas)\n",
    "* Work with Unicode in your code\n",
    "* When writing data out ENCODE from unicode into bytes)\n",
    "\n",
    "* If using non-ascii characters in your code (e.g. accented characters) than add a comment string to the top of the file to declare the encoding type (see Unicode Primer)"
   ]
  },
  {
   "cell_type": "markdown",
   "metadata": {
    "slideshow": {
     "slide_type": "fragment"
    }
   },
   "source": [
    "```\n",
    "data = data.decode('utf-8')\n",
    "out_data = transform(data)\n",
    "out_data = out_data.encode('utf-8)\n",
    "```\n",
    "\n",
    "\n",
    "* Sometimes you might not know what your data is encoded in, consider using:\n",
    " * `pip install chardet`"
   ]
  },
  {
   "cell_type": "markdown",
   "metadata": {
    "slideshow": {
     "slide_type": "subslide"
    }
   },
   "source": [
    "### Raw strings"
   ]
  },
  {
   "cell_type": "code",
   "execution_count": 29,
   "metadata": {
    "collapsed": false,
    "slideshow": {
     "slide_type": "fragment"
    }
   },
   "outputs": [
    {
     "name": "stdout",
     "output_type": "stream",
     "text": [
      "Hello\n",
      "Hello\n"
     ]
    }
   ],
   "source": [
    "# Raw strings treat escape characters differently - backslashes are not escaped\n",
    "# Useful for Regular expressions\n",
    "import re\n",
    "regex_str = r'\\bHello\\b'\n",
    "hello_regex = re.compile(regex_str)\n",
    "matches = hello_regex.search('Good day and Hello    to you all')\n",
    "print matches.group()\n",
    "\n",
    "# Otherwise I need to do this (less readable for complex regular expressions)\n",
    "regex_str = '\\\\bHello\\\\b'\n",
    "hello_regex = re.compile(regex_str)\n",
    "matches = hello_regex.search('Good day and Hello    to you all')\n",
    "print matches.group()"
   ]
  },
  {
   "cell_type": "markdown",
   "metadata": {
    "slideshow": {
     "slide_type": "subslide"
    }
   },
   "source": [
    "### String manipulation\n",
    "\n",
    "* String API is rich (uppercasing, titlecasing, checking case). Prefer built-in methods e.g.\n",
    " * `text.startswith('Prash')`\n",
    "* Strings are immutable. You should prefer using `join` rather than trying to \"add\" strings together: Addition is effectively creating copies and return a new string. Can be inefficient (slower, memory) for very long lists of strings.\n"
   ]
  },
  {
   "cell_type": "code",
   "execution_count": 30,
   "metadata": {
    "collapsed": false,
    "slideshow": {
     "slide_type": "fragment"
    }
   },
   "outputs": [
    {
     "name": "stdout",
     "output_type": "stream",
     "text": [
      "Level 42, 1 Canada Sq, Canary Wharf\n"
     ]
    }
   ],
   "source": [
    "def concat_address(addr):\n",
    "    \"\"\"Concat addresses.\"\"\"\n",
    "    \n",
    "    return \", \".join(addr)\n",
    "    \n",
    "address = [\"Level 42\", \"1 Canada Sq\", \"Canary Wharf\"] \n",
    "print concat_address(address)"
   ]
  },
  {
   "cell_type": "markdown",
   "metadata": {
    "slideshow": {
     "slide_type": "subslide"
    }
   },
   "source": [
    "### Exercise\n",
    "\n",
    "* Write out some non-ascii data to file (use `open` to create a file object)\n",
    " * E.g. write out use £ symbols etc.\n",
    " * Be explicit about the encoding: Set the encoding to utf-16\n",
    "* Try reading the data back in without setting the encoding\n",
    "* Try and detect the encoding by installing the chardet package\n",
    "\n"
   ]
  },
  {
   "cell_type": "markdown",
   "metadata": {
    "slideshow": {
     "slide_type": "subslide"
    }
   },
   "source": [
    "### Solution"
   ]
  },
  {
   "cell_type": "code",
   "execution_count": 10,
   "metadata": {
    "collapsed": false,
    "slideshow": {
     "slide_type": "fragment"
    }
   },
   "outputs": [
    {
     "name": "stdout",
     "output_type": "stream",
     "text": [
      "���\u00001\u00000\u00000\u0000 \u0000o\u0000f\u0000 \u0000s\u0000p\u0000a\u0000m\u0000 \u0000a\u0000n\u0000d\u0000 \u0000e\u0000g\u0000g\u0000s\u0000\n",
      "{'confidence': 1.0, 'encoding': 'UTF-16LE'}\n",
      "﻿£100 of spam and eggs\n"
     ]
    }
   ],
   "source": [
    "text = u\"£100 of spam and eggs\"\n",
    "\n",
    "with open('test_encoding.txt', 'w') as f:\n",
    "    f.write(text.encode('utf-16'))\n",
    "    \n",
    "with open('test_encoding.txt', 'r') as f:\n",
    "    data = f.read()\n",
    "\n",
    "import chardet\n",
    "print data\n",
    "\n",
    "# Detect the encoding\n",
    "encoding = chardet.detect(data)\n",
    "print encoding\n",
    "\n",
    "# Decode using detected encoding\n",
    "print data.decode(encoding['encoding'])"
   ]
  },
  {
   "cell_type": "markdown",
   "metadata": {
    "slideshow": {
     "slide_type": "slide"
    }
   },
   "source": [
    "### Lists\n",
    "\n",
    "* Mutable, ordered collections of objects"
   ]
  },
  {
   "cell_type": "code",
   "execution_count": 31,
   "metadata": {
    "collapsed": false,
    "slideshow": {
     "slide_type": "fragment"
    }
   },
   "outputs": [
    {
     "name": "stdout",
     "output_type": "stream",
     "text": [
      "Original list:  ['alex', 'bob', 'fred', 'alice']\n",
      "Last list element:  alice\n",
      "List is now:  ['alex', 'bob', 'fred', 'james']\n"
     ]
    },
    {
     "data": {
      "text/plain": [
       "1"
      ]
     },
     "execution_count": 31,
     "metadata": {},
     "output_type": "execute_result"
    }
   ],
   "source": [
    "\n",
    "names =  ['alex', 'bob', 'fred', 'alice']\n",
    "print \"Original list: \", names\n",
    "\n",
    "last = names.pop()\n",
    "print \"Last list element: \", last\n",
    "\n",
    "# Lists are mutable\n",
    "names.append('james')\n",
    "print \"List is now: \", names\n",
    "\n",
    "# Count number of values\n",
    "names.count('bob')\n",
    "\n",
    "\n"
   ]
  },
  {
   "cell_type": "markdown",
   "metadata": {
    "collapsed": true,
    "slideshow": {
     "slide_type": "subslide"
    }
   },
   "source": [
    "### Slicing"
   ]
  },
  {
   "cell_type": "code",
   "execution_count": 54,
   "metadata": {
    "collapsed": false,
    "slideshow": {
     "slide_type": "fragment"
    }
   },
   "outputs": [
    {
     "name": "stdout",
     "output_type": "stream",
     "text": [
      "start of array up to (not including) index of 2 ['bob', 'spam']\n",
      "Last element:  eggs\n",
      "First element:  bob\n",
      "Start at index 2, up to (not inc) index 4  ['eggs', 'bob']\n"
     ]
    }
   ],
   "source": [
    "# Slicing\n",
    "print \"start of array up to (not including) index of 2\", names[:2]\n",
    "print \"Last element: \", names[-1]\n",
    "print \"First element: \", names[0]\n",
    "print \"Start at index 2, up to (not inc) index 4 \", names[2:4]"
   ]
  },
  {
   "cell_type": "markdown",
   "metadata": {
    "slideshow": {
     "slide_type": "subslide"
    }
   },
   "source": [
    "<img style=\"float: left\" src=\"images/Gotcha_small.png\">\n",
    "\n",
    "## Aside: Mutable default parameters"
   ]
  },
  {
   "cell_type": "code",
   "execution_count": 55,
   "metadata": {
    "collapsed": false,
    "slideshow": {
     "slide_type": "fragment"
    }
   },
   "outputs": [
    {
     "name": "stdout",
     "output_type": "stream",
     "text": [
      "[31]\n",
      "[31, 12]\n"
     ]
    }
   ],
   "source": [
    "# What's wrong with this?\n",
    "def test(a=12, b=[]):\n",
    "    b.append(a)\n",
    "    print b\n",
    "    \n",
    "test(a=31)\n",
    "test()"
   ]
  },
  {
   "cell_type": "markdown",
   "metadata": {
    "slideshow": {
     "slide_type": "fragment"
    }
   },
   "source": [
    "What's has happened?\n",
    "\n",
    "* When this code is run (e.g. when the function is defined), a list object is created in the function definition. The default parameter b is an alias for this object - but this object persists. I.e. the SAME list is used for each successive call to this function.\n",
    "* Don't do it! Instead use `b=None` and create the list in the method `if b is None`"
   ]
  },
  {
   "cell_type": "markdown",
   "metadata": {
    "slideshow": {
     "slide_type": "subslide"
    }
   },
   "source": [
    "### Dictionaries"
   ]
  },
  {
   "cell_type": "code",
   "execution_count": 35,
   "metadata": {
    "collapsed": false,
    "slideshow": {
     "slide_type": "fragment"
    }
   },
   "outputs": [
    {
     "name": "stdout",
     "output_type": "stream",
     "text": [
      "{'bbc.co.uk': 5000000.0, 'test.com': 1256, 'growthintel.com': 5000}\n",
      "Gi has:  5000\n"
     ]
    }
   ],
   "source": [
    "# Key-value collection\n",
    "url_visits = {\"test.com\":1256,  \"growthintel.com\":5000, \"bbc.co.uk\":5e6}\n",
    "print url_visits\n",
    "print \"Gi has: \", url_visits[\"growthintel.com\"]\n"
   ]
  },
  {
   "cell_type": "code",
   "execution_count": 36,
   "metadata": {
    "collapsed": false,
    "slideshow": {
     "slide_type": "fragment"
    }
   },
   "outputs": [
    {
     "name": "stdout",
     "output_type": "stream",
     "text": [
      "Got a Key Error: 'bob.com'\n"
     ]
    }
   ],
   "source": [
    "# Key does not exist\n",
    "try:\n",
    "    url_visits[\"bob.com\"]\n",
    "except KeyError as e:\n",
    "    print \"Got a Key Error:\", e"
   ]
  },
  {
   "cell_type": "code",
   "execution_count": 37,
   "metadata": {
    "collapsed": false,
    "slideshow": {
     "slide_type": "fragment"
    }
   },
   "outputs": [
    {
     "name": "stdout",
     "output_type": "stream",
     "text": [
      "Value for bob.com is:  None\n",
      "Key does not exist!\n"
     ]
    }
   ],
   "source": [
    "print \"Value for bob.com is: \", url_visits.get(\"bob.com\", None)\n",
    "\n",
    "# OR check key exists first\n",
    "\n",
    "if \"bob.com\" in url_visits:\n",
    "    print \"Key exists!\"\n",
    "else:\n",
    "    print \"Key does not exist!\""
   ]
  },
  {
   "cell_type": "markdown",
   "metadata": {
    "slideshow": {
     "slide_type": "subslide"
    }
   },
   "source": [
    "### Defaultdicts\n",
    "\n",
    "* Extends dictionaries to have a default factory for new keys that are added"
   ]
  },
  {
   "cell_type": "code",
   "execution_count": 38,
   "metadata": {
    "collapsed": false,
    "slideshow": {
     "slide_type": "fragment"
    }
   },
   "outputs": [
    {
     "name": "stdout",
     "output_type": "stream",
     "text": [
      "defaultdict(<type 'list'>, {'a': ['bob']})\n"
     ]
    }
   ],
   "source": [
    "from collections import defaultdict\n",
    "dict_of_lists = defaultdict(list)\n",
    "dict_of_lists['a'].append('bob')\n",
    "print dict_of_lists"
   ]
  },
  {
   "cell_type": "markdown",
   "metadata": {
    "collapsed": true,
    "slideshow": {
     "slide_type": "subslide"
    }
   },
   "source": [
    "### Exercise:\n",
    "\n",
    "* Install the following packages (https://github.com/joke2k/faker):\n",
    " - `pip install fake-factory`\n",
    " - `pip install json`\n",
    "\n",
    "\n",
    "* Use the fake factory to create 10 dummy example records and store in a dict.\n",
    "* Each record should contain an example Name, Address, Email and two phone numbers\n",
    "* Serialise the dict to JSON (hint use ipython to find the proper method)"
   ]
  },
  {
   "cell_type": "markdown",
   "metadata": {
    "slideshow": {
     "slide_type": "subslide"
    }
   },
   "source": [
    "### Solution"
   ]
  },
  {
   "cell_type": "code",
   "execution_count": 75,
   "metadata": {
    "collapsed": false,
    "slideshow": {
     "slide_type": "fragment"
    }
   },
   "outputs": [
    {
     "name": "stdout",
     "output_type": "stream",
     "text": [
      "10\n",
      "[{\"numbers\": [\"1-129-652-7002\", \"09484502465\"], \"address\": \"PSC 3270, Box 1734\\nAPO AA 60351\", \"name\": \"Dr. Lute Collins\", \"email\": \"leonor.hansen@hotmail.com\"}, {\"numbers\": [\"(597)146-3530\", \"391-906-6271x5365\"], \"address\": \"8910 Junius Drives Suite 247\\nLake Coby, TX 28927-1633\", \"name\": \"Roderick Kling III\", \"email\": \"cam.mccullough@gmail.com\"}, {\"numbers\": [\"653-540-7450x563\", \"1-578-610-3449x68117\"], \"address\": \"35557 Noble Squares Apt. 951\\nKirlinbury, PA 62312\", \"name\": \"Woodie Will\", \"email\": \"fitzgerald79@muller.com\"}, {\"numbers\": [\"503.141.3100\", \"(819)199-4591\"], \"address\": \"03681 Rogahn Isle Apt. 991\\nEast Waldemar, IA 04386\", \"name\": \"Mr. Colton Cole\", \"email\": \"romaguera.nola@hotmail.com\"}, {\"numbers\": [\"868-643-7698x29154\", \"(355)719-6248x466\"], \"address\": \"3247 Crete Branch Suite 879\\nEast Easter, MH 77488-3617\", \"name\": \"Aidyn Doyle\", \"email\": \"zrosenbaum@yahoo.com\"}, {\"numbers\": [\"(119)267-5467x856\", \"1-261-411-6059x125\"], \"address\": \"6892 Beatty Pine Suite 418\\nRippinland, MO 54006\", \"name\": \"Tiara Lindgren\", \"email\": \"willms.dena@gmail.com\"}, {\"numbers\": [\"948.141.7200x4052\", \"(935)101-7690\"], \"address\": \"1887 Edson Forge\\nLittlemouth, GU 94687-2699\", \"name\": \"Karlene Batz\", \"email\": \"brenda.towne@huelmccullough.com\"}, {\"numbers\": [\"+98(8)0849398424\", \"573.669.5689\"], \"address\": \"363 Strosin Alley\\nPort Ruietown, AS 90820-8801\", \"name\": \"Ms. Jennette Raynor DVM\", \"email\": \"hudson.juliana@hotmail.com\"}, {\"numbers\": [\"022-224-7079x248\", \"+00(1)2868912123\"], \"address\": \"69617 Hilario Gateway\\nWest Ashlietown, UT 58134-1361\", \"name\": \"Menachem Borer\", \"email\": \"wiza.orlin@hotmail.com\"}, {\"numbers\": [\"+37(5)8189276985\", \"517-890-2693x1634\"], \"address\": \"7317 Cummings Stream\\nEast Hilton, WY 06431\", \"name\": \"Marland Schneider\", \"email\": \"ekassulke@gmail.com\"}]\n"
     ]
    }
   ],
   "source": [
    "import json\n",
    "import faker\n",
    "\n",
    "fixture_fact = faker.Factory.create()\n",
    "\n",
    "records = []\n",
    "\n",
    "for i in xrange(10):\n",
    "    record = {}\n",
    "    record['name'] = fixture_fact.name()\n",
    "    record['email'] = fixture_fact.email()\n",
    "    record['address'] = fixture_fact.address()\n",
    "    record['numbers'] = [fixture_fact.phone_number(), fixture_fact.phone_number()]\n",
    "    records.append(record)\n",
    "    \n",
    "print len(records)\n",
    "\n",
    "# JSON data can be stored in a DB or passed / returned to web APIs\n",
    "records_json = json.dumps(records)\n",
    "print records_json\n",
    "\n"
   ]
  },
  {
   "cell_type": "markdown",
   "metadata": {
    "collapsed": true,
    "slideshow": {
     "slide_type": "slide"
    }
   },
   "source": [
    "### Sets\n",
    "\n",
    "* Collection of **unordered**, **unique** objects\n",
    "* Sets are mutable\n",
    "* Useful for testing memberships (object in set, are sets supersets or subsets of each other)\n",
    "* Useful for calculating intersections, unions between sets"
   ]
  },
  {
   "cell_type": "code",
   "execution_count": 39,
   "metadata": {
    "collapsed": false,
    "slideshow": {
     "slide_type": "fragment"
    }
   },
   "outputs": [
    {
     "name": "stdout",
     "output_type": "stream",
     "text": [
      "set(['bob', 'eggs', 'spam'])\n"
     ]
    }
   ],
   "source": [
    "# Useful if you want to find the unique values of a collection\n",
    "names = [\"bob\", \"spam\", \"eggs\", \"bob\", \"eggs\", \"eggs\"]\n",
    "print set(names)"
   ]
  },
  {
   "cell_type": "code",
   "execution_count": 40,
   "metadata": {
    "collapsed": false,
    "slideshow": {
     "slide_type": "fragment"
    }
   },
   "outputs": [
    {
     "name": "stdout",
     "output_type": "stream",
     "text": [
      "<type 'set'>\n"
     ]
    },
    {
     "data": {
      "text/plain": [
       "{'eggs', 'spam'}"
      ]
     },
     "execution_count": 40,
     "metadata": {},
     "output_type": "execute_result"
    }
   ],
   "source": [
    "# Note braces are used for sets, be careful not to confuse dict notation and set notation!\n",
    "mp_names = {\"eggs\", \"spam\"}\n",
    "print type(mp_names)\n",
    "\n",
    "# Be careful - this is an empty dict!\n",
    "empty_ = {}\n",
    "empty_set = set()\n",
    "\n",
    "# Intersection of names and mp_names\n",
    "mp_names.intersection(names)"
   ]
  },
  {
   "cell_type": "markdown",
   "metadata": {
    "slideshow": {
     "slide_type": "subslide"
    }
   },
   "source": [
    "### Tuples\n",
    "\n",
    "* Tuples are **immutable**.\n",
    " * Used as keys in dictionaries\n",
    " * Data containers to be passed to functions / methods - data cannot be modified (also see: `namedtuples`)\n",
    "* Unfortuntately the syntax can be a bit clunky"
   ]
  },
  {
   "cell_type": "code",
   "execution_count": 41,
   "metadata": {
    "collapsed": false,
    "slideshow": {
     "slide_type": "fragment"
    }
   },
   "outputs": [
    {
     "name": "stdout",
     "output_type": "stream",
     "text": [
      "(1,)\n",
      "(1,)\n",
      "()\n",
      "(1, 2, 3, 4, 'hello')\n"
     ]
    }
   ],
   "source": [
    "# Use the comma operator - GOTCHA: Watch for trailing commas, you'll be constructing a tuple!\n",
    "a = 1,\n",
    "\n",
    "#BUT Recommend use parentheses (1,)\n",
    "\n",
    "# Single items MUST use the comma operator\n",
    "b = (1,) # Don't use (1)\n",
    "\n",
    "# Empty tuples MUST use parentheses\n",
    "c =  ()\n",
    "c  = tuple()\n",
    "\n",
    "d = 1,2,3,4,\"hello\"\n",
    "\n",
    "print a\n",
    "print b\n",
    "print c\n",
    "print d"
   ]
  },
  {
   "cell_type": "markdown",
   "metadata": {
    "slideshow": {
     "slide_type": "subslide"
    }
   },
   "source": [
    "#### Example Named Tuples as a data  container\n",
    "\n",
    "* Namedtuple is factory function for creating tuples with field attributes"
   ]
  },
  {
   "cell_type": "code",
   "execution_count": 16,
   "metadata": {
    "collapsed": false,
    "slideshow": {
     "slide_type": "fragment"
    }
   },
   "outputs": [
    {
     "name": "stdout",
     "output_type": "stream",
     "text": [
      "Person(name='fred', email='fred@gmail.com')\n",
      "can't set attribute\n",
      "You can't do that!\n"
     ]
    }
   ],
   "source": [
    "import collections\n",
    "\n",
    "Person = collections.namedtuple('Person',  ['name', 'email'])\n",
    "fred = Person(name='fred', email='fred@gmail.com')\n",
    "print fred\n",
    "\n",
    "# Named Tuple is immutable\n",
    "try:\n",
    "    fred.email = 'bob@gmail.com'\n",
    "except AttributeError as e:\n",
    "    print e\n",
    "    print \"You can't do that!\""
   ]
  },
  {
   "cell_type": "markdown",
   "metadata": {
    "slideshow": {
     "slide_type": "subslide"
    }
   },
   "source": [
    "### Exercise\n",
    "\n",
    "* Create two sets with "
   ]
  },
  {
   "cell_type": "markdown",
   "metadata": {
    "slideshow": {
     "slide_type": "subslide"
    }
   },
   "source": [
    "### Solution"
   ]
  },
  {
   "cell_type": "markdown",
   "metadata": {
    "slideshow": {
     "slide_type": "slide"
    }
   },
   "source": [
    "### Sequences\n",
    "\n",
    "* Sequence slicing (saw this earlier with lists)\n",
    "* Sequences can be unpacked (tuple, list, string unpacking)\n",
    "* Iterating on sequences, iterating on sequences in parallel (zip), generators, itertools"
   ]
  },
  {
   "cell_type": "code",
   "execution_count": 43,
   "metadata": {
    "collapsed": false,
    "slideshow": {
     "slide_type": "subslide"
    }
   },
   "outputs": [
    {
     "name": "stdout",
     "output_type": "stream",
     "text": [
      "a:  bob\n",
      "b:  fred\n",
      "c:  alice\n",
      "Swapped b:  alice\n",
      "Swapped c:  fred\n",
      "d\n",
      "e\n",
      "f\n"
     ]
    }
   ],
   "source": [
    "a,b,c = [\"bob\", \"fred\", \"alice\"]\n",
    "print \"a: \", a\n",
    "print \"b: \", b\n",
    "print \"c: \", c\n",
    "\n",
    "# You can swap objects efficiently - TUPLE unpacking\n",
    "b,c = c,b\n",
    "\n",
    "print \"Swapped b: \", b\n",
    "print \"Swapped c: \", c\n",
    "\n",
    "# Unpack strings\n",
    "d,e,f = \"def\"\n",
    "print d\n",
    "print e\n",
    "print f"
   ]
  },
  {
   "cell_type": "markdown",
   "metadata": {
    "collapsed": true,
    "slideshow": {
     "slide_type": "subslide"
    }
   },
   "source": [
    "## Comprehensions\n",
    "\n",
    "Map, Reduce, Filter -> Don't need them, use list comprehensions!\n",
    "\n",
    "Preferable to use List  / Dict comprehensions\n",
    "\n",
    "\n",
    "\n",
    "\n"
   ]
  },
  {
   "cell_type": "code",
   "execution_count": 44,
   "metadata": {
    "collapsed": false,
    "slideshow": {
     "slide_type": "fragment"
    }
   },
   "outputs": [
    {
     "name": "stdout",
     "output_type": "stream",
     "text": [
      "[0, 1, 4, 9, 16, 25, 36, 49, 64, 81]\n",
      "[9, 16, 25, 36, 49, 64, 81]\n"
     ]
    }
   ],
   "source": [
    "def square(x):\n",
    "    return x**2\n",
    "\n",
    "# Equivalent of map\n",
    "squares = [square(x) for x in range(10)]\n",
    "print squares\n",
    "\n",
    "# Map and Filter\n",
    "large_squares = [square(x) for x in range(10) if x > 2]\n",
    "print large_squares"
   ]
  },
  {
   "cell_type": "markdown",
   "metadata": {
    "collapsed": true,
    "slideshow": {
     "slide_type": "subslide"
    }
   },
   "source": [
    "## Generators\n",
    "\n",
    "* Lazily evaluate sequences.\n",
    "* Functions can be converted into generators. The function creates an iterable that `yield` (rather than returning) values - the function is paused between each call. \n",
    "* Generators are great for long sequences (infinite) \n",
    "* Generators are great for reading from queues or from large files\n",
    "* Why? Because they're memory efficient - they yield rather than creating the whole sequence in memory"
   ]
  },
  {
   "cell_type": "code",
   "execution_count": 45,
   "metadata": {
    "collapsed": false,
    "slideshow": {
     "slide_type": "fragment"
    }
   },
   "outputs": [
    {
     "name": "stdout",
     "output_type": "stream",
     "text": [
      "['1']\n",
      "['2']\n",
      "['3']\n",
      "['4']\n",
      "['5']\n",
      "['6']\n",
      "['7']\n",
      "['8']\n",
      "['9']\n",
      "['10']\n"
     ]
    }
   ],
   "source": [
    "import csv\n",
    "\n",
    "# Create a generator\n",
    "file_gen = (x for x in csv.reader(open('datasets/test_gen.csv', 'r')))\n",
    "for line in file_gen:\n",
    "    print line"
   ]
  },
  {
   "cell_type": "markdown",
   "metadata": {
    "slideshow": {
     "slide_type": "subslide"
    }
   },
   "source": [
    "### Turning functions into generators"
   ]
  },
  {
   "cell_type": "code",
   "execution_count": 46,
   "metadata": {
    "collapsed": false,
    "slideshow": {
     "slide_type": "fragment"
    }
   },
   "outputs": [
    {
     "name": "stdout",
     "output_type": "stream",
     "text": [
      "<type 'generator'>\n",
      "1\n",
      "4\n",
      "9\n",
      "16\n"
     ]
    }
   ],
   "source": [
    "# Functions can be converted to generators by using yield\n",
    "\n",
    "def infinite_squares():\n",
    "    a = 1\n",
    "    while True:\n",
    "        yield a*a\n",
    "        a += 1\n",
    "        \n",
    "# The function call creates my generator\n",
    "squares_gen = infinite_squares()\n",
    "\n",
    "print type(squares_gen)\n",
    "print squares_gen.next()\n",
    "print squares_gen.next()\n",
    "print squares_gen.next()\n",
    "print squares_gen.next()\n",
    "\n",
    "# I could do the following forever\n",
    "# for square in squares_gen:"
   ]
  },
  {
   "cell_type": "code",
   "execution_count": 47,
   "metadata": {
    "collapsed": false,
    "slideshow": {
     "slide_type": "subslide"
    }
   },
   "outputs": [
    {
     "name": "stdout",
     "output_type": "stream",
     "text": [
      "[2, 3, 4, 5, 6, 7, 8, 9, 10, 11]\n",
      "xrange(2, 12)\n",
      "2\n",
      "10\n"
     ]
    }
   ],
   "source": [
    "# xrange is another type of lazily evalauted sequence\n",
    "print range(2,12)\n",
    "\n",
    "# xrange does not return the list, but an iterable object - therefore more memory efficient\n",
    "print xrange(2,12)\n",
    "\n",
    "# You can still perfrom seqquence type operations\n",
    "lazy_list = xrange(2,12)\n",
    "print lazy_list[0]\n",
    "print len(lazy_list)\n"
   ]
  },
  {
   "cell_type": "markdown",
   "metadata": {
    "slideshow": {
     "slide_type": "subslide"
    }
   },
   "source": [
    "### Iterating over multiple sequences in parallel"
   ]
  },
  {
   "cell_type": "code",
   "execution_count": 48,
   "metadata": {
    "collapsed": false,
    "slideshow": {
     "slide_type": "fragment"
    }
   },
   "outputs": [
    {
     "data": {
      "text/plain": [
       "{1: 'a', 2: 'b', 3: 'c', 4: 'd'}"
      ]
     },
     "execution_count": 48,
     "metadata": {},
     "output_type": "execute_result"
    }
   ],
   "source": [
    "#  ZIP\n",
    "\n",
    "a = [1,2,3,4]\n",
    "b  = ['a', 'b', 'c', 'd']\n",
    "\n",
    "# Use zip to create a new list of tuples to pass to the dict constructor\n",
    "dict(zip(a,b))"
   ]
  },
  {
   "cell_type": "code",
   "execution_count": 49,
   "metadata": {
    "collapsed": false,
    "slideshow": {
     "slide_type": "fragment"
    }
   },
   "outputs": [
    {
     "name": "stdout",
     "output_type": "stream",
     "text": [
      "[(1, 'a'), (2, 'b'), (3, 'c'), (4, 'd')]\n",
      "<itertools.izip object at 0x7f7ec8223758>\n",
      "<type 'itertools.izip'>\n"
     ]
    }
   ],
   "source": [
    "# For long lists consider using izip to return an iterable rather than a new list\n",
    "import itertools\n",
    "\n",
    "print zip(a,b)\n",
    "\n",
    "print itertools.izip(a,b)\n",
    "\n",
    "zip_gen = itertools.izip(a,b)\n",
    "zip_gen.next()\n",
    "print type(zip_gen)"
   ]
  },
  {
   "cell_type": "markdown",
   "metadata": {
    "slideshow": {
     "slide_type": "subslide"
    }
   },
   "source": [
    "### More reading"
   ]
  },
  {
   "cell_type": "code",
   "execution_count": 50,
   "metadata": {
    "collapsed": false,
    "slideshow": {
     "slide_type": "fragment"
    }
   },
   "outputs": [
    {
     "name": "stdout",
     "output_type": "stream",
     "text": [
      "__doc__, __file__, __name__, __package__, chain, combinations, combinations_with_replacement, compress, count, cycle, dropwhile, groupby, ifilter, ifilterfalse, imap, islice, izip, izip_longest, permutations, product, repeat, starmap, takewhile, tee\n",
      "Callable, Container, Counter, Hashable, ItemsView, Iterable, Iterator, KeysView, Mapping, MappingView, MutableMapping, MutableSequence, MutableSet, OrderedDict, Sequence, Set, Sized, ValuesView, __all__, __builtins__, __doc__, __file__, __name__, __package__, _abcoll, _chain, _class_template, _eq, _field_template, _get_ident, _heapq, _imap, _iskeyword, _itemgetter, _repeat, _repr_template, _starmap, _sys, defaultdict, deque, namedtuple\n"
     ]
    }
   ],
   "source": [
    "# EXPLORE itertools and collections\n",
    "\n",
    "import itertools\n",
    "print \", \".join(dir(itertools))\n",
    "\n",
    "import collections\n",
    "print \", \".join(dir(collections))\n"
   ]
  },
  {
   "cell_type": "markdown",
   "metadata": {
    "slideshow": {
     "slide_type": "subslide"
    }
   },
   "source": [
    "### Exercises\n",
    "\n",
    "* Write a list comprehension to return even numbers up to 20\n",
    "* Use a list comprehension to clean (titlecase, strip whitespace) and create a list of dicts where the key is the index into the list and the value is the cleaned up string. Apply to the following list of strings:\n",
    " * `['  the start  ', '  the middle', '  the end ']`\n",
    " * Hint: Have a look at the `enumerate` function"
   ]
  },
  {
   "cell_type": "markdown",
   "metadata": {
    "slideshow": {
     "slide_type": "subslide"
    }
   },
   "source": [
    "### Solution"
   ]
  },
  {
   "cell_type": "code",
   "execution_count": 43,
   "metadata": {
    "collapsed": false,
    "slideshow": {
     "slide_type": "fragment"
    }
   },
   "outputs": [
    {
     "name": "stdout",
     "output_type": "stream",
     "text": [
      "[0, 2, 4, 6, 8, 10, 12, 14, 16, 18]\n",
      "[0, 2, 4, 6, 8, 10, 12, 14, 16, 18]\n"
     ]
    },
    {
     "data": {
      "text/plain": [
       "[{0: 'The Start'}, {1: 'The Middle'}, {2: 'The End'}]"
      ]
     },
     "execution_count": 43,
     "metadata": {},
     "output_type": "execute_result"
    }
   ],
   "source": [
    "# even numbers up to 20\n",
    "a = [x for x in range(20) if not x%2]\n",
    "\n",
    "# NB a better way without a list comp!\n",
    "b = range(0,20,2)\n",
    "\n",
    "print a\n",
    "print b\n",
    "\n",
    "# cleaning and converting to list of dicts\n",
    "text_list = ['  the start  ', '  the middle', '  the end ']\n",
    "def cleanline(index, line):\n",
    "    val = line.strip().title()\n",
    "    return {index:val}\n",
    "\n",
    "[cleanline(i, x) for i, x in enumerate(text_list)]"
   ]
  },
  {
   "cell_type": "markdown",
   "metadata": {
    "slideshow": {
     "slide_type": "subslide"
    }
   },
   "source": [
    "## Further reading\n",
    "\n",
    "### Functions\n",
    "\n",
    "* Functions are first-class\n",
    "* You may want to look at decorators - common cross-cutting code can be abstracted from the logic of your code with  syntatic sugar\n",
    "* Have a look at functools\n",
    "* Understand argument and keyword argument unpacking (`*args` and `**kwargs`) - can be useful for functions with an unknown number of arguments\n",
    "\n",
    "### OO in Python:  Classes\n",
    "\n",
    "* New style classes Inherit from `object` - be consistent\n",
    "* Generally advisable not to use multiple inheritance, unless *mixing-in* methods\n",
    "* Use `super` to call parent class methods\n",
    "* Inspect `__mro__`  to understand method resolution order if you're not sure"
   ]
  },
  {
   "cell_type": "markdown",
   "metadata": {
    "collapsed": true,
    "slideshow": {
     "slide_type": "slide"
    }
   },
   "source": [
    "##  Building an Application\n",
    "\n",
    "### Setup a virtualenv\n",
    "\n",
    "* Ensure you have an up to date requirements.txt\n",
    "\n",
    "### Follow a styleguide\n",
    "\n",
    "* Read PEP8 - Python Style guide\n",
    "\n",
    "### Organising your code\n",
    "\n",
    "* Python code is organised into files (modules)\n",
    "* Collections of modules are packages\n",
    "\n",
    "* Python uses the file system (directory structure) to identify module imports\n",
    " * As imports are dynamically looked up, you need to mark directories using `__init__.py`\n",
    " * You also need to set a PYTHONPATH e.g.:\n",
    " * `export PYTHONPATH=/home/prash/projects`\n",
    "* Use module namespacing to achieve isolation\n",
    "* Use Classes (OO) where appropriate"
   ]
  },
  {
   "cell_type": "markdown",
   "metadata": {
    "slideshow": {
     "slide_type": "subslide"
    }
   },
   "source": [
    "### Packages\n",
    "\n",
    "\n",
    "\n",
    "### Modules\n",
    "\n",
    "Modules are imported once. Code is executed on import and namespaced for the module created.\n",
    "Note:  Modules are sensible way to have an object created once only (Singleton)\n",
    "\n",
    "* AVOID `from module import *` - It will import everything in the global namespace - potentially overriding existing attributes\n",
    "* PREFER fully qualified imports e.g. `import pandas` or `import os.path`"
   ]
  },
  {
   "cell_type": "markdown",
   "metadata": {
    "slideshow": {
     "slide_type": "subslide"
    }
   },
   "source": [
    "### Testing\n",
    "\n",
    "* nose is a good framework that extends the standard library unittest framework\n",
    "* Create a tests directory that mirrors your app"
   ]
  },
  {
   "cell_type": "markdown",
   "metadata": {
    "slideshow": {
     "slide_type": "fragment"
    }
   },
   "source": [
    "### App summary\n",
    "\n",
    "* Consider use docopt for a nicer command line interface\n",
    "* Understand DB Access with an Object Relational Mapper (ORM) e.g. sqlalchemy\n",
    "* Use the logging library to log to file (prefer over print statements)\n",
    "* Use sensible imports (collect system and package imports etc)\n",
    "* Use docstrings!"
   ]
  }
 ],
 "metadata": {
  "celltoolbar": "Slideshow",
  "kernelspec": {
   "display_name": "Python 2",
   "language": "python",
   "name": "python2"
  },
  "language_info": {
   "codemirror_mode": {
    "name": "ipython",
    "version": 2
   },
   "file_extension": ".py",
   "mimetype": "text/x-python",
   "name": "python",
   "nbconvert_exporter": "python",
   "pygments_lexer": "ipython2",
   "version": "2.7.9"
  }
 },
 "nbformat": 4,
 "nbformat_minor": 0
}
