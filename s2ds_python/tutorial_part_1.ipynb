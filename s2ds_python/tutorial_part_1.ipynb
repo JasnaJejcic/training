{
 "cells": [
  {
   "cell_type": "markdown",
   "metadata": {
    "slideshow": {
     "slide_type": "slide"
    }
   },
   "source": [
    "# Growth Intel - Python Programming\n",
    "\n",
    "-----\n",
    "\n",
    "**Alex Mitchell @data_alex**\n",
    "\n",
    "**Prash Majmudar @prashmaj**"
   ]
  },
  {
   "cell_type": "markdown",
   "metadata": {
    "slideshow": {
     "slide_type": "slide"
    }
   },
   "source": [
    "## Python\n",
    "### Obligatory history of language slide\n",
    "\n",
    "- I don't actually know this stuff."
   ]
  },
  {
   "cell_type": "markdown",
   "metadata": {
    "slideshow": {
     "slide_type": "slide"
    }
   },
   "source": [
    "## Use cases\n",
    "\n",
    "- Web Development (Django, Flask, Tornado)\n",
    "- Machine learning (scikit-learn, PyBrain, ...??)\n",
    "- Data analysis (Pandas, IPython NB)\n",
    "- Data pipelines (Luigi, PySpark)\n",
    "- NLP (NLTK)\n",
    "- Scripting\n",
    "- Networking (Twisted)\n",
    "\n"
   ]
  },
  {
   "cell_type": "markdown",
   "metadata": {
    "slideshow": {
     "slide_type": "slide"
    }
   },
   "source": [
    "## Development environment\n",
    "\n",
    "\n",
    "PyCharm - IDE\n",
    "\n",
    "Editor (Vim, Emacs, Sublime) + IPython\n",
    "Vim / Emacs - harder to learn (needs setup, plus key bindings). Productive when setup (but takes years to perfect setup!). Available on the server and locally - same toolsets across environments.\n",
    "\n",
    "\n",
    "### Source control\n",
    "Git hosted on Github is a good choice\n",
    "\n",
    "#### Other tools\n",
    "Pylint\n",
    "\n",
    "### Package managers\n",
    "\n",
    "Pip + virtualenv\n",
    "\n",
    "Anaconda\n"
   ]
  },
  {
   "cell_type": "markdown",
   "metadata": {
    "slideshow": {
     "slide_type": "slide"
    }
   },
   "source": [
    "## Data structures"
   ]
  },
  {
   "cell_type": "markdown",
   "metadata": {
    "slideshow": {
     "slide_type": "subslide"
    }
   },
   "source": [
    "### Lists"
   ]
  },
  {
   "cell_type": "code",
   "execution_count": 7,
   "metadata": {
    "collapsed": false,
    "slideshow": {
     "slide_type": "fragment"
    }
   },
   "outputs": [
    {
     "name": "stdout",
     "output_type": "stream",
     "text": [
      "Original list:  ['alex', 'bob', 'fred', 'alice']\n",
      "Last list element:  alice\n",
      "List is now:  ['alex', 'bob', 'fred', 'james']\n"
     ]
    }
   ],
   "source": [
    "\n",
    "names =  ['alex', 'bob', 'fred', 'alice']\n",
    "print \"Original list: \", names\n",
    "\n",
    "last = names.pop()\n",
    "print \"Last list element: \", last\n",
    "\n",
    "# Lists are mutable\n",
    "names.append('james')\n",
    "print \"List is now: \", names\n",
    "\n",
    "#names.count()\n",
    "\n",
    "\n"
   ]
  },
  {
   "cell_type": "code",
   "execution_count": 8,
   "metadata": {
    "collapsed": false,
    "slideshow": {
     "slide_type": "fragment"
    }
   },
   "outputs": [
    {
     "name": "stdout",
     "output_type": "stream",
     "text": [
      "start of array up to (not including) index of 2 ['alex', 'bob']\n",
      "Last element:  james\n",
      "First element:  alex\n",
      "Start at index 2, up to (not inc) index 4  ['fred', 'james']\n"
     ]
    }
   ],
   "source": [
    "# Slicing\n",
    "print \"start of array up to (not including) index of 2\", names[:2]\n",
    "print \"Last element: \", names[-1]\n",
    "print \"First element: \", names[0]\n",
    "print \"Start at index 2, up to (not inc) index 4 \", names[2:4]"
   ]
  },
  {
   "cell_type": "markdown",
   "metadata": {
    "slideshow": {
     "slide_type": "subslide"
    }
   },
   "source": [
    "### Dictionaries"
   ]
  },
  {
   "cell_type": "code",
   "execution_count": 9,
   "metadata": {
    "collapsed": false,
    "slideshow": {
     "slide_type": "fragment"
    }
   },
   "outputs": [
    {
     "name": "stdout",
     "output_type": "stream",
     "text": [
      "{'bbc.co.uk': 5000000.0, 'test.com': 1256, 'growthintel.com': 5000}\n",
      "Gi has:  5000\n"
     ]
    }
   ],
   "source": [
    "# Key-value collection\n",
    "url_visits = {\"test.com\":1256,  \"growthintel.com\":5000, \"bbc.co.uk\":5e6}\n",
    "print url_visits\n",
    "print \"Gi has: \", url_visits[\"growthintel.com\"]\n"
   ]
  },
  {
   "cell_type": "code",
   "execution_count": 10,
   "metadata": {
    "collapsed": false,
    "slideshow": {
     "slide_type": "fragment"
    }
   },
   "outputs": [
    {
     "ename": "KeyError",
     "evalue": "'bob.com'",
     "output_type": "error",
     "traceback": [
      "\u001b[1;31m---------------------------------------------------------------------------\u001b[0m",
      "\u001b[1;31mKeyError\u001b[0m                                  Traceback (most recent call last)",
      "\u001b[1;32m<ipython-input-10-0dceae648b96>\u001b[0m in \u001b[0;36m<module>\u001b[1;34m()\u001b[0m\n\u001b[0;32m      1\u001b[0m \u001b[1;31m# Key does not exist\u001b[0m\u001b[1;33m\u001b[0m\u001b[1;33m\u001b[0m\u001b[0m\n\u001b[1;32m----> 2\u001b[1;33m \u001b[0murl_visits\u001b[0m\u001b[1;33m[\u001b[0m\u001b[1;34m\"bob.com\"\u001b[0m\u001b[1;33m]\u001b[0m\u001b[1;33m\u001b[0m\u001b[0m\n\u001b[0m",
      "\u001b[1;31mKeyError\u001b[0m: 'bob.com'"
     ]
    }
   ],
   "source": [
    "# Key does not exist\n",
    "url_visits[\"bob.com\"]"
   ]
  },
  {
   "cell_type": "code",
   "execution_count": null,
   "metadata": {
    "collapsed": false,
    "slideshow": {
     "slide_type": "fragment"
    }
   },
   "outputs": [],
   "source": [
    "print url_visits.get(\"bob.com\", None)"
   ]
  },
  {
   "cell_type": "markdown",
   "metadata": {
    "slideshow": {
     "slide_type": "fragment"
    }
   },
   "source": [
    "#### Further reading\n",
    "\n",
    "* default dicts: extends dictionaries to have a default factory for new keys that are added"
   ]
  },
  {
   "cell_type": "code",
   "execution_count": null,
   "metadata": {
    "collapsed": false,
    "slideshow": {
     "slide_type": "fragment"
    }
   },
   "outputs": [],
   "source": [
    "from collections import defaultdict\n",
    "dict_of_lists = defaultdict(list)\n",
    "dict_of_lists['a'].append('bob')\n",
    "print dict_of_lists"
   ]
  },
  {
   "cell_type": "markdown",
   "metadata": {
    "slideshow": {
     "slide_type": "fragment"
    }
   },
   "source": [
    "* dictionary comprehensions"
   ]
  },
  {
   "cell_type": "code",
   "execution_count": null,
   "metadata": {
    "collapsed": true,
    "slideshow": {
     "slide_type": "fragment"
    }
   },
   "outputs": [],
   "source": []
  },
  {
   "cell_type": "markdown",
   "metadata": {
    "collapsed": true,
    "slideshow": {
     "slide_type": "subslide"
    }
   },
   "source": [
    "### Sets"
   ]
  },
  {
   "cell_type": "code",
   "execution_count": null,
   "metadata": {
    "collapsed": true,
    "slideshow": {
     "slide_type": "fragment"
    }
   },
   "outputs": [],
   "source": []
  },
  {
   "cell_type": "markdown",
   "metadata": {
    "slideshow": {
     "slide_type": "subslide"
    }
   },
   "source": [
    "### Tuples"
   ]
  },
  {
   "cell_type": "code",
   "execution_count": null,
   "metadata": {
    "collapsed": false,
    "slideshow": {
     "slide_type": "fragment"
    }
   },
   "outputs": [],
   "source": [
    "# Use the comma operator\n",
    "a = 1,\n",
    "\n",
    "# Single items MUST use the comma operator\n",
    "b = (1,) # Don't use (1)\n",
    "\n",
    "c = 1,2,3,4,\"hello\"\n",
    "\n",
    "print a\n",
    "print b\n",
    "print c"
   ]
  },
  {
   "cell_type": "markdown",
   "metadata": {
    "slideshow": {
     "slide_type": "fragment"
    }
   },
   "source": [
    "* Tuples are **immutable**.\n",
    " * Used as keys in dictionaries\n",
    " * Data containers to be passed to functions / methods - data cannot be modified (also see: `namedtuples`)\n"
   ]
  },
  {
   "cell_type": "code",
   "execution_count": null,
   "metadata": {
    "collapsed": true,
    "slideshow": {
     "slide_type": "fragment"
    }
   },
   "outputs": [],
   "source": []
  }
 ],
 "metadata": {
  "celltoolbar": "Slideshow",
  "kernelspec": {
   "display_name": "Python 2",
   "language": "python",
   "name": "python2"
  },
  "language_info": {
   "codemirror_mode": {
    "name": "ipython",
    "version": 2
   },
   "file_extension": ".py",
   "mimetype": "text/x-python",
   "name": "python",
   "nbconvert_exporter": "python",
   "pygments_lexer": "ipython2",
   "version": "2.7.9"
  }
 },
 "nbformat": 4,
 "nbformat_minor": 0
}
