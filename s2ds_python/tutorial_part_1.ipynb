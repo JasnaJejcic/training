{
 "cells": [
  {
   "cell_type": "markdown",
   "metadata": {
    "slideshow": {
     "slide_type": "slide"
    }
   },
   "source": [
    "# Introduction\n",
    "\n",
    "- Alex Mitchell @dataalex\n",
    "- Prash Majmudar @prashmaj"
   ]
  },
  {
   "cell_type": "markdown",
   "metadata": {
    "slideshow": {
     "slide_type": "slide"
    }
   },
   "source": [
    "## Python\n",
    "### Obligatory history of language slide\n",
    "\n",
    "- I don't actually know this stuff."
   ]
  },
  {
   "cell_type": "markdown",
   "metadata": {
    "slideshow": {
     "slide_type": "slide"
    }
   },
   "source": [
    "## Use cases\n",
    "\n",
    "- Web Development (Django, Flask, Tornado)\n",
    "- Machine learning (scikit-learn, PyBrain, ...??)\n",
    "- Data analysis (Pandas, IPython NB)\n",
    "- Data pipelines (Luigi, PySpark)\n",
    "- NLP (NLTK)\n",
    "- Scripting\n",
    "- Networking (Twisted)\n",
    "\n"
   ]
  },
  {
   "cell_type": "markdown",
   "metadata": {
    "slideshow": {
     "slide_type": "slide"
    }
   },
   "source": [
    "## Development environment\n",
    "\n",
    "\n",
    "PyCharm - IDE\n",
    "\n",
    "Editor (Vim, Emacs, Sublime) + IPython\n",
    "Vim / Emacs - harder to learn (needs setup, plus key bindings). Productive when setup (but takes years to perfect setup!). Available on the server and locally - same toolsets across environments.\n",
    "\n",
    "\n",
    "### Source control\n",
    "Git hosted on Github is a good choice\n",
    "\n",
    "#### Other tools\n",
    "Pylint\n",
    "\n",
    "### Package managers\n",
    "\n",
    "Pip + virtualenv\n",
    "\n",
    "Anaconda\n"
   ]
  },
  {
   "cell_type": "markdown",
   "metadata": {
    "slideshow": {
     "slide_type": "slide"
    }
   },
   "source": [
    "## Data structures"
   ]
  },
  {
   "cell_type": "markdown",
   "metadata": {},
   "source": []
  },
  {
   "cell_type": "code",
   "execution_count": 18,
   "metadata": {
    "collapsed": false,
    "slideshow": {
     "slide_type": "fragment"
    }
   },
   "outputs": [
    {
     "name": "stdout",
     "output_type": "stream",
     "text": [
      "Original list:  ['alex', 'bob', 'fred', 'alice']\n",
      "Last list element:  alice\n",
      "List is now:  ['alex', 'bob', 'fred', 'james']\n",
      "start of array up to (not including) index of 2 ['alex', 'bob']\n",
      "Last element:  james\n",
      "First element:  alex\n",
      "Start at index 2, up to (not inc) index 4  ['fred', 'james']\n"
     ]
    }
   ],
   "source": [
    "\n",
    "names =  ['alex', 'bob', 'fred', 'alice']\n",
    "print \"Original list: \", names\n",
    "\n",
    "last = names.pop()\n",
    "print \"Last list element: \", last\n",
    "\n",
    "# Lists are mutable\n",
    "names.append('james')\n",
    "print \"List is now: \", names\n",
    "\n",
    "#names.count()\n",
    "\n",
    "# Slicing\n",
    "print \"start of array up to (not including) index of 2\", names[:2]\n",
    "print \"Last element: \", names[-1]\n",
    "print \"First element: \", names[0]\n",
    "print \"Start at index 2, up to (not inc) index 4 \", names[2:4]\n"
   ]
  },
  {
   "cell_type": "code",
   "execution_count": null,
   "metadata": {
    "collapsed": true,
    "slideshow": {
     "slide_type": "fragment"
    }
   },
   "outputs": [],
   "source": []
  }
 ],
 "metadata": {
  "celltoolbar": "Slideshow",
  "kernelspec": {
   "display_name": "Python 2",
   "language": "python",
   "name": "python2"
  },
  "language_info": {
   "codemirror_mode": {
    "name": "ipython",
    "version": 2
   },
   "file_extension": ".py",
   "mimetype": "text/x-python",
   "name": "python",
   "nbconvert_exporter": "python",
   "pygments_lexer": "ipython2",
   "version": "2.7.9"
  }
 },
 "nbformat": 4,
 "nbformat_minor": 0
}
