{
 "cells": [
  {
   "cell_type": "markdown",
   "metadata": {
    "slideshow": {
     "slide_type": "slide"
    }
   },
   "source": [
    "## Exploratory work with IPython Notebook and Pandas"
   ]
  },
  {
   "cell_type": "markdown",
   "metadata": {
    "slideshow": {
     "slide_type": "subslide"
    }
   },
   "source": [
    "### IPython Notebooks\n",
    "\n",
    "* Web based interactive computing environment\n",
    "* Provide a browser based REPL (Read-eval-print loop)\n",
    "* Notebook connects to an IPython server (backend is pluggable - see Project Jupyter)\n",
    "* Export functionality (eg these slides)\n",
    "* NOT for engineering\n",
    "\n",
    "* IPython Notebook docs: http://ipython.org/ipython-doc/3/notebook/notebook.html\n",
    "* Project Jupyter: https://jupyter.org/\n",
    "* Indepth tutorial: http://ipython.org/notebook.html#scipy-2013"
   ]
  },
  {
   "cell_type": "markdown",
   "metadata": {
    "slideshow": {
     "slide_type": "subslide"
    }
   },
   "source": [
    "####  Notebook good practice\n",
    "\n",
    "* Notebooks should be re-runnable\n",
    "* Notebooks should be kept under version control\n",
    "* Self-documenting (read like a report)\n",
    "* Make code modular (define functions outside, import as needed)\n",
    "\n",
    "* Setting up a server: http://ipython.org/ipython-doc/3/notebook/public_server.html\n",
    "* Security (executing code in a browser): http://ipython.org/ipython-doc/3/notebook/security.html"
   ]
  },
  {
   "cell_type": "markdown",
   "metadata": {
    "slideshow": {
     "slide_type": "subslide"
    }
   },
   "source": [
    "#### Commit diffs\n",
    "\n",
    "If possible clear output before saving and committing:\n",
    "\n",
    "https://github.com/pelucid/devtools/commit/07cd08a3666101f9302735b091c851a2ee930455\n",
    "\n",
    "Tend to end up with useless diffs:\n",
    "\n",
    "https://github.com/pelucid/meg/commit/3597b4f30ce73d7ad9595e2ee847a62c6424fce9?diff=split#diff-5439da8795e32767a1974e756961cd4d\n",
    "\n",
    "* Pre-commit hooks (http://git-scm.com/book/en/v2/Customizing-Git-Git-Hooks), Python scripts to clear out output"
   ]
  },
  {
   "cell_type": "markdown",
   "metadata": {
    "slideshow": {
     "slide_type": "subslide"
    }
   },
   "source": [
    "#### Easy wins\n",
    "\n",
    "* Virtual env\n",
    "* User agnostic db access (eg .my.cnf)\n",
    "* Public data (/var/data/client/... not /home/alex/stuff/faff/data/big.csv)\n",
    "* Try to clear output before committing \n",
    "* Each has own server (resource hungry)"
   ]
  },
  {
   "cell_type": "markdown",
   "metadata": {
    "slideshow": {
     "slide_type": "subslide"
    }
   },
   "source": [
    "#### Magics\n",
    "\n",
    "* Mini command language inside IPython\n",
    "\n",
    "https://ipython.org/ipython-doc/dev/interactive/magics.html\n",
    "\n",
    "* Some common magics within IPython Notebooks are:\n",
    "** %lsmagic - list currently available magics\n",
    "** %matplotlib inline - inline backend\n",
    "** %env - manage environment variables\n",
    "\n"
   ]
  },
  {
   "cell_type": "markdown",
   "metadata": {
    "slideshow": {
     "slide_type": "subslide"
    }
   },
   "source": [
    "# TODOS:\n",
    "- Latex/raw\n",
    "- nbviewer\n",
    "- Include an example of a notebook - where is this most useful?"
   ]
  },
  {
   "cell_type": "markdown",
   "metadata": {
    "slideshow": {
     "slide_type": "slide"
    }
   },
   "source": [
    "### Using Pandas in an IPython notebook"
   ]
  },
  {
   "cell_type": "code",
   "execution_count": 9,
   "metadata": {
    "collapsed": true,
    "slideshow": {
     "slide_type": "fragment"
    }
   },
   "outputs": [],
   "source": [
    "import pandas as pd\n",
    "import numpy as np"
   ]
  },
  {
   "cell_type": "markdown",
   "metadata": {},
   "source": [
    "http://www.xmind.net/m/WvfC/"
   ]
  }
 ],
 "metadata": {
  "celltoolbar": "Slideshow",
  "kernelspec": {
   "display_name": "Python 2",
   "language": "python",
   "name": "python2"
  },
  "language_info": {
   "codemirror_mode": {
    "name": "ipython",
    "version": 2
   },
   "file_extension": ".py",
   "mimetype": "text/x-python",
   "name": "python",
   "nbconvert_exporter": "python",
   "pygments_lexer": "ipython2",
   "version": "2.7.6"
  }
 },
 "nbformat": 4,
 "nbformat_minor": 0
}
