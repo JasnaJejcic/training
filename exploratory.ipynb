{
 "cells": [
  {
   "cell_type": "markdown",
   "metadata": {},
   "source": [
    "### Imports"
   ]
  },
  {
   "cell_type": "code",
   "execution_count": 14,
   "metadata": {
    "collapsed": false
   },
   "outputs": [],
   "source": [
    "import pandas as pd\n",
    "import numpy as np\n",
    "from lxml import etree"
   ]
  },
  {
   "cell_type": "markdown",
   "metadata": {},
   "source": [
    "### Flow\n",
    "\n",
    "* Unzip etc using magics out to command line\n",
    "* Read CSV as ASCII, show encoding errors\n",
    "* Read as UTF8, show has dealt with them correctly\n",
    "* Normalise names?\n",
    "* Normalise eg postcode/split postcodes?\n",
    "* Do some aggregations and grouping?\n",
    "* Masks - ensure use different criteria to show usefulness of reusability\n",
    "* Could we do something with PDF here? HTML pages might also be useful (download, unzip, process HTML)"
   ]
  },
  {
   "cell_type": "markdown",
   "metadata": {},
   "source": [
    "### Preprocess and load reference data"
   ]
  },
  {
   "cell_type": "code",
   "execution_count": 15,
   "metadata": {
    "collapsed": false
   },
   "outputs": [],
   "source": [
    "#!unzip '/var/data/s2ds/companies/*.zip' -d /var/data/s2ds/companies/"
   ]
  },
  {
   "cell_type": "code",
   "execution_count": 16,
   "metadata": {
    "collapsed": true
   },
   "outputs": [],
   "source": [
    "def read_files(files):\n",
    "    dfs = []\n",
    "\n",
    "    for f in files:\n",
    "        df = pd.read_csv(f)\n",
    "        dfs.append(df[['CompanyName', ' CompanyNumber', 'RegAddress.PostCode']])\n",
    "\n",
    "    return pd.concat(dfs)"
   ]
  },
  {
   "cell_type": "code",
   "execution_count": 17,
   "metadata": {
    "collapsed": true
   },
   "outputs": [],
   "source": [
    "def read_files_utf8(files):\n",
    "    dfs = []\n",
    "\n",
    "    for f in files:\n",
    "        df = pd.read_csv(f, encoding='utf8')\n",
    "        dfs.append(df[['CompanyName', ' CompanyNumber', 'RegAddress.PostCode']])\n",
    "\n",
    "    return pd.concat(dfs)"
   ]
  },
  {
   "cell_type": "code",
   "execution_count": 18,
   "metadata": {
    "collapsed": true
   },
   "outputs": [],
   "source": [
    "files = !ls /var/data/s2ds/companies/*3_5.csv"
   ]
  },
  {
   "cell_type": "code",
   "execution_count": 26,
   "metadata": {
    "collapsed": false
   },
   "outputs": [],
   "source": [
    "df = read_files(files)"
   ]
  },
  {
   "cell_type": "code",
   "execution_count": 28,
   "metadata": {
    "collapsed": false
   },
   "outputs": [
    {
     "data": {
      "text/html": [
       "<div style=\"max-height:1000px;max-width:1500px;overflow:auto;\">\n",
       "<table border=\"1\" class=\"dataframe\">\n",
       "  <thead>\n",
       "    <tr style=\"text-align: right;\">\n",
       "      <th></th>\n",
       "      <th>CompanyName</th>\n",
       "      <th>CompanyNumber</th>\n",
       "      <th>RegAddress.PostCode</th>\n",
       "    </tr>\n",
       "  </thead>\n",
       "  <tbody>\n",
       "    <tr>\n",
       "      <th>603065</th>\n",
       "      <td>NESTLÉ WATERS UK LIMITED</td>\n",
       "      <td>02334804</td>\n",
       "      <td>RH6 0PA</td>\n",
       "    </tr>\n",
       "  </tbody>\n",
       "</table>\n",
       "</div>"
      ],
      "text/plain": [
       "                     CompanyName  CompanyNumber RegAddress.PostCode\n",
       "603065  NESTLÉ WATERS UK LIMITED       02334804             RH6 0PA"
      ]
     },
     "execution_count": 28,
     "metadata": {},
     "output_type": "execute_result"
    }
   ],
   "source": [
    "df[df[' CompanyNumber'] == '02334804']"
   ]
  },
  {
   "cell_type": "code",
   "execution_count": 20,
   "metadata": {
    "collapsed": false
   },
   "outputs": [
    {
     "data": {
      "text/plain": [
       "(850000, 3)"
      ]
     },
     "execution_count": 20,
     "metadata": {},
     "output_type": "execute_result"
    }
   ],
   "source": [
    "df.shape"
   ]
  },
  {
   "cell_type": "code",
   "execution_count": 21,
   "metadata": {
    "collapsed": false
   },
   "outputs": [
    {
     "data": {
      "text/html": [
       "<div style=\"max-height:1000px;max-width:1500px;overflow:auto;\">\n",
       "<table border=\"1\" class=\"dataframe\">\n",
       "  <thead>\n",
       "    <tr style=\"text-align: right;\">\n",
       "      <th></th>\n",
       "      <th>CompanyName</th>\n",
       "      <th>CompanyNumber</th>\n",
       "      <th>RegAddress.PostCode</th>\n",
       "    </tr>\n",
       "  </thead>\n",
       "  <tbody>\n",
       "    <tr>\n",
       "      <th>0</th>\n",
       "      <td>J.C. ROOFING SERVICES LTD</td>\n",
       "      <td>09176364</td>\n",
       "      <td>WD25 8BT</td>\n",
       "    </tr>\n",
       "    <tr>\n",
       "      <th>1</th>\n",
       "      <td>J.C. ROOK &amp; SONS LIMITED</td>\n",
       "      <td>02117042</td>\n",
       "      <td>CT11 7DZ</td>\n",
       "    </tr>\n",
       "    <tr>\n",
       "      <th>2</th>\n",
       "      <td>J.C. ROXBURGH &amp; COMPANY LIMITED</td>\n",
       "      <td>SC041244</td>\n",
       "      <td>G81 1LQ</td>\n",
       "    </tr>\n",
       "    <tr>\n",
       "      <th>3</th>\n",
       "      <td>J.C. ROXBURGH (INVESTMENTS) LIMITED</td>\n",
       "      <td>SC037420</td>\n",
       "      <td>G83 9LX</td>\n",
       "    </tr>\n",
       "    <tr>\n",
       "      <th>4</th>\n",
       "      <td>J.C. ROXBURGH PROPERTIES LIMITED</td>\n",
       "      <td>SC073801</td>\n",
       "      <td>G81 1LQ</td>\n",
       "    </tr>\n",
       "  </tbody>\n",
       "</table>\n",
       "</div>"
      ],
      "text/plain": [
       "                           CompanyName  CompanyNumber RegAddress.PostCode\n",
       "0            J.C. ROOFING SERVICES LTD       09176364            WD25 8BT\n",
       "1             J.C. ROOK & SONS LIMITED       02117042            CT11 7DZ\n",
       "2      J.C. ROXBURGH & COMPANY LIMITED       SC041244             G81 1LQ\n",
       "3  J.C. ROXBURGH (INVESTMENTS) LIMITED       SC037420             G83 9LX\n",
       "4     J.C. ROXBURGH PROPERTIES LIMITED       SC073801             G81 1LQ"
      ]
     },
     "execution_count": 21,
     "metadata": {},
     "output_type": "execute_result"
    }
   ],
   "source": [
    "df.head()"
   ]
  },
  {
   "cell_type": "code",
   "execution_count": 22,
   "metadata": {
    "collapsed": false
   },
   "outputs": [],
   "source": [
    "df.rename(columns={' CompanyNumber': 'CompanyNumber'}, inplace=True)"
   ]
  },
  {
   "cell_type": "code",
   "execution_count": 23,
   "metadata": {
    "collapsed": false
   },
   "outputs": [
    {
     "data": {
      "text/html": [
       "<div style=\"max-height:1000px;max-width:1500px;overflow:auto;\">\n",
       "<table border=\"1\" class=\"dataframe\">\n",
       "  <thead>\n",
       "    <tr style=\"text-align: right;\">\n",
       "      <th></th>\n",
       "      <th>CompanyName</th>\n",
       "      <th>CompanyNumber</th>\n",
       "      <th>RegAddress.PostCode</th>\n",
       "    </tr>\n",
       "  </thead>\n",
       "  <tbody>\n",
       "    <tr>\n",
       "      <th>603065</th>\n",
       "      <td>NESTLÉ WATERS UK LIMITED</td>\n",
       "      <td>02334804</td>\n",
       "      <td>RH6 0PA</td>\n",
       "    </tr>\n",
       "  </tbody>\n",
       "</table>\n",
       "</div>"
      ],
      "text/plain": [
       "                     CompanyName CompanyNumber RegAddress.PostCode\n",
       "603065  NESTLÉ WATERS UK LIMITED      02334804             RH6 0PA"
      ]
     },
     "execution_count": 23,
     "metadata": {},
     "output_type": "execute_result"
    }
   ],
   "source": [
    "df[df['CompanyNumber'] == '02334804']"
   ]
  },
  {
   "cell_type": "code",
   "execution_count": 24,
   "metadata": {
    "collapsed": false
   },
   "outputs": [],
   "source": [
    "df = read_files_utf8(files)"
   ]
  },
  {
   "cell_type": "code",
   "execution_count": 25,
   "metadata": {
    "collapsed": false
   },
   "outputs": [
    {
     "data": {
      "text/html": [
       "<div style=\"max-height:1000px;max-width:1500px;overflow:auto;\">\n",
       "<table border=\"1\" class=\"dataframe\">\n",
       "  <thead>\n",
       "    <tr style=\"text-align: right;\">\n",
       "      <th></th>\n",
       "      <th>CompanyName</th>\n",
       "      <th>CompanyNumber</th>\n",
       "      <th>RegAddress.PostCode</th>\n",
       "    </tr>\n",
       "  </thead>\n",
       "  <tbody>\n",
       "    <tr>\n",
       "      <th>603065</th>\n",
       "      <td>NESTLÉ WATERS UK LIMITED</td>\n",
       "      <td>02334804</td>\n",
       "      <td>RH6 0PA</td>\n",
       "    </tr>\n",
       "  </tbody>\n",
       "</table>\n",
       "</div>"
      ],
      "text/plain": [
       "                     CompanyName  CompanyNumber RegAddress.PostCode\n",
       "603065  NESTLÉ WATERS UK LIMITED       02334804             RH6 0PA"
      ]
     },
     "execution_count": 25,
     "metadata": {},
     "output_type": "execute_result"
    }
   ],
   "source": [
    "df[df[' CompanyNumber'] == '02334804']"
   ]
  },
  {
   "cell_type": "markdown",
   "metadata": {},
   "source": [
    "### Preprocess and load UK IPO Office data"
   ]
  },
  {
   "cell_type": "code",
   "execution_count": 56,
   "metadata": {
    "collapsed": false
   },
   "outputs": [],
   "source": [
    "tree = etree.parse('/var/data/s2ds/trademarks/jnl.xml')"
   ]
  },
  {
   "cell_type": "code",
   "execution_count": null,
   "metadata": {
    "collapsed": true
   },
   "outputs": [],
   "source": []
  }
 ],
 "metadata": {
  "kernelspec": {
   "display_name": "Python 2",
   "language": "python",
   "name": "python2"
  },
  "language_info": {
   "codemirror_mode": {
    "name": "ipython",
    "version": 2
   },
   "file_extension": ".py",
   "mimetype": "text/x-python",
   "name": "python",
   "nbconvert_exporter": "python",
   "pygments_lexer": "ipython2",
   "version": "2.7.6"
  }
 },
 "nbformat": 4,
 "nbformat_minor": 0
}
