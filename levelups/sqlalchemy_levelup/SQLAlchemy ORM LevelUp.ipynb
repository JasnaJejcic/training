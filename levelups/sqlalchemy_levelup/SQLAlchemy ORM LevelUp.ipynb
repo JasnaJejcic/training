{
 "cells": [
  {
   "cell_type": "code",
   "execution_count": null,
   "metadata": {
    "collapsed": true,
    "slideshow": {
     "slide_type": "subslide"
    }
   },
   "outputs": [],
   "source": [
    "import sqlalchemy\n",
    "import sqlalchemy.ext.declarative\n",
    "DB_NAME=\"sqlalchemy_levelup\""
   ]
  },
  {
   "cell_type": "code",
   "execution_count": null,
   "metadata": {
    "collapsed": false
   },
   "outputs": [],
   "source": [
    "! mysql -e \"DROP DATABASE IF EXISTS sqlalchemy_levelup\"\n",
    "! mysql -e \"CREATE DATABASE IF NOT EXISTS sqlalchemy_levelup\""
   ]
  },
  {
   "cell_type": "markdown",
   "metadata": {
    "slideshow": {
     "slide_type": "slide"
    }
   },
   "source": [
    "# What is SQLAlchemy?\n",
    "\n",
    "From [their website](http://www.sqlalchemy.org/):\n",
    "\n",
    "> SQLAlchemy is the Python SQL toolkit and Object Relational Mapper (ORM) that gives application developers the full power and flexibility of SQL\n",
    "\n",
    "# What is the SQLAlchemy ORM?\n",
    "\n",
    "The ORM provides a way of modelling the objects of your domain and the relationships between them in Python.\n",
    "\n",
    "It will persist these objects and their relationships for you, using a Relational Database Management System (RDBMS, e.g. MySQL, PostgreSQL)\n",
    "\n",
    "# Where does the ORM fit into SQLAlchemy?\n",
    "\n",
    "The ORM is built on top of SQLAlchemy's lower-level **Expression Language** API. This API is for working directly with database constructs and expressions in Python (e.g. it contains a `Select` class for building `select` queries)\n",
    "\n",
    "It is possible, and sometimes preferable, to use ONLY the Expression Language if you require more granular control or if the overhead of the ORM is undesirable.\n",
    "\n",
    "Alternatively, you can use a combination of both the ORM and the Expression Language to add more granular controlls to an ORM based application if and when they are needed"
   ]
  },
  {
   "cell_type": "markdown",
   "metadata": {
    "slideshow": {
     "slide_type": "slide"
    }
   },
   "source": [
    "# A worked example - user management\n",
    "\n",
    "Inspired by our Authentication service Thug Lyf\n",
    "\n",
    "### Data model requirements\n",
    "The domain objects are Users. Users will have attributes for their email address and password"
   ]
  },
  {
   "cell_type": "markdown",
   "metadata": {},
   "source": [
    "# Defining the data model\n",
    "\n",
    "As mentioned above, the ORM looks after the persistence of our domain objects.\n",
    "\n",
    "Essentially this means we will create a Python class representing a `User`. Instances of this class will have attributes for email address and password. The ORM will store a representation of instantiated `User` objects as records in a \"users\" table in the database\n",
    "\n",
    "The classes we add for our domain objects are referred to as *models* or *model classes*."
   ]
  },
  {
   "cell_type": "markdown",
   "metadata": {},
   "source": [
    "## Declarative Base Class\n",
    "\n",
    "To have the ORM look after the persistence of our domain objects, we define our model classes as subclasses of a base class from SQLAlchemy.\n",
    "\n",
    "This base class is provided by SQLAlchemy through the `declarative_base` class factory (its a function that returns a Python **class**)\n",
    "\n",
    "It is common to have just one `Base` class in your application. You often see it defined in the module scope, allowing other modules to import it as a \"singleton\"."
   ]
  },
  {
   "cell_type": "code",
   "execution_count": null,
   "metadata": {
    "collapsed": false
   },
   "outputs": [],
   "source": [
    "# Create a declarative base\n",
    "Base = sqlalchemy.ext.declarative.declarative_base()"
   ]
  },
  {
   "cell_type": "markdown",
   "metadata": {},
   "source": [
    "## The `User` Model"
   ]
  },
  {
   "cell_type": "code",
   "execution_count": null,
   "metadata": {
    "collapsed": false
   },
   "outputs": [],
   "source": [
    "class User(Base):\n",
    "    __tablename__ = \"users\"\n",
    "    id = sqlalchemy.Column(sqlalchemy.Integer, primary_key=True)\n",
    "    email = sqlalchemy.Column(sqlalchemy.String(255), nullable=False, unique=True)\n",
    "    password = sqlalchemy.Column(sqlalchemy.String(255), nullable=False)\n",
    "    \n",
    "    def __repr__(self):\n",
    "        return \"User(email={})\".format(self.email)"
   ]
  },
  {
   "cell_type": "markdown",
   "metadata": {},
   "source": [
    "Note the distinction between the singular \"User\" classname and the \"users\" table name. This is because an instance of this class is a \"user\" but the table can contain many users\n",
    "\n",
    "Side-note: You might have noticed that the \"type\" of the columns here is either `Integer` or `String`, where elsewhere you may have seen specific `VARCHAR`, `CHAR`, `BIGINT` etc. (imported from e.g. `sqlalchemy.dialects.mysql`). The difference here is that `Integer` and `String` are generic \"SQL\" types, which will be represented as `VARCHAR`, `INT` etc. in the database. Using these generic types will make the application more independent from the choice of RDBMS."
   ]
  },
  {
   "cell_type": "markdown",
   "metadata": {},
   "source": [
    "### Table objects\n",
    "\n",
    "When we declare a subclass of the declarative base (i.e. a model), the ORM will create a `Table` object and a mapping between the model attributes (id, email, password) and the `Table` columns.\n",
    "\n",
    "`Table` is the SQLAlchemy abstraction representing RDBMS tables"
   ]
  },
  {
   "cell_type": "code",
   "execution_count": null,
   "metadata": {
    "collapsed": false
   },
   "outputs": [],
   "source": [
    "# The table object associated with User is accessed by the __table__ class attribute\n",
    "User.__table__"
   ]
  },
  {
   "cell_type": "markdown",
   "metadata": {},
   "source": [
    "### Metadata\n",
    "\n",
    "The declarative base has a `Metadata` object attached to it.\n",
    "\n",
    "`Metadata` contains a registry of all the `Table` objects created when model classes are declared\n",
    "\n",
    "We can access this registry under the `tables` attribute of the `metadata` object"
   ]
  },
  {
   "cell_type": "code",
   "execution_count": null,
   "metadata": {
    "collapsed": false
   },
   "outputs": [],
   "source": [
    "Base.metadata.tables"
   ]
  },
  {
   "cell_type": "markdown",
   "metadata": {},
   "source": [
    "The registry `Metadata` maintains will be useful in a minute when we want to create actual RDBMS tables"
   ]
  },
  {
   "cell_type": "markdown",
   "metadata": {},
   "source": [
    "# Connecting to the database\n",
    "\n",
    "In SQLAlchemy the `Engine` is the ultimate source of database connectivity. \n",
    "\n",
    "All SQLAlchemy applications will call upon an `Engine` instance at some point in order to create a `Connection` object. This is done through the ```engine.connect()``` method.\n",
    "\n",
    "Note that this means that SQLAlchemy does not establish an actual connection with the database until it is requested "
   ]
  },
  {
   "cell_type": "code",
   "execution_count": null,
   "metadata": {
    "collapsed": false
   },
   "outputs": [],
   "source": [
    "database_url = sqlalchemy.engine.url.URL(drivername='mysql', database=DB_NAME,\n",
    "                                         query={'read_default_file': '~/.my.cnf'})\n",
    "print database_url"
   ]
  },
  {
   "cell_type": "code",
   "execution_count": null,
   "metadata": {
    "collapsed": false
   },
   "outputs": [],
   "source": [
    "engine = sqlalchemy.engine.create_engine(database_url, echo=True)  # echo=True logs SQL queries to stdout"
   ]
  },
  {
   "cell_type": "markdown",
   "metadata": {},
   "source": [
    "## Creating tables\n",
    "\n",
    "Now we have an engine to provide us with database connectivity, we can use the `Metadata` object to create database tables"
   ]
  },
  {
   "cell_type": "code",
   "execution_count": null,
   "metadata": {
    "collapsed": false
   },
   "outputs": [],
   "source": [
    "Base.metadata.create_all(engine)"
   ]
  },
  {
   "cell_type": "markdown",
   "metadata": {},
   "source": [
    "# A Session with the ORM\n",
    "\n",
    "Now that we have models, tables and an engine, we are ready to use the ORM to create and store `User` objects.\n",
    "\n",
    "The ORM abstraction for managing synchronisation with the database is the **session**."
   ]
  },
  {
   "cell_type": "code",
   "execution_count": null,
   "metadata": {
    "collapsed": false
   },
   "outputs": [],
   "source": [
    "Session = sqlalchemy.orm.sessionmaker(bind=engine)"
   ]
  },
  {
   "cell_type": "markdown",
   "metadata": {},
   "source": [
    "First, we create a `Session` class, configured to use the `Engine` object we created when it requires a database connection. `Session` objects will not ask for connections until they need them.\n",
    "\n",
    "Now we can create a session by calling the `Session` class:"
   ]
  },
  {
   "cell_type": "code",
   "execution_count": null,
   "metadata": {
    "collapsed": true
   },
   "outputs": [],
   "source": [
    "session = Session()"
   ]
  },
  {
   "cell_type": "markdown",
   "metadata": {},
   "source": [
    "And add our first user object"
   ]
  },
  {
   "cell_type": "code",
   "execution_count": null,
   "metadata": {
    "collapsed": false
   },
   "outputs": [],
   "source": [
    "ben = User(email=\"ben@example.com\", password=\"password\")\n",
    "print ben\n",
    "\n",
    "session.add(ben)"
   ]
  },
  {
   "cell_type": "markdown",
   "metadata": {},
   "source": [
    "The session can be thought of as a collection of objects. You can iterate over the session to access the objects within:"
   ]
  },
  {
   "cell_type": "code",
   "execution_count": null,
   "metadata": {
    "collapsed": false
   },
   "outputs": [],
   "source": [
    "[obj for obj in session]"
   ]
  },
  {
   "cell_type": "markdown",
   "metadata": {},
   "source": [
    "And check that your object is in the session:"
   ]
  },
  {
   "cell_type": "code",
   "execution_count": null,
   "metadata": {
    "collapsed": false
   },
   "outputs": [],
   "source": [
    "ben in session"
   ]
  },
  {
   "cell_type": "markdown",
   "metadata": {},
   "source": [
    "At this point, the user object exists in the session, but is not in the database (note that no SQL was emitted by the `echo`). To ask the ORM to flush changes to the database, we can use the `flush` method."
   ]
  },
  {
   "cell_type": "code",
   "execution_count": null,
   "metadata": {
    "collapsed": false
   },
   "outputs": [],
   "source": [
    "session.flush()"
   ]
  },
  {
   "cell_type": "markdown",
   "metadata": {},
   "source": [
    "`BEGIN` means a new transaction has been started on session's connection with the database.\n",
    "\n",
    "Right now the new record is in the database's transaction buffer (and therefore not visible to anyone else). To finish the transaction and fully persist the data, we can use `commit`"
   ]
  },
  {
   "cell_type": "code",
   "execution_count": null,
   "metadata": {
    "collapsed": false
   },
   "outputs": [],
   "source": [
    "session.commit()"
   ]
  },
  {
   "cell_type": "markdown",
   "metadata": {},
   "source": [
    "NB. We may also `commit` straightaway, without explicitly calling `flush` - the session will do that for us"
   ]
  },
  {
   "cell_type": "markdown",
   "metadata": {},
   "source": [
    "## Querying\n",
    "\n",
    "Querying for data is achieved by using the `Session` object's `query` attribute"
   ]
  },
  {
   "cell_type": "code",
   "execution_count": null,
   "metadata": {
    "collapsed": false
   },
   "outputs": [],
   "source": [
    "session.query(User).filter(User.email==\"ben@example.com\").all()"
   ]
  },
  {
   "cell_type": "markdown",
   "metadata": {},
   "source": [
    "The `Session.query` method returns a `Query` object, which has methods such as `filter`, `order_by`, `limit` etc. These methods are *generative* - they return new `Query` objects allowing you to call additional methods. This is allows you to build up queries in long chains of method calls.\n",
    "\n",
    "I won't go further into querying now, it's fairly intuitive if you are already familiar with SQL. See the [SQLAlchemy docs for the `Query` API](http://docs.sqlalchemy.org/en/latest/orm/query.html) for more."
   ]
  },
  {
   "cell_type": "markdown",
   "metadata": {},
   "source": [
    "## Updating\n",
    "\n",
    "If we wish to modify an object which has been placed in the session, we can just directly change the desired attribute's value. The ORM will detect the change and translate it into an `UPDATE` statement at the next `flush`\n",
    "\n",
    "Let's say we want to improve Ben's password"
   ]
  },
  {
   "cell_type": "code",
   "execution_count": null,
   "metadata": {
    "collapsed": true
   },
   "outputs": [],
   "source": [
    "ben.password = \"drowssap\""
   ]
  },
  {
   "cell_type": "code",
   "execution_count": null,
   "metadata": {
    "collapsed": false
   },
   "outputs": [],
   "source": [
    "session.commit()"
   ]
  },
  {
   "cell_type": "markdown",
   "metadata": {
    "collapsed": true
   },
   "source": [
    "Any changes made to any objects in the session will be tracked by the ORM until a `flush` occurs.\n",
    "\n",
    "Note that if the session is queried after an object has been modified, but before `flush` has been called, the ORM will issue a `flush` itself. This can bee seen in the example below, where the `UPDATE` statement happens before the `SELECT ... WHERE users.password=` statement"
   ]
  },
  {
   "cell_type": "code",
   "execution_count": null,
   "metadata": {
    "collapsed": false
   },
   "outputs": [],
   "source": [
    "ben.password = \"new_password\"\n",
    "\n",
    "session.query(User).filter(User.password==\"new_password\").all()"
   ]
  },
  {
   "cell_type": "code",
   "execution_count": null,
   "metadata": {
    "collapsed": false
   },
   "outputs": [],
   "source": [
    "# Start fresh\n",
    "session.close()  # ends the current session\n",
    "Base.metadata.drop_all(bind=engine)  # drops all tables"
   ]
  },
  {
   "cell_type": "markdown",
   "metadata": {
    "collapsed": true
   },
   "source": [
    "# Extending the data model - Organisations\n",
    "\n",
    "### Data model requirements\n",
    "\n",
    "Our \"customers\" at GrowthIntel are businesses, not individuals. Because of this, our Auth service groups Users into larger units, which we call Organisations.\n",
    "\n",
    "Organisations can have many Users. Users belong to one and only one Organisation (1 to many relationship)\n",
    "\n",
    "### Diagram\n",
    "\n",
    "```\n",
    "      org1               org2\n",
    "    /  |   \\            /   \\\n",
    "user1 user2 user3    user4  user5\n",
    "```\n",
    "\n",
    "We can tell the ORM to handle relationships for us, with the `relationship` directive.\n",
    "\n",
    "In order to creat an ORM relationship between `User` and `Organisation`, we need two things:\n",
    "\n",
    "- A foreign key on `User` to specify the `Organisation` it belongs to\n",
    "- An attribute we can use to refer to the related object(s) on each class"
   ]
  },
  {
   "cell_type": "code",
   "execution_count": null,
   "metadata": {
    "collapsed": false
   },
   "outputs": [],
   "source": [
    "Base = sqlalchemy.ext.declarative.declarative_base()\n",
    "\n",
    "class User(Base):\n",
    "    __tablename__ = \"users\"\n",
    "    id = sqlalchemy.Column(sqlalchemy.Integer, primary_key=True)\n",
    "    email = sqlalchemy.Column(sqlalchemy.String(255), nullable=False, unique=True)\n",
    "    password = sqlalchemy.Column(sqlalchemy.String(255), nullable=False)\n",
    "\n",
    "    # New - foreign key to organisations table\n",
    "    organisation_id = sqlalchemy.Column(\n",
    "        sqlalchemy.Integer,\n",
    "        sqlalchemy.ForeignKey('organisations.id'))\n",
    "\n",
    "    # New - Define the ORM relationship\n",
    "    organisation = sqlalchemy.orm.relationship(\"Organisation\",\n",
    "                                               back_populates=\"users\")\n",
    "    \n",
    "    \n",
    "    def __repr__(self):\n",
    "        return \"User(email={})\".format(self.email)\n",
    "\n",
    "class Organisation(Base):\n",
    "    __tablename__ = \"organisations\"\n",
    "    id = sqlalchemy.Column(sqlalchemy.Integer, primary_key=True)\n",
    "    name = sqlalchemy.Column(sqlalchemy.String(255), nullable=False, unique=True)\n",
    "    \n",
    "    users = sqlalchemy.orm.relationship(\"User\",\n",
    "                                        back_populates=\"organisation\")\n",
    "    \n",
    "    def __repr__(self):\n",
    "        return \"Organisation(name={})\".format(self.name)"
   ]
  },
  {
   "cell_type": "code",
   "execution_count": null,
   "metadata": {
    "collapsed": false
   },
   "outputs": [],
   "source": [
    "Base.metadata.create_all(bind=engine)"
   ]
  },
  {
   "cell_type": "markdown",
   "metadata": {},
   "source": [
    "Now I can create Ben in an organisation Example.com, and give him some colleagues"
   ]
  },
  {
   "cell_type": "code",
   "execution_count": null,
   "metadata": {
    "collapsed": false
   },
   "outputs": [],
   "source": [
    "example_com = Organisation(name=\"example.com\")\n",
    "\n",
    "ben = User(email=\"ben@example.com\",\n",
    "           password=\"password1\",\n",
    "           organisation=example_com)\n",
    "\n",
    "jerry = User(email=\"jerry@example.com\",\n",
    "             password=\"password2\",\n",
    "             organisation=example_com)\n",
    "\n",
    "ellie = User(email=\"ellie@example.com\",\n",
    "             password=\"password3\",\n",
    "             organisation=example_com)"
   ]
  },
  {
   "cell_type": "markdown",
   "metadata": {},
   "source": [
    "When I now add these objects to a session and commit, the ORM will handle the \"details\" of foreign keys for me "
   ]
  },
  {
   "cell_type": "code",
   "execution_count": null,
   "metadata": {
    "collapsed": false
   },
   "outputs": [],
   "source": [
    "session = Session()\n",
    "\n",
    "session.add_all([example_com, ben, jerry, ellie])\n",
    "\n",
    "session.commit()"
   ]
  },
  {
   "cell_type": "markdown",
   "metadata": {},
   "source": [
    "Using the ORM relationships allow us to play around with the relationships between objects in a way that would normally require a lot of faffy SQL `UPDATE`, `SELECT .. JOIN` statements\n",
    "\n",
    "For example, we can treat the `example_com.users` attribute as an ordinary mutable Python collection of objects"
   ]
  },
  {
   "cell_type": "code",
   "execution_count": null,
   "metadata": {
    "collapsed": false
   },
   "outputs": [],
   "source": [
    "example_com.users"
   ]
  },
  {
   "cell_type": "code",
   "execution_count": null,
   "metadata": {
    "collapsed": false
   },
   "outputs": [],
   "source": [
    "example_com.users.remove(ben)"
   ]
  },
  {
   "cell_type": "code",
   "execution_count": null,
   "metadata": {
    "collapsed": false
   },
   "outputs": [],
   "source": [
    "rosie = User(email=\"rosie@example.com\", password=\"password4\")\n",
    "\n",
    "example_com.users.append(rosie)"
   ]
  },
  {
   "cell_type": "code",
   "execution_count": null,
   "metadata": {
    "collapsed": false
   },
   "outputs": [],
   "source": [
    "session.flush()"
   ]
  },
  {
   "cell_type": "code",
   "execution_count": null,
   "metadata": {
    "collapsed": false
   },
   "outputs": [],
   "source": [
    "example_com.users"
   ]
  },
  {
   "cell_type": "code",
   "execution_count": null,
   "metadata": {
    "collapsed": false
   },
   "outputs": [],
   "source": [
    "rosie.organisation"
   ]
  },
  {
   "cell_type": "code",
   "execution_count": null,
   "metadata": {
    "collapsed": true
   },
   "outputs": [],
   "source": [
    "test_com = Organisation(name=\"test.com\")\n",
    "ben.organisation = test_com"
   ]
  },
  {
   "cell_type": "code",
   "execution_count": null,
   "metadata": {
    "collapsed": false
   },
   "outputs": [],
   "source": [
    "session.flush()"
   ]
  },
  {
   "cell_type": "code",
   "execution_count": null,
   "metadata": {
    "collapsed": false
   },
   "outputs": [],
   "source": [
    "test_com.users"
   ]
  },
  {
   "cell_type": "code",
   "execution_count": null,
   "metadata": {
    "collapsed": false
   },
   "outputs": [],
   "source": [
    "session.close()\n",
    "Base.metadata.drop_all(bind=engine)"
   ]
  },
  {
   "cell_type": "markdown",
   "metadata": {},
   "source": [
    "# Many-to-Many relationships - User Roles\n",
    "\n",
    "### Data model requirements\n",
    "\n",
    "User's have permissions known as roles. There are a set number of roles, and any user can have 0, 1 or many of them.\n",
    "\n",
    "### Diagram\n",
    "\n",
    "<img src=\"images/user-roles.png\" />\n",
    "\n",
    "This implies a many-to-many relationship, which is not quite as straightforward to set up with the ORM, but just as easy to use.\n",
    "\n",
    "The complicating factor is that we can't use simple foreign key relationships, as in effect we need many foreign keys per `User`.\n",
    "\n",
    "This is commonly solved in a relational database using a third *association table* which contains pairs of foreign keys pointing to the tables being related `user_id`-`role_id`"
   ]
  },
  {
   "cell_type": "code",
   "execution_count": null,
   "metadata": {
    "collapsed": false
   },
   "outputs": [],
   "source": [
    "Base = sqlalchemy.ext.declarative.declarative_base()\n",
    "\n",
    "# NEW - association table\n",
    "user_roles = sqlalchemy.Table(\n",
    "    'user_roles', Base.metadata,\n",
    "    sqlalchemy.Column('user_id', sqlalchemy.ForeignKey('users.id'), primary_key=True),\n",
    "    sqlalchemy.Column('role_id', sqlalchemy.ForeignKey('roles.id'), primary_key=True),\n",
    ")\n",
    "\n",
    "class User(Base):\n",
    "    __tablename__ = \"users\"\n",
    "    id = sqlalchemy.Column(sqlalchemy.Integer, primary_key=True)\n",
    "    email = sqlalchemy.Column(sqlalchemy.String(255), nullable=False, unique=True)\n",
    "    password = sqlalchemy.Column(sqlalchemy.String(255), nullable=False)\n",
    "\n",
    "    # NEW - relationship to Role via secondary table\n",
    "    roles = sqlalchemy.orm.relationship(\"Role\",\n",
    "                                        secondary=user_roles,\n",
    "                                        back_populates=\"users\")\n",
    "    \n",
    "    def __repr__(self):\n",
    "        return \"User(email={})\".format(self.email)\n",
    "    \n",
    "class Role(Base):\n",
    "    __tablename__ = \"roles\"\n",
    "    id = sqlalchemy.Column(sqlalchemy.Integer, primary_key=True)\n",
    "    name = sqlalchemy.Column(sqlalchemy.String(255), nullable=False, unique=True)\n",
    "    \n",
    "    users = sqlalchemy.orm.relationship(\"User\",\n",
    "                                        secondary=user_roles,\n",
    "                                        back_populates=\"roles\")"
   ]
  },
  {
   "cell_type": "markdown",
   "metadata": {},
   "source": [
    "There's a couple of things to note.\n",
    "\n",
    "We didnt use a model class for the association table, instead directly using the `Table` object. This is because a 'user_role' is not a domain object to be created and modified in our application. Its more of a second class citizen which only the ORM needs to know about.\n",
    "\n",
    "Second, we give the new `Table` access to the `Metadata` object, so it is tracked in its registry and all `create_all`, `drop_all` commands will include this table."
   ]
  },
  {
   "cell_type": "code",
   "execution_count": null,
   "metadata": {
    "collapsed": false
   },
   "outputs": [],
   "source": [
    "Base.metadata.create_all(bind=engine)"
   ]
  },
  {
   "cell_type": "markdown",
   "metadata": {},
   "source": [
    "Let's create a set of `Role` and `User` objects to play around with"
   ]
  },
  {
   "cell_type": "code",
   "execution_count": null,
   "metadata": {
    "collapsed": true
   },
   "outputs": [],
   "source": [
    "ben = User(email=\"ben@example.com\",\n",
    "           password=\"password1\")\n",
    "\n",
    "jerry = User(email=\"jerry@example.com\",\n",
    "             password=\"password2\")\n",
    "\n",
    "ellie = User(email=\"ellie@example.com\",\n",
    "             password=\"password3\")"
   ]
  },
  {
   "cell_type": "code",
   "execution_count": null,
   "metadata": {
    "collapsed": true
   },
   "outputs": [],
   "source": [
    "admin = Role(name=\"admin\")\n",
    "test_user = Role(name=\"test_user\")\n",
    "can_export = Role(name=\"can_export\")"
   ]
  },
  {
   "cell_type": "code",
   "execution_count": null,
   "metadata": {
    "collapsed": false
   },
   "outputs": [],
   "source": [
    "ben.roles.extend([admin, can_export])\n",
    "jerry.roles.append(test_user)\n",
    "ellie.roles.append(can_export)"
   ]
  },
  {
   "cell_type": "code",
   "execution_count": null,
   "metadata": {
    "collapsed": true
   },
   "outputs": [],
   "source": [
    "session.add_all([ben, jerry, ellie])"
   ]
  },
  {
   "cell_type": "code",
   "execution_count": null,
   "metadata": {
    "collapsed": false
   },
   "outputs": [],
   "source": [
    "session.commit()"
   ]
  },
  {
   "cell_type": "code",
   "execution_count": null,
   "metadata": {
    "collapsed": false
   },
   "outputs": [],
   "source": [
    "can_export.users"
   ]
  },
  {
   "cell_type": "code",
   "execution_count": null,
   "metadata": {
    "collapsed": false
   },
   "outputs": [],
   "source": [
    "session.close()"
   ]
  },
  {
   "cell_type": "markdown",
   "metadata": {
    "collapsed": true
   },
   "source": [
    "# Testing Applications with the ORM\n",
    "\n",
    "There's a pattern described in the [SQLAlcheny documentation](http://docs.sqlalchemy.org/en/rel_1_1/orm/session_transaction.html#joining-a-session-into-an-external-transaction-such-as-for-test-suites) which makes use of database transactions and rollbacks to give you fully isolated database tests. We use this pattern in Thug Lyf to reset database state between each test method. This is desirable, because (a) wiping out the database and re-deploying fixture data would make tests very slow and (b) tracking the state of rows changed is somethings infeasible.\n",
    "\n",
    "The pattern is called \"Joining a session into an external transaction\". It works by binding a `Session` to a `Connection` (rather than an `Engine`) which is in a \"transactional state\".\n",
    "\n",
    "Whatever you do in this session will be undone when the `Connection` object's transaction is rolled back - even if you call `session.commit()`\n",
    "\n",
    "### Demonstration\n",
    "\n",
    "Get a `Connection` by calling `connect` on the `Engine`"
   ]
  },
  {
   "cell_type": "code",
   "execution_count": null,
   "metadata": {
    "collapsed": false
   },
   "outputs": [],
   "source": [
    "connection = engine.connect()"
   ]
  },
  {
   "cell_type": "markdown",
   "metadata": {},
   "source": [
    "Start the transaction by calling `begin` on the `Connection` object"
   ]
  },
  {
   "cell_type": "code",
   "execution_count": null,
   "metadata": {
    "collapsed": false
   },
   "outputs": [],
   "source": [
    "transaction = connection.begin()"
   ]
  },
  {
   "cell_type": "markdown",
   "metadata": {},
   "source": [
    "Now bind a session to the connection"
   ]
  },
  {
   "cell_type": "code",
   "execution_count": null,
   "metadata": {
    "collapsed": false
   },
   "outputs": [],
   "source": [
    "session = Session(bind=connection) # Overrides the bind=engine configuration we setup \n",
    "                                   # with the sessionmakeer"
   ]
  },
  {
   "cell_type": "code",
   "execution_count": null,
   "metadata": {
    "collapsed": false
   },
   "outputs": [],
   "source": [
    "users = session.query(User).all()"
   ]
  },
  {
   "cell_type": "code",
   "execution_count": null,
   "metadata": {
    "collapsed": false
   },
   "outputs": [],
   "source": [
    "users"
   ]
  },
  {
   "cell_type": "code",
   "execution_count": null,
   "metadata": {
    "collapsed": false
   },
   "outputs": [],
   "source": [
    "ben = users[0]\n",
    "ben"
   ]
  },
  {
   "cell_type": "code",
   "execution_count": null,
   "metadata": {
    "collapsed": true
   },
   "outputs": [],
   "source": [
    "ben.email = \"notben@example.com\" "
   ]
  },
  {
   "cell_type": "code",
   "execution_count": null,
   "metadata": {
    "collapsed": false
   },
   "outputs": [],
   "source": [
    "session.commit()"
   ]
  },
  {
   "cell_type": "markdown",
   "metadata": {},
   "source": [
    "Note that no `COMMIT` statement was emitted. We can query for Ben, and will find that his email has apparently changed"
   ]
  },
  {
   "cell_type": "code",
   "execution_count": null,
   "metadata": {
    "collapsed": false
   },
   "outputs": [],
   "source": [
    "session.query(User).filter(User.email==\"notben@example.com\").all()"
   ]
  },
  {
   "cell_type": "markdown",
   "metadata": {},
   "source": [
    "But if you check the database, nothing is apparently different. To \"tear down\" our changes, we only need to close the session and rollback the transaction."
   ]
  },
  {
   "cell_type": "code",
   "execution_count": null,
   "metadata": {
    "collapsed": true
   },
   "outputs": [],
   "source": [
    "session.close()"
   ]
  },
  {
   "cell_type": "code",
   "execution_count": null,
   "metadata": {
    "collapsed": false
   },
   "outputs": [],
   "source": [
    "transaction.rollback()"
   ]
  },
  {
   "cell_type": "markdown",
   "metadata": {},
   "source": [
    "We also close the connection, to start fresh with a new connection for the next test"
   ]
  },
  {
   "cell_type": "code",
   "execution_count": null,
   "metadata": {
    "collapsed": true
   },
   "outputs": [],
   "source": [
    "connection.close()"
   ]
  }
 ],
 "metadata": {
  "kernelspec": {
   "display_name": "Python 2",
   "language": "python",
   "name": "python2"
  },
  "language_info": {
   "codemirror_mode": {
    "name": "ipython",
    "version": 2
   },
   "file_extension": ".py",
   "mimetype": "text/x-python",
   "name": "python",
   "nbconvert_exporter": "python",
   "pygments_lexer": "ipython2",
   "version": "2.7.12"
  }
 },
 "nbformat": 4,
 "nbformat_minor": 2
}
