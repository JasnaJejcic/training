{
 "cells": [
  {
   "cell_type": "code",
   "execution_count": 1,
   "metadata": {
    "collapsed": true,
    "slideshow": {
     "slide_type": "subslide"
    }
   },
   "outputs": [],
   "source": [
    "import sqlalchemy\n",
    "import sqlalchemy.ext.declarative\n",
    "DB_NAME=\"sqlalchemy_levelup\""
   ]
  },
  {
   "cell_type": "code",
   "execution_count": 2,
   "metadata": {
    "collapsed": false
   },
   "outputs": [],
   "source": [
    "! mysql -e \"CREATE DATABASE IF NOT EXISTS sqlalchemy_levelup\""
   ]
  },
  {
   "cell_type": "markdown",
   "metadata": {
    "slideshow": {
     "slide_type": "slide"
    }
   },
   "source": [
    "# What is SQLAlchemy?\n",
    "\n",
    "From [their website](http://www.sqlalchemy.org/):\n",
    "\n",
    "> SQLAlchemy is the Python SQL toolkit and Object Relational Mapper (ORM) that gives application developers the full power and flexibility of SQL\n",
    "\n",
    "# What is the SQLAlchemy ORM?\n",
    "\n",
    "The ORM provides a way of modelling the objects of your domain and the relationships between them in Python.\n",
    "\n",
    "It will persist these objects and their relationships for you, using a Relational Database Management System (RDBMS)\n",
    "\n",
    "# Where does the ORM fit into SQLAlchemy?\n",
    "\n",
    "The ORM is built on top of SQLAlchemy's lower-level **Expression Language** API. This API is for working directly with database constructs and expressions in Python (e.g. it contains a `Select` class for building `select` queries)\n",
    "\n",
    "It is possible, and sometimes preferable, to use ONLY the Expression Language if you require more granular control or if the overhead of the ORM is undesirable.\n",
    "\n",
    "Alternatively, you can use a combination of both the ORM and the Expression Language to add more granular controlls to an ORM based application if and when they are needed"
   ]
  },
  {
   "cell_type": "markdown",
   "metadata": {
    "slideshow": {
     "slide_type": "slide"
    }
   },
   "source": [
    "# A worked example - user management\n",
    "\n",
    "Inspired by our Authentication service Thug Lyf\n",
    "\n",
    "The domain objects are Users. Users will have attributes for their email address and password"
   ]
  },
  {
   "cell_type": "markdown",
   "metadata": {},
   "source": [
    "# Defining the data model\n",
    "\n",
    "As mentioned above, the ORM looks after the persistence of our domain objects.\n",
    "\n",
    "Essentially this means we will create a Python class representing a `User`. Instances of this class will have attributes for email address and password. The ORM will store a representation of instantiated `User` objects as records in a \"users\" table in the database (e.g. MySQL, PostgreSQL).\n",
    "\n",
    "The classes we add for our domain objects are referred to as *models* or *model classes*."
   ]
  },
  {
   "cell_type": "markdown",
   "metadata": {},
   "source": [
    "## Declarative Base Class\n",
    "\n",
    "To have the ORM look after the persistence of our domain objects, we define our model classes as subclasses of a base class from SQLAlchemy.\n",
    "\n",
    "This base class is provided by SQLAlchemy through the `declarative_base` class factory (method that returns a Python class)\n",
    "\n",
    "It is common to have just one `Base` class in your application. You often see it defined in the module scope, allowing other modules to import it."
   ]
  },
  {
   "cell_type": "code",
   "execution_count": 3,
   "metadata": {
    "collapsed": false
   },
   "outputs": [],
   "source": [
    "# Create a declarative base\n",
    "Base = sqlalchemy.ext.declarative.declarative_base()"
   ]
  },
  {
   "cell_type": "markdown",
   "metadata": {},
   "source": [
    "## The `User` Model"
   ]
  },
  {
   "cell_type": "code",
   "execution_count": 4,
   "metadata": {
    "collapsed": false
   },
   "outputs": [],
   "source": [
    "# Note the distinction between the singular \"User\" classname and the \"users\" table name\n",
    "# This is because an instance of this class is a \"user\" but the table can contain many users\n",
    "class User(Base):\n",
    "    __tablename__ = \"users\"\n",
    "    id = sqlalchemy.Column(sqlalchemy.Integer, primary_key=True)\n",
    "    email = sqlalchemy.Column(sqlalchemy.String(255), nullable=False, unique=True)\n",
    "    password = sqlalchemy.Column(sqlalchemy.String(255), nullable=False)\n",
    "    \n",
    "    def __repr__(self):\n",
    "        return \"User(email={})\".format(self.email)"
   ]
  },
  {
   "cell_type": "markdown",
   "metadata": {},
   "source": [
    "You might have noticed that the \"type\" of the columns here is either `Integer` or `String`, where elsewhere you may have seen specific `VARCHAR`, `CHAR`, `BIGINT` etc. The difference here is that `Integer` and `String` are generic \"SQL\" types, which will be represented as `VARCHAR`, `INT` etc. in the database. Using these generic types will make the application more independent from the choice of RDBMS."
   ]
  },
  {
   "cell_type": "markdown",
   "metadata": {},
   "source": [
    "### Table objects\n",
    "\n",
    "When we declare a subclass of the declarative base (i.e. a model), the ORM will create a `Table` object and a mapping between the model attributes (id, email, password) and the `Table` columns.\n",
    "\n",
    "`Table` is the SQLAlchemy abstraction representing RDBMS tables"
   ]
  },
  {
   "cell_type": "code",
   "execution_count": 5,
   "metadata": {
    "collapsed": false
   },
   "outputs": [
    {
     "data": {
      "text/plain": [
       "Table('users', MetaData(bind=None), Column('id', Integer(), table=<users>, primary_key=True, nullable=False), Column('email', String(length=255), table=<users>, nullable=False), Column('password', String(length=255), table=<users>, nullable=False), schema=None)"
      ]
     },
     "execution_count": 5,
     "metadata": {},
     "output_type": "execute_result"
    }
   ],
   "source": [
    "# The table object associated with User is accessed by the __table__ class attribute\n",
    "User.__table__"
   ]
  },
  {
   "cell_type": "markdown",
   "metadata": {},
   "source": [
    "### Metadata\n",
    "\n",
    "The declarative base has a `Metadata` object attached to it.\n",
    "\n",
    "`Metadata` contains a registry of all the `Table` objects created when model classes are declared\n",
    "\n",
    "We can access this registry under the `tables` attribute of the `metadata` object"
   ]
  },
  {
   "cell_type": "code",
   "execution_count": 6,
   "metadata": {
    "collapsed": false
   },
   "outputs": [
    {
     "data": {
      "text/plain": [
       "immutabledict({'users': Table('users', MetaData(bind=None), Column('id', Integer(), table=<users>, primary_key=True, nullable=False), Column('email', String(length=255), table=<users>, nullable=False), Column('password', String(length=255), table=<users>, nullable=False), schema=None)})"
      ]
     },
     "execution_count": 6,
     "metadata": {},
     "output_type": "execute_result"
    }
   ],
   "source": [
    "Base.metadata.tables"
   ]
  },
  {
   "cell_type": "markdown",
   "metadata": {},
   "source": [
    "The registry `Metadata` maintains will be useful in a minute when we want to create actual RDBMS tables"
   ]
  },
  {
   "cell_type": "markdown",
   "metadata": {},
   "source": [
    "# Connecting to the database\n",
    "\n",
    "The `Engine` is the source of database connectivity in SQLAlchemy. \n",
    "\n",
    "All SQLAlchemy applications will call upon an `Engine` instance at some point in order to create a `Connection` object. This is done through the ```engine.connect()``` method.\n",
    "\n",
    "Note that this means that SQLAlchemy does not establish an actual connection with the database until it is requested "
   ]
  },
  {
   "cell_type": "code",
   "execution_count": 7,
   "metadata": {
    "collapsed": false
   },
   "outputs": [],
   "source": [
    "database_url = sqlalchemy.engine.url.URL(drivername='mysql', database=DB_NAME,\n",
    "                                         query={'read_default_file': '~/.my.cnf'})"
   ]
  },
  {
   "cell_type": "code",
   "execution_count": 8,
   "metadata": {
    "collapsed": false
   },
   "outputs": [
    {
     "data": {
      "text/plain": [
       "mysql:///sqlalchemy_levelup?read_default_file=~/.my.cnf"
      ]
     },
     "execution_count": 8,
     "metadata": {},
     "output_type": "execute_result"
    }
   ],
   "source": [
    "database_url"
   ]
  },
  {
   "cell_type": "code",
   "execution_count": 9,
   "metadata": {
    "collapsed": false
   },
   "outputs": [],
   "source": [
    "engine = sqlalchemy.engine.create_engine(database_url, echo=True)  # echo=True logs SQL queries to stdout"
   ]
  },
  {
   "cell_type": "markdown",
   "metadata": {},
   "source": [
    "## Creating tables\n",
    "\n",
    "Now we have an engine to provide us with database connectivity, we can use the `Metadata` object to create database tables"
   ]
  },
  {
   "cell_type": "code",
   "execution_count": 10,
   "metadata": {
    "collapsed": false
   },
   "outputs": [
    {
     "name": "stdout",
     "output_type": "stream",
     "text": [
      "2017-01-04 17:49:08,856 INFO sqlalchemy.engine.base.Engine SHOW VARIABLES LIKE 'sql_mode'\n",
      "2017-01-04 17:49:08,857 INFO sqlalchemy.engine.base.Engine ()\n",
      "2017-01-04 17:49:08,860 INFO sqlalchemy.engine.base.Engine SELECT DATABASE()\n",
      "2017-01-04 17:49:08,861 INFO sqlalchemy.engine.base.Engine ()\n",
      "2017-01-04 17:49:08,862 INFO sqlalchemy.engine.base.Engine show collation where `Charset` = 'utf8' and `Collation` = 'utf8_bin'\n",
      "2017-01-04 17:49:08,863 INFO sqlalchemy.engine.base.Engine ()\n",
      "2017-01-04 17:49:08,865 INFO sqlalchemy.engine.base.Engine SELECT CAST('test plain returns' AS CHAR(60)) AS anon_1\n",
      "2017-01-04 17:49:08,866 INFO sqlalchemy.engine.base.Engine ()\n",
      "2017-01-04 17:49:08,867 INFO sqlalchemy.engine.base.Engine SELECT CAST('test unicode returns' AS CHAR(60)) AS anon_1\n",
      "2017-01-04 17:49:08,868 INFO sqlalchemy.engine.base.Engine ()\n",
      "2017-01-04 17:49:08,869 INFO sqlalchemy.engine.base.Engine SELECT CAST('test collated returns' AS CHAR CHARACTER SET utf8) COLLATE utf8_bin AS anon_1\n",
      "2017-01-04 17:49:08,870 INFO sqlalchemy.engine.base.Engine ()\n",
      "2017-01-04 17:49:08,872 INFO sqlalchemy.engine.base.Engine DESCRIBE `users`\n",
      "2017-01-04 17:49:08,873 INFO sqlalchemy.engine.base.Engine ()\n"
     ]
    }
   ],
   "source": [
    "Base.metadata.create_all(engine)"
   ]
  },
  {
   "cell_type": "markdown",
   "metadata": {},
   "source": [
    "# A Session with the ORM\n",
    "\n",
    "Now that we have models, tables and an engine, we are ready to use the ORM to create and store `User` objects.\n",
    "\n",
    "The ORM abstraction for managing synchronisation with the database is the **session**."
   ]
  },
  {
   "cell_type": "code",
   "execution_count": 11,
   "metadata": {
    "collapsed": false
   },
   "outputs": [],
   "source": [
    "Session = sqlalchemy.orm.sessionmaker(bind=engine)"
   ]
  },
  {
   "cell_type": "markdown",
   "metadata": {},
   "source": [
    "First, we create a `Session` class, configured to use the `Engine` object we created when it requires a database connection. `Session` objects will not ask for connections until they need them.\n",
    "\n",
    "Now we can create a session:"
   ]
  },
  {
   "cell_type": "code",
   "execution_count": 12,
   "metadata": {
    "collapsed": true
   },
   "outputs": [],
   "source": [
    "session = Session()"
   ]
  },
  {
   "cell_type": "markdown",
   "metadata": {},
   "source": [
    "And add our first user object"
   ]
  },
  {
   "cell_type": "code",
   "execution_count": 15,
   "metadata": {
    "collapsed": false
   },
   "outputs": [
    {
     "name": "stdout",
     "output_type": "stream",
     "text": [
      "User(email=sam@growthintel.com)\n"
     ]
    }
   ],
   "source": [
    "sam = User(email=\"sam@growthintel.com\", password=\"password\")\n",
    "print sam\n",
    "\n",
    "session.add(sam)"
   ]
  },
  {
   "cell_type": "markdown",
   "metadata": {},
   "source": [
    "The session can be thought of as a collection of objects. You can iterate over the session to access the objects within:"
   ]
  },
  {
   "cell_type": "code",
   "execution_count": 24,
   "metadata": {
    "collapsed": false
   },
   "outputs": [
    {
     "data": {
      "text/plain": [
       "[User(email=sam@growthintel.com)]"
      ]
     },
     "execution_count": 24,
     "metadata": {},
     "output_type": "execute_result"
    }
   ],
   "source": [
    "[obj for obj in session]"
   ]
  },
  {
   "cell_type": "markdown",
   "metadata": {},
   "source": [
    "## Persistance\n",
    "\n",
    "At the moment, our object still has not been persisted to the database. It is within the session the the \"new\" state"
   ]
  },
  {
   "cell_type": "code",
   "execution_count": 26,
   "metadata": {
    "collapsed": false
   },
   "outputs": [
    {
     "data": {
      "text/plain": [
       "IdentitySet([User(email=sam@growthintel.com)])"
      ]
     },
     "execution_count": 26,
     "metadata": {},
     "output_type": "execute_result"
    }
   ],
   "source": [
    "session.new"
   ]
  },
  {
   "cell_type": "markdown",
   "metadata": {},
   "source": [
    "- can be queried\n",
    "- persistance\n",
    "- adding other objects"
   ]
  },
  {
   "cell_type": "markdown",
   "metadata": {},
   "source": [
    "## Querying for objects"
   ]
  },
  {
   "cell_type": "markdown",
   "metadata": {},
   "source": [
    "## Session State"
   ]
  },
  {
   "cell_type": "code",
   "execution_count": 14,
   "metadata": {
    "collapsed": true
   },
   "outputs": [],
   "source": [
    "# Code"
   ]
  },
  {
   "cell_type": "markdown",
   "metadata": {
    "collapsed": true
   },
   "source": [
    "# Extending the data model - Organisations\n",
    "\n",
    "Our \"customers\" at GrowthIntel are businesses, not individual customers. Because of this, our Auth service groups Users into larger units, which we call Organisations.\n",
    "\n",
    "Organisations can have many Users. Users belong to one and only one Organisation (1 to many relationship)\n",
    "\n",
    "## Diagram\n",
    "\n",
    "< TODO >"
   ]
  },
  {
   "cell_type": "markdown",
   "metadata": {},
   "source": [
    "# Many-to-Many relationships - User Roles"
   ]
  },
  {
   "cell_type": "markdown",
   "metadata": {
    "collapsed": true
   },
   "source": [
    "# Testing Applications with SQLAlchemy\n",
    "\n",
    "Transactions and rollbacks"
   ]
  },
  {
   "cell_type": "code",
   "execution_count": null,
   "metadata": {
    "collapsed": true
   },
   "outputs": [],
   "source": []
  }
 ],
 "metadata": {
  "kernelspec": {
   "display_name": "Python 2",
   "language": "python",
   "name": "python2"
  },
  "language_info": {
   "codemirror_mode": {
    "name": "ipython",
    "version": 2
   },
   "file_extension": ".py",
   "mimetype": "text/x-python",
   "name": "python",
   "nbconvert_exporter": "python",
   "pygments_lexer": "ipython2",
   "version": "2.7.12"
  }
 },
 "nbformat": 4,
 "nbformat_minor": 2
}
