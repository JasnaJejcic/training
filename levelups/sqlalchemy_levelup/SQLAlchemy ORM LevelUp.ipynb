{
 "cells": [
  {
   "cell_type": "code",
   "execution_count": 1,
   "metadata": {
    "collapsed": true,
    "slideshow": {
     "slide_type": "subslide"
    }
   },
   "outputs": [],
   "source": [
    "import sqlalchemy\n",
    "import sqlalchemy.ext.declarative\n",
    "DB_NAME=\"sqlalchemy_levelup\""
   ]
  },
  {
   "cell_type": "code",
   "execution_count": 2,
   "metadata": {
    "collapsed": false
   },
   "outputs": [],
   "source": [
    "! mysql -e \"DROP DATABASE IF EXISTS sqlalchemy_levelup\"\n",
    "! mysql -e \"CREATE DATABASE IF NOT EXISTS sqlalchemy_levelup\""
   ]
  },
  {
   "cell_type": "markdown",
   "metadata": {
    "slideshow": {
     "slide_type": "slide"
    }
   },
   "source": [
    "# What is SQLAlchemy?\n",
    "\n",
    "From [their website](http://www.sqlalchemy.org/):\n",
    "\n",
    "> SQLAlchemy is the Python SQL toolkit and Object Relational Mapper (ORM) that gives application developers the full power and flexibility of SQL\n",
    "\n",
    "# What is the SQLAlchemy ORM?\n",
    "\n",
    "The ORM provides a way of modelling the objects of your domain and the relationships between them in Python.\n",
    "\n",
    "It will persist these objects and their relationships for you, using a Relational Database Management System (RDBMS)\n",
    "\n",
    "# Where does the ORM fit into SQLAlchemy?\n",
    "\n",
    "The ORM is built on top of SQLAlchemy's lower-level **Expression Language** API. This API is for working directly with database constructs and expressions in Python (e.g. it contains a `Select` class for building `select` queries)\n",
    "\n",
    "It is possible, and sometimes preferable, to use ONLY the Expression Language if you require more granular control or if the overhead of the ORM is undesirable.\n",
    "\n",
    "Alternatively, you can use a combination of both the ORM and the Expression Language to add more granular controlls to an ORM based application if and when they are needed"
   ]
  },
  {
   "cell_type": "markdown",
   "metadata": {
    "slideshow": {
     "slide_type": "slide"
    }
   },
   "source": [
    "# A worked example - user management\n",
    "\n",
    "Inspired by our Authentication service Thug Lyf\n",
    "\n",
    "The domain objects are Users. Users will have attributes for their email address and password"
   ]
  },
  {
   "cell_type": "markdown",
   "metadata": {},
   "source": [
    "# Defining the data model\n",
    "\n",
    "As mentioned above, the ORM looks after the persistence of our domain objects.\n",
    "\n",
    "Essentially this means we will create a Python class representing a `User`. Instances of this class will have attributes for email address and password. The ORM will store a representation of instantiated `User` objects as records in a \"users\" table in the database (e.g. MySQL, PostgreSQL).\n",
    "\n",
    "The classes we add for our domain objects are referred to as *models* or *model classes*."
   ]
  },
  {
   "cell_type": "markdown",
   "metadata": {},
   "source": [
    "## Declarative Base Class\n",
    "\n",
    "To have the ORM look after the persistence of our domain objects, we define our model classes as subclasses of a base class from SQLAlchemy.\n",
    "\n",
    "This base class is provided by SQLAlchemy through the `declarative_base` class factory (method that returns a Python class)\n",
    "\n",
    "It is common to have just one `Base` class in your application. You often see it defined in the module scope, allowing other modules to import it."
   ]
  },
  {
   "cell_type": "code",
   "execution_count": 3,
   "metadata": {
    "collapsed": false
   },
   "outputs": [],
   "source": [
    "# Create a declarative base\n",
    "Base = sqlalchemy.ext.declarative.declarative_base()"
   ]
  },
  {
   "cell_type": "markdown",
   "metadata": {},
   "source": [
    "## The `User` Model"
   ]
  },
  {
   "cell_type": "code",
   "execution_count": 4,
   "metadata": {
    "collapsed": false
   },
   "outputs": [],
   "source": [
    "# Note the distinction between the singular \"User\" classname and the \"users\" table name\n",
    "# This is because an instance of this class is a \"user\" but the table can contain many users\n",
    "class User(Base):\n",
    "    __tablename__ = \"users\"\n",
    "    id = sqlalchemy.Column(sqlalchemy.Integer, primary_key=True)\n",
    "    email = sqlalchemy.Column(sqlalchemy.String(255), nullable=False, unique=True)\n",
    "    password = sqlalchemy.Column(sqlalchemy.String(255), nullable=False)\n",
    "    \n",
    "    def __repr__(self):\n",
    "        return \"User(email={})\".format(self.email)"
   ]
  },
  {
   "cell_type": "markdown",
   "metadata": {},
   "source": [
    "You might have noticed that the \"type\" of the columns here is either `Integer` or `String`, where elsewhere you may have seen specific `VARCHAR`, `CHAR`, `BIGINT` etc. The difference here is that `Integer` and `String` are generic \"SQL\" types, which will be represented as `VARCHAR`, `INT` etc. in the database. Using these generic types will make the application more independent from the choice of RDBMS."
   ]
  },
  {
   "cell_type": "markdown",
   "metadata": {},
   "source": [
    "### Table objects\n",
    "\n",
    "When we declare a subclass of the declarative base (i.e. a model), the ORM will create a `Table` object and a mapping between the model attributes (id, email, password) and the `Table` columns.\n",
    "\n",
    "`Table` is the SQLAlchemy abstraction representing RDBMS tables"
   ]
  },
  {
   "cell_type": "code",
   "execution_count": 5,
   "metadata": {
    "collapsed": false
   },
   "outputs": [
    {
     "data": {
      "text/plain": [
       "Table('users', MetaData(bind=None), Column('id', Integer(), table=<users>, primary_key=True, nullable=False), Column('email', String(length=255), table=<users>, nullable=False), Column('password', String(length=255), table=<users>, nullable=False), schema=None)"
      ]
     },
     "execution_count": 5,
     "metadata": {},
     "output_type": "execute_result"
    }
   ],
   "source": [
    "# The table object associated with User is accessed by the __table__ class attribute\n",
    "User.__table__"
   ]
  },
  {
   "cell_type": "markdown",
   "metadata": {},
   "source": [
    "### Metadata\n",
    "\n",
    "The declarative base has a `Metadata` object attached to it.\n",
    "\n",
    "`Metadata` contains a registry of all the `Table` objects created when model classes are declared\n",
    "\n",
    "We can access this registry under the `tables` attribute of the `metadata` object"
   ]
  },
  {
   "cell_type": "code",
   "execution_count": 6,
   "metadata": {
    "collapsed": false
   },
   "outputs": [
    {
     "data": {
      "text/plain": [
       "immutabledict({'users': Table('users', MetaData(bind=None), Column('id', Integer(), table=<users>, primary_key=True, nullable=False), Column('email', String(length=255), table=<users>, nullable=False), Column('password', String(length=255), table=<users>, nullable=False), schema=None)})"
      ]
     },
     "execution_count": 6,
     "metadata": {},
     "output_type": "execute_result"
    }
   ],
   "source": [
    "Base.metadata.tables"
   ]
  },
  {
   "cell_type": "markdown",
   "metadata": {},
   "source": [
    "The registry `Metadata` maintains will be useful in a minute when we want to create actual RDBMS tables"
   ]
  },
  {
   "cell_type": "markdown",
   "metadata": {},
   "source": [
    "# Connecting to the database\n",
    "\n",
    "The `Engine` is the source of database connectivity in SQLAlchemy. \n",
    "\n",
    "All SQLAlchemy applications will call upon an `Engine` instance at some point in order to create a `Connection` object. This is done through the ```engine.connect()``` method.\n",
    "\n",
    "Note that this means that SQLAlchemy does not establish an actual connection with the database until it is requested "
   ]
  },
  {
   "cell_type": "code",
   "execution_count": 7,
   "metadata": {
    "collapsed": false
   },
   "outputs": [],
   "source": [
    "database_url = sqlalchemy.engine.url.URL(drivername='mysql', database=DB_NAME,\n",
    "                                         query={'read_default_file': '~/.my.cnf'})"
   ]
  },
  {
   "cell_type": "code",
   "execution_count": 8,
   "metadata": {
    "collapsed": false
   },
   "outputs": [
    {
     "data": {
      "text/plain": [
       "mysql:///sqlalchemy_levelup?read_default_file=~/.my.cnf"
      ]
     },
     "execution_count": 8,
     "metadata": {},
     "output_type": "execute_result"
    }
   ],
   "source": [
    "database_url"
   ]
  },
  {
   "cell_type": "code",
   "execution_count": 9,
   "metadata": {
    "collapsed": false
   },
   "outputs": [],
   "source": [
    "engine = sqlalchemy.engine.create_engine(database_url, echo=True)  # echo=True logs SQL queries to stdout"
   ]
  },
  {
   "cell_type": "markdown",
   "metadata": {},
   "source": [
    "## Creating tables\n",
    "\n",
    "Now we have an engine to provide us with database connectivity, we can use the `Metadata` object to create database tables"
   ]
  },
  {
   "cell_type": "code",
   "execution_count": 10,
   "metadata": {
    "collapsed": false
   },
   "outputs": [
    {
     "name": "stdout",
     "output_type": "stream",
     "text": [
      "2017-01-05 13:52:33,730 INFO sqlalchemy.engine.base.Engine SHOW VARIABLES LIKE 'sql_mode'\n",
      "2017-01-05 13:52:33,731 INFO sqlalchemy.engine.base.Engine ()\n",
      "2017-01-05 13:52:33,733 INFO sqlalchemy.engine.base.Engine SELECT DATABASE()\n",
      "2017-01-05 13:52:33,734 INFO sqlalchemy.engine.base.Engine ()\n",
      "2017-01-05 13:52:33,735 INFO sqlalchemy.engine.base.Engine show collation where `Charset` = 'utf8' and `Collation` = 'utf8_bin'\n",
      "2017-01-05 13:52:33,736 INFO sqlalchemy.engine.base.Engine ()\n",
      "2017-01-05 13:52:33,738 INFO sqlalchemy.engine.base.Engine SELECT CAST('test plain returns' AS CHAR(60)) AS anon_1\n",
      "2017-01-05 13:52:33,739 INFO sqlalchemy.engine.base.Engine ()\n",
      "2017-01-05 13:52:33,740 INFO sqlalchemy.engine.base.Engine SELECT CAST('test unicode returns' AS CHAR(60)) AS anon_1\n",
      "2017-01-05 13:52:33,741 INFO sqlalchemy.engine.base.Engine ()\n",
      "2017-01-05 13:52:33,742 INFO sqlalchemy.engine.base.Engine SELECT CAST('test collated returns' AS CHAR CHARACTER SET utf8) COLLATE utf8_bin AS anon_1\n",
      "2017-01-05 13:52:33,743 INFO sqlalchemy.engine.base.Engine ()\n",
      "2017-01-05 13:52:33,745 INFO sqlalchemy.engine.base.Engine DESCRIBE `users`\n",
      "2017-01-05 13:52:33,745 INFO sqlalchemy.engine.base.Engine ()\n",
      "2017-01-05 13:52:33,746 INFO sqlalchemy.engine.base.Engine ROLLBACK\n",
      "2017-01-05 13:52:33,748 INFO sqlalchemy.engine.base.Engine \n",
      "CREATE TABLE users (\n",
      "\tid INTEGER NOT NULL AUTO_INCREMENT, \n",
      "\temail VARCHAR(255) NOT NULL, \n",
      "\tpassword VARCHAR(255) NOT NULL, \n",
      "\tPRIMARY KEY (id), \n",
      "\tUNIQUE (email)\n",
      ")\n",
      "\n",
      "\n",
      "2017-01-05 13:52:33,749 INFO sqlalchemy.engine.base.Engine ()\n",
      "2017-01-05 13:52:33,772 INFO sqlalchemy.engine.base.Engine COMMIT\n"
     ]
    }
   ],
   "source": [
    "Base.metadata.create_all(engine)"
   ]
  },
  {
   "cell_type": "markdown",
   "metadata": {},
   "source": [
    "# A Session with the ORM\n",
    "\n",
    "Now that we have models, tables and an engine, we are ready to use the ORM to create and store `User` objects.\n",
    "\n",
    "The ORM abstraction for managing synchronisation with the database is the **session**."
   ]
  },
  {
   "cell_type": "code",
   "execution_count": 11,
   "metadata": {
    "collapsed": false
   },
   "outputs": [],
   "source": [
    "Session = sqlalchemy.orm.sessionmaker(bind=engine)"
   ]
  },
  {
   "cell_type": "markdown",
   "metadata": {},
   "source": [
    "First, we create a `Session` class, configured to use the `Engine` object we created when it requires a database connection. `Session` objects will not ask for connections until they need them.\n",
    "\n",
    "Now we can create a session:"
   ]
  },
  {
   "cell_type": "code",
   "execution_count": 12,
   "metadata": {
    "collapsed": true
   },
   "outputs": [],
   "source": [
    "session = Session()"
   ]
  },
  {
   "cell_type": "markdown",
   "metadata": {},
   "source": [
    "And add our first user object"
   ]
  },
  {
   "cell_type": "code",
   "execution_count": 13,
   "metadata": {
    "collapsed": false
   },
   "outputs": [
    {
     "name": "stdout",
     "output_type": "stream",
     "text": [
      "User(email=ben@test.com)\n"
     ]
    }
   ],
   "source": [
    "ben = User(email=\"ben@test.com\", password=\"password\")\n",
    "print ben\n",
    "\n",
    "session.add(ben)"
   ]
  },
  {
   "cell_type": "markdown",
   "metadata": {},
   "source": [
    "The session can be thought of as a collection of objects. You can iterate over the session to access the objects within:"
   ]
  },
  {
   "cell_type": "code",
   "execution_count": 14,
   "metadata": {
    "collapsed": false
   },
   "outputs": [
    {
     "data": {
      "text/plain": [
       "[User(email=ben@test.com)]"
      ]
     },
     "execution_count": 14,
     "metadata": {},
     "output_type": "execute_result"
    }
   ],
   "source": [
    "[obj for obj in session]"
   ]
  },
  {
   "cell_type": "markdown",
   "metadata": {},
   "source": [
    "At this point, the user object exists in the session, but is not in the database (note that no SQL was emitted by the `echo`). To ask the ORM to flush changes to the database, we can use the `flush` method."
   ]
  },
  {
   "cell_type": "code",
   "execution_count": 15,
   "metadata": {
    "collapsed": false
   },
   "outputs": [
    {
     "name": "stdout",
     "output_type": "stream",
     "text": [
      "2017-01-05 13:52:33,803 INFO sqlalchemy.engine.base.Engine BEGIN (implicit)\n",
      "2017-01-05 13:52:33,806 INFO sqlalchemy.engine.base.Engine INSERT INTO users (email, password) VALUES (%s, %s)\n",
      "2017-01-05 13:52:33,807 INFO sqlalchemy.engine.base.Engine ('ben@test.com', 'password')\n"
     ]
    }
   ],
   "source": [
    "session.flush()"
   ]
  },
  {
   "cell_type": "markdown",
   "metadata": {},
   "source": [
    "`BEGIN` means a new transaction has been started on ORM connection with the database.\n",
    "\n",
    "Right now the new record is in the database's transaction buffer (and therefore not visible to anyone else). To finish the transaction and fully persist the data, we can use `commit`"
   ]
  },
  {
   "cell_type": "code",
   "execution_count": 16,
   "metadata": {
    "collapsed": false
   },
   "outputs": [
    {
     "name": "stdout",
     "output_type": "stream",
     "text": [
      "2017-01-05 13:52:33,814 INFO sqlalchemy.engine.base.Engine COMMIT\n"
     ]
    }
   ],
   "source": [
    "session.commit()"
   ]
  },
  {
   "cell_type": "markdown",
   "metadata": {},
   "source": [
    "NB. We may also `commit` straightaway, without using `flush`"
   ]
  },
  {
   "cell_type": "markdown",
   "metadata": {},
   "source": [
    "## Querying\n",
    "\n",
    "Querying for data is achieved by using the `Session` object's `query` attribute"
   ]
  },
  {
   "cell_type": "code",
   "execution_count": 17,
   "metadata": {
    "collapsed": false
   },
   "outputs": [
    {
     "name": "stdout",
     "output_type": "stream",
     "text": [
      "2017-01-05 13:52:33,822 INFO sqlalchemy.engine.base.Engine BEGIN (implicit)\n",
      "2017-01-05 13:52:33,824 INFO sqlalchemy.engine.base.Engine SELECT users.id AS users_id, users.email AS users_email, users.password AS users_password \n",
      "FROM users \n",
      "WHERE users.email = %s\n",
      "2017-01-05 13:52:33,825 INFO sqlalchemy.engine.base.Engine ('ben@example.com',)\n"
     ]
    },
    {
     "data": {
      "text/plain": [
       "[]"
      ]
     },
     "execution_count": 17,
     "metadata": {},
     "output_type": "execute_result"
    }
   ],
   "source": [
    "session.query(User).filter(User.email==\"ben@example.com\").all()"
   ]
  },
  {
   "cell_type": "markdown",
   "metadata": {},
   "source": [
    "Note that the `Session.query` method returns a `Query` object, which has methods such as `filter`, `order_by`, `limit` etc. These methods are *generative* - they return new `Query` objects allowing you to call additional methods. This is allows you to build up queries in long chains of method calls.\n",
    "\n",
    "I won't go further into querying now, it's best to go and have a look at the [SQLAlchemy docs for the `Query` API](http://docs.sqlalchemy.org/en/latest/orm/query.html)"
   ]
  },
  {
   "cell_type": "markdown",
   "metadata": {},
   "source": [
    "## Updating\n",
    "\n",
    "If we wish to modify an object which has been placed in the session, we can just directly change the desired attribute's value. The ORM will detect the change and translate it into an `UPDATE` statement at the next `flush`\n",
    "\n",
    "Let's say we want to improve Ben's password"
   ]
  },
  {
   "cell_type": "code",
   "execution_count": 18,
   "metadata": {
    "collapsed": true
   },
   "outputs": [],
   "source": [
    "ben.password = \"drowssap\""
   ]
  },
  {
   "cell_type": "code",
   "execution_count": 19,
   "metadata": {
    "collapsed": false
   },
   "outputs": [
    {
     "name": "stdout",
     "output_type": "stream",
     "text": [
      "2017-01-05 13:52:33,838 INFO sqlalchemy.engine.base.Engine SELECT users.id AS users_id, users.email AS users_email \n",
      "FROM users \n",
      "WHERE users.id = %s\n",
      "2017-01-05 13:52:33,839 INFO sqlalchemy.engine.base.Engine (1L,)\n",
      "2017-01-05 13:52:33,841 INFO sqlalchemy.engine.base.Engine UPDATE users SET password=%s WHERE users.id = %s\n",
      "2017-01-05 13:52:33,842 INFO sqlalchemy.engine.base.Engine ('drowssap', 1L)\n",
      "2017-01-05 13:52:33,844 INFO sqlalchemy.engine.base.Engine COMMIT\n"
     ]
    }
   ],
   "source": [
    "session.commit()"
   ]
  },
  {
   "cell_type": "markdown",
   "metadata": {
    "collapsed": true
   },
   "source": [
    "Any changes made to any objects in the session will be tracked by the ORM until a `flush` occurs.\n",
    "\n",
    "Note that if the session is queried after an object has been modified, but before `flush` has been called, the ORM will issue a `flush` itself. This can bee seen in the example below, where the `UPDATE` statement happens before the `SELECT ... WHERE users.password` statement"
   ]
  },
  {
   "cell_type": "code",
   "execution_count": 20,
   "metadata": {
    "collapsed": false
   },
   "outputs": [
    {
     "name": "stdout",
     "output_type": "stream",
     "text": [
      "2017-01-05 13:52:33,850 INFO sqlalchemy.engine.base.Engine BEGIN (implicit)\n",
      "2017-01-05 13:52:33,852 INFO sqlalchemy.engine.base.Engine SELECT users.id AS users_id, users.email AS users_email \n",
      "FROM users \n",
      "WHERE users.id = %s\n",
      "2017-01-05 13:52:33,854 INFO sqlalchemy.engine.base.Engine (1L,)\n",
      "2017-01-05 13:52:33,856 INFO sqlalchemy.engine.base.Engine UPDATE users SET password=%s WHERE users.id = %s\n",
      "2017-01-05 13:52:33,857 INFO sqlalchemy.engine.base.Engine ('new_password', 1L)\n",
      "2017-01-05 13:52:33,859 INFO sqlalchemy.engine.base.Engine SELECT users.id AS users_id, users.email AS users_email, users.password AS users_password \n",
      "FROM users \n",
      "WHERE users.password = %s\n",
      "2017-01-05 13:52:33,859 INFO sqlalchemy.engine.base.Engine ('new_password',)\n"
     ]
    },
    {
     "data": {
      "text/plain": [
       "[User(email=ben@test.com)]"
      ]
     },
     "execution_count": 20,
     "metadata": {},
     "output_type": "execute_result"
    }
   ],
   "source": [
    "ben.password = \"new_password\"\n",
    "\n",
    "session.query(User).filter(User.password==\"new_password\").all()"
   ]
  },
  {
   "cell_type": "code",
   "execution_count": 21,
   "metadata": {
    "collapsed": false
   },
   "outputs": [
    {
     "name": "stdout",
     "output_type": "stream",
     "text": [
      "2017-01-05 13:52:33,866 INFO sqlalchemy.engine.base.Engine ROLLBACK\n",
      "2017-01-05 13:52:33,867 INFO sqlalchemy.engine.base.Engine DESCRIBE `users`\n",
      "2017-01-05 13:52:33,868 INFO sqlalchemy.engine.base.Engine ()\n",
      "2017-01-05 13:52:33,870 INFO sqlalchemy.engine.base.Engine \n",
      "DROP TABLE users\n",
      "2017-01-05 13:52:33,871 INFO sqlalchemy.engine.base.Engine ()\n",
      "2017-01-05 13:52:33,875 INFO sqlalchemy.engine.base.Engine COMMIT\n"
     ]
    }
   ],
   "source": [
    "# Start fresh\n",
    "session.close()  # ends the current session\n",
    "Base.metadata.drop_all(bind=engine)  # drops all tables"
   ]
  },
  {
   "cell_type": "markdown",
   "metadata": {
    "collapsed": true
   },
   "source": [
    "# Extending the data model - Organisations\n",
    "\n",
    "### Data model requirements\n",
    "\n",
    "Our \"customers\" at GrowthIntel are businesses, not individuals. Because of this, our Auth service groups Users into larger units, which we call Organisations.\n",
    "\n",
    "Organisations can have many Users. Users belong to one and only one Organisation (1 to many relationship)\n",
    "\n",
    "### Diagram\n",
    "\n",
    "```\n",
    "      org1               org2\n",
    "    /  |   \\            /   \\\n",
    "user1 user2 user3    user4  user5\n",
    "```\n",
    "\n",
    "We can tell the ORM to handle relationships for us, with the `relationship` directive.\n",
    "\n",
    "In order to create an relationship between `User` and `Organisation`, we need two things:\n",
    "\n",
    "- A foreign key on `User` to specify the `Organisation` it belongs to\n",
    "- An attribute we can use to refer to the related object(s) on each class"
   ]
  },
  {
   "cell_type": "code",
   "execution_count": 22,
   "metadata": {
    "collapsed": false
   },
   "outputs": [],
   "source": [
    "Base = sqlalchemy.ext.declarative.declarative_base()\n",
    "\n",
    "class User(Base):\n",
    "    __tablename__ = \"users\"\n",
    "    id = sqlalchemy.Column(sqlalchemy.Integer, primary_key=True)\n",
    "    email = sqlalchemy.Column(sqlalchemy.String(255), nullable=False, unique=True)\n",
    "    password = sqlalchemy.Column(sqlalchemy.String(255), nullable=False)\n",
    "\n",
    "    # New - foreign key to organisations table\n",
    "    organisation_id = sqlalchemy.Column(\n",
    "        sqlalchemy.Integer,\n",
    "        sqlalchemy.ForeignKey('organisations.id'))\n",
    "\n",
    "    # New - Define the ORM relationship\n",
    "    organisation = sqlalchemy.orm.relationship(\"Organisation\",\n",
    "                                               back_populates=\"users\")\n",
    "    \n",
    "    \n",
    "    def __repr__(self):\n",
    "        return \"User(email={})\".format(self.email)\n",
    "\n",
    "class Organisation(Base):\n",
    "    __tablename__ = \"organisations\"\n",
    "    id = sqlalchemy.Column(sqlalchemy.Integer, primary_key=True)\n",
    "    name = sqlalchemy.Column(sqlalchemy.String(255), nullable=False, unique=True)\n",
    "    \n",
    "    users = sqlalchemy.orm.relationship(\"User\",\n",
    "                                        back_populates=\"organisation\")\n",
    "    \n",
    "    def __repr__(self):\n",
    "        return \"Organisation(name={})\".format(self.name)"
   ]
  },
  {
   "cell_type": "code",
   "execution_count": 23,
   "metadata": {
    "collapsed": false
   },
   "outputs": [
    {
     "name": "stdout",
     "output_type": "stream",
     "text": [
      "2017-01-05 13:52:33,903 INFO sqlalchemy.engine.base.Engine DESCRIBE `organisations`\n",
      "2017-01-05 13:52:33,905 INFO sqlalchemy.engine.base.Engine ()\n",
      "2017-01-05 13:52:33,906 INFO sqlalchemy.engine.base.Engine ROLLBACK\n",
      "2017-01-05 13:52:33,907 INFO sqlalchemy.engine.base.Engine DESCRIBE `users`\n",
      "2017-01-05 13:52:33,908 INFO sqlalchemy.engine.base.Engine ()\n",
      "2017-01-05 13:52:33,909 INFO sqlalchemy.engine.base.Engine ROLLBACK\n",
      "2017-01-05 13:52:33,910 INFO sqlalchemy.engine.base.Engine \n",
      "CREATE TABLE organisations (\n",
      "\tid INTEGER NOT NULL AUTO_INCREMENT, \n",
      "\tname VARCHAR(255) NOT NULL, \n",
      "\tPRIMARY KEY (id), \n",
      "\tUNIQUE (name)\n",
      ")\n",
      "\n",
      "\n",
      "2017-01-05 13:52:33,911 INFO sqlalchemy.engine.base.Engine ()\n",
      "2017-01-05 13:52:33,932 INFO sqlalchemy.engine.base.Engine COMMIT\n",
      "2017-01-05 13:52:33,933 INFO sqlalchemy.engine.base.Engine \n",
      "CREATE TABLE users (\n",
      "\tid INTEGER NOT NULL AUTO_INCREMENT, \n",
      "\temail VARCHAR(255) NOT NULL, \n",
      "\tpassword VARCHAR(255) NOT NULL, \n",
      "\torganisation_id INTEGER, \n",
      "\tPRIMARY KEY (id), \n",
      "\tUNIQUE (email), \n",
      "\tFOREIGN KEY(organisation_id) REFERENCES organisations (id)\n",
      ")\n",
      "\n",
      "\n",
      "2017-01-05 13:52:33,934 INFO sqlalchemy.engine.base.Engine ()\n",
      "2017-01-05 13:52:33,951 INFO sqlalchemy.engine.base.Engine COMMIT\n"
     ]
    }
   ],
   "source": [
    "Base.metadata.create_all(bind=engine)"
   ]
  },
  {
   "cell_type": "markdown",
   "metadata": {},
   "source": [
    "Now I can create Ben in an organisation Example.com, and give him some colleagues"
   ]
  },
  {
   "cell_type": "code",
   "execution_count": 24,
   "metadata": {
    "collapsed": false
   },
   "outputs": [],
   "source": [
    "example_com = Organisation(name=\"example.com\")\n",
    "\n",
    "ben = User(email=\"ben@example.com\",\n",
    "           password=\"password1\",\n",
    "           organisation=example_com)\n",
    "\n",
    "jerry = User(email=\"jerry@example.com\",\n",
    "             password=\"password2\",\n",
    "             organisation=example_com)\n",
    "\n",
    "ellie = User(email=\"ellie@example.com\",\n",
    "             password=\"password3\",\n",
    "             organisation=example_com)"
   ]
  },
  {
   "cell_type": "markdown",
   "metadata": {},
   "source": [
    "When I now add these objects to a session and commit, the ORM will handle the \"details\" of foreign keys for me "
   ]
  },
  {
   "cell_type": "code",
   "execution_count": 25,
   "metadata": {
    "collapsed": false
   },
   "outputs": [
    {
     "name": "stdout",
     "output_type": "stream",
     "text": [
      "2017-01-05 13:52:33,970 INFO sqlalchemy.engine.base.Engine BEGIN (implicit)\n",
      "2017-01-05 13:52:33,972 INFO sqlalchemy.engine.base.Engine INSERT INTO organisations (name) VALUES (%s)\n",
      "2017-01-05 13:52:33,973 INFO sqlalchemy.engine.base.Engine ('example.com',)\n",
      "2017-01-05 13:52:33,975 INFO sqlalchemy.engine.base.Engine INSERT INTO users (email, password, organisation_id) VALUES (%s, %s, %s)\n",
      "2017-01-05 13:52:33,976 INFO sqlalchemy.engine.base.Engine ('ben@example.com', 'password1', 1L)\n",
      "2017-01-05 13:52:33,977 INFO sqlalchemy.engine.base.Engine INSERT INTO users (email, password, organisation_id) VALUES (%s, %s, %s)\n",
      "2017-01-05 13:52:33,978 INFO sqlalchemy.engine.base.Engine ('jerry@example.com', 'password2', 1L)\n",
      "2017-01-05 13:52:33,979 INFO sqlalchemy.engine.base.Engine INSERT INTO users (email, password, organisation_id) VALUES (%s, %s, %s)\n",
      "2017-01-05 13:52:33,980 INFO sqlalchemy.engine.base.Engine ('ellie@example.com', 'password3', 1L)\n",
      "2017-01-05 13:52:33,981 INFO sqlalchemy.engine.base.Engine COMMIT\n"
     ]
    }
   ],
   "source": [
    "session = Session()\n",
    "\n",
    "session.add_all([example_com, ben, jerry, ellie])\n",
    "\n",
    "session.commit()"
   ]
  },
  {
   "cell_type": "markdown",
   "metadata": {},
   "source": [
    "Using the ORM relationships allow us to play around with the relationships between objects in a way that would normally require a lot of faffy SQL `UPDATE`, `SELECT .. JOIN` statements\n",
    "\n",
    "For example, we can treat the `example_com.users` attribute as an ordinary Python collection or objects"
   ]
  },
  {
   "cell_type": "code",
   "execution_count": 26,
   "metadata": {
    "collapsed": false
   },
   "outputs": [
    {
     "name": "stdout",
     "output_type": "stream",
     "text": [
      "2017-01-05 13:52:33,987 INFO sqlalchemy.engine.base.Engine BEGIN (implicit)\n",
      "2017-01-05 13:52:33,988 INFO sqlalchemy.engine.base.Engine SELECT organisations.id AS organisations_id, organisations.name AS organisations_name \n",
      "FROM organisations \n",
      "WHERE organisations.id = %s\n",
      "2017-01-05 13:52:33,989 INFO sqlalchemy.engine.base.Engine (1L,)\n",
      "2017-01-05 13:52:33,991 INFO sqlalchemy.engine.base.Engine SELECT users.id AS users_id, users.email AS users_email, users.password AS users_password, users.organisation_id AS users_organisation_id \n",
      "FROM users \n",
      "WHERE %s = users.organisation_id\n",
      "2017-01-05 13:52:33,992 INFO sqlalchemy.engine.base.Engine (1L,)\n"
     ]
    },
    {
     "data": {
      "text/plain": [
       "[User(email=ben@example.com),\n",
       " User(email=jerry@example.com),\n",
       " User(email=ellie@example.com)]"
      ]
     },
     "execution_count": 26,
     "metadata": {},
     "output_type": "execute_result"
    }
   ],
   "source": [
    "example_com.users"
   ]
  },
  {
   "cell_type": "code",
   "execution_count": 27,
   "metadata": {
    "collapsed": false
   },
   "outputs": [],
   "source": [
    "example_com.users.remove(ben)"
   ]
  },
  {
   "cell_type": "code",
   "execution_count": 28,
   "metadata": {
    "collapsed": false
   },
   "outputs": [],
   "source": [
    "rosie = User(email=\"rosie@example.com\", password=\"password4\")\n",
    "\n",
    "example_com.users.append(rosie)"
   ]
  },
  {
   "cell_type": "code",
   "execution_count": 29,
   "metadata": {
    "collapsed": false
   },
   "outputs": [
    {
     "name": "stdout",
     "output_type": "stream",
     "text": [
      "2017-01-05 13:52:34,011 INFO sqlalchemy.engine.base.Engine UPDATE users SET organisation_id=%s WHERE users.id = %s\n",
      "2017-01-05 13:52:34,013 INFO sqlalchemy.engine.base.Engine (None, 1L)\n",
      "2017-01-05 13:52:34,015 INFO sqlalchemy.engine.base.Engine INSERT INTO users (email, password, organisation_id) VALUES (%s, %s, %s)\n",
      "2017-01-05 13:52:34,016 INFO sqlalchemy.engine.base.Engine ('rosie@example.com', 'password4', 1L)\n"
     ]
    }
   ],
   "source": [
    "session.flush()"
   ]
  },
  {
   "cell_type": "code",
   "execution_count": 30,
   "metadata": {
    "collapsed": false
   },
   "outputs": [
    {
     "data": {
      "text/plain": [
       "[User(email=jerry@example.com),\n",
       " User(email=ellie@example.com),\n",
       " User(email=rosie@example.com)]"
      ]
     },
     "execution_count": 30,
     "metadata": {},
     "output_type": "execute_result"
    }
   ],
   "source": [
    "example_com.users"
   ]
  },
  {
   "cell_type": "code",
   "execution_count": 31,
   "metadata": {
    "collapsed": false
   },
   "outputs": [
    {
     "data": {
      "text/plain": [
       "Organisation(name=example.com)"
      ]
     },
     "execution_count": 31,
     "metadata": {},
     "output_type": "execute_result"
    }
   ],
   "source": [
    "rosie.organisation"
   ]
  },
  {
   "cell_type": "code",
   "execution_count": 32,
   "metadata": {
    "collapsed": false
   },
   "outputs": [
    {
     "name": "stdout",
     "output_type": "stream",
     "text": [
      "2017-01-05 13:52:34,036 INFO sqlalchemy.engine.base.Engine ROLLBACK\n",
      "2017-01-05 13:52:34,038 INFO sqlalchemy.engine.base.Engine DESCRIBE `organisations`\n",
      "2017-01-05 13:52:34,040 INFO sqlalchemy.engine.base.Engine ()\n",
      "2017-01-05 13:52:34,041 INFO sqlalchemy.engine.base.Engine DESCRIBE `users`\n",
      "2017-01-05 13:52:34,042 INFO sqlalchemy.engine.base.Engine ()\n",
      "2017-01-05 13:52:34,043 INFO sqlalchemy.engine.base.Engine \n",
      "DROP TABLE users\n",
      "2017-01-05 13:52:34,044 INFO sqlalchemy.engine.base.Engine ()\n",
      "2017-01-05 13:52:34,047 INFO sqlalchemy.engine.base.Engine COMMIT\n",
      "2017-01-05 13:52:34,048 INFO sqlalchemy.engine.base.Engine \n",
      "DROP TABLE organisations\n",
      "2017-01-05 13:52:34,049 INFO sqlalchemy.engine.base.Engine ()\n",
      "2017-01-05 13:52:34,051 INFO sqlalchemy.engine.base.Engine COMMIT\n"
     ]
    }
   ],
   "source": [
    "session.close()\n",
    "Base.metadata.drop_all(bind=engine)"
   ]
  },
  {
   "cell_type": "markdown",
   "metadata": {},
   "source": [
    "# Many-to-Many relationships - User Roles\n",
    "\n",
    "### Data model requirements\n",
    "\n",
    "User's have permissions known as roles. There are a set number of roles, and any user can have 0, 1 or many of them.\n",
    "\n",
    "### Diagram\n",
    "\n",
    "TODO\n",
    "\n",
    "This implies a 1-to-many relationship, which is not quite as straightforward to set up with the ORM, but just as easy to use.\n",
    "\n",
    "The complicating factor is that we can't use simple foreign key relationships, as in effect we need many foreign keys per `User`.\n",
    "\n",
    "This is commonly solved in a relational database using a third *association table* which contains pairs of foreign keys `user_id`-`role_id`"
   ]
  },
  {
   "cell_type": "code",
   "execution_count": 34,
   "metadata": {
    "collapsed": false
   },
   "outputs": [],
   "source": [
    "Base = sqlalchemy.ext.declarative.declarative_base()\n",
    "\n",
    "# NEW - association table\n",
    "user_roles = sqlalchemy.Table(\n",
    "    'user_roles', Base.metadata,\n",
    "    sqlalchemy.Column('user_id', sqlalchemy.ForeignKey('users.id'), primary_key=True),\n",
    "    sqlalchemy.Column('role_id', sqlalchemy.ForeignKey('roles.id'), primary_key=True),\n",
    ")\n",
    "\n",
    "class User(Base):\n",
    "    __tablename__ = \"users\"\n",
    "    id = sqlalchemy.Column(sqlalchemy.Integer, primary_key=True)\n",
    "    email = sqlalchemy.Column(sqlalchemy.String(255), nullable=False, unique=True)\n",
    "    password = sqlalchemy.Column(sqlalchemy.String(255), nullable=False)\n",
    "\n",
    "    # NEW - relationship to Role via secondary table\n",
    "    roles = sqlalchemy.orm.relationship(\"Role\",\n",
    "                                        secondary=user_roles,\n",
    "                                        back_populates=\"users\")\n",
    "    \n",
    "    def __repr__(self):\n",
    "        return \"User(email={})\".format(self.email)\n",
    "    \n",
    "class Role(Base):\n",
    "    __tablename__ = \"roles\"\n",
    "    id = sqlalchemy.Column(sqlalchemy.Integer, primary_key=True)\n",
    "    name = sqlalchemy.Column(sqlalchemy.String(255), nullable=False, unique=True)\n",
    "    \n",
    "    users = sqlalchemy.orm.relationship(\"User\",\n",
    "                                        secondary=user_roles,\n",
    "                                        back_populates=\"roles\")"
   ]
  },
  {
   "cell_type": "markdown",
   "metadata": {},
   "source": [
    "There's a couple of things to note.\n",
    "\n",
    "We didnt use a model class for the association table, instead directly using the `Table` object. This is because a 'user_role' is not a domain object to be created and modified in our application. Its more of a second class citizen which only the ORM needs to know about.\n",
    "\n",
    "Second, we give the new `Table` access to the `Metadata` object, so it is tracked in its registry and all `create_all`, `drop_all` commands will include this table."
   ]
  },
  {
   "cell_type": "code",
   "execution_count": 35,
   "metadata": {
    "collapsed": false
   },
   "outputs": [
    {
     "name": "stdout",
     "output_type": "stream",
     "text": [
      "2017-01-05 13:53:05,494 INFO sqlalchemy.engine.base.Engine DESCRIBE `user_roles`\n",
      "2017-01-05 13:53:05,496 INFO sqlalchemy.engine.base.Engine ()\n",
      "2017-01-05 13:53:05,497 INFO sqlalchemy.engine.base.Engine ROLLBACK\n",
      "2017-01-05 13:53:05,498 INFO sqlalchemy.engine.base.Engine DESCRIBE `roles`\n",
      "2017-01-05 13:53:05,499 INFO sqlalchemy.engine.base.Engine ()\n",
      "2017-01-05 13:53:05,500 INFO sqlalchemy.engine.base.Engine ROLLBACK\n",
      "2017-01-05 13:53:05,501 INFO sqlalchemy.engine.base.Engine DESCRIBE `users`\n",
      "2017-01-05 13:53:05,501 INFO sqlalchemy.engine.base.Engine ()\n",
      "2017-01-05 13:53:05,503 INFO sqlalchemy.engine.base.Engine ROLLBACK\n",
      "2017-01-05 13:53:05,505 INFO sqlalchemy.engine.base.Engine \n",
      "CREATE TABLE roles (\n",
      "\tid INTEGER NOT NULL AUTO_INCREMENT, \n",
      "\tname VARCHAR(255) NOT NULL, \n",
      "\tPRIMARY KEY (id), \n",
      "\tUNIQUE (name)\n",
      ")\n",
      "\n",
      "\n",
      "2017-01-05 13:53:05,506 INFO sqlalchemy.engine.base.Engine ()\n",
      "2017-01-05 13:53:05,522 INFO sqlalchemy.engine.base.Engine COMMIT\n",
      "2017-01-05 13:53:05,524 INFO sqlalchemy.engine.base.Engine \n",
      "CREATE TABLE users (\n",
      "\tid INTEGER NOT NULL AUTO_INCREMENT, \n",
      "\temail VARCHAR(255) NOT NULL, \n",
      "\tpassword VARCHAR(255) NOT NULL, \n",
      "\tPRIMARY KEY (id), \n",
      "\tUNIQUE (email)\n",
      ")\n",
      "\n",
      "\n",
      "2017-01-05 13:53:05,524 INFO sqlalchemy.engine.base.Engine ()\n",
      "2017-01-05 13:53:05,540 INFO sqlalchemy.engine.base.Engine COMMIT\n",
      "2017-01-05 13:53:05,541 INFO sqlalchemy.engine.base.Engine \n",
      "CREATE TABLE user_roles (\n",
      "\tuser_id INTEGER NOT NULL, \n",
      "\trole_id INTEGER NOT NULL, \n",
      "\tPRIMARY KEY (user_id, role_id), \n",
      "\tFOREIGN KEY(user_id) REFERENCES users (id), \n",
      "\tFOREIGN KEY(role_id) REFERENCES roles (id)\n",
      ")\n",
      "\n",
      "\n",
      "2017-01-05 13:53:05,542 INFO sqlalchemy.engine.base.Engine ()\n",
      "2017-01-05 13:53:05,556 INFO sqlalchemy.engine.base.Engine COMMIT\n"
     ]
    }
   ],
   "source": [
    "Base.metadata.create_all(bind=engine)"
   ]
  },
  {
   "cell_type": "markdown",
   "metadata": {},
   "source": [
    "Let's create a set of `Role` and `User` objects to play around with"
   ]
  },
  {
   "cell_type": "code",
   "execution_count": 36,
   "metadata": {
    "collapsed": true
   },
   "outputs": [],
   "source": [
    "ben = User(email=\"ben@example.com\",\n",
    "           password=\"password1\")\n",
    "\n",
    "jerry = User(email=\"jerry@example.com\",\n",
    "             password=\"password2\")\n",
    "\n",
    "ellie = User(email=\"ellie@example.com\",\n",
    "             password=\"password3\")"
   ]
  },
  {
   "cell_type": "code",
   "execution_count": 37,
   "metadata": {
    "collapsed": true
   },
   "outputs": [],
   "source": [
    "admin = Role(name=\"admin\")\n",
    "test_user = Role(name=\"test_user\")\n",
    "can_export = Role(name=\"can_export\")"
   ]
  },
  {
   "cell_type": "code",
   "execution_count": 38,
   "metadata": {
    "collapsed": true
   },
   "outputs": [],
   "source": [
    "ben.roles.extend([admin, can_export])\n",
    "jerry.roles.append(test_user)"
   ]
  },
  {
   "cell_type": "code",
   "execution_count": 39,
   "metadata": {
    "collapsed": true
   },
   "outputs": [],
   "source": [
    "session.add_all([ben, jerry, ellie])"
   ]
  },
  {
   "cell_type": "code",
   "execution_count": 40,
   "metadata": {
    "collapsed": false
   },
   "outputs": [
    {
     "name": "stdout",
     "output_type": "stream",
     "text": [
      "2017-01-05 13:59:48,646 INFO sqlalchemy.engine.base.Engine BEGIN (implicit)\n",
      "2017-01-05 13:59:48,649 INFO sqlalchemy.engine.base.Engine INSERT INTO roles (name) VALUES (%s)\n",
      "2017-01-05 13:59:48,650 INFO sqlalchemy.engine.base.Engine ('admin',)\n",
      "2017-01-05 13:59:48,651 INFO sqlalchemy.engine.base.Engine INSERT INTO roles (name) VALUES (%s)\n",
      "2017-01-05 13:59:48,652 INFO sqlalchemy.engine.base.Engine ('can_export',)\n",
      "2017-01-05 13:59:48,653 INFO sqlalchemy.engine.base.Engine INSERT INTO roles (name) VALUES (%s)\n",
      "2017-01-05 13:59:48,654 INFO sqlalchemy.engine.base.Engine ('test_user',)\n",
      "2017-01-05 13:59:48,655 INFO sqlalchemy.engine.base.Engine INSERT INTO users (email, password) VALUES (%s, %s)\n",
      "2017-01-05 13:59:48,656 INFO sqlalchemy.engine.base.Engine ('ben@example.com', 'password1')\n",
      "2017-01-05 13:59:48,658 INFO sqlalchemy.engine.base.Engine INSERT INTO users (email, password) VALUES (%s, %s)\n",
      "2017-01-05 13:59:48,658 INFO sqlalchemy.engine.base.Engine ('jerry@example.com', 'password2')\n",
      "2017-01-05 13:59:48,659 INFO sqlalchemy.engine.base.Engine INSERT INTO users (email, password) VALUES (%s, %s)\n",
      "2017-01-05 13:59:48,660 INFO sqlalchemy.engine.base.Engine ('ellie@example.com', 'password3')\n",
      "2017-01-05 13:59:48,662 INFO sqlalchemy.engine.base.Engine INSERT INTO user_roles (user_id, role_id) VALUES (%s, %s)\n",
      "2017-01-05 13:59:48,662 INFO sqlalchemy.engine.base.Engine ((1L, 1L), (2L, 3L), (1L, 2L))\n",
      "2017-01-05 13:59:48,664 INFO sqlalchemy.engine.base.Engine COMMIT\n"
     ]
    }
   ],
   "source": [
    "session.commit()"
   ]
  },
  {
   "cell_type": "markdown",
   "metadata": {
    "collapsed": true
   },
   "source": [
    "# Testing Applications with SQLAlchemy\n",
    "\n",
    "Transactions and rollbacks"
   ]
  },
  {
   "cell_type": "code",
   "execution_count": null,
   "metadata": {
    "collapsed": false
   },
   "outputs": [],
   "source": []
  },
  {
   "cell_type": "code",
   "execution_count": null,
   "metadata": {
    "collapsed": false
   },
   "outputs": [],
   "source": []
  },
  {
   "cell_type": "code",
   "execution_count": null,
   "metadata": {
    "collapsed": true
   },
   "outputs": [],
   "source": []
  }
 ],
 "metadata": {
  "kernelspec": {
   "display_name": "Python 2",
   "language": "python",
   "name": "python2"
  },
  "language_info": {
   "codemirror_mode": {
    "name": "ipython",
    "version": 2
   },
   "file_extension": ".py",
   "mimetype": "text/x-python",
   "name": "python",
   "nbconvert_exporter": "python",
   "pygments_lexer": "ipython2",
   "version": "2.7.12"
  }
 },
 "nbformat": 4,
 "nbformat_minor": 2
}
