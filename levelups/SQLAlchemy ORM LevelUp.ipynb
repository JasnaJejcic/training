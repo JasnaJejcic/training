{
 "cells": [
  {
   "cell_type": "code",
   "execution_count": 1,
   "metadata": {
    "collapsed": true,
    "slideshow": {
     "slide_type": "subslide"
    }
   },
   "outputs": [],
   "source": [
    "import sqlalchemy\n",
    "DB_NAME=\"sqlalchemy_levelup\""
   ]
  },
  {
   "cell_type": "markdown",
   "metadata": {
    "slideshow": {
     "slide_type": "slide"
    }
   },
   "source": [
    "# What is the SQLAlchemy ORM?\n",
    "\n",
    "The ORM provides a way of modelling the objects of your domain and the relationships between them in Python.\n",
    "\n",
    "It will persist these objects and their relationships for you, using a Relational Database Management System (RDBMS)\n",
    "\n",
    "# Where does the ORM fit into SQLAlchemy?\n",
    "\n",
    "The ORM is built on top of SQLAlchemy's lower-level **Expression Language** API. This API is for working directly with database constructs and expressions in Python (e.g. it contains a `Select` class for building `select` queries)\n",
    "\n",
    "It is possible, and sometimes preferable, to use ONLY the Expression Language if you require more granular control or if the overhead of the ORM is undesirable.\n",
    "\n",
    "Alternatively, you can use a combination of both the ORM and the Expression Language to add more granular controlls if and when they are needed"
   ]
  },
  {
   "cell_type": "markdown",
   "metadata": {
    "slideshow": {
     "slide_type": "slide"
    }
   },
   "source": [
    "# A worked example - user management\n",
    "\n",
    "Inspired by our Authentication service Thug Lyf\n",
    "\n",
    "The domain objects are Users. Users will have attributes for their email address and password"
   ]
  },
  {
   "cell_type": "markdown",
   "metadata": {},
   "source": [
    "# Defining the data model\n",
    "\n",
    "The classes we add for our domain objects are referred to as *models* or *model classes*."
   ]
  },
  {
   "cell_type": "markdown",
   "metadata": {},
   "source": [
    "## Declarative Base Class\n",
    "\n",
    "The ORM stores instances of your models in tables in the RDBMS (e.g. MySQL, PostgreSQL). To have the ORM look after the persistence of our domain objects, we define our model classes as subclasses of a base class from SQLAlchemy.\n",
    "\n",
    "This base class is provided by SQLAlchemy through the `declarative_base` class factory (method that returns a Python class)\n",
    "\n",
    "It is common to have just one `Base` class in your application. You often see it defined in the module scope, allowing other modules to import it."
   ]
  },
  {
   "cell_type": "code",
   "execution_count": 2,
   "metadata": {
    "collapsed": false
   },
   "outputs": [],
   "source": [
    "# Create a declarative base\n",
    "import sqlalchemy.ext.declarative\n",
    "\n",
    "Base = sqlalchemy.ext.declarative.declarative_base()"
   ]
  },
  {
   "cell_type": "markdown",
   "metadata": {},
   "source": [
    "## The models"
   ]
  },
  {
   "cell_type": "code",
   "execution_count": 3,
   "metadata": {
    "collapsed": false
   },
   "outputs": [],
   "source": [
    "# Note the distinction between the singular \"User\" classname and the \"users\" table name\n",
    "# This is because an instance of this class is a \"user\" but the table can contain many users\n",
    "class User(Base):\n",
    "    __tablename__ = \"users\"\n",
    "    id = sqlalchemy.Column(sqlalchemy.Integer, primary_key=True)\n",
    "    email = sqlalchemy.Column(sqlalchemy.String(255), nullable=False, unique=True)\n",
    "    password = sqlalchemy.Column(sqlalchemy.String(255), nullable=False)"
   ]
  },
  {
   "cell_type": "markdown",
   "metadata": {},
   "source": [
    "### Table objects\n",
    "\n",
    "When we declare a subclass of the declarative base (i.e. a model), the ORM will create a `Table` object and a mapping between the model attributes (id, email, password) and the `Table` columns.\n",
    "\n",
    "`Table` objects, as is probably clear, are the SQLAlchemy objects representing RDBMS tables"
   ]
  },
  {
   "cell_type": "code",
   "execution_count": 4,
   "metadata": {
    "collapsed": false
   },
   "outputs": [
    {
     "data": {
      "text/plain": [
       "Table('users', MetaData(bind=None), Column('id', Integer(), table=<users>, primary_key=True, nullable=False), Column('email', String(length=255), table=<users>, nullable=False), Column('password', String(length=255), table=<users>, nullable=False), schema=None)"
      ]
     },
     "execution_count": 4,
     "metadata": {},
     "output_type": "execute_result"
    }
   ],
   "source": [
    "# The table object associated with User is accessed by the __table__ class attribute\n",
    "User.__table__"
   ]
  },
  {
   "cell_type": "markdown",
   "metadata": {},
   "source": [
    "### Metadata\n",
    "\n",
    "The declarative base has a `Metadata` object attached to it.\n",
    "\n",
    "`Metadata` contains a registry of all the `Table` objects created when model classes are declared\n",
    "\n",
    "We can access this registry under the `table` attribute of the `metadata` object"
   ]
  },
  {
   "cell_type": "code",
   "execution_count": 5,
   "metadata": {
    "collapsed": false
   },
   "outputs": [
    {
     "data": {
      "text/plain": [
       "immutabledict({'users': Table('users', MetaData(bind=None), Column('id', Integer(), table=<users>, primary_key=True, nullable=False), Column('email', String(length=255), table=<users>, nullable=False), Column('password', String(length=255), table=<users>, nullable=False), schema=None)})"
      ]
     },
     "execution_count": 5,
     "metadata": {},
     "output_type": "execute_result"
    }
   ],
   "source": [
    "Base.metadata.tables"
   ]
  },
  {
   "cell_type": "markdown",
   "metadata": {},
   "source": [
    "The registry `Metadata` maintains will be useful in a minute when we want to create actual RDBMS tables"
   ]
  },
  {
   "cell_type": "markdown",
   "metadata": {},
   "source": [
    "# Connecting to the database\n",
    "\n",
    "Describe engines"
   ]
  },
  {
   "cell_type": "code",
   "execution_count": 6,
   "metadata": {
    "collapsed": false
   },
   "outputs": [],
   "source": [
    "database_url = sqlalchemy.engine.url.URL(drivername='mysql', database=DB_NAME,\n",
    "                                         query={'read_default_file': '~/.my.cnf'})"
   ]
  },
  {
   "cell_type": "code",
   "execution_count": 7,
   "metadata": {
    "collapsed": false
   },
   "outputs": [
    {
     "data": {
      "text/plain": [
       "mysql:///sqlalchemy_levelup?read_default_file=~/.my.cnf"
      ]
     },
     "execution_count": 7,
     "metadata": {},
     "output_type": "execute_result"
    }
   ],
   "source": [
    "database_url"
   ]
  },
  {
   "cell_type": "code",
   "execution_count": 8,
   "metadata": {
    "collapsed": false
   },
   "outputs": [],
   "source": [
    "engine = sqlalchemy.engine.create_engine(database_url, echo=True)  # echo=True logs SQL queries to stdout"
   ]
  },
  {
   "cell_type": "markdown",
   "metadata": {},
   "source": [
    "## Creating tables\n",
    "\n",
    "Now we have an engine to provide us with database connectivity, we can use the declarative base metadata object to create database tables"
   ]
  },
  {
   "cell_type": "code",
   "execution_count": 10,
   "metadata": {
    "collapsed": false
   },
   "outputs": [
    {
     "name": "stdout",
     "output_type": "stream",
     "text": [
      "2016-12-29 15:30:16,501 INFO sqlalchemy.engine.base.Engine DESCRIBE `users`\n",
      "2016-12-29 15:30:16,502 INFO sqlalchemy.engine.base.Engine ()\n",
      "2016-12-29 15:30:16,510 INFO sqlalchemy.engine.base.Engine ROLLBACK\n",
      "2016-12-29 15:30:16,512 INFO sqlalchemy.engine.base.Engine \n",
      "CREATE TABLE users (\n",
      "\tid INTEGER NOT NULL AUTO_INCREMENT, \n",
      "\temail VARCHAR(255) NOT NULL, \n",
      "\tpassword VARCHAR(255) NOT NULL, \n",
      "\tPRIMARY KEY (id), \n",
      "\tUNIQUE (email)\n",
      ")\n",
      "\n",
      "\n",
      "2016-12-29 15:30:16,514 INFO sqlalchemy.engine.base.Engine ()\n",
      "2016-12-29 15:30:16,560 INFO sqlalchemy.engine.base.Engine COMMIT\n"
     ]
    }
   ],
   "source": [
    "Base.metadata.create_all(engine)"
   ]
  },
  {
   "cell_type": "markdown",
   "metadata": {},
   "source": [
    "# A Session with the ORM"
   ]
  },
  {
   "cell_type": "code",
   "execution_count": 27,
   "metadata": {
    "collapsed": true
   },
   "outputs": [],
   "source": [
    "# Code"
   ]
  },
  {
   "cell_type": "markdown",
   "metadata": {
    "collapsed": true
   },
   "source": [
    "# Extending the data model - Organisations\n",
    "\n",
    "Our \"customers\" at GrowthIntel are businesses, not individual customers. Because of this, our Auth service groups Users into larger units, which we call Organisations.\n",
    "\n",
    "Organisations can have many Users. Users belong to one and only one Organisation (1 to many relationship)\n",
    "\n",
    "## Diagram\n",
    "\n",
    "< TODO >"
   ]
  },
  {
   "cell_type": "code",
   "execution_count": null,
   "metadata": {
    "collapsed": true
   },
   "outputs": [],
   "source": []
  }
 ],
 "metadata": {
  "kernelspec": {
   "display_name": "Python 2",
   "language": "python",
   "name": "python2"
  },
  "language_info": {
   "codemirror_mode": {
    "name": "ipython",
    "version": 2
   },
   "file_extension": ".py",
   "mimetype": "text/x-python",
   "name": "python",
   "nbconvert_exporter": "python",
   "pygments_lexer": "ipython2",
   "version": "2.7.11"
  }
 },
 "nbformat": 4,
 "nbformat_minor": 2
}
